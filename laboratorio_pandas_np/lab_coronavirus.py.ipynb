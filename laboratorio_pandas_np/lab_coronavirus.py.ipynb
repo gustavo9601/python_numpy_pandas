{
 "cells": [
  {
   "cell_type": "code",
   "execution_count": 1,
   "metadata": {
    "collapsed": true
   },
   "outputs": [],
   "source": [
    "import pandas as pd\n",
    "import numpy as np\n",
    "import matplotlib.pyplot as plt\n"
   ]
  },
  {
   "cell_type": "code",
   "execution_count": 2,
   "outputs": [],
   "source": [
    "# Format decimales pandas\n",
    "pd.options.display.float_format = '{:,.3f}'.format"
   ],
   "metadata": {
    "collapsed": false,
    "pycharm": {
     "name": "#%%\n"
    }
   }
  },
  {
   "cell_type": "code",
   "execution_count": 7,
   "outputs": [
    {
     "name": "stdout",
     "output_type": "stream",
     "text": [
      "(236017, 8)\n",
      "   SNo ObservationDate Province/State  Country/Region      Last Update  \\\n",
      "0    1      01/22/2020          Anhui  Mainland China  1/22/2020 17:00   \n",
      "1    2      01/22/2020        Beijing  Mainland China  1/22/2020 17:00   \n",
      "2    3      01/22/2020      Chongqing  Mainland China  1/22/2020 17:00   \n",
      "3    4      01/22/2020         Fujian  Mainland China  1/22/2020 17:00   \n",
      "4    5      01/22/2020          Gansu  Mainland China  1/22/2020 17:00   \n",
      "\n",
      "   Confirmed  Deaths  Recovered  \n",
      "0      1.000   0.000      0.000  \n",
      "1     14.000   0.000      0.000  \n",
      "2      6.000   0.000      0.000  \n",
      "3      1.000   0.000      0.000  \n",
      "4      0.000   0.000      0.000  \n"
     ]
    }
   ],
   "source": [
    "df_coronavirus = pd.read_csv('./../db/covid_19_data.csv')\n",
    "print(df_coronavirus.shape)\n",
    "print(df_coronavirus.head())"
   ],
   "metadata": {
    "collapsed": false,
    "pycharm": {
     "name": "#%%\n"
    }
   }
  },
  {
   "cell_type": "code",
   "execution_count": 4,
   "outputs": [
    {
     "name": "stdout",
     "output_type": "stream",
     "text": [
      "SNo                         int64\n",
      "ObservationDate    datetime64[ns]\n",
      "Province/State             object\n",
      "Country/Region             object\n",
      "Last Update                object\n",
      "Confirmed                 float64\n",
      "Deaths                    float64\n",
      "Recovered                 float64\n",
      "dtype: object\n"
     ]
    }
   ],
   "source": [
    "# Seteando el tipo tipo a columna\n",
    "df_coronavirus['ObservationDate'] = pd.to_datetime(df_coronavirus['ObservationDate'])\n",
    "print(df_coronavirus.dtypes)"
   ],
   "metadata": {
    "collapsed": false,
    "pycharm": {
     "name": "#%%\n"
    }
   }
  },
  {
   "cell_type": "code",
   "execution_count": 8,
   "outputs": [
    {
     "data": {
      "text/plain": "  ObservationDate Province/State  Country/Region      Last Update  Confirmed  \\\n0      01/22/2020          Anhui  Mainland China  1/22/2020 17:00      1.000   \n1      01/22/2020        Beijing  Mainland China  1/22/2020 17:00     14.000   \n2      01/22/2020      Chongqing  Mainland China  1/22/2020 17:00      6.000   \n3      01/22/2020         Fujian  Mainland China  1/22/2020 17:00      1.000   \n4      01/22/2020          Gansu  Mainland China  1/22/2020 17:00      0.000   \n\n   Deaths  Recovered  \n0   0.000      0.000  \n1   0.000      0.000  \n2   0.000      0.000  \n3   0.000      0.000  \n4   0.000      0.000  ",
      "text/html": "<div>\n<style scoped>\n    .dataframe tbody tr th:only-of-type {\n        vertical-align: middle;\n    }\n\n    .dataframe tbody tr th {\n        vertical-align: top;\n    }\n\n    .dataframe thead th {\n        text-align: right;\n    }\n</style>\n<table border=\"1\" class=\"dataframe\">\n  <thead>\n    <tr style=\"text-align: right;\">\n      <th></th>\n      <th>ObservationDate</th>\n      <th>Province/State</th>\n      <th>Country/Region</th>\n      <th>Last Update</th>\n      <th>Confirmed</th>\n      <th>Deaths</th>\n      <th>Recovered</th>\n    </tr>\n  </thead>\n  <tbody>\n    <tr>\n      <th>0</th>\n      <td>01/22/2020</td>\n      <td>Anhui</td>\n      <td>Mainland China</td>\n      <td>1/22/2020 17:00</td>\n      <td>1.000</td>\n      <td>0.000</td>\n      <td>0.000</td>\n    </tr>\n    <tr>\n      <th>1</th>\n      <td>01/22/2020</td>\n      <td>Beijing</td>\n      <td>Mainland China</td>\n      <td>1/22/2020 17:00</td>\n      <td>14.000</td>\n      <td>0.000</td>\n      <td>0.000</td>\n    </tr>\n    <tr>\n      <th>2</th>\n      <td>01/22/2020</td>\n      <td>Chongqing</td>\n      <td>Mainland China</td>\n      <td>1/22/2020 17:00</td>\n      <td>6.000</td>\n      <td>0.000</td>\n      <td>0.000</td>\n    </tr>\n    <tr>\n      <th>3</th>\n      <td>01/22/2020</td>\n      <td>Fujian</td>\n      <td>Mainland China</td>\n      <td>1/22/2020 17:00</td>\n      <td>1.000</td>\n      <td>0.000</td>\n      <td>0.000</td>\n    </tr>\n    <tr>\n      <th>4</th>\n      <td>01/22/2020</td>\n      <td>Gansu</td>\n      <td>Mainland China</td>\n      <td>1/22/2020 17:00</td>\n      <td>0.000</td>\n      <td>0.000</td>\n      <td>0.000</td>\n    </tr>\n  </tbody>\n</table>\n</div>"
     },
     "execution_count": 8,
     "metadata": {},
     "output_type": "execute_result"
    }
   ],
   "source": [
    "# Eliminando columna\n",
    "df_coronavirus = df_coronavirus.drop(['SNo'], axis=1)\n",
    "df_coronavirus.head()\n"
   ],
   "metadata": {
    "collapsed": false,
    "pycharm": {
     "name": "#%%\n"
    }
   }
  },
  {
   "cell_type": "code",
   "execution_count": 39,
   "outputs": [
    {
     "data": {
      "text/plain": "                      Confirmed        Deaths      Recovered\nObservationDate                                             \n2020-01-22              557.000        17.000         30.000\n2020-01-23            1,097.000        34.000         60.000\n2020-01-24              941.000        26.000         39.000\n2020-01-25            1,437.000        42.000         42.000\n2020-01-26            2,118.000        56.000         56.000\n...                         ...           ...            ...\n2021-02-23      112,109,754.000 2,485,434.000 63,295,144.000\n2021-02-24      112,554,301.000 2,497,488.000 63,504,603.000\n2021-02-25      113,001,412.000 2,507,624.000 63,732,295.000\n2021-02-26      113,415,604.000 2,517,422.000 63,992,563.000\n2021-02-27      113,784,735.000 2,525,401.000 64,243,285.000\n\n[403 rows x 3 columns]",
      "text/html": "<div>\n<style scoped>\n    .dataframe tbody tr th:only-of-type {\n        vertical-align: middle;\n    }\n\n    .dataframe tbody tr th {\n        vertical-align: top;\n    }\n\n    .dataframe thead th {\n        text-align: right;\n    }\n</style>\n<table border=\"1\" class=\"dataframe\">\n  <thead>\n    <tr style=\"text-align: right;\">\n      <th></th>\n      <th>Confirmed</th>\n      <th>Deaths</th>\n      <th>Recovered</th>\n    </tr>\n    <tr>\n      <th>ObservationDate</th>\n      <th></th>\n      <th></th>\n      <th></th>\n    </tr>\n  </thead>\n  <tbody>\n    <tr>\n      <th>2020-01-22</th>\n      <td>557.000</td>\n      <td>17.000</td>\n      <td>30.000</td>\n    </tr>\n    <tr>\n      <th>2020-01-23</th>\n      <td>1,097.000</td>\n      <td>34.000</td>\n      <td>60.000</td>\n    </tr>\n    <tr>\n      <th>2020-01-24</th>\n      <td>941.000</td>\n      <td>26.000</td>\n      <td>39.000</td>\n    </tr>\n    <tr>\n      <th>2020-01-25</th>\n      <td>1,437.000</td>\n      <td>42.000</td>\n      <td>42.000</td>\n    </tr>\n    <tr>\n      <th>2020-01-26</th>\n      <td>2,118.000</td>\n      <td>56.000</td>\n      <td>56.000</td>\n    </tr>\n    <tr>\n      <th>...</th>\n      <td>...</td>\n      <td>...</td>\n      <td>...</td>\n    </tr>\n    <tr>\n      <th>2021-02-23</th>\n      <td>112,109,754.000</td>\n      <td>2,485,434.000</td>\n      <td>63,295,144.000</td>\n    </tr>\n    <tr>\n      <th>2021-02-24</th>\n      <td>112,554,301.000</td>\n      <td>2,497,488.000</td>\n      <td>63,504,603.000</td>\n    </tr>\n    <tr>\n      <th>2021-02-25</th>\n      <td>113,001,412.000</td>\n      <td>2,507,624.000</td>\n      <td>63,732,295.000</td>\n    </tr>\n    <tr>\n      <th>2021-02-26</th>\n      <td>113,415,604.000</td>\n      <td>2,517,422.000</td>\n      <td>63,992,563.000</td>\n    </tr>\n    <tr>\n      <th>2021-02-27</th>\n      <td>113,784,735.000</td>\n      <td>2,525,401.000</td>\n      <td>64,243,285.000</td>\n    </tr>\n  </tbody>\n</table>\n<p>403 rows × 3 columns</p>\n</div>"
     },
     "execution_count": 39,
     "metadata": {},
     "output_type": "execute_result"
    }
   ],
   "source": [
    "# Agrupe por una columna, y aplique para los campos numericos operaciones\n",
    "df_coronavirus_time = df_coronavirus.groupby(['ObservationDate']).sum()\n",
    "df_coronavirus_time\n"
   ],
   "metadata": {
    "collapsed": false,
    "pycharm": {
     "name": "#%%\n"
    }
   }
  },
  {
   "cell_type": "code",
   "execution_count": 74,
   "outputs": [
    {
     "name": "stdout",
     "output_type": "stream",
     "text": [
      "       ObservationDate Province/State Country/Region Last Update  Confirmed  \\\n",
      "0                  NaT            NaN            NaN         NaN        NaN   \n",
      "1                  NaT            NaN            NaN         NaN        NaN   \n",
      "2                  NaT            NaN            NaN         NaN        NaN   \n",
      "3                  NaT            NaN            NaN         NaN        NaN   \n",
      "4                  NaT            NaN            NaN         NaN        NaN   \n",
      "...                ...            ...            ...         ...        ...   \n",
      "236012             NaT            NaN            NaN         NaN        NaN   \n",
      "236013             NaT            NaN            NaN         NaN        NaN   \n",
      "236014             NaT            NaN            NaN         NaN        NaN   \n",
      "236015             NaT            NaN            NaN         NaN        NaN   \n",
      "236016             NaT            NaN            NaN         NaN        NaN   \n",
      "\n",
      "        Deaths  Recovered  \n",
      "0          NaN        NaN  \n",
      "1          NaN        NaN  \n",
      "2          NaN        NaN  \n",
      "3          NaN        NaN  \n",
      "4          NaN        NaN  \n",
      "...        ...        ...  \n",
      "236012     NaN        NaN  \n",
      "236013     NaN        NaN  \n",
      "236014     NaN        NaN  \n",
      "236015     NaN        NaN  \n",
      "236016     NaN        NaN  \n",
      "\n",
      "[236017 rows x 7 columns]\n"
     ]
    },
    {
     "data": {
      "text/plain": "                                     Confirmed    Deaths   Recovered\nObservationDate Country/Region                                      \n2020-01-22      Hong Kong                0.000     0.000       0.000\n                Japan                    2.000     0.000       0.000\n                Macau                    1.000     0.000       0.000\n                Mainland China         547.000    17.000      28.000\n                South Korea              1.000     0.000       0.000\n...                                        ...       ...         ...\n2021-02-27      Vietnam              2,432.000    35.000   1,844.000\n                West Bank and Gaza 181,909.000 2,025.000 166,119.000\n                Yemen                2,269.000   631.000   1,435.000\n                Zambia              78,202.000 1,081.000  73,609.000\n                Zimbabwe            36,058.000 1,463.000  32,590.000\n\n[69085 rows x 3 columns]",
      "text/html": "<div>\n<style scoped>\n    .dataframe tbody tr th:only-of-type {\n        vertical-align: middle;\n    }\n\n    .dataframe tbody tr th {\n        vertical-align: top;\n    }\n\n    .dataframe thead th {\n        text-align: right;\n    }\n</style>\n<table border=\"1\" class=\"dataframe\">\n  <thead>\n    <tr style=\"text-align: right;\">\n      <th></th>\n      <th></th>\n      <th>Confirmed</th>\n      <th>Deaths</th>\n      <th>Recovered</th>\n    </tr>\n    <tr>\n      <th>ObservationDate</th>\n      <th>Country/Region</th>\n      <th></th>\n      <th></th>\n      <th></th>\n    </tr>\n  </thead>\n  <tbody>\n    <tr>\n      <th rowspan=\"5\" valign=\"top\">2020-01-22</th>\n      <th>Hong Kong</th>\n      <td>0.000</td>\n      <td>0.000</td>\n      <td>0.000</td>\n    </tr>\n    <tr>\n      <th>Japan</th>\n      <td>2.000</td>\n      <td>0.000</td>\n      <td>0.000</td>\n    </tr>\n    <tr>\n      <th>Macau</th>\n      <td>1.000</td>\n      <td>0.000</td>\n      <td>0.000</td>\n    </tr>\n    <tr>\n      <th>Mainland China</th>\n      <td>547.000</td>\n      <td>17.000</td>\n      <td>28.000</td>\n    </tr>\n    <tr>\n      <th>South Korea</th>\n      <td>1.000</td>\n      <td>0.000</td>\n      <td>0.000</td>\n    </tr>\n    <tr>\n      <th>...</th>\n      <th>...</th>\n      <td>...</td>\n      <td>...</td>\n      <td>...</td>\n    </tr>\n    <tr>\n      <th rowspan=\"5\" valign=\"top\">2021-02-27</th>\n      <th>Vietnam</th>\n      <td>2,432.000</td>\n      <td>35.000</td>\n      <td>1,844.000</td>\n    </tr>\n    <tr>\n      <th>West Bank and Gaza</th>\n      <td>181,909.000</td>\n      <td>2,025.000</td>\n      <td>166,119.000</td>\n    </tr>\n    <tr>\n      <th>Yemen</th>\n      <td>2,269.000</td>\n      <td>631.000</td>\n      <td>1,435.000</td>\n    </tr>\n    <tr>\n      <th>Zambia</th>\n      <td>78,202.000</td>\n      <td>1,081.000</td>\n      <td>73,609.000</td>\n    </tr>\n    <tr>\n      <th>Zimbabwe</th>\n      <td>36,058.000</td>\n      <td>1,463.000</td>\n      <td>32,590.000</td>\n    </tr>\n  </tbody>\n</table>\n<p>69085 rows × 3 columns</p>\n</div>"
     },
     "execution_count": 74,
     "metadata": {},
     "output_type": "execute_result"
    }
   ],
   "source": [
    "# Agrupacion por columnas, y aplicando operaciones a volres numericos\n",
    "df_coronavirus.groupby(['ObservationDate', 'Country/Region']).sum()"
   ],
   "metadata": {
    "collapsed": false,
    "pycharm": {
     "name": "#%%\n"
    }
   }
  },
  {
   "cell_type": "code",
   "execution_count": 48,
   "outputs": [
    {
     "data": {
      "text/plain": "                      Confirmed        Deaths      Recovered\nObservationDate                                             \n2020-01-22              557.000        17.000         30.000\n2020-01-23            1,097.000        34.000         60.000\n2020-01-24              941.000        26.000         39.000\n2020-01-25            1,437.000        42.000         42.000\n2020-01-26            2,118.000        56.000         56.000\n...                         ...           ...            ...\n2021-02-23      112,109,754.000 2,485,434.000 63,295,144.000\n2021-02-24      112,554,301.000 2,497,488.000 63,504,603.000\n2021-02-25      113,001,412.000 2,507,624.000 63,732,295.000\n2021-02-26      113,415,604.000 2,517,422.000 63,992,563.000\n2021-02-27      113,784,735.000 2,525,401.000 64,243,285.000\n\n[403 rows x 3 columns]",
      "text/html": "<div>\n<style scoped>\n    .dataframe tbody tr th:only-of-type {\n        vertical-align: middle;\n    }\n\n    .dataframe tbody tr th {\n        vertical-align: top;\n    }\n\n    .dataframe thead th {\n        text-align: right;\n    }\n</style>\n<table border=\"1\" class=\"dataframe\">\n  <thead>\n    <tr style=\"text-align: right;\">\n      <th></th>\n      <th>Confirmed</th>\n      <th>Deaths</th>\n      <th>Recovered</th>\n    </tr>\n    <tr>\n      <th>ObservationDate</th>\n      <th></th>\n      <th></th>\n      <th></th>\n    </tr>\n  </thead>\n  <tbody>\n    <tr>\n      <th>2020-01-22</th>\n      <td>557.000</td>\n      <td>17.000</td>\n      <td>30.000</td>\n    </tr>\n    <tr>\n      <th>2020-01-23</th>\n      <td>1,097.000</td>\n      <td>34.000</td>\n      <td>60.000</td>\n    </tr>\n    <tr>\n      <th>2020-01-24</th>\n      <td>941.000</td>\n      <td>26.000</td>\n      <td>39.000</td>\n    </tr>\n    <tr>\n      <th>2020-01-25</th>\n      <td>1,437.000</td>\n      <td>42.000</td>\n      <td>42.000</td>\n    </tr>\n    <tr>\n      <th>2020-01-26</th>\n      <td>2,118.000</td>\n      <td>56.000</td>\n      <td>56.000</td>\n    </tr>\n    <tr>\n      <th>...</th>\n      <td>...</td>\n      <td>...</td>\n      <td>...</td>\n    </tr>\n    <tr>\n      <th>2021-02-23</th>\n      <td>112,109,754.000</td>\n      <td>2,485,434.000</td>\n      <td>63,295,144.000</td>\n    </tr>\n    <tr>\n      <th>2021-02-24</th>\n      <td>112,554,301.000</td>\n      <td>2,497,488.000</td>\n      <td>63,504,603.000</td>\n    </tr>\n    <tr>\n      <th>2021-02-25</th>\n      <td>113,001,412.000</td>\n      <td>2,507,624.000</td>\n      <td>63,732,295.000</td>\n    </tr>\n    <tr>\n      <th>2021-02-26</th>\n      <td>113,415,604.000</td>\n      <td>2,517,422.000</td>\n      <td>63,992,563.000</td>\n    </tr>\n    <tr>\n      <th>2021-02-27</th>\n      <td>113,784,735.000</td>\n      <td>2,525,401.000</td>\n      <td>64,243,285.000</td>\n    </tr>\n  </tbody>\n</table>\n<p>403 rows × 3 columns</p>\n</div>"
     },
     "execution_count": 48,
     "metadata": {},
     "output_type": "execute_result"
    }
   ],
   "source": [
    "# Rellenando los valores nulos\n",
    "df_coronavirus_time = df_coronavirus_time.fillna({'Confirmed': 555.0, 'Deaths': 17.0, 'Recovered': 28.0})\n",
    "df_coronavirus_time\n",
    "\n"
   ],
   "metadata": {
    "collapsed": false,
    "pycharm": {
     "name": "#%%\n"
    }
   }
  },
  {
   "cell_type": "code",
   "execution_count": 49,
   "outputs": [
    {
     "data": {
      "text/plain": "                 Confirmed  Deaths  Recovered\nObservationDate                              \n2020-01-22         557.000  17.000     30.000\n2020-01-23       1,654.000  51.000     90.000\n2020-01-24       2,595.000  77.000    129.000\n2020-01-25       4,032.000 119.000    171.000\n2020-01-26       6,150.000 175.000    227.000",
      "text/html": "<div>\n<style scoped>\n    .dataframe tbody tr th:only-of-type {\n        vertical-align: middle;\n    }\n\n    .dataframe tbody tr th {\n        vertical-align: top;\n    }\n\n    .dataframe thead th {\n        text-align: right;\n    }\n</style>\n<table border=\"1\" class=\"dataframe\">\n  <thead>\n    <tr style=\"text-align: right;\">\n      <th></th>\n      <th>Confirmed</th>\n      <th>Deaths</th>\n      <th>Recovered</th>\n    </tr>\n    <tr>\n      <th>ObservationDate</th>\n      <th></th>\n      <th></th>\n      <th></th>\n    </tr>\n  </thead>\n  <tbody>\n    <tr>\n      <th>2020-01-22</th>\n      <td>557.000</td>\n      <td>17.000</td>\n      <td>30.000</td>\n    </tr>\n    <tr>\n      <th>2020-01-23</th>\n      <td>1,654.000</td>\n      <td>51.000</td>\n      <td>90.000</td>\n    </tr>\n    <tr>\n      <th>2020-01-24</th>\n      <td>2,595.000</td>\n      <td>77.000</td>\n      <td>129.000</td>\n    </tr>\n    <tr>\n      <th>2020-01-25</th>\n      <td>4,032.000</td>\n      <td>119.000</td>\n      <td>171.000</td>\n    </tr>\n    <tr>\n      <th>2020-01-26</th>\n      <td>6,150.000</td>\n      <td>175.000</td>\n      <td>227.000</td>\n    </tr>\n  </tbody>\n</table>\n</div>"
     },
     "execution_count": 49,
     "metadata": {},
     "output_type": "execute_result"
    }
   ],
   "source": [
    "# Acumulando los valores en cada iteracion de las filas\n",
    "# .cumsum()\n",
    "df_coronavirus_time.cumsum().head(5)\n"
   ],
   "metadata": {
    "collapsed": false,
    "pycharm": {
     "name": "#%%\n"
    }
   }
  },
  {
   "cell_type": "code",
   "execution_count": 52,
   "outputs": [
    {
     "name": "stdout",
     "output_type": "stream",
     "text": [
      "                      Confirmed         Deaths       Recovered\n",
      "ObservationDate                                               \n",
      "2020-01-22           14,655.000        388.000         400.000\n",
      "2020-01-29           96,923.000      2,056.000       2,744.000\n",
      "2020-02-05          257,684.000      5,755.000      19,129.000\n",
      "2020-02-12          461,136.000     11,323.000      66,699.000\n",
      "2020-02-19          546,252.000     16,884.000     152,607.000\n",
      "2020-02-26          605,825.000     20,638.000     276,701.000\n",
      "2020-03-04          742,841.000     25,693.000     406,794.000\n",
      "2020-03-11        1,101,629.000     42,030.000     513,143.000\n",
      "2020-03-18        2,168,853.000     92,638.000     653,174.000\n",
      "2020-03-25        4,611,234.000    216,754.000     997,676.000\n",
      "2020-04-01        8,182,654.000    451,718.000   1,713,600.000\n",
      "2020-04-08       12,150,499.000    759,027.000   2,807,321.000\n",
      "2020-04-15       16,190,557.000  1,109,520.000   4,165,355.000\n",
      "2020-04-22       20,176,209.000  1,417,126.000   5,747,888.000\n",
      "2020-04-29       23,990,971.000  1,708,928.000   7,622,186.000\n",
      "2020-05-06       28,122,285.000  1,957,738.000   9,588,109.000\n",
      "2020-05-13       32,399,421.000  2,185,016.000  11,828,185.000\n",
      "2020-05-20       37,132,596.000  2,391,814.000  14,702,808.000\n",
      "2020-05-27       42,326,829.000  2,585,025.000  17,890,395.000\n",
      "2020-06-03       48,207,032.000  2,798,977.000  21,583,479.000\n",
      "2020-06-10       54,422,653.000  3,010,338.000  25,889,385.000\n",
      "2020-06-17       61,674,490.000  3,248,461.000  30,457,715.000\n",
      "2020-06-24       69,836,111.000  3,485,830.000  35,309,428.000\n",
      "2020-07-01       78,907,504.000  3,713,339.000  42,180,373.000\n",
      "2020-07-08       88,974,658.000  3,952,909.000  49,002,809.000\n",
      "2020-07-15       99,975,582.000  4,208,349.000  56,103,827.000\n",
      "2020-07-22      112,107,509.000  4,507,734.000  64,511,500.000\n",
      "2020-07-29      124,820,005.000  4,793,224.000  73,801,633.000\n",
      "2020-08-05      137,421,333.000  5,086,062.000  83,567,236.000\n",
      "2020-08-12      150,134,018.000  5,377,973.000  94,215,319.000\n",
      "2020-08-19      162,474,617.000  5,632,012.000 104,525,872.000\n",
      "2020-08-26      175,092,494.000  5,896,697.000 114,923,558.000\n",
      "2020-09-02      188,156,259.000  6,165,130.000 125,457,391.000\n",
      "2020-09-09      201,369,327.000  6,441,822.000 135,949,746.000\n",
      "2020-09-16      215,671,971.000  6,698,956.000 147,155,221.000\n",
      "2020-09-23      230,047,052.000  6,957,943.000 159,020,454.000\n",
      "2020-09-30      244,627,252.000  7,237,269.000 170,264,321.000\n",
      "2020-10-07      260,694,186.000  7,510,702.000 181,245,606.000\n",
      "2020-10-14      278,154,894.000  7,770,710.000 191,246,432.000\n",
      "2020-10-21      298,890,911.000  8,054,453.000 201,901,630.000\n",
      "2020-10-28      322,942,612.000  8,374,252.000 215,082,183.000\n",
      "2020-11-04      349,915,497.000  8,763,522.000 229,391,078.000\n",
      "2020-11-11      378,422,570.000  9,197,345.000 243,557,860.000\n",
      "2020-11-18      407,491,787.000  9,678,508.000 260,638,894.000\n",
      "2020-11-25      436,170,964.000 10,184,051.000 278,971,531.000\n",
      "2020-12-02      466,043,265.000 10,714,195.000 299,536,857.000\n",
      "2020-12-09      501,628,567.000 11,256,796.000 318,533,662.000\n",
      "2020-12-16      533,941,746.000 11,827,337.000 301,539,031.000\n",
      "2020-12-23      562,927,520.000 12,360,180.000 317,681,989.000\n",
      "2020-12-30      592,538,613.000 12,905,323.000 333,261,919.000\n",
      "2021-01-06      627,045,147.000 13,517,548.000 348,098,375.000\n",
      "2021-01-13      660,855,916.000 14,184,147.000 364,260,971.000\n",
      "2021-01-20      690,613,853.000 14,872,110.000 381,057,798.000\n",
      "2021-01-27      717,253,426.000 15,559,214.000 397,358,768.000\n",
      "2021-02-03      739,955,416.000 16,181,068.000 412,261,352.000\n",
      "2021-02-10      759,467,475.000 16,741,704.000 425,848,701.000\n",
      "2021-02-17      777,349,587.000 17,212,866.000 438,098,812.000\n",
      "2021-02-24      452,756,052.000 10,047,935.000 255,472,746.000\n",
      "                        Confirmed         Deaths         Recovered\n",
      "ObservationDate                                                   \n",
      "2020-01-31             38,980.000        905.000           897.000\n",
      "2020-02-29          1,671,960.000     46,898.000       380,837.000\n",
      "2020-03-31          8,896,092.000    386,356.000     2,707,333.000\n",
      "2020-04-30         63,155,028.000  4,200,943.000    16,422,184.000\n",
      "2020-05-31        144,857,715.000  9,607,245.000    54,218,282.000\n",
      "2020-06-30        246,799,564.000 13,301,330.000   118,665,388.000\n",
      "2020-07-31        431,953,845.000 18,403,860.000   242,303,677.000\n",
      "2020-08-31        672,162,467.000 23,906,573.000   423,451,059.000\n",
      "2020-09-30        895,064,433.000 28,137,125.000   608,329,768.000\n",
      "2020-10-31      1,229,857,599.000 34,304,438.000   841,949,383.000\n",
      "2020-11-30      1,649,417,735.000 39,965,879.000 1,065,634,528.000\n",
      "2020-12-31      2,294,868,546.000 51,281,638.000 1,372,127,701.000\n",
      "2021-01-31      2,914,702,757.000 62,895,676.000 1,615,193,848.000\n",
      "2021-02-28      2,936,812,203.000 64,688,196.000 1,646,735,491.000\n",
      "                 Confirmed  Deaths  Recovered\n",
      "ObservationDate                              \n",
      "2020-10-31              31      31         31\n",
      "2020-11-30              30      30         30\n",
      "2020-12-31              31      31         31\n",
      "2021-01-31              31      31         31\n",
      "2021-02-28              27      27         27\n"
     ]
    }
   ],
   "source": [
    "# Realizando agrupacion para campos de fecha y aplicando operaciones acumuladas\n",
    "# resample('7D')\n",
    "# 7D => 7 dias de rango\n",
    "# W-Sun => Cada domingo\n",
    "# M => Mensual\n",
    "print(df_coronavirus_time.resample('7D').sum())\n",
    "print(df_coronavirus_time.resample('M').sum())\n",
    "print(df_coronavirus_time.resample('M').count().tail())"
   ],
   "metadata": {
    "collapsed": false,
    "pycharm": {
     "name": "#%%\n"
    }
   }
  },
  {
   "cell_type": "code",
   "execution_count": 53,
   "outputs": [
    {
     "name": "stdout",
     "output_type": "stream",
     "text": [
      "                          Confirmed        Deaths      Recovered\n",
      "ObservationDate                                                 \n",
      "2020-01-22 00:00:00         557.000        17.000         30.000\n",
      "2020-01-22 12:00:00             NaN           NaN            NaN\n",
      "2020-01-23 00:00:00       1,097.000        34.000         60.000\n",
      "2020-01-23 12:00:00             NaN           NaN            NaN\n",
      "2020-01-24 00:00:00         941.000        26.000         39.000\n",
      "...                             ...           ...            ...\n",
      "2021-02-25 00:00:00 113,001,412.000 2,507,624.000 63,732,295.000\n",
      "2021-02-25 12:00:00             NaN           NaN            NaN\n",
      "2021-02-26 00:00:00 113,415,604.000 2,517,422.000 63,992,563.000\n",
      "2021-02-26 12:00:00             NaN           NaN            NaN\n",
      "2021-02-27 00:00:00 113,784,735.000 2,525,401.000 64,243,285.000\n",
      "\n",
      "[805 rows x 3 columns]\n"
     ]
    }
   ],
   "source": [
    "# 12h => Rango de 12 Horas\n",
    "# min_count=1 => El minimo valor para sumar sera 1\n",
    "# Lo que significa que se generaran horas nulas\n",
    "print(df_coronavirus_time.resample('12h').sum(min_count=1))"
   ],
   "metadata": {
    "collapsed": false,
    "pycharm": {
     "name": "#%%\n"
    }
   }
  },
  {
   "cell_type": "code",
   "execution_count": 55,
   "outputs": [
    {
     "data": {
      "text/plain": "                      Confirmed        Deaths      Recovered\nObservationDate                                             \n2020-01-22              557.000        17.000         30.000\n2020-01-23            1,097.000        34.000         60.000\n2020-01-24              941.000        26.000         39.000\n2020-01-25            1,437.000        42.000         42.000\n2020-01-26            2,118.000        56.000         56.000\n...                         ...           ...            ...\n2021-02-23      112,109,754.000 2,485,434.000 63,295,144.000\n2021-02-24      112,554,301.000 2,497,488.000 63,504,603.000\n2021-02-25      113,001,412.000 2,507,624.000 63,732,295.000\n2021-02-26      113,415,604.000 2,517,422.000 63,992,563.000\n2021-02-27      113,784,735.000 2,525,401.000 64,243,285.000\n\n[403 rows x 3 columns]",
      "text/html": "<div>\n<style scoped>\n    .dataframe tbody tr th:only-of-type {\n        vertical-align: middle;\n    }\n\n    .dataframe tbody tr th {\n        vertical-align: top;\n    }\n\n    .dataframe thead th {\n        text-align: right;\n    }\n</style>\n<table border=\"1\" class=\"dataframe\">\n  <thead>\n    <tr style=\"text-align: right;\">\n      <th></th>\n      <th>Confirmed</th>\n      <th>Deaths</th>\n      <th>Recovered</th>\n    </tr>\n    <tr>\n      <th>ObservationDate</th>\n      <th></th>\n      <th></th>\n      <th></th>\n    </tr>\n  </thead>\n  <tbody>\n    <tr>\n      <th>2020-01-22</th>\n      <td>557.000</td>\n      <td>17.000</td>\n      <td>30.000</td>\n    </tr>\n    <tr>\n      <th>2020-01-23</th>\n      <td>1,097.000</td>\n      <td>34.000</td>\n      <td>60.000</td>\n    </tr>\n    <tr>\n      <th>2020-01-24</th>\n      <td>941.000</td>\n      <td>26.000</td>\n      <td>39.000</td>\n    </tr>\n    <tr>\n      <th>2020-01-25</th>\n      <td>1,437.000</td>\n      <td>42.000</td>\n      <td>42.000</td>\n    </tr>\n    <tr>\n      <th>2020-01-26</th>\n      <td>2,118.000</td>\n      <td>56.000</td>\n      <td>56.000</td>\n    </tr>\n    <tr>\n      <th>...</th>\n      <td>...</td>\n      <td>...</td>\n      <td>...</td>\n    </tr>\n    <tr>\n      <th>2021-02-23</th>\n      <td>112,109,754.000</td>\n      <td>2,485,434.000</td>\n      <td>63,295,144.000</td>\n    </tr>\n    <tr>\n      <th>2021-02-24</th>\n      <td>112,554,301.000</td>\n      <td>2,497,488.000</td>\n      <td>63,504,603.000</td>\n    </tr>\n    <tr>\n      <th>2021-02-25</th>\n      <td>113,001,412.000</td>\n      <td>2,507,624.000</td>\n      <td>63,732,295.000</td>\n    </tr>\n    <tr>\n      <th>2021-02-26</th>\n      <td>113,415,604.000</td>\n      <td>2,517,422.000</td>\n      <td>63,992,563.000</td>\n    </tr>\n    <tr>\n      <th>2021-02-27</th>\n      <td>113,784,735.000</td>\n      <td>2,525,401.000</td>\n      <td>64,243,285.000</td>\n    </tr>\n  </tbody>\n</table>\n<p>403 rows × 3 columns</p>\n</div>"
     },
     "execution_count": 55,
     "metadata": {},
     "output_type": "execute_result"
    }
   ],
   "source": [
    "# Permite rellenar los valores null o nan por un valor que marque crecimiento lineal\n",
    "# Entre el valor proximo encontrado y el inicio (Util cuando son valores acumulados)\n",
    "# .interpolate()\n",
    "df_coronavirus_cum = df_coronavirus_time.interpolate()\n",
    "df_coronavirus_cum\n"
   ],
   "metadata": {
    "collapsed": false,
    "pycharm": {
     "name": "#%%\n"
    }
   }
  },
  {
   "cell_type": "code",
   "execution_count": 57,
   "outputs": [
    {
     "data": {
      "text/plain": "Country/Region\nFrance                  3,664,050.000\nUK                      3,653,272.000\nUS                      3,563,578.000\nTurkey                  2,693,164.000\nIndia                   2,146,777.000\n                             ...     \nThe Bahamas                     1.000\nMicronesia                      1.000\nNorth Ireland                   1.000\nRepublic of the Congo           1.000\n Azerbaijan                     1.000\nName: Confirmed, Length: 227, dtype: float64"
     },
     "execution_count": 57,
     "metadata": {},
     "output_type": "execute_result"
    }
   ],
   "source": [
    "# Agrupandp por una columna, aplicando operaciones en una columna\n",
    "# Obteniendo los maximos ordenados descendentemente\n",
    "df_coronavirus.groupby(['Country/Region'])['Confirmed'].max().sort_values(ascending=False)\n"
   ],
   "metadata": {
    "collapsed": false,
    "pycharm": {
     "name": "#%%\n"
    }
   }
  },
  {
   "cell_type": "code",
   "execution_count": 62,
   "outputs": [
    {
     "data": {
      "text/plain": "                                      amax      amin\n                                 Confirmed Confirmed\nCountry/Region                                      \n Azerbaijan                          1.000     1.000\n('St. Martin',)                      2.000     2.000\nAfghanistan                     55,707.000     1.000\nAlbania                        106,215.000     2.000\nAlgeria                        112,960.000     1.000\n...                                    ...       ...\nWest Bank and Gaza             181,909.000    84.000\nYemen                            2,269.000     1.000\nZambia                          78,202.000     2.000\nZimbabwe                        36,058.000     1.000\noccupied Palestinian territory      25.000     0.000\n\n[227 rows x 2 columns]",
      "text/html": "<div>\n<style scoped>\n    .dataframe tbody tr th:only-of-type {\n        vertical-align: middle;\n    }\n\n    .dataframe tbody tr th {\n        vertical-align: top;\n    }\n\n    .dataframe thead tr th {\n        text-align: left;\n    }\n\n    .dataframe thead tr:last-of-type th {\n        text-align: right;\n    }\n</style>\n<table border=\"1\" class=\"dataframe\">\n  <thead>\n    <tr>\n      <th></th>\n      <th>amax</th>\n      <th>amin</th>\n    </tr>\n    <tr>\n      <th></th>\n      <th>Confirmed</th>\n      <th>Confirmed</th>\n    </tr>\n    <tr>\n      <th>Country/Region</th>\n      <th></th>\n      <th></th>\n    </tr>\n  </thead>\n  <tbody>\n    <tr>\n      <th>Azerbaijan</th>\n      <td>1.000</td>\n      <td>1.000</td>\n    </tr>\n    <tr>\n      <th>('St. Martin',)</th>\n      <td>2.000</td>\n      <td>2.000</td>\n    </tr>\n    <tr>\n      <th>Afghanistan</th>\n      <td>55,707.000</td>\n      <td>1.000</td>\n    </tr>\n    <tr>\n      <th>Albania</th>\n      <td>106,215.000</td>\n      <td>2.000</td>\n    </tr>\n    <tr>\n      <th>Algeria</th>\n      <td>112,960.000</td>\n      <td>1.000</td>\n    </tr>\n    <tr>\n      <th>...</th>\n      <td>...</td>\n      <td>...</td>\n    </tr>\n    <tr>\n      <th>West Bank and Gaza</th>\n      <td>181,909.000</td>\n      <td>84.000</td>\n    </tr>\n    <tr>\n      <th>Yemen</th>\n      <td>2,269.000</td>\n      <td>1.000</td>\n    </tr>\n    <tr>\n      <th>Zambia</th>\n      <td>78,202.000</td>\n      <td>2.000</td>\n    </tr>\n    <tr>\n      <th>Zimbabwe</th>\n      <td>36,058.000</td>\n      <td>1.000</td>\n    </tr>\n    <tr>\n      <th>occupied Palestinian territory</th>\n      <td>25.000</td>\n      <td>0.000</td>\n    </tr>\n  </tbody>\n</table>\n<p>227 rows × 2 columns</p>\n</div>"
     },
     "execution_count": 62,
     "metadata": {},
     "output_type": "execute_result"
    }
   ],
   "source": [
    "# Pivort table\n",
    "df_coronavirus.pivot_table(values=['Confirmed'], index=['Country/Region'], aggfunc=[np.max, np.min])\n"
   ],
   "metadata": {
    "collapsed": false,
    "pycharm": {
     "name": "#%%\n"
    }
   }
  },
  {
   "cell_type": "code",
   "execution_count": 63,
   "outputs": [
    {
     "name": "stdout",
     "output_type": "stream",
     "text": [
      "['ObservationDate', 'Province/State', 'Country/Region', 'Last Update', 'Confirmed', 'Deaths', 'Recovered']\n"
     ]
    }
   ],
   "source": [
    "# Tip para obtener como lista los nombres de las columnas del df\n",
    "print(list(df_coronavirus))\n"
   ],
   "metadata": {
    "collapsed": false,
    "pycharm": {
     "name": "#%%\n"
    }
   }
  },
  {
   "cell_type": "code",
   "execution_count": 65,
   "outputs": [
    {
     "data": {
      "text/plain": "                                                Confirmed  Deaths  Recovered\nCountry/Region                 ObservationDate                              \n Azerbaijan                    2020-02-28           1.000   0.000      0.000\n('St. Martin',)                2020-03-10           2.000   0.000      0.000\nAfghanistan                    2020-02-24           1.000   0.000      0.000\n                               2020-02-25           1.000   0.000      0.000\n                               2020-02-26           1.000   0.000      0.000\n...                                                   ...     ...        ...\noccupied Palestinian territory 2020-03-12           0.000   0.000      0.000\n                               2020-03-14           0.000   0.000      0.000\n                               2020-03-15           0.000   0.000      0.000\n                               2020-03-16           0.000   0.000      0.000\n                               2020-03-17           0.000   0.000      0.000\n\n[69085 rows x 3 columns]",
      "text/html": "<div>\n<style scoped>\n    .dataframe tbody tr th:only-of-type {\n        vertical-align: middle;\n    }\n\n    .dataframe tbody tr th {\n        vertical-align: top;\n    }\n\n    .dataframe thead th {\n        text-align: right;\n    }\n</style>\n<table border=\"1\" class=\"dataframe\">\n  <thead>\n    <tr style=\"text-align: right;\">\n      <th></th>\n      <th></th>\n      <th>Confirmed</th>\n      <th>Deaths</th>\n      <th>Recovered</th>\n    </tr>\n    <tr>\n      <th>Country/Region</th>\n      <th>ObservationDate</th>\n      <th></th>\n      <th></th>\n      <th></th>\n    </tr>\n  </thead>\n  <tbody>\n    <tr>\n      <th>Azerbaijan</th>\n      <th>2020-02-28</th>\n      <td>1.000</td>\n      <td>0.000</td>\n      <td>0.000</td>\n    </tr>\n    <tr>\n      <th>('St. Martin',)</th>\n      <th>2020-03-10</th>\n      <td>2.000</td>\n      <td>0.000</td>\n      <td>0.000</td>\n    </tr>\n    <tr>\n      <th rowspan=\"3\" valign=\"top\">Afghanistan</th>\n      <th>2020-02-24</th>\n      <td>1.000</td>\n      <td>0.000</td>\n      <td>0.000</td>\n    </tr>\n    <tr>\n      <th>2020-02-25</th>\n      <td>1.000</td>\n      <td>0.000</td>\n      <td>0.000</td>\n    </tr>\n    <tr>\n      <th>2020-02-26</th>\n      <td>1.000</td>\n      <td>0.000</td>\n      <td>0.000</td>\n    </tr>\n    <tr>\n      <th>...</th>\n      <th>...</th>\n      <td>...</td>\n      <td>...</td>\n      <td>...</td>\n    </tr>\n    <tr>\n      <th rowspan=\"5\" valign=\"top\">occupied Palestinian territory</th>\n      <th>2020-03-12</th>\n      <td>0.000</td>\n      <td>0.000</td>\n      <td>0.000</td>\n    </tr>\n    <tr>\n      <th>2020-03-14</th>\n      <td>0.000</td>\n      <td>0.000</td>\n      <td>0.000</td>\n    </tr>\n    <tr>\n      <th>2020-03-15</th>\n      <td>0.000</td>\n      <td>0.000</td>\n      <td>0.000</td>\n    </tr>\n    <tr>\n      <th>2020-03-16</th>\n      <td>0.000</td>\n      <td>0.000</td>\n      <td>0.000</td>\n    </tr>\n    <tr>\n      <th>2020-03-17</th>\n      <td>0.000</td>\n      <td>0.000</td>\n      <td>0.000</td>\n    </tr>\n  </tbody>\n</table>\n<p>69085 rows × 3 columns</p>\n</div>"
     },
     "execution_count": 65,
     "metadata": {},
     "output_type": "execute_result"
    }
   ],
   "source": [
    "# Agrupacion por 2 columnas\n",
    "# Una de ellas usando la funcion .Grouper que permite realizar una sobreagrupacion sobre el campo seleccionado por frecuencia\n",
    "# pd.Grouper(key='columna', freq='intervalor de tiempo')\n",
    "df_coronavirus_time_grouper = df_coronavirus.groupby(['Country/Region',\n",
    "                                                      pd.Grouper(key='ObservationDate', freq='1D')]).sum()\n",
    "df_coronavirus_time_grouper"
   ],
   "metadata": {
    "collapsed": false,
    "pycharm": {
     "name": "#%%\n"
    }
   }
  },
  {
   "cell_type": "code",
   "execution_count": 79,
   "outputs": [
    {
     "data": {
      "text/plain": "                    Confirmed     Deaths   Recovered\nObservationDate                                     \n2020-01-24              2.000      0.000       0.000\n2020-01-25              3.000      0.000       0.000\n2020-01-26              3.000      0.000       0.000\n2020-01-27              3.000      0.000       0.000\n2020-01-28              4.000      0.000       0.000\n...                       ...        ...         ...\n2021-02-23      3,689,534.000 85,195.000 258,863.000\n2021-02-24      3,721,061.000 85,473.000 260,230.000\n2021-02-25      3,746,475.000 85,734.000 261,648.000\n2021-02-26      3,746,707.000 85,738.000 261,649.000\n2021-02-27      3,747,263.000 85,741.000 261,649.000\n\n[401 rows x 3 columns]",
      "text/html": "<div>\n<style scoped>\n    .dataframe tbody tr th:only-of-type {\n        vertical-align: middle;\n    }\n\n    .dataframe tbody tr th {\n        vertical-align: top;\n    }\n\n    .dataframe thead th {\n        text-align: right;\n    }\n</style>\n<table border=\"1\" class=\"dataframe\">\n  <thead>\n    <tr style=\"text-align: right;\">\n      <th></th>\n      <th>Confirmed</th>\n      <th>Deaths</th>\n      <th>Recovered</th>\n    </tr>\n    <tr>\n      <th>ObservationDate</th>\n      <th></th>\n      <th></th>\n      <th></th>\n    </tr>\n  </thead>\n  <tbody>\n    <tr>\n      <th>2020-01-24</th>\n      <td>2.000</td>\n      <td>0.000</td>\n      <td>0.000</td>\n    </tr>\n    <tr>\n      <th>2020-01-25</th>\n      <td>3.000</td>\n      <td>0.000</td>\n      <td>0.000</td>\n    </tr>\n    <tr>\n      <th>2020-01-26</th>\n      <td>3.000</td>\n      <td>0.000</td>\n      <td>0.000</td>\n    </tr>\n    <tr>\n      <th>2020-01-27</th>\n      <td>3.000</td>\n      <td>0.000</td>\n      <td>0.000</td>\n    </tr>\n    <tr>\n      <th>2020-01-28</th>\n      <td>4.000</td>\n      <td>0.000</td>\n      <td>0.000</td>\n    </tr>\n    <tr>\n      <th>...</th>\n      <td>...</td>\n      <td>...</td>\n      <td>...</td>\n    </tr>\n    <tr>\n      <th>2021-02-23</th>\n      <td>3,689,534.000</td>\n      <td>85,195.000</td>\n      <td>258,863.000</td>\n    </tr>\n    <tr>\n      <th>2021-02-24</th>\n      <td>3,721,061.000</td>\n      <td>85,473.000</td>\n      <td>260,230.000</td>\n    </tr>\n    <tr>\n      <th>2021-02-25</th>\n      <td>3,746,475.000</td>\n      <td>85,734.000</td>\n      <td>261,648.000</td>\n    </tr>\n    <tr>\n      <th>2021-02-26</th>\n      <td>3,746,707.000</td>\n      <td>85,738.000</td>\n      <td>261,649.000</td>\n    </tr>\n    <tr>\n      <th>2021-02-27</th>\n      <td>3,747,263.000</td>\n      <td>85,741.000</td>\n      <td>261,649.000</td>\n    </tr>\n  </tbody>\n</table>\n<p>401 rows × 3 columns</p>\n</div>"
     },
     "execution_count": 79,
     "metadata": {},
     "output_type": "execute_result"
    }
   ],
   "source": [
    "# Seleccionando los valores filtrando por una columna\n",
    "df_france = df_coronavirus_time_grouper.loc['France', :]\n",
    "df_france"
   ],
   "metadata": {
    "collapsed": false,
    "pycharm": {
     "name": "#%%\n"
    }
   }
  },
  {
   "cell_type": "code",
   "execution_count": 67,
   "outputs": [
    {
     "data": {
      "text/plain": "<Figure size 720x504 with 1 Axes>",
      "image/png": "[encoded data removed]"
     },
     "metadata": {
      "needs_background": "light"
     },
     "output_type": "display_data"
    }
   ],
   "source": [
    "# Grafico\n",
    "df_france.plot(figsize=(10, 7), title='CODV-19 FRANCE')\n",
    "plt.xlabel('Date')\n",
    "plt.ylabel('People')\n",
    "plt.show()\n"
   ],
   "metadata": {
    "collapsed": false,
    "pycharm": {
     "name": "#%%\n"
    }
   }
  },
  {
   "cell_type": "code",
   "execution_count": 71,
   "outputs": [
    {
     "name": "stdout",
     "output_type": "stream",
     "text": [
      "                    Confirmed     Deaths   Recovered\n",
      "ObservationDate                                     \n",
      "2020-01-31              5.000      0.000       0.000\n",
      "2020-02-29            100.000      2.000      12.000\n",
      "2020-03-31         52,278.000  3,526.000   9,513.000\n",
      "2020-04-30        169,098.000 24,380.000  50,380.000\n",
      "2020-05-31        190,975.000 28,805.000  68,473.000\n",
      "2020-06-30        204,244.000 29,846.000  76,399.000\n",
      "2020-07-31        227,239.000 30,268.000  81,764.000\n",
      "2020-08-31        321,160.000 30,646.000  86,790.000\n",
      "2020-09-30        605,893.000 31,978.000  98,632.000\n",
      "2020-10-31      1,414,364.000 36,827.000 123,095.000\n",
      "2020-11-30      2,276,874.000 52,819.000 167,913.000\n",
      "2020-12-31      2,677,666.000 64,759.000 200,142.000\n",
      "2021-01-31      3,255,920.000 76,201.000 230,612.000\n",
      "2021-02-28      3,747,263.000 85,741.000 261,649.000\n"
     ]
    },
    {
     "data": {
      "text/plain": "<Figure size 432x288 with 1 Axes>",
      "image/png": "[encoded data removed]"
     },
     "metadata": {
      "needs_background": "light"
     },
     "output_type": "display_data"
    }
   ],
   "source": [
    "# Obteniendio los maximos, en intervalos de Meses\n",
    "df_monthly = df_france.resample('M').max()\n",
    "print(df_monthly)\n",
    "df_monthly.plot(kind='bar')\n",
    "plt.show()"
   ],
   "metadata": {
    "collapsed": false,
    "pycharm": {
     "name": "#%%\n"
    }
   }
  }
 ],
 "metadata": {
  "kernelspec": {
   "display_name": "Python 3",
   "language": "python",
   "name": "python3"
  },
  "language_info": {
   "codemirror_mode": {
    "name": "ipython",
    "version": 2
   },
   "file_extension": ".py",
   "mimetype": "text/x-python",
   "name": "python",
   "nbconvert_exporter": "python",
   "pygments_lexer": "ipython2",
   "version": "2.7.6"
  }
 },
 "nbformat": 4,
 "nbformat_minor": 0
}