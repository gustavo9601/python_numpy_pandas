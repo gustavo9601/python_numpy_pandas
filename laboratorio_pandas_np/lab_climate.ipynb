{
 "cells": [
  {
   "cell_type": "code",
   "execution_count": 2,
   "metadata": {
    "collapsed": true
   },
   "outputs": [],
   "source": [
    "import pandas as pd\n",
    "import numpy as np\n",
    "import matplotlib.pyplot as plt\n"
   ]
  },
  {
   "cell_type": "code",
   "execution_count": 4,
   "outputs": [
    {
     "name": "stdout",
     "output_type": "stream",
     "text": [
      "(577462, 4)\n",
      "           dt  AverageTemperature  AverageTemperatureUncertainty Country\n",
      "0  1743-11-01               4.384                          2.294   Åland\n",
      "1  1743-12-01                 NaN                            NaN   Åland\n",
      "2  1744-01-01                 NaN                            NaN   Åland\n",
      "3  1744-02-01                 NaN                            NaN   Åland\n",
      "4  1744-03-01                 NaN                            NaN   Åland\n",
      "<class 'pandas.core.frame.DataFrame'>\n",
      "RangeIndex: 577462 entries, 0 to 577461\n",
      "Data columns (total 4 columns):\n",
      " #   Column                         Non-Null Count   Dtype  \n",
      "---  ------                         --------------   -----  \n",
      " 0   dt                             577462 non-null  object \n",
      " 1   AverageTemperature             544811 non-null  float64\n",
      " 2   AverageTemperatureUncertainty  545550 non-null  float64\n",
      " 3   Country                        577462 non-null  object \n",
      "dtypes: float64(2), object(2)\n",
      "memory usage: 13.2+ MB\n",
      "None\n"
     ]
    }
   ],
   "source": [
    "df_climate = pd.read_csv('./../db/GlobalLandTemperaturesByCountry.csv')\n",
    "print(df_climate.shape)\n",
    "print(df_climate.head())"
   ],
   "metadata": {
    "collapsed": false,
    "pycharm": {
     "name": "#%%\n"
    }
   }
  },
  {
   "cell_type": "code",
   "execution_count": 6,
   "outputs": [
    {
     "name": "stdout",
     "output_type": "stream",
     "text": [
      "<class 'pandas.core.frame.DataFrame'>\n",
      "RangeIndex: 577462 entries, 0 to 577461\n",
      "Data columns (total 4 columns):\n",
      " #   Column                         Non-Null Count   Dtype  \n",
      "---  ------                         --------------   -----  \n",
      " 0   dt                             577462 non-null  object \n",
      " 1   AverageTemperature             544811 non-null  float64\n",
      " 2   AverageTemperatureUncertainty  545550 non-null  float64\n",
      " 3   Country                        577462 non-null  object \n",
      "dtypes: float64(2), object(2)\n",
      "memory usage: 13.2+ MB\n",
      "None\n"
     ]
    }
   ],
   "source": [
    "# .info()\n",
    "# Resumen del df y consumo de memoria\n",
    "print(df_climate.info())"
   ],
   "metadata": {
    "collapsed": false,
    "pycharm": {
     "name": "#%%\n"
    }
   }
  },
  {
   "cell_type": "code",
   "execution_count": 7,
   "outputs": [
    {
     "name": "stdout",
     "output_type": "stream",
     "text": [
      "['Åland' 'Afghanistan' 'Africa' 'Albania' 'Algeria' 'American Samoa'\n",
      " 'Andorra' 'Angola' 'Anguilla' 'Antarctica' 'Antigua And Barbuda'\n",
      " 'Argentina' 'Armenia' 'Aruba' 'Asia' 'Australia' 'Austria' 'Azerbaijan'\n",
      " 'Bahamas' 'Bahrain' 'Baker Island' 'Bangladesh' 'Barbados' 'Belarus'\n",
      " 'Belgium' 'Belize' 'Benin' 'Bhutan' 'Bolivia'\n",
      " 'Bonaire, Saint Eustatius And Saba' 'Bosnia And Herzegovina' 'Botswana'\n",
      " 'Brazil' 'British Virgin Islands' 'Bulgaria' 'Burkina Faso' 'Burma'\n",
      " 'Burundi' \"Côte D'Ivoire\" 'Cambodia' 'Cameroon' 'Canada' 'Cape Verde'\n",
      " 'Cayman Islands' 'Central African Republic' 'Chad' 'Chile' 'China'\n",
      " 'Christmas Island' 'Colombia' 'Comoros'\n",
      " 'Congo (Democratic Republic Of The)' 'Congo' 'Costa Rica' 'Croatia'\n",
      " 'Cuba' 'Curaçao' 'Cyprus' 'Czech Republic' 'Denmark (Europe)' 'Denmark'\n",
      " 'Djibouti' 'Dominica' 'Dominican Republic' 'Ecuador' 'Egypt'\n",
      " 'El Salvador' 'Equatorial Guinea' 'Eritrea' 'Estonia' 'Ethiopia' 'Europe'\n",
      " 'Falkland Islands (Islas Malvinas)' 'Faroe Islands'\n",
      " 'Federated States Of Micronesia' 'Fiji' 'Finland' 'France (Europe)'\n",
      " 'France' 'French Guiana' 'French Polynesia'\n",
      " 'French Southern And Antarctic Lands' 'Gabon' 'Gambia' 'Gaza Strip'\n",
      " 'Georgia' 'Germany' 'Ghana' 'Greece' 'Greenland' 'Grenada' 'Guadeloupe'\n",
      " 'Guam' 'Guatemala' 'Guernsey' 'Guinea Bissau' 'Guinea' 'Guyana' 'Haiti'\n",
      " 'Heard Island And Mcdonald Islands' 'Honduras' 'Hong Kong' 'Hungary'\n",
      " 'Iceland' 'India' 'Indonesia' 'Iran' 'Iraq' 'Ireland' 'Isle Of Man'\n",
      " 'Israel' 'Italy' 'Jamaica' 'Japan' 'Jersey' 'Jordan' 'Kazakhstan' 'Kenya'\n",
      " 'Kingman Reef' 'Kiribati' 'Kuwait' 'Kyrgyzstan' 'Laos' 'Latvia' 'Lebanon'\n",
      " 'Lesotho' 'Liberia' 'Libya' 'Liechtenstein' 'Lithuania' 'Luxembourg'\n",
      " 'Macau' 'Macedonia' 'Madagascar' 'Malawi' 'Malaysia' 'Mali' 'Malta'\n",
      " 'Martinique' 'Mauritania' 'Mauritius' 'Mayotte' 'Mexico' 'Moldova'\n",
      " 'Monaco' 'Mongolia' 'Montenegro' 'Montserrat' 'Morocco' 'Mozambique'\n",
      " 'Namibia' 'Nepal' 'Netherlands (Europe)' 'Netherlands' 'New Caledonia'\n",
      " 'New Zealand' 'Nicaragua' 'Niger' 'Nigeria' 'Niue' 'North America'\n",
      " 'North Korea' 'Northern Mariana Islands' 'Norway' 'Oceania' 'Oman'\n",
      " 'Pakistan' 'Palau' 'Palestina' 'Palmyra Atoll' 'Panama'\n",
      " 'Papua New Guinea' 'Paraguay' 'Peru' 'Philippines' 'Poland' 'Portugal'\n",
      " 'Puerto Rico' 'Qatar' 'Reunion' 'Romania' 'Russia' 'Rwanda'\n",
      " 'Saint Barthélemy' 'Saint Kitts And Nevis' 'Saint Lucia' 'Saint Martin'\n",
      " 'Saint Pierre And Miquelon' 'Saint Vincent And The Grenadines' 'Samoa'\n",
      " 'San Marino' 'Sao Tome And Principe' 'Saudi Arabia' 'Senegal' 'Serbia'\n",
      " 'Seychelles' 'Sierra Leone' 'Singapore' 'Sint Maarten' 'Slovakia'\n",
      " 'Slovenia' 'Solomon Islands' 'Somalia' 'South Africa' 'South America'\n",
      " 'South Georgia And The South Sandwich Isla' 'South Korea' 'Spain'\n",
      " 'Sri Lanka' 'Sudan' 'Suriname' 'Svalbard And Jan Mayen' 'Swaziland'\n",
      " 'Sweden' 'Switzerland' 'Syria' 'Taiwan' 'Tajikistan' 'Tanzania'\n",
      " 'Thailand' 'Timor Leste' 'Togo' 'Tonga' 'Trinidad And Tobago' 'Tunisia'\n",
      " 'Turkey' 'Turkmenistan' 'Turks And Caicas Islands' 'Uganda' 'Ukraine'\n",
      " 'United Arab Emirates' 'United Kingdom (Europe)' 'United Kingdom'\n",
      " 'United States' 'Uruguay' 'Uzbekistan' 'Venezuela' 'Vietnam'\n",
      " 'Virgin Islands' 'Western Sahara' 'Yemen' 'Zambia' 'Zimbabwe']\n"
     ]
    }
   ],
   "source": [
    "# Acceder a los valores unicos de una columna\n",
    "print(df_climate['Country'].unique())\n"
   ],
   "metadata": {
    "collapsed": false,
    "pycharm": {
     "name": "#%%\n"
    }
   }
  },
  {
   "cell_type": "code",
   "execution_count": 8,
   "outputs": [
    {
     "name": "stdout",
     "output_type": "stream",
     "text": [
      "dt                                       object\n",
      "AverageTemperature                      float64\n",
      "AverageTemperatureUncertainty           float64\n",
      "Country                                  object\n",
      "date                             datetime64[ns]\n",
      "dtype: object\n"
     ]
    }
   ],
   "source": [
    "# Seteando columna de tipo tiempo\n",
    "df_climate['date'] = pd.to_datetime(df_climate['dt'])\n",
    "print(df_climate.dtypes)"
   ],
   "metadata": {
    "collapsed": false,
    "pycharm": {
     "name": "#%%\n"
    }
   }
  },
  {
   "cell_type": "code",
   "execution_count": 9,
   "outputs": [
    {
     "name": "stdout",
     "output_type": "stream",
     "text": [
      "(127332, 5)\n"
     ]
    }
   ],
   "source": [
    "# Creando una serie como filtro\n",
    "idx_filtro = df_climate['date'] > pd.to_datetime('1970-01-01')\n",
    "df_climate = df_climate[idx_filtro]\n",
    "print(df_climate.shape)\n"
   ],
   "metadata": {
    "collapsed": false,
    "pycharm": {
     "name": "#%%\n"
    }
   }
  },
  {
   "cell_type": "code",
   "execution_count": 11,
   "outputs": [
    {
     "name": "stdout",
     "output_type": "stream",
     "text": [
      "                       AverageTemperature         \n",
      "                                     mean   median\n",
      "Country     date                                  \n",
      "Afghanistan 1970-12-31          16.005455  16.1990\n",
      "            1971-12-31          14.823500  14.9340\n",
      "            1972-12-31          12.547167  13.8725\n",
      "            1973-12-31          14.235500  14.9130\n",
      "            1974-12-31          13.316750  13.6160\n",
      "...                                   ...      ...\n",
      "Åland       2009-12-31           6.489083   5.5765\n",
      "            2010-12-31           4.861917   4.7550\n",
      "            2011-12-31           7.170750   7.4990\n",
      "            2012-12-31           6.063917   6.2540\n",
      "            2013-12-31           6.229750   6.0140\n",
      "\n",
      "[10692 rows x 2 columns]\n",
      "                 mean   median\n",
      "date                          \n",
      "1970-12-31  21.036182  21.5130\n",
      "1971-12-31  20.640333  20.6605\n",
      "1972-12-31  20.975000  22.1485\n",
      "1973-12-31  20.496167  20.8200\n",
      "1974-12-31  20.631500  21.0005\n",
      "1975-12-31  20.449333  20.9585\n",
      "1976-12-31  20.145667  20.3740\n",
      "1977-12-31  20.841250  21.0620\n",
      "1978-12-31  20.755500  21.2615\n",
      "1979-12-31  20.569000  21.7240\n",
      "1980-12-31  21.035667  20.7925\n",
      "1981-12-31  20.753750  21.3770\n",
      "1982-12-31  21.051083  21.7475\n",
      "1983-12-31  20.675417  20.8315\n",
      "1984-12-31  20.511500  21.3755\n",
      "1985-12-31  20.603917  21.1995\n",
      "1986-12-31  20.850667  21.6170\n",
      "1987-12-31  20.455167  20.7800\n",
      "1988-12-31  20.736083  21.4205\n",
      "1989-12-31  20.965167  21.5890\n",
      "1990-12-31  20.960833  21.4460\n",
      "1991-12-31  20.839667  21.7415\n",
      "1992-12-31  20.650333  21.2300\n",
      "1993-12-31  20.938833  21.3560\n",
      "1994-12-31  21.325750  21.5925\n",
      "1995-12-31  21.370667  21.4765\n",
      "1996-12-31  21.132167  21.2680\n",
      "1997-12-31  20.898583  20.5115\n",
      "1998-12-31  21.531750  21.7430\n",
      "1999-12-31  21.128500  21.6755\n",
      "2000-12-31  21.232083  21.6020\n",
      "2001-12-31  21.133000  21.8235\n",
      "2002-12-31  21.225000  22.3760\n",
      "2003-12-31  21.329417  21.8635\n",
      "2004-12-31  20.924833  21.5650\n",
      "2005-12-31  21.413500  21.7915\n",
      "2006-12-31  21.418083  22.3940\n",
      "2007-12-31  21.079333  21.5400\n",
      "2008-12-31  21.085250  21.7885\n",
      "2009-12-31  21.546083  21.8915\n",
      "2010-12-31  20.852917  21.3450\n",
      "2011-12-31  21.599333  22.5915\n",
      "2012-12-31  21.652417  22.3815\n",
      "2013-12-31  22.219222  24.1130\n"
     ]
    }
   ],
   "source": [
    "apply_functions = {\n",
    "    'AverageTemperature': [np.mean, np.median]\n",
    "}\n",
    "\n",
    "df_avg = df_climate.groupby(['Country',\n",
    "                             pd.Grouper(key='date', freq='1Y')]).aggregate(apply_functions)\n",
    "print(df_avg)\n",
    "\n",
    "# Filtro de filas, devolviendo otra columna agrupada\n",
    "print(df_avg.loc['Mexico']['AverageTemperature'])"
   ],
   "metadata": {
    "collapsed": false,
    "pycharm": {
     "name": "#%%\n"
    }
   }
  },
  {
   "cell_type": "code",
   "execution_count": 12,
   "outputs": [
    {
     "name": "stdout",
     "output_type": "stream",
     "text": [
      "       Country       date   median\n",
      "0  Afghanistan 1970-12-31  16.1990\n",
      "1  Afghanistan 1971-12-31  14.9340\n",
      "2  Afghanistan 1972-12-31  13.8725\n",
      "3  Afghanistan 1973-12-31  14.9130\n",
      "4  Afghanistan 1974-12-31  13.6160\n"
     ]
    }
   ],
   "source": [
    "# Un df a partir de una agrupacion, generando un id numerico\n",
    "df_t_med = df_avg['AverageTemperature'][['median']].reset_index()\n",
    "print(df_t_med.head(5))"
   ],
   "metadata": {
    "collapsed": false,
    "pycharm": {
     "name": "#%%\n"
    }
   }
  },
  {
   "cell_type": "code",
   "execution_count": 13,
   "outputs": [
    {
     "name": "stdout",
     "output_type": "stream",
     "text": [
      "       Country       date   median  year\n",
      "0  Afghanistan 1970-12-31  16.1990  1970\n",
      "1  Afghanistan 1971-12-31  14.9340  1971\n",
      "2  Afghanistan 1972-12-31  13.8725  1972\n",
      "3  Afghanistan 1973-12-31  14.9130  1973\n",
      "4  Afghanistan 1974-12-31  13.6160  1974\n"
     ]
    }
   ],
   "source": [
    "# Extrayendo partes de fecha a partir de un tipo date\n",
    "df_t_med['year'] = df_t_med['date'].dt.year\n",
    "print(df_t_med.head(5))"
   ],
   "metadata": {
    "collapsed": false,
    "pycharm": {
     "name": "#%%\n"
    }
   }
  },
  {
   "cell_type": "code",
   "execution_count": 17,
   "outputs": [
    {
     "name": "stdout",
     "output_type": "stream",
     "text": [
      "       Country       date  median_temperature  year\n",
      "0  Afghanistan 1970-12-31             16.1990  1970\n",
      "1  Afghanistan 1971-12-31             14.9340  1971\n",
      "2  Afghanistan 1972-12-31             13.8725  1972\n",
      "3  Afghanistan 1973-12-31             14.9130  1973\n",
      "4  Afghanistan 1974-12-31             13.6160  1974\n"
     ]
    }
   ],
   "source": [
    "# Renombrando columnas\n",
    "# columns={'current_name_column':'new_name_column'}\n",
    "# inplace=True // modifica el mismo dataframe\n",
    "df_t_med.rename(columns={'median': 'median_temperature'}, inplace=True)\n",
    "print(df_t_med.head(5))"
   ],
   "metadata": {
    "collapsed": false,
    "pycharm": {
     "name": "#%%\n"
    }
   }
  },
  {
   "cell_type": "code",
   "execution_count": 20,
   "outputs": [
    {
     "data": {
      "text/plain": "        median_temperature                                                     \\\nCountry        Afghanistan   Africa  Albania  Algeria American Samoa  Andorra   \nyear                                                                            \n1970               16.1990  25.2360  12.4230  23.2840        26.7180  11.6390   \n1971               14.9340  24.7755  11.6735  22.7810        26.4845  11.9275   \n1972               13.8725  25.1230  11.2175  22.4985        26.8205  10.0250   \n1973               14.9130  25.3445  11.8370  22.9975        27.0120   9.5525   \n1974               13.6160  24.8260  11.3210  21.5795        26.6350   8.2045   \n1975               13.5130  24.8045  12.3595  23.0740        26.6510  10.4105   \n1976               14.1615  24.8225  12.6080  22.2980        26.6155   9.6625   \n1977               15.6575  25.0345  11.9870  23.5375        26.7085  10.4055   \n1978               15.2580  24.9135  11.5490  22.5620        26.7250   9.7565   \n1979               16.2990  25.3705  11.7765  23.1455        26.8385  10.4145   \n1980               16.3110  25.2955  11.9060  23.1765        26.9700   9.8455   \n1981               14.4390  25.2910  13.3060  24.6310        26.8290  11.2490   \n1982               15.0705  25.1225  12.4050  23.0310        26.8895  10.8620   \n1983               13.6025  25.4250  12.6770  23.9725        26.9605  11.1960   \n1984               14.4185  25.2940  12.7785  23.3215        26.8765  10.2310   \n1985               14.8955  24.9255  12.6220  23.3455        26.8040  11.2395   \n1986               15.1815  25.1730  13.3720  23.5470        27.1245  10.9900   \n1987               13.6260  25.5695  12.5730  24.7010        27.1080  11.4880   \n1988               15.2810  25.4000  12.3825  24.6335        26.9025  11.9130   \n1989               14.6015  25.1320  12.9095  23.7400        26.7715  11.1915   \n1990               14.4935  25.6785  13.4490  24.5480        27.2050  11.3630   \n1991               14.3920  25.2885  11.5885  23.0320        27.0785   9.9675   \n1992               13.7520  25.4245  13.5850  23.0325        27.0925  10.1285   \n1993               14.0685  25.6620  13.6500  23.7730        27.0890  10.0595   \n1994               13.6150  25.2650  13.2390  22.9560        27.0020  11.2280   \n1995               14.4835  25.5005  11.8750  23.0965        27.3490  12.2240   \n1996               14.5665  25.3650  11.7315  23.2925        27.2245  11.1270   \n1997               15.2480  25.4135  10.7790  23.5340        26.9840  12.7180   \n1998               15.7670  25.9285  13.4790  24.4580        27.3975  10.5570   \n1999               15.5875  25.5770  13.5485  25.5620        26.9660  11.7000   \n2000               16.8560  25.4540  13.9625  24.2205        27.3200  11.0310   \n2001               16.3620  25.8030  13.7490  25.3240        27.2835  12.6740   \n2002               16.4970  25.7410  12.5335  23.8485        27.7370  11.8895   \n2003               15.4800  26.0325  12.1450  25.3615        27.0420  11.1290   \n2004               14.6700  25.7840  13.6610  24.8325        27.3035  11.3525   \n2005               15.5190  26.0680  12.4485  25.3350        27.4560  12.0625   \n2006               16.6300  25.9285  13.6685  25.7525        26.9235  13.2795   \n2007               15.4785  25.6990  13.1770  24.3050        27.4810  12.3455   \n2008               16.3810  25.6660  13.2985  24.4435        27.0560  11.1975   \n2009               13.8930  25.8935  13.1795  23.7635        26.9025  11.6925   \n2010               17.4285  26.1595  12.6825  25.4575        27.3260  11.4400   \n2011               16.0240  25.6220  12.4440  24.1415        27.0205  13.4625   \n2012               15.6755  25.5670  13.9060  24.5915        27.1620  11.5065   \n2013               18.1000  25.7865  15.9465  26.3620        27.6665  10.9400   \n\n                                                         ...           \\\nCountry   Angola Anguilla Antigua And Barbuda Argentina  ...  Uruguay   \nyear                                                     ...            \n1970     22.9640  27.1510             27.2240   15.1150  ...  15.7640   \n1971     22.4615  26.5295             26.3810   14.7665  ...  16.5470   \n1972     22.6070  26.9150             26.7700   14.3445  ...  16.9190   \n1973     23.0730  27.3360             27.1725   14.8675  ...  17.5420   \n1974     22.3275  26.6015             26.5190   15.2160  ...  17.4025   \n1975     22.4210  26.4780             26.3340   15.1515  ...  17.1810   \n1976     22.1455  26.9825             26.8425   14.3965  ...  16.5660   \n1977     22.6000  27.2010             27.0085   15.9725  ...  18.3455   \n1978     22.7055  27.2320             27.0370   15.3350  ...  17.1655   \n1979     22.9120  27.0870             26.9765   14.8075  ...  17.2155   \n1980     23.0965  27.7015             27.5980   15.0240  ...  18.1700   \n1981     22.7700  27.4895             27.3860   15.3170  ...  18.0710   \n1982     22.8485  26.9350             26.8135   15.5410  ...  17.7920   \n1983     23.3130  27.3235             27.1775   15.6850  ...  17.7920   \n1984     23.0485  26.8730             26.6555   15.0610  ...  17.7430   \n1985     22.9350  26.9935             26.7665   14.8510  ...  17.4000   \n1986     22.8715  26.8440             26.6995   15.5155  ...  17.9370   \n1987     23.5495  27.3765             27.3890   15.6910  ...  17.8325   \n1988     23.2305  27.4250             27.2265   14.4780  ...  16.2830   \n1989     22.4795  27.1480             26.9740   15.4785  ...  17.6955   \n1990     22.8845  27.4750             27.3155   15.4390  ...  18.5705   \n1991     22.4500  27.1310             26.9055   14.9220  ...  17.5385   \n1992     23.3055  27.0675             26.9020   14.9460  ...  17.5475   \n1993     22.8445  27.4010             27.1205   15.4800  ...  18.5965   \n1994     22.7125  27.4880             27.2635   15.0000  ...  17.4490   \n1995     23.2875  27.8540             27.6130   15.2710  ...  17.1485   \n1996     23.1680  27.1605             27.0600   15.4410  ...  18.4705   \n1997     22.6280  27.7875             27.6900   15.7925  ...  18.1465   \n1998     23.5685  27.7630             27.5965   15.7865  ...  18.0080   \n1999     22.6180  27.7335             27.4540   14.9360  ...  16.7775   \n2000     22.5755  27.3015             27.1470   15.6365  ...  18.2065   \n2001     22.8960  27.5740             27.5020   15.4380  ...  18.2560   \n2002     23.4880  27.7745             27.5745   15.5300  ...  18.2875   \n2003     23.4450  27.6205             27.5225   15.6955  ...  17.6225   \n2004     23.2425  27.1515             27.0755   15.7490  ...  18.1710   \n2005     23.1205  28.0185             27.8795   14.4385  ...  16.6670   \n2006     22.4780  27.9425             27.7930   16.0645  ...  18.8200   \n2007     22.9140  27.8245             27.4715   15.9405  ...  18.9395   \n2008     22.2545  27.3630             27.1830   15.3035  ...  17.8770   \n2009     22.5965  27.6000             27.4565   16.3900  ...  17.9630   \n2010     23.0795  27.8365             27.6700   14.9110  ...  17.1540   \n2011     22.7390  27.5875             27.4115   15.3845  ...  17.8235   \n2012     22.3530  27.8255             27.6260   15.4870  ...  17.9600   \n2013     22.5180  27.1730             27.1535   13.7915  ...  16.2660   \n\n                                                                              \\\nCountry Uzbekistan Venezuela  Vietnam Virgin Islands Western Sahara    Yemen   \nyear                                                                           \n1970       15.5410   25.2780  24.6330        26.7220        23.8210  27.4390   \n1971       12.9860   24.6480  24.1105        26.2470        20.2715  26.5130   \n1972       13.5640   25.2615  24.5165        26.6150        21.3905  26.8175   \n1973       13.4735   25.2020  25.0080        27.0685        22.9215  27.2265   \n1974       13.2105   25.0760  24.3700        26.1720        21.5755  26.6320   \n1975       13.3395   24.9790  24.9900        26.2985        20.5175  26.1155   \n1976       11.3820   25.0590  24.4665        26.6620        20.4625  26.3220   \n1977       13.8000   25.6165  24.6295        26.8935        22.6755  26.8845   \n1978       13.2965   25.5600  24.4290        26.9675        21.7730  27.0135   \n1979       14.2690   25.6650  24.4445        26.7280        22.7670  27.0245   \n1980       13.7570   25.4025  24.9190        27.4175        22.7095  27.1850   \n1981       12.1485   25.4545  25.1685        27.1800        22.9300  26.8900   \n1982       14.0850   25.3885  24.4430        26.5140        21.9365  26.1680   \n1983       13.9635   25.6870  24.9960        26.9610        23.0355  26.4130   \n1984       13.1145   25.0260  24.6625        26.7050        22.3915  26.5425   \n1985       13.2645   24.9395  24.2640        26.5675        21.7620  26.1620   \n1986       13.3115   25.1655  24.6800        26.4680        22.1385  26.2835   \n1987        9.6325   26.0220  25.2870        27.1615        24.5010  26.7970   \n1988       13.8960   25.2890  24.2045        27.1650        22.5255  27.0845   \n1989       12.6615   25.1060  24.6570        26.8440        22.6755  25.8545   \n1990       12.7960   25.5775  24.9875        27.2110        23.2320  26.5170   \n1991       14.6800   25.4995  24.6115        26.7895        22.2000  27.0470   \n1992       12.6130   25.4020  24.3885        26.6865        22.6770  26.2140   \n1993       12.1805   25.4390  24.2855        27.1385        22.2210  26.5510   \n1994       12.4145   25.4460  24.6055        27.3550        22.7920  27.1460   \n1995       14.0485   25.6130  25.2270        27.5390        23.6885  26.8915   \n1996       11.9735   25.5700  24.0215        26.7825        23.7365  27.0405   \n1997       16.4050   25.8085  24.8690        27.5165        23.3680  26.9840   \n1998       13.6335   26.0800  25.3970        27.5600        23.1230  28.1300   \n1999       13.9925   25.2785  24.9145        27.4675        23.6165  28.0860   \n2000       14.2690   25.4205  24.7545        27.0020        23.0295  28.2775   \n2001       13.8655   25.7300  25.3055        27.1430        23.2355  28.0270   \n2002       13.8335   25.7840  25.0420        27.5530        23.0610  27.3385   \n2003       13.4725   26.0055  25.2690        27.3325        23.8755  27.6280   \n2004       12.4375   25.7210  24.6615        26.8635        23.1790  27.6495   \n2005       14.4225   25.8770  24.9820        27.7440        24.0055  27.4135   \n2006       15.3440   25.8240  25.4795        27.7405        23.7470  27.4390   \n2007       13.8395   25.6715  24.5150        27.4890        23.0445  27.6570   \n2008       14.6835   25.5875  25.2840        27.1525        24.2500  27.4595   \n2009       12.2385   26.0265  25.1260        27.2885        23.0090  27.5515   \n2010       15.0755   25.9715  24.8810        27.5365        24.2365  28.2950   \n2011       14.6060   25.6440  24.1880        27.1510        24.2690  27.8980   \n2012       16.6915   25.7590  25.5770        27.5920        23.6175  27.8575   \n2013       17.9390   25.7170  26.4565        27.4930        24.2745  30.0215   \n\n                                   \nCountry   Zambia Zimbabwe   Åland  \nyear                               \n1970     22.1330  23.2560  6.9340  \n1971     21.8265  22.7055  4.4870  \n1972     21.9800  22.3980  5.6200  \n1973     22.1090  22.5815  3.5795  \n1974     21.6005  21.3255  5.4550  \n1975     21.8635  21.7910  6.0170  \n1976     21.6980  21.9880  4.3855  \n1977     22.1670  22.2910  5.4745  \n1978     22.1010  22.6210  5.7475  \n1979     22.2165  22.7160  4.6730  \n1980     22.4310  22.2040  4.5410  \n1981     22.3740  21.6195  4.8730  \n1982     22.7425  22.3540  6.4350  \n1983     23.0990  23.3410  5.1200  \n1984     22.5665  23.3255  6.7930  \n1985     22.4485  22.4450  3.8720  \n1986     22.2760  22.4890  6.4775  \n1987     23.1640  23.3280  4.4655  \n1988     22.6545  22.8105  3.9515  \n1989     22.4170  22.5005  5.6370  \n1990     22.7115  22.8805  6.1945  \n1991     22.3795  23.3265  5.4660  \n1992     23.2185  24.1030  3.2440  \n1993     22.0050  22.6745  4.7270  \n1994     22.1780  22.5795  5.2915  \n1995     22.7600  23.4275  4.4450  \n1996     22.3725  22.6680  5.0130  \n1997     22.3355  22.6220  4.1280  \n1998     22.7895  22.9400  4.5975  \n1999     22.0465  22.3720  6.0360  \n2000     22.2105  22.7690  7.8450  \n2001     22.1860  22.7205  5.6560  \n2002     23.1025  23.1010  3.9725  \n2003     22.9690  22.8095  4.9515  \n2004     22.4920  22.1475  5.8705  \n2005     22.9420  22.9180  6.4785  \n2006     22.2425  22.0520  6.5160  \n2007     22.2380  22.9095  6.2955  \n2008     21.5855  22.4170  6.5450  \n2009     22.1360  22.4860  5.5765  \n2010     22.6880  23.3040  4.7550  \n2011     22.0270  22.9420  7.4990  \n2012     22.4530  23.0455  6.2540  \n2013     21.2985  20.4505  6.0140  \n\n[44 rows x 242 columns]",
      "text/html": "<div>\n<style scoped>\n    .dataframe tbody tr th:only-of-type {\n        vertical-align: middle;\n    }\n\n    .dataframe tbody tr th {\n        vertical-align: top;\n    }\n\n    .dataframe thead tr th {\n        text-align: left;\n    }\n\n    .dataframe thead tr:last-of-type th {\n        text-align: right;\n    }\n</style>\n<table border=\"1\" class=\"dataframe\">\n  <thead>\n    <tr>\n      <th></th>\n      <th colspan=\"21\" halign=\"left\">median_temperature</th>\n    </tr>\n    <tr>\n      <th>Country</th>\n      <th>Afghanistan</th>\n      <th>Africa</th>\n      <th>Albania</th>\n      <th>Algeria</th>\n      <th>American Samoa</th>\n      <th>Andorra</th>\n      <th>Angola</th>\n      <th>Anguilla</th>\n      <th>Antigua And Barbuda</th>\n      <th>Argentina</th>\n      <th>...</th>\n      <th>Uruguay</th>\n      <th>Uzbekistan</th>\n      <th>Venezuela</th>\n      <th>Vietnam</th>\n      <th>Virgin Islands</th>\n      <th>Western Sahara</th>\n      <th>Yemen</th>\n      <th>Zambia</th>\n      <th>Zimbabwe</th>\n      <th>Åland</th>\n    </tr>\n    <tr>\n      <th>year</th>\n      <th></th>\n      <th></th>\n      <th></th>\n      <th></th>\n      <th></th>\n      <th></th>\n      <th></th>\n      <th></th>\n      <th></th>\n      <th></th>\n      <th></th>\n      <th></th>\n      <th></th>\n      <th></th>\n      <th></th>\n      <th></th>\n      <th></th>\n      <th></th>\n      <th></th>\n      <th></th>\n      <th></th>\n    </tr>\n  </thead>\n  <tbody>\n    <tr>\n      <th>1970</th>\n      <td>16.1990</td>\n      <td>25.2360</td>\n      <td>12.4230</td>\n      <td>23.2840</td>\n      <td>26.7180</td>\n      <td>11.6390</td>\n      <td>22.9640</td>\n      <td>27.1510</td>\n      <td>27.2240</td>\n      <td>15.1150</td>\n      <td>...</td>\n      <td>15.7640</td>\n      <td>15.5410</td>\n      <td>25.2780</td>\n      <td>24.6330</td>\n      <td>26.7220</td>\n      <td>23.8210</td>\n      <td>27.4390</td>\n      <td>22.1330</td>\n      <td>23.2560</td>\n      <td>6.9340</td>\n    </tr>\n    <tr>\n      <th>1971</th>\n      <td>14.9340</td>\n      <td>24.7755</td>\n      <td>11.6735</td>\n      <td>22.7810</td>\n      <td>26.4845</td>\n      <td>11.9275</td>\n      <td>22.4615</td>\n      <td>26.5295</td>\n      <td>26.3810</td>\n      <td>14.7665</td>\n      <td>...</td>\n      <td>16.5470</td>\n      <td>12.9860</td>\n      <td>24.6480</td>\n      <td>24.1105</td>\n      <td>26.2470</td>\n      <td>20.2715</td>\n      <td>26.5130</td>\n      <td>21.8265</td>\n      <td>22.7055</td>\n      <td>4.4870</td>\n    </tr>\n    <tr>\n      <th>1972</th>\n      <td>13.8725</td>\n      <td>25.1230</td>\n      <td>11.2175</td>\n      <td>22.4985</td>\n      <td>26.8205</td>\n      <td>10.0250</td>\n      <td>22.6070</td>\n      <td>26.9150</td>\n      <td>26.7700</td>\n      <td>14.3445</td>\n      <td>...</td>\n      <td>16.9190</td>\n      <td>13.5640</td>\n      <td>25.2615</td>\n      <td>24.5165</td>\n      <td>26.6150</td>\n      <td>21.3905</td>\n      <td>26.8175</td>\n      <td>21.9800</td>\n      <td>22.3980</td>\n      <td>5.6200</td>\n    </tr>\n    <tr>\n      <th>1973</th>\n      <td>14.9130</td>\n      <td>25.3445</td>\n      <td>11.8370</td>\n      <td>22.9975</td>\n      <td>27.0120</td>\n      <td>9.5525</td>\n      <td>23.0730</td>\n      <td>27.3360</td>\n      <td>27.1725</td>\n      <td>14.8675</td>\n      <td>...</td>\n      <td>17.5420</td>\n      <td>13.4735</td>\n      <td>25.2020</td>\n      <td>25.0080</td>\n      <td>27.0685</td>\n      <td>22.9215</td>\n      <td>27.2265</td>\n      <td>22.1090</td>\n      <td>22.5815</td>\n      <td>3.5795</td>\n    </tr>\n    <tr>\n      <th>1974</th>\n      <td>13.6160</td>\n      <td>24.8260</td>\n      <td>11.3210</td>\n      <td>21.5795</td>\n      <td>26.6350</td>\n      <td>8.2045</td>\n      <td>22.3275</td>\n      <td>26.6015</td>\n      <td>26.5190</td>\n      <td>15.2160</td>\n      <td>...</td>\n      <td>17.4025</td>\n      <td>13.2105</td>\n      <td>25.0760</td>\n      <td>24.3700</td>\n      <td>26.1720</td>\n      <td>21.5755</td>\n      <td>26.6320</td>\n      <td>21.6005</td>\n      <td>21.3255</td>\n      <td>5.4550</td>\n    </tr>\n    <tr>\n      <th>1975</th>\n      <td>13.5130</td>\n      <td>24.8045</td>\n      <td>12.3595</td>\n      <td>23.0740</td>\n      <td>26.6510</td>\n      <td>10.4105</td>\n      <td>22.4210</td>\n      <td>26.4780</td>\n      <td>26.3340</td>\n      <td>15.1515</td>\n      <td>...</td>\n      <td>17.1810</td>\n      <td>13.3395</td>\n      <td>24.9790</td>\n      <td>24.9900</td>\n      <td>26.2985</td>\n      <td>20.5175</td>\n      <td>26.1155</td>\n      <td>21.8635</td>\n      <td>21.7910</td>\n      <td>6.0170</td>\n    </tr>\n    <tr>\n      <th>1976</th>\n      <td>14.1615</td>\n      <td>24.8225</td>\n      <td>12.6080</td>\n      <td>22.2980</td>\n      <td>26.6155</td>\n      <td>9.6625</td>\n      <td>22.1455</td>\n      <td>26.9825</td>\n      <td>26.8425</td>\n      <td>14.3965</td>\n      <td>...</td>\n      <td>16.5660</td>\n      <td>11.3820</td>\n      <td>25.0590</td>\n      <td>24.4665</td>\n      <td>26.6620</td>\n      <td>20.4625</td>\n      <td>26.3220</td>\n      <td>21.6980</td>\n      <td>21.9880</td>\n      <td>4.3855</td>\n    </tr>\n    <tr>\n      <th>1977</th>\n      <td>15.6575</td>\n      <td>25.0345</td>\n      <td>11.9870</td>\n      <td>23.5375</td>\n      <td>26.7085</td>\n      <td>10.4055</td>\n      <td>22.6000</td>\n      <td>27.2010</td>\n      <td>27.0085</td>\n      <td>15.9725</td>\n      <td>...</td>\n      <td>18.3455</td>\n      <td>13.8000</td>\n      <td>25.6165</td>\n      <td>24.6295</td>\n      <td>26.8935</td>\n      <td>22.6755</td>\n      <td>26.8845</td>\n      <td>22.1670</td>\n      <td>22.2910</td>\n      <td>5.4745</td>\n    </tr>\n    <tr>\n      <th>1978</th>\n      <td>15.2580</td>\n      <td>24.9135</td>\n      <td>11.5490</td>\n      <td>22.5620</td>\n      <td>26.7250</td>\n      <td>9.7565</td>\n      <td>22.7055</td>\n      <td>27.2320</td>\n      <td>27.0370</td>\n      <td>15.3350</td>\n      <td>...</td>\n      <td>17.1655</td>\n      <td>13.2965</td>\n      <td>25.5600</td>\n      <td>24.4290</td>\n      <td>26.9675</td>\n      <td>21.7730</td>\n      <td>27.0135</td>\n      <td>22.1010</td>\n      <td>22.6210</td>\n      <td>5.7475</td>\n    </tr>\n    <tr>\n      <th>1979</th>\n      <td>16.2990</td>\n      <td>25.3705</td>\n      <td>11.7765</td>\n      <td>23.1455</td>\n      <td>26.8385</td>\n      <td>10.4145</td>\n      <td>22.9120</td>\n      <td>27.0870</td>\n      <td>26.9765</td>\n      <td>14.8075</td>\n      <td>...</td>\n      <td>17.2155</td>\n      <td>14.2690</td>\n      <td>25.6650</td>\n      <td>24.4445</td>\n      <td>26.7280</td>\n      <td>22.7670</td>\n      <td>27.0245</td>\n      <td>22.2165</td>\n      <td>22.7160</td>\n      <td>4.6730</td>\n    </tr>\n    <tr>\n      <th>1980</th>\n      <td>16.3110</td>\n      <td>25.2955</td>\n      <td>11.9060</td>\n      <td>23.1765</td>\n      <td>26.9700</td>\n      <td>9.8455</td>\n      <td>23.0965</td>\n      <td>27.7015</td>\n      <td>27.5980</td>\n      <td>15.0240</td>\n      <td>...</td>\n      <td>18.1700</td>\n      <td>13.7570</td>\n      <td>25.4025</td>\n      <td>24.9190</td>\n      <td>27.4175</td>\n      <td>22.7095</td>\n      <td>27.1850</td>\n      <td>22.4310</td>\n      <td>22.2040</td>\n      <td>4.5410</td>\n    </tr>\n    <tr>\n      <th>1981</th>\n      <td>14.4390</td>\n      <td>25.2910</td>\n      <td>13.3060</td>\n      <td>24.6310</td>\n      <td>26.8290</td>\n      <td>11.2490</td>\n      <td>22.7700</td>\n      <td>27.4895</td>\n      <td>27.3860</td>\n      <td>15.3170</td>\n      <td>...</td>\n      <td>18.0710</td>\n      <td>12.1485</td>\n      <td>25.4545</td>\n      <td>25.1685</td>\n      <td>27.1800</td>\n      <td>22.9300</td>\n      <td>26.8900</td>\n      <td>22.3740</td>\n      <td>21.6195</td>\n      <td>4.8730</td>\n    </tr>\n    <tr>\n      <th>1982</th>\n      <td>15.0705</td>\n      <td>25.1225</td>\n      <td>12.4050</td>\n      <td>23.0310</td>\n      <td>26.8895</td>\n      <td>10.8620</td>\n      <td>22.8485</td>\n      <td>26.9350</td>\n      <td>26.8135</td>\n      <td>15.5410</td>\n      <td>...</td>\n      <td>17.7920</td>\n      <td>14.0850</td>\n      <td>25.3885</td>\n      <td>24.4430</td>\n      <td>26.5140</td>\n      <td>21.9365</td>\n      <td>26.1680</td>\n      <td>22.7425</td>\n      <td>22.3540</td>\n      <td>6.4350</td>\n    </tr>\n    <tr>\n      <th>1983</th>\n      <td>13.6025</td>\n      <td>25.4250</td>\n      <td>12.6770</td>\n      <td>23.9725</td>\n      <td>26.9605</td>\n      <td>11.1960</td>\n      <td>23.3130</td>\n      <td>27.3235</td>\n      <td>27.1775</td>\n      <td>15.6850</td>\n      <td>...</td>\n      <td>17.7920</td>\n      <td>13.9635</td>\n      <td>25.6870</td>\n      <td>24.9960</td>\n      <td>26.9610</td>\n      <td>23.0355</td>\n      <td>26.4130</td>\n      <td>23.0990</td>\n      <td>23.3410</td>\n      <td>5.1200</td>\n    </tr>\n    <tr>\n      <th>1984</th>\n      <td>14.4185</td>\n      <td>25.2940</td>\n      <td>12.7785</td>\n      <td>23.3215</td>\n      <td>26.8765</td>\n      <td>10.2310</td>\n      <td>23.0485</td>\n      <td>26.8730</td>\n      <td>26.6555</td>\n      <td>15.0610</td>\n      <td>...</td>\n      <td>17.7430</td>\n      <td>13.1145</td>\n      <td>25.0260</td>\n      <td>24.6625</td>\n      <td>26.7050</td>\n      <td>22.3915</td>\n      <td>26.5425</td>\n      <td>22.5665</td>\n      <td>23.3255</td>\n      <td>6.7930</td>\n    </tr>\n    <tr>\n      <th>1985</th>\n      <td>14.8955</td>\n      <td>24.9255</td>\n      <td>12.6220</td>\n      <td>23.3455</td>\n      <td>26.8040</td>\n      <td>11.2395</td>\n      <td>22.9350</td>\n      <td>26.9935</td>\n      <td>26.7665</td>\n      <td>14.8510</td>\n      <td>...</td>\n      <td>17.4000</td>\n      <td>13.2645</td>\n      <td>24.9395</td>\n      <td>24.2640</td>\n      <td>26.5675</td>\n      <td>21.7620</td>\n      <td>26.1620</td>\n      <td>22.4485</td>\n      <td>22.4450</td>\n      <td>3.8720</td>\n    </tr>\n    <tr>\n      <th>1986</th>\n      <td>15.1815</td>\n      <td>25.1730</td>\n      <td>13.3720</td>\n      <td>23.5470</td>\n      <td>27.1245</td>\n      <td>10.9900</td>\n      <td>22.8715</td>\n      <td>26.8440</td>\n      <td>26.6995</td>\n      <td>15.5155</td>\n      <td>...</td>\n      <td>17.9370</td>\n      <td>13.3115</td>\n      <td>25.1655</td>\n      <td>24.6800</td>\n      <td>26.4680</td>\n      <td>22.1385</td>\n      <td>26.2835</td>\n      <td>22.2760</td>\n      <td>22.4890</td>\n      <td>6.4775</td>\n    </tr>\n    <tr>\n      <th>1987</th>\n      <td>13.6260</td>\n      <td>25.5695</td>\n      <td>12.5730</td>\n      <td>24.7010</td>\n      <td>27.1080</td>\n      <td>11.4880</td>\n      <td>23.5495</td>\n      <td>27.3765</td>\n      <td>27.3890</td>\n      <td>15.6910</td>\n      <td>...</td>\n      <td>17.8325</td>\n      <td>9.6325</td>\n      <td>26.0220</td>\n      <td>25.2870</td>\n      <td>27.1615</td>\n      <td>24.5010</td>\n      <td>26.7970</td>\n      <td>23.1640</td>\n      <td>23.3280</td>\n      <td>4.4655</td>\n    </tr>\n    <tr>\n      <th>1988</th>\n      <td>15.2810</td>\n      <td>25.4000</td>\n      <td>12.3825</td>\n      <td>24.6335</td>\n      <td>26.9025</td>\n      <td>11.9130</td>\n      <td>23.2305</td>\n      <td>27.4250</td>\n      <td>27.2265</td>\n      <td>14.4780</td>\n      <td>...</td>\n      <td>16.2830</td>\n      <td>13.8960</td>\n      <td>25.2890</td>\n      <td>24.2045</td>\n      <td>27.1650</td>\n      <td>22.5255</td>\n      <td>27.0845</td>\n      <td>22.6545</td>\n      <td>22.8105</td>\n      <td>3.9515</td>\n    </tr>\n    <tr>\n      <th>1989</th>\n      <td>14.6015</td>\n      <td>25.1320</td>\n      <td>12.9095</td>\n      <td>23.7400</td>\n      <td>26.7715</td>\n      <td>11.1915</td>\n      <td>22.4795</td>\n      <td>27.1480</td>\n      <td>26.9740</td>\n      <td>15.4785</td>\n      <td>...</td>\n      <td>17.6955</td>\n      <td>12.6615</td>\n      <td>25.1060</td>\n      <td>24.6570</td>\n      <td>26.8440</td>\n      <td>22.6755</td>\n      <td>25.8545</td>\n      <td>22.4170</td>\n      <td>22.5005</td>\n      <td>5.6370</td>\n    </tr>\n    <tr>\n      <th>1990</th>\n      <td>14.4935</td>\n      <td>25.6785</td>\n      <td>13.4490</td>\n      <td>24.5480</td>\n      <td>27.2050</td>\n      <td>11.3630</td>\n      <td>22.8845</td>\n      <td>27.4750</td>\n      <td>27.3155</td>\n      <td>15.4390</td>\n      <td>...</td>\n      <td>18.5705</td>\n      <td>12.7960</td>\n      <td>25.5775</td>\n      <td>24.9875</td>\n      <td>27.2110</td>\n      <td>23.2320</td>\n      <td>26.5170</td>\n      <td>22.7115</td>\n      <td>22.8805</td>\n      <td>6.1945</td>\n    </tr>\n    <tr>\n      <th>1991</th>\n      <td>14.3920</td>\n      <td>25.2885</td>\n      <td>11.5885</td>\n      <td>23.0320</td>\n      <td>27.0785</td>\n      <td>9.9675</td>\n      <td>22.4500</td>\n      <td>27.1310</td>\n      <td>26.9055</td>\n      <td>14.9220</td>\n      <td>...</td>\n      <td>17.5385</td>\n      <td>14.6800</td>\n      <td>25.4995</td>\n      <td>24.6115</td>\n      <td>26.7895</td>\n      <td>22.2000</td>\n      <td>27.0470</td>\n      <td>22.3795</td>\n      <td>23.3265</td>\n      <td>5.4660</td>\n    </tr>\n    <tr>\n      <th>1992</th>\n      <td>13.7520</td>\n      <td>25.4245</td>\n      <td>13.5850</td>\n      <td>23.0325</td>\n      <td>27.0925</td>\n      <td>10.1285</td>\n      <td>23.3055</td>\n      <td>27.0675</td>\n      <td>26.9020</td>\n      <td>14.9460</td>\n      <td>...</td>\n      <td>17.5475</td>\n      <td>12.6130</td>\n      <td>25.4020</td>\n      <td>24.3885</td>\n      <td>26.6865</td>\n      <td>22.6770</td>\n      <td>26.2140</td>\n      <td>23.2185</td>\n      <td>24.1030</td>\n      <td>3.2440</td>\n    </tr>\n    <tr>\n      <th>1993</th>\n      <td>14.0685</td>\n      <td>25.6620</td>\n      <td>13.6500</td>\n      <td>23.7730</td>\n      <td>27.0890</td>\n      <td>10.0595</td>\n      <td>22.8445</td>\n      <td>27.4010</td>\n      <td>27.1205</td>\n      <td>15.4800</td>\n      <td>...</td>\n      <td>18.5965</td>\n      <td>12.1805</td>\n      <td>25.4390</td>\n      <td>24.2855</td>\n      <td>27.1385</td>\n      <td>22.2210</td>\n      <td>26.5510</td>\n      <td>22.0050</td>\n      <td>22.6745</td>\n      <td>4.7270</td>\n    </tr>\n    <tr>\n      <th>1994</th>\n      <td>13.6150</td>\n      <td>25.2650</td>\n      <td>13.2390</td>\n      <td>22.9560</td>\n      <td>27.0020</td>\n      <td>11.2280</td>\n      <td>22.7125</td>\n      <td>27.4880</td>\n      <td>27.2635</td>\n      <td>15.0000</td>\n      <td>...</td>\n      <td>17.4490</td>\n      <td>12.4145</td>\n      <td>25.4460</td>\n      <td>24.6055</td>\n      <td>27.3550</td>\n      <td>22.7920</td>\n      <td>27.1460</td>\n      <td>22.1780</td>\n      <td>22.5795</td>\n      <td>5.2915</td>\n    </tr>\n    <tr>\n      <th>1995</th>\n      <td>14.4835</td>\n      <td>25.5005</td>\n      <td>11.8750</td>\n      <td>23.0965</td>\n      <td>27.3490</td>\n      <td>12.2240</td>\n      <td>23.2875</td>\n      <td>27.8540</td>\n      <td>27.6130</td>\n      <td>15.2710</td>\n      <td>...</td>\n      <td>17.1485</td>\n      <td>14.0485</td>\n      <td>25.6130</td>\n      <td>25.2270</td>\n      <td>27.5390</td>\n      <td>23.6885</td>\n      <td>26.8915</td>\n      <td>22.7600</td>\n      <td>23.4275</td>\n      <td>4.4450</td>\n    </tr>\n    <tr>\n      <th>1996</th>\n      <td>14.5665</td>\n      <td>25.3650</td>\n      <td>11.7315</td>\n      <td>23.2925</td>\n      <td>27.2245</td>\n      <td>11.1270</td>\n      <td>23.1680</td>\n      <td>27.1605</td>\n      <td>27.0600</td>\n      <td>15.4410</td>\n      <td>...</td>\n      <td>18.4705</td>\n      <td>11.9735</td>\n      <td>25.5700</td>\n      <td>24.0215</td>\n      <td>26.7825</td>\n      <td>23.7365</td>\n      <td>27.0405</td>\n      <td>22.3725</td>\n      <td>22.6680</td>\n      <td>5.0130</td>\n    </tr>\n    <tr>\n      <th>1997</th>\n      <td>15.2480</td>\n      <td>25.4135</td>\n      <td>10.7790</td>\n      <td>23.5340</td>\n      <td>26.9840</td>\n      <td>12.7180</td>\n      <td>22.6280</td>\n      <td>27.7875</td>\n      <td>27.6900</td>\n      <td>15.7925</td>\n      <td>...</td>\n      <td>18.1465</td>\n      <td>16.4050</td>\n      <td>25.8085</td>\n      <td>24.8690</td>\n      <td>27.5165</td>\n      <td>23.3680</td>\n      <td>26.9840</td>\n      <td>22.3355</td>\n      <td>22.6220</td>\n      <td>4.1280</td>\n    </tr>\n    <tr>\n      <th>1998</th>\n      <td>15.7670</td>\n      <td>25.9285</td>\n      <td>13.4790</td>\n      <td>24.4580</td>\n      <td>27.3975</td>\n      <td>10.5570</td>\n      <td>23.5685</td>\n      <td>27.7630</td>\n      <td>27.5965</td>\n      <td>15.7865</td>\n      <td>...</td>\n      <td>18.0080</td>\n      <td>13.6335</td>\n      <td>26.0800</td>\n      <td>25.3970</td>\n      <td>27.5600</td>\n      <td>23.1230</td>\n      <td>28.1300</td>\n      <td>22.7895</td>\n      <td>22.9400</td>\n      <td>4.5975</td>\n    </tr>\n    <tr>\n      <th>1999</th>\n      <td>15.5875</td>\n      <td>25.5770</td>\n      <td>13.5485</td>\n      <td>25.5620</td>\n      <td>26.9660</td>\n      <td>11.7000</td>\n      <td>22.6180</td>\n      <td>27.7335</td>\n      <td>27.4540</td>\n      <td>14.9360</td>\n      <td>...</td>\n      <td>16.7775</td>\n      <td>13.9925</td>\n      <td>25.2785</td>\n      <td>24.9145</td>\n      <td>27.4675</td>\n      <td>23.6165</td>\n      <td>28.0860</td>\n      <td>22.0465</td>\n      <td>22.3720</td>\n      <td>6.0360</td>\n    </tr>\n    <tr>\n      <th>2000</th>\n      <td>16.8560</td>\n      <td>25.4540</td>\n      <td>13.9625</td>\n      <td>24.2205</td>\n      <td>27.3200</td>\n      <td>11.0310</td>\n      <td>22.5755</td>\n      <td>27.3015</td>\n      <td>27.1470</td>\n      <td>15.6365</td>\n      <td>...</td>\n      <td>18.2065</td>\n      <td>14.2690</td>\n      <td>25.4205</td>\n      <td>24.7545</td>\n      <td>27.0020</td>\n      <td>23.0295</td>\n      <td>28.2775</td>\n      <td>22.2105</td>\n      <td>22.7690</td>\n      <td>7.8450</td>\n    </tr>\n    <tr>\n      <th>2001</th>\n      <td>16.3620</td>\n      <td>25.8030</td>\n      <td>13.7490</td>\n      <td>25.3240</td>\n      <td>27.2835</td>\n      <td>12.6740</td>\n      <td>22.8960</td>\n      <td>27.5740</td>\n      <td>27.5020</td>\n      <td>15.4380</td>\n      <td>...</td>\n      <td>18.2560</td>\n      <td>13.8655</td>\n      <td>25.7300</td>\n      <td>25.3055</td>\n      <td>27.1430</td>\n      <td>23.2355</td>\n      <td>28.0270</td>\n      <td>22.1860</td>\n      <td>22.7205</td>\n      <td>5.6560</td>\n    </tr>\n    <tr>\n      <th>2002</th>\n      <td>16.4970</td>\n      <td>25.7410</td>\n      <td>12.5335</td>\n      <td>23.8485</td>\n      <td>27.7370</td>\n      <td>11.8895</td>\n      <td>23.4880</td>\n      <td>27.7745</td>\n      <td>27.5745</td>\n      <td>15.5300</td>\n      <td>...</td>\n      <td>18.2875</td>\n      <td>13.8335</td>\n      <td>25.7840</td>\n      <td>25.0420</td>\n      <td>27.5530</td>\n      <td>23.0610</td>\n      <td>27.3385</td>\n      <td>23.1025</td>\n      <td>23.1010</td>\n      <td>3.9725</td>\n    </tr>\n    <tr>\n      <th>2003</th>\n      <td>15.4800</td>\n      <td>26.0325</td>\n      <td>12.1450</td>\n      <td>25.3615</td>\n      <td>27.0420</td>\n      <td>11.1290</td>\n      <td>23.4450</td>\n      <td>27.6205</td>\n      <td>27.5225</td>\n      <td>15.6955</td>\n      <td>...</td>\n      <td>17.6225</td>\n      <td>13.4725</td>\n      <td>26.0055</td>\n      <td>25.2690</td>\n      <td>27.3325</td>\n      <td>23.8755</td>\n      <td>27.6280</td>\n      <td>22.9690</td>\n      <td>22.8095</td>\n      <td>4.9515</td>\n    </tr>\n    <tr>\n      <th>2004</th>\n      <td>14.6700</td>\n      <td>25.7840</td>\n      <td>13.6610</td>\n      <td>24.8325</td>\n      <td>27.3035</td>\n      <td>11.3525</td>\n      <td>23.2425</td>\n      <td>27.1515</td>\n      <td>27.0755</td>\n      <td>15.7490</td>\n      <td>...</td>\n      <td>18.1710</td>\n      <td>12.4375</td>\n      <td>25.7210</td>\n      <td>24.6615</td>\n      <td>26.8635</td>\n      <td>23.1790</td>\n      <td>27.6495</td>\n      <td>22.4920</td>\n      <td>22.1475</td>\n      <td>5.8705</td>\n    </tr>\n    <tr>\n      <th>2005</th>\n      <td>15.5190</td>\n      <td>26.0680</td>\n      <td>12.4485</td>\n      <td>25.3350</td>\n      <td>27.4560</td>\n      <td>12.0625</td>\n      <td>23.1205</td>\n      <td>28.0185</td>\n      <td>27.8795</td>\n      <td>14.4385</td>\n      <td>...</td>\n      <td>16.6670</td>\n      <td>14.4225</td>\n      <td>25.8770</td>\n      <td>24.9820</td>\n      <td>27.7440</td>\n      <td>24.0055</td>\n      <td>27.4135</td>\n      <td>22.9420</td>\n      <td>22.9180</td>\n      <td>6.4785</td>\n    </tr>\n    <tr>\n      <th>2006</th>\n      <td>16.6300</td>\n      <td>25.9285</td>\n      <td>13.6685</td>\n      <td>25.7525</td>\n      <td>26.9235</td>\n      <td>13.2795</td>\n      <td>22.4780</td>\n      <td>27.9425</td>\n      <td>27.7930</td>\n      <td>16.0645</td>\n      <td>...</td>\n      <td>18.8200</td>\n      <td>15.3440</td>\n      <td>25.8240</td>\n      <td>25.4795</td>\n      <td>27.7405</td>\n      <td>23.7470</td>\n      <td>27.4390</td>\n      <td>22.2425</td>\n      <td>22.0520</td>\n      <td>6.5160</td>\n    </tr>\n    <tr>\n      <th>2007</th>\n      <td>15.4785</td>\n      <td>25.6990</td>\n      <td>13.1770</td>\n      <td>24.3050</td>\n      <td>27.4810</td>\n      <td>12.3455</td>\n      <td>22.9140</td>\n      <td>27.8245</td>\n      <td>27.4715</td>\n      <td>15.9405</td>\n      <td>...</td>\n      <td>18.9395</td>\n      <td>13.8395</td>\n      <td>25.6715</td>\n      <td>24.5150</td>\n      <td>27.4890</td>\n      <td>23.0445</td>\n      <td>27.6570</td>\n      <td>22.2380</td>\n      <td>22.9095</td>\n      <td>6.2955</td>\n    </tr>\n    <tr>\n      <th>2008</th>\n      <td>16.3810</td>\n      <td>25.6660</td>\n      <td>13.2985</td>\n      <td>24.4435</td>\n      <td>27.0560</td>\n      <td>11.1975</td>\n      <td>22.2545</td>\n      <td>27.3630</td>\n      <td>27.1830</td>\n      <td>15.3035</td>\n      <td>...</td>\n      <td>17.8770</td>\n      <td>14.6835</td>\n      <td>25.5875</td>\n      <td>25.2840</td>\n      <td>27.1525</td>\n      <td>24.2500</td>\n      <td>27.4595</td>\n      <td>21.5855</td>\n      <td>22.4170</td>\n      <td>6.5450</td>\n    </tr>\n    <tr>\n      <th>2009</th>\n      <td>13.8930</td>\n      <td>25.8935</td>\n      <td>13.1795</td>\n      <td>23.7635</td>\n      <td>26.9025</td>\n      <td>11.6925</td>\n      <td>22.5965</td>\n      <td>27.6000</td>\n      <td>27.4565</td>\n      <td>16.3900</td>\n      <td>...</td>\n      <td>17.9630</td>\n      <td>12.2385</td>\n      <td>26.0265</td>\n      <td>25.1260</td>\n      <td>27.2885</td>\n      <td>23.0090</td>\n      <td>27.5515</td>\n      <td>22.1360</td>\n      <td>22.4860</td>\n      <td>5.5765</td>\n    </tr>\n    <tr>\n      <th>2010</th>\n      <td>17.4285</td>\n      <td>26.1595</td>\n      <td>12.6825</td>\n      <td>25.4575</td>\n      <td>27.3260</td>\n      <td>11.4400</td>\n      <td>23.0795</td>\n      <td>27.8365</td>\n      <td>27.6700</td>\n      <td>14.9110</td>\n      <td>...</td>\n      <td>17.1540</td>\n      <td>15.0755</td>\n      <td>25.9715</td>\n      <td>24.8810</td>\n      <td>27.5365</td>\n      <td>24.2365</td>\n      <td>28.2950</td>\n      <td>22.6880</td>\n      <td>23.3040</td>\n      <td>4.7550</td>\n    </tr>\n    <tr>\n      <th>2011</th>\n      <td>16.0240</td>\n      <td>25.6220</td>\n      <td>12.4440</td>\n      <td>24.1415</td>\n      <td>27.0205</td>\n      <td>13.4625</td>\n      <td>22.7390</td>\n      <td>27.5875</td>\n      <td>27.4115</td>\n      <td>15.3845</td>\n      <td>...</td>\n      <td>17.8235</td>\n      <td>14.6060</td>\n      <td>25.6440</td>\n      <td>24.1880</td>\n      <td>27.1510</td>\n      <td>24.2690</td>\n      <td>27.8980</td>\n      <td>22.0270</td>\n      <td>22.9420</td>\n      <td>7.4990</td>\n    </tr>\n    <tr>\n      <th>2012</th>\n      <td>15.6755</td>\n      <td>25.5670</td>\n      <td>13.9060</td>\n      <td>24.5915</td>\n      <td>27.1620</td>\n      <td>11.5065</td>\n      <td>22.3530</td>\n      <td>27.8255</td>\n      <td>27.6260</td>\n      <td>15.4870</td>\n      <td>...</td>\n      <td>17.9600</td>\n      <td>16.6915</td>\n      <td>25.7590</td>\n      <td>25.5770</td>\n      <td>27.5920</td>\n      <td>23.6175</td>\n      <td>27.8575</td>\n      <td>22.4530</td>\n      <td>23.0455</td>\n      <td>6.2540</td>\n    </tr>\n    <tr>\n      <th>2013</th>\n      <td>18.1000</td>\n      <td>25.7865</td>\n      <td>15.9465</td>\n      <td>26.3620</td>\n      <td>27.6665</td>\n      <td>10.9400</td>\n      <td>22.5180</td>\n      <td>27.1730</td>\n      <td>27.1535</td>\n      <td>13.7915</td>\n      <td>...</td>\n      <td>16.2660</td>\n      <td>17.9390</td>\n      <td>25.7170</td>\n      <td>26.4565</td>\n      <td>27.4930</td>\n      <td>24.2745</td>\n      <td>30.0215</td>\n      <td>21.2985</td>\n      <td>20.4505</td>\n      <td>6.0140</td>\n    </tr>\n  </tbody>\n</table>\n<p>44 rows × 242 columns</p>\n</div>"
     },
     "execution_count": 20,
     "metadata": {},
     "output_type": "execute_result"
    }
   ],
   "source": [
    "# Tabla pivote\n",
    "# values=['median_temperature'] // valor a calcular\n",
    "#  index=['year'] // filas o agrupacion\n",
    "# columns=['Country'] // columnas a pivotear horizontalmente\n",
    "df_t_pivot = df_t_med.pivot_table(values=['median_temperature'], index=['year'], columns=['Country'])\n",
    "df_t_pivot"
   ],
   "metadata": {
    "collapsed": false,
    "pycharm": {
     "name": "#%%\n"
    }
   }
  },
  {
   "cell_type": "code",
   "execution_count": 21,
   "outputs": [
    {
     "data": {
      "text/plain": "<Figure size 432x288 with 1 Axes>",
      "image/png": "[encoded data removed]"
     },
     "metadata": {
      "needs_background": "light"
     },
     "output_type": "display_data"
    }
   ],
   "source": [
    "# Generando un grafico de caja de bigotes o boxplot\n",
    "# .sample(value) // Escoge aletariamente la cantidad de registros especificados\n",
    "df_t_pivot_sample = df_t_pivot.T.sample(2).T.boxplot()\n",
    "plt.show()"
   ],
   "metadata": {
    "collapsed": false,
    "pycharm": {
     "name": "#%%\n"
    }
   }
  }
 ],
 "metadata": {
  "kernelspec": {
   "display_name": "Python 3",
   "language": "python",
   "name": "python3"
  },
  "language_info": {
   "codemirror_mode": {
    "name": "ipython",
    "version": 2
   },
   "file_extension": ".py",
   "mimetype": "text/x-python",
   "name": "python",
   "nbconvert_exporter": "python",
   "pygments_lexer": "ipython2",
   "version": "2.7.6"
  }
 },
 "nbformat": 4,
 "nbformat_minor": 0
}