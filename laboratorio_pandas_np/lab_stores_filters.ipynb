{
 "cells": [
  {
   "cell_type": "code",
   "execution_count": 1,
   "metadata": {
    "collapsed": true
   },
   "outputs": [],
   "source": [
    "import pandas as pd\n"
   ]
  },
  {
   "cell_type": "code",
   "execution_count": 2,
   "outputs": [
    {
     "name": "stdout",
     "output_type": "stream",
     "text": [
      "(9994, 12)\n"
     ]
    },
    {
     "data": {
      "text/plain": "         Order_ID  Order_Date   Ship Date       Ship Mode Customer ID  \\\n0  CA-2016-152156  08/11/2016  11/11/2016    Second Class    CG-12520   \n1  CA-2016-152156  08/11/2016  11/11/2016    Second Class    CG-12520   \n2  CA-2016-138688  12/06/2016  16/06/2016    Second Class    DV-13045   \n3  US-2015-108966  11/10/2015  18/10/2015  Standard Class    SO-20335   \n4  US-2015-108966  11/10/2015  18/10/2015  Standard Class    SO-20335   \n\n     Customer Name             City       Product ID         Category  \\\n0      Claire Gute        Henderson  FUR-BO-10001798        Furniture   \n1      Claire Gute        Henderson  FUR-CH-10000454        Furniture   \n2  Darrin Van Huff      Los Angeles  OFF-LA-10000240  Office Supplies   \n3   Sean O'Donnell  Fort Lauderdale  FUR-TA-10000577        Furniture   \n4   Sean O'Donnell  Fort Lauderdale  OFF-ST-10000760  Office Supplies   \n\n                                        Product_Name     Sales  Quantity  \n0                  Bush Somerset Collection Bookcase    261,96         2  \n1  Hon Deluxe Fabric Upholstered Stacking Chairs,...    731,94         3  \n2  Self-Adhesive Address Labels for Typewriters b...     14,62         2  \n3      Bretford CR4500 Series Slim Rectangular Table  957,5775         5  \n4                     Eldon Fold 'N Roll Cart System    22,368         2  ",
      "text/html": "<div>\n<style scoped>\n    .dataframe tbody tr th:only-of-type {\n        vertical-align: middle;\n    }\n\n    .dataframe tbody tr th {\n        vertical-align: top;\n    }\n\n    .dataframe thead th {\n        text-align: right;\n    }\n</style>\n<table border=\"1\" class=\"dataframe\">\n  <thead>\n    <tr style=\"text-align: right;\">\n      <th></th>\n      <th>Order_ID</th>\n      <th>Order_Date</th>\n      <th>Ship Date</th>\n      <th>Ship Mode</th>\n      <th>Customer ID</th>\n      <th>Customer Name</th>\n      <th>City</th>\n      <th>Product ID</th>\n      <th>Category</th>\n      <th>Product_Name</th>\n      <th>Sales</th>\n      <th>Quantity</th>\n    </tr>\n  </thead>\n  <tbody>\n    <tr>\n      <th>0</th>\n      <td>CA-2016-152156</td>\n      <td>08/11/2016</td>\n      <td>11/11/2016</td>\n      <td>Second Class</td>\n      <td>CG-12520</td>\n      <td>Claire Gute</td>\n      <td>Henderson</td>\n      <td>FUR-BO-10001798</td>\n      <td>Furniture</td>\n      <td>Bush Somerset Collection Bookcase</td>\n      <td>261,96</td>\n      <td>2</td>\n    </tr>\n    <tr>\n      <th>1</th>\n      <td>CA-2016-152156</td>\n      <td>08/11/2016</td>\n      <td>11/11/2016</td>\n      <td>Second Class</td>\n      <td>CG-12520</td>\n      <td>Claire Gute</td>\n      <td>Henderson</td>\n      <td>FUR-CH-10000454</td>\n      <td>Furniture</td>\n      <td>Hon Deluxe Fabric Upholstered Stacking Chairs,...</td>\n      <td>731,94</td>\n      <td>3</td>\n    </tr>\n    <tr>\n      <th>2</th>\n      <td>CA-2016-138688</td>\n      <td>12/06/2016</td>\n      <td>16/06/2016</td>\n      <td>Second Class</td>\n      <td>DV-13045</td>\n      <td>Darrin Van Huff</td>\n      <td>Los Angeles</td>\n      <td>OFF-LA-10000240</td>\n      <td>Office Supplies</td>\n      <td>Self-Adhesive Address Labels for Typewriters b...</td>\n      <td>14,62</td>\n      <td>2</td>\n    </tr>\n    <tr>\n      <th>3</th>\n      <td>US-2015-108966</td>\n      <td>11/10/2015</td>\n      <td>18/10/2015</td>\n      <td>Standard Class</td>\n      <td>SO-20335</td>\n      <td>Sean O'Donnell</td>\n      <td>Fort Lauderdale</td>\n      <td>FUR-TA-10000577</td>\n      <td>Furniture</td>\n      <td>Bretford CR4500 Series Slim Rectangular Table</td>\n      <td>957,5775</td>\n      <td>5</td>\n    </tr>\n    <tr>\n      <th>4</th>\n      <td>US-2015-108966</td>\n      <td>11/10/2015</td>\n      <td>18/10/2015</td>\n      <td>Standard Class</td>\n      <td>SO-20335</td>\n      <td>Sean O'Donnell</td>\n      <td>Fort Lauderdale</td>\n      <td>OFF-ST-10000760</td>\n      <td>Office Supplies</td>\n      <td>Eldon Fold 'N Roll Cart System</td>\n      <td>22,368</td>\n      <td>2</td>\n    </tr>\n  </tbody>\n</table>\n</div>"
     },
     "execution_count": 2,
     "metadata": {},
     "output_type": "execute_result"
    }
   ],
   "source": [
    "df_store = pd.read_csv('../db/store.csv', delimiter=';', encoding=\"ISO-8859-1\",\n",
    "                       usecols=['Order_ID', 'Order_Date', 'Ship Date', 'Ship Mode', 'Customer ID', 'Customer Name',\n",
    "                                'City', 'Product ID', 'Category', 'Product_Name', 'Sales', 'Quantity'])\n",
    "print(df_store.shape)\n",
    "df_store.head()\n"
   ],
   "metadata": {
    "collapsed": false,
    "pycharm": {
     "name": "#%%\n"
    }
   }
  },
  {
   "cell_type": "code",
   "execution_count": 3,
   "outputs": [
    {
     "data": {
      "text/plain": "            Order_ID  Order_Date   Ship Date       Ship Mode Customer ID  \\\n9989  CA-2014-110422  21/01/2014  23/01/2014    Second Class    TB-21400   \n9990  CA-2017-121258  26/02/2017  03/03/2017  Standard Class    DB-13060   \n9991  CA-2017-121258  26/02/2017  03/03/2017  Standard Class    DB-13060   \n9992  CA-2017-121258  26/02/2017  03/03/2017  Standard Class    DB-13060   \n9993  CA-2017-119914  04/05/2017  09/05/2017    Second Class    CC-12220   \n\n         Customer Name         City       Product ID         Category  \\\n9989  Tom Boeckenhauer        Miami  FUR-FU-10001889        Furniture   \n9990       Dave Brooks   Costa Mesa  FUR-FU-10000747        Furniture   \n9991       Dave Brooks   Costa Mesa  TEC-PH-10003645       Technology   \n9992       Dave Brooks   Costa Mesa  OFF-PA-10004041  Office Supplies   \n9993      Chris Cortes  Westminster  OFF-AP-10002684  Office Supplies   \n\n                                           Product_Name   Sales  Quantity  \n9989                             Ultra Door Pull Handle   25248         3  \n9990  Tenex B1-RE Series Chair Mats for Low Pile Car...    9196         2  \n9991                              Aastra 57i VoIP phone  258576         2  \n9992  It's Hot Message Books with Stickers, 2 3/4\" x 5\"     296         4  \n9993  Acco 7-Outlet Masterpiece Power Center, Wihtou...   24316         2  ",
      "text/html": "<div>\n<style scoped>\n    .dataframe tbody tr th:only-of-type {\n        vertical-align: middle;\n    }\n\n    .dataframe tbody tr th {\n        vertical-align: top;\n    }\n\n    .dataframe thead th {\n        text-align: right;\n    }\n</style>\n<table border=\"1\" class=\"dataframe\">\n  <thead>\n    <tr style=\"text-align: right;\">\n      <th></th>\n      <th>Order_ID</th>\n      <th>Order_Date</th>\n      <th>Ship Date</th>\n      <th>Ship Mode</th>\n      <th>Customer ID</th>\n      <th>Customer Name</th>\n      <th>City</th>\n      <th>Product ID</th>\n      <th>Category</th>\n      <th>Product_Name</th>\n      <th>Sales</th>\n      <th>Quantity</th>\n    </tr>\n  </thead>\n  <tbody>\n    <tr>\n      <th>9989</th>\n      <td>CA-2014-110422</td>\n      <td>21/01/2014</td>\n      <td>23/01/2014</td>\n      <td>Second Class</td>\n      <td>TB-21400</td>\n      <td>Tom Boeckenhauer</td>\n      <td>Miami</td>\n      <td>FUR-FU-10001889</td>\n      <td>Furniture</td>\n      <td>Ultra Door Pull Handle</td>\n      <td>25248</td>\n      <td>3</td>\n    </tr>\n    <tr>\n      <th>9990</th>\n      <td>CA-2017-121258</td>\n      <td>26/02/2017</td>\n      <td>03/03/2017</td>\n      <td>Standard Class</td>\n      <td>DB-13060</td>\n      <td>Dave Brooks</td>\n      <td>Costa Mesa</td>\n      <td>FUR-FU-10000747</td>\n      <td>Furniture</td>\n      <td>Tenex B1-RE Series Chair Mats for Low Pile Car...</td>\n      <td>9196</td>\n      <td>2</td>\n    </tr>\n    <tr>\n      <th>9991</th>\n      <td>CA-2017-121258</td>\n      <td>26/02/2017</td>\n      <td>03/03/2017</td>\n      <td>Standard Class</td>\n      <td>DB-13060</td>\n      <td>Dave Brooks</td>\n      <td>Costa Mesa</td>\n      <td>TEC-PH-10003645</td>\n      <td>Technology</td>\n      <td>Aastra 57i VoIP phone</td>\n      <td>258576</td>\n      <td>2</td>\n    </tr>\n    <tr>\n      <th>9992</th>\n      <td>CA-2017-121258</td>\n      <td>26/02/2017</td>\n      <td>03/03/2017</td>\n      <td>Standard Class</td>\n      <td>DB-13060</td>\n      <td>Dave Brooks</td>\n      <td>Costa Mesa</td>\n      <td>OFF-PA-10004041</td>\n      <td>Office Supplies</td>\n      <td>It's Hot Message Books with Stickers, 2 3/4\" x 5\"</td>\n      <td>296</td>\n      <td>4</td>\n    </tr>\n    <tr>\n      <th>9993</th>\n      <td>CA-2017-119914</td>\n      <td>04/05/2017</td>\n      <td>09/05/2017</td>\n      <td>Second Class</td>\n      <td>CC-12220</td>\n      <td>Chris Cortes</td>\n      <td>Westminster</td>\n      <td>OFF-AP-10002684</td>\n      <td>Office Supplies</td>\n      <td>Acco 7-Outlet Masterpiece Power Center, Wihtou...</td>\n      <td>24316</td>\n      <td>2</td>\n    </tr>\n  </tbody>\n</table>\n</div>"
     },
     "execution_count": 3,
     "metadata": {},
     "output_type": "execute_result"
    }
   ],
   "source": [
    "# Seteando a travez de una funcion en una columna los valores\n",
    "df_store.Sales = df_store.apply(lambda row: int(row['Sales'].replace(',', '')), axis=1)\n",
    "df_store.tail()\n"
   ],
   "metadata": {
    "collapsed": false,
    "pycharm": {
     "name": "#%%\n"
    }
   }
  },
  {
   "cell_type": "code",
   "execution_count": 4,
   "outputs": [
    {
     "data": {
      "text/plain": "         Customer Name  Quantity\n3       Sean O'Donnell         5\n5      Brosina Hoffman         7\n7      Brosina Hoffman         6\n9      Brosina Hoffman         5\n10     Brosina Hoffman         9\n...                ...       ...\n9979        Anne Pryor        14\n9981   Ted Butterfield         5\n9982        Ryan Crowe         7\n9984  Dianna Vittorini        10\n9988      Ruben Ausman         5\n\n[3093 rows x 2 columns]",
      "text/html": "<div>\n<style scoped>\n    .dataframe tbody tr th:only-of-type {\n        vertical-align: middle;\n    }\n\n    .dataframe tbody tr th {\n        vertical-align: top;\n    }\n\n    .dataframe thead th {\n        text-align: right;\n    }\n</style>\n<table border=\"1\" class=\"dataframe\">\n  <thead>\n    <tr style=\"text-align: right;\">\n      <th></th>\n      <th>Customer Name</th>\n      <th>Quantity</th>\n    </tr>\n  </thead>\n  <tbody>\n    <tr>\n      <th>3</th>\n      <td>Sean O'Donnell</td>\n      <td>5</td>\n    </tr>\n    <tr>\n      <th>5</th>\n      <td>Brosina Hoffman</td>\n      <td>7</td>\n    </tr>\n    <tr>\n      <th>7</th>\n      <td>Brosina Hoffman</td>\n      <td>6</td>\n    </tr>\n    <tr>\n      <th>9</th>\n      <td>Brosina Hoffman</td>\n      <td>5</td>\n    </tr>\n    <tr>\n      <th>10</th>\n      <td>Brosina Hoffman</td>\n      <td>9</td>\n    </tr>\n    <tr>\n      <th>...</th>\n      <td>...</td>\n      <td>...</td>\n    </tr>\n    <tr>\n      <th>9979</th>\n      <td>Anne Pryor</td>\n      <td>14</td>\n    </tr>\n    <tr>\n      <th>9981</th>\n      <td>Ted Butterfield</td>\n      <td>5</td>\n    </tr>\n    <tr>\n      <th>9982</th>\n      <td>Ryan Crowe</td>\n      <td>7</td>\n    </tr>\n    <tr>\n      <th>9984</th>\n      <td>Dianna Vittorini</td>\n      <td>10</td>\n    </tr>\n    <tr>\n      <th>9988</th>\n      <td>Ruben Ausman</td>\n      <td>5</td>\n    </tr>\n  </tbody>\n</table>\n<p>3093 rows × 2 columns</p>\n</div>"
     },
     "execution_count": 4,
     "metadata": {},
     "output_type": "execute_result"
    }
   ],
   "source": [
    "# Traer nombre clientes, cantidad, que tengan mas de 4  unidades\n",
    "df_store.loc[df_store.Quantity > 4, ['Customer Name', 'Quantity']]\n"
   ],
   "metadata": {
    "collapsed": false,
    "pycharm": {
     "name": "#%%\n"
    }
   }
  },
  {
   "cell_type": "code",
   "execution_count": 5,
   "outputs": [
    {
     "data": {
      "text/plain": "     Customer ID     Customer Name  Quantity    Sales\n1       CG-12520       Claire Gute         3    73194\n3       SO-20335    Sean O'Donnell         5  9575775\n5       BH-11710   Brosina Hoffman         7     4886\n6       BH-11710   Brosina Hoffman         4      728\n7       BH-11710   Brosina Hoffman         6   907152\n...          ...               ...       ...      ...\n9984    DV-13465  Dianna Vittorini        10      315\n9985    DV-13465  Dianna Vittorini         4      556\n9988    RA-19885      Ruben Ausman         5     2061\n9989    TB-21400  Tom Boeckenhauer         3    25248\n9992    DB-13060       Dave Brooks         4      296\n\n[6655 rows x 4 columns]",
      "text/html": "<div>\n<style scoped>\n    .dataframe tbody tr th:only-of-type {\n        vertical-align: middle;\n    }\n\n    .dataframe tbody tr th {\n        vertical-align: top;\n    }\n\n    .dataframe thead th {\n        text-align: right;\n    }\n</style>\n<table border=\"1\" class=\"dataframe\">\n  <thead>\n    <tr style=\"text-align: right;\">\n      <th></th>\n      <th>Customer ID</th>\n      <th>Customer Name</th>\n      <th>Quantity</th>\n      <th>Sales</th>\n    </tr>\n  </thead>\n  <tbody>\n    <tr>\n      <th>1</th>\n      <td>CG-12520</td>\n      <td>Claire Gute</td>\n      <td>3</td>\n      <td>73194</td>\n    </tr>\n    <tr>\n      <th>3</th>\n      <td>SO-20335</td>\n      <td>Sean O'Donnell</td>\n      <td>5</td>\n      <td>9575775</td>\n    </tr>\n    <tr>\n      <th>5</th>\n      <td>BH-11710</td>\n      <td>Brosina Hoffman</td>\n      <td>7</td>\n      <td>4886</td>\n    </tr>\n    <tr>\n      <th>6</th>\n      <td>BH-11710</td>\n      <td>Brosina Hoffman</td>\n      <td>4</td>\n      <td>728</td>\n    </tr>\n    <tr>\n      <th>7</th>\n      <td>BH-11710</td>\n      <td>Brosina Hoffman</td>\n      <td>6</td>\n      <td>907152</td>\n    </tr>\n    <tr>\n      <th>...</th>\n      <td>...</td>\n      <td>...</td>\n      <td>...</td>\n      <td>...</td>\n    </tr>\n    <tr>\n      <th>9984</th>\n      <td>DV-13465</td>\n      <td>Dianna Vittorini</td>\n      <td>10</td>\n      <td>315</td>\n    </tr>\n    <tr>\n      <th>9985</th>\n      <td>DV-13465</td>\n      <td>Dianna Vittorini</td>\n      <td>4</td>\n      <td>556</td>\n    </tr>\n    <tr>\n      <th>9988</th>\n      <td>RA-19885</td>\n      <td>Ruben Ausman</td>\n      <td>5</td>\n      <td>2061</td>\n    </tr>\n    <tr>\n      <th>9989</th>\n      <td>TB-21400</td>\n      <td>Tom Boeckenhauer</td>\n      <td>3</td>\n      <td>25248</td>\n    </tr>\n    <tr>\n      <th>9992</th>\n      <td>DB-13060</td>\n      <td>Dave Brooks</td>\n      <td>4</td>\n      <td>296</td>\n    </tr>\n  </tbody>\n</table>\n<p>6655 rows × 4 columns</p>\n</div>"
     },
     "execution_count": 5,
     "metadata": {},
     "output_type": "execute_result"
    }
   ],
   "source": [
    "# Traer nombre id y nombre clientes, cantidad, venta que tengan mas de 2  unidades y la venta sea mayor o igual a 50 USD\n",
    "df_store.loc[\n",
    "    (df_store.Quantity > 2) & (df_store.Sales >= 50), ['Customer ID', 'Customer Name', 'Quantity', 'Sales']]\n"
   ],
   "metadata": {
    "collapsed": false,
    "pycharm": {
     "name": "#%%\n"
    }
   }
  },
  {
   "cell_type": "code",
   "execution_count": 12,
   "outputs": [
    {
     "data": {
      "text/plain": "         Order_ID                       Product_Name\n0  CA-2016-152156  Bush Somerset Collection Bookcase",
      "text/html": "<div>\n<style scoped>\n    .dataframe tbody tr th:only-of-type {\n        vertical-align: middle;\n    }\n\n    .dataframe tbody tr th {\n        vertical-align: top;\n    }\n\n    .dataframe thead th {\n        text-align: right;\n    }\n</style>\n<table border=\"1\" class=\"dataframe\">\n  <thead>\n    <tr style=\"text-align: right;\">\n      <th></th>\n      <th>Order_ID</th>\n      <th>Product_Name</th>\n    </tr>\n  </thead>\n  <tbody>\n    <tr>\n      <th>0</th>\n      <td>CA-2016-152156</td>\n      <td>Bush Somerset Collection Bookcase</td>\n    </tr>\n  </tbody>\n</table>\n</div>"
     },
     "execution_count": 12,
     "metadata": {},
     "output_type": "execute_result"
    }
   ],
   "source": [
    "# Traer Las ordenes que finalicen en 156, el nombre del producto que y empiece en B\n",
    "df_store.loc[\n",
    "    (df_store.Order_ID.str.endswith('156')) & (df_store.Product_Name.str.startswith('B')), ['Order_ID', 'Product_Name']]\n"
   ],
   "metadata": {
    "collapsed": false,
    "pycharm": {
     "name": "#%%\n"
    }
   }
  },
  {
   "cell_type": "code",
   "execution_count": 16,
   "outputs": [
    {
     "data": {
      "text/plain": "           Ship Mode             City\n0       Second Class        Henderson\n1       Second Class        Henderson\n3     Standard Class  Fort Lauderdale\n4     Standard Class  Fort Lauderdale\n12    Standard Class          Concord\n...              ...              ...\n9989    Second Class            Miami\n9990  Standard Class       Costa Mesa\n9991  Standard Class       Costa Mesa\n9992  Standard Class       Costa Mesa\n9993    Second Class      Westminster\n\n[9247 rows x 2 columns]",
      "text/html": "<div>\n<style scoped>\n    .dataframe tbody tr th:only-of-type {\n        vertical-align: middle;\n    }\n\n    .dataframe tbody tr th {\n        vertical-align: top;\n    }\n\n    .dataframe thead th {\n        text-align: right;\n    }\n</style>\n<table border=\"1\" class=\"dataframe\">\n  <thead>\n    <tr style=\"text-align: right;\">\n      <th></th>\n      <th>Ship Mode</th>\n      <th>City</th>\n    </tr>\n  </thead>\n  <tbody>\n    <tr>\n      <th>0</th>\n      <td>Second Class</td>\n      <td>Henderson</td>\n    </tr>\n    <tr>\n      <th>1</th>\n      <td>Second Class</td>\n      <td>Henderson</td>\n    </tr>\n    <tr>\n      <th>3</th>\n      <td>Standard Class</td>\n      <td>Fort Lauderdale</td>\n    </tr>\n    <tr>\n      <th>4</th>\n      <td>Standard Class</td>\n      <td>Fort Lauderdale</td>\n    </tr>\n    <tr>\n      <th>12</th>\n      <td>Standard Class</td>\n      <td>Concord</td>\n    </tr>\n    <tr>\n      <th>...</th>\n      <td>...</td>\n      <td>...</td>\n    </tr>\n    <tr>\n      <th>9989</th>\n      <td>Second Class</td>\n      <td>Miami</td>\n    </tr>\n    <tr>\n      <th>9990</th>\n      <td>Standard Class</td>\n      <td>Costa Mesa</td>\n    </tr>\n    <tr>\n      <th>9991</th>\n      <td>Standard Class</td>\n      <td>Costa Mesa</td>\n    </tr>\n    <tr>\n      <th>9992</th>\n      <td>Standard Class</td>\n      <td>Costa Mesa</td>\n    </tr>\n    <tr>\n      <th>9993</th>\n      <td>Second Class</td>\n      <td>Westminster</td>\n    </tr>\n  </tbody>\n</table>\n<p>9247 rows × 2 columns</p>\n</div>"
     },
     "execution_count": 16,
     "metadata": {},
     "output_type": "execute_result"
    }
   ],
   "source": [
    "# Traer El modo de envio par todas las ciudades menois para Los Angeles\n",
    "# df_store['City']  || df_store.City\n",
    "df_store.loc[df_store['City'] != 'Los Angeles', ['Ship Mode', 'City']]"
   ],
   "metadata": {
    "collapsed": false,
    "pycharm": {
     "name": "#%%\n"
    }
   }
  },
  {
   "cell_type": "code",
   "execution_count": 19,
   "outputs": [
    {
     "data": {
      "text/plain": "          Order_ID    Customer Name         City  Quantity\n5   CA-2014-115812  Brosina Hoffman  Los Angeles         7\n6   CA-2014-115812  Brosina Hoffman  Los Angeles         4\n7   CA-2014-115812  Brosina Hoffman  Los Angeles         6\n8   CA-2014-115812  Brosina Hoffman  Los Angeles         3\n9   CA-2014-115812  Brosina Hoffman  Los Angeles         5\n10  CA-2014-115812  Brosina Hoffman  Los Angeles         9\n11  CA-2014-115812  Brosina Hoffman  Los Angeles         4\n16  CA-2014-105893        Pete Kriz      Madison         6\n26  CA-2016-121755    Eric Hoffmann  Los Angeles         3\n63  CA-2015-135545     Kunst Miller  Los Angeles         6",
      "text/html": "<div>\n<style scoped>\n    .dataframe tbody tr th:only-of-type {\n        vertical-align: middle;\n    }\n\n    .dataframe tbody tr th {\n        vertical-align: top;\n    }\n\n    .dataframe thead th {\n        text-align: right;\n    }\n</style>\n<table border=\"1\" class=\"dataframe\">\n  <thead>\n    <tr style=\"text-align: right;\">\n      <th></th>\n      <th>Order_ID</th>\n      <th>Customer Name</th>\n      <th>City</th>\n      <th>Quantity</th>\n    </tr>\n  </thead>\n  <tbody>\n    <tr>\n      <th>5</th>\n      <td>CA-2014-115812</td>\n      <td>Brosina Hoffman</td>\n      <td>Los Angeles</td>\n      <td>7</td>\n    </tr>\n    <tr>\n      <th>6</th>\n      <td>CA-2014-115812</td>\n      <td>Brosina Hoffman</td>\n      <td>Los Angeles</td>\n      <td>4</td>\n    </tr>\n    <tr>\n      <th>7</th>\n      <td>CA-2014-115812</td>\n      <td>Brosina Hoffman</td>\n      <td>Los Angeles</td>\n      <td>6</td>\n    </tr>\n    <tr>\n      <th>8</th>\n      <td>CA-2014-115812</td>\n      <td>Brosina Hoffman</td>\n      <td>Los Angeles</td>\n      <td>3</td>\n    </tr>\n    <tr>\n      <th>9</th>\n      <td>CA-2014-115812</td>\n      <td>Brosina Hoffman</td>\n      <td>Los Angeles</td>\n      <td>5</td>\n    </tr>\n    <tr>\n      <th>10</th>\n      <td>CA-2014-115812</td>\n      <td>Brosina Hoffman</td>\n      <td>Los Angeles</td>\n      <td>9</td>\n    </tr>\n    <tr>\n      <th>11</th>\n      <td>CA-2014-115812</td>\n      <td>Brosina Hoffman</td>\n      <td>Los Angeles</td>\n      <td>4</td>\n    </tr>\n    <tr>\n      <th>16</th>\n      <td>CA-2014-105893</td>\n      <td>Pete Kriz</td>\n      <td>Madison</td>\n      <td>6</td>\n    </tr>\n    <tr>\n      <th>26</th>\n      <td>CA-2016-121755</td>\n      <td>Eric Hoffmann</td>\n      <td>Los Angeles</td>\n      <td>3</td>\n    </tr>\n    <tr>\n      <th>63</th>\n      <td>CA-2015-135545</td>\n      <td>Kunst Miller</td>\n      <td>Los Angeles</td>\n      <td>6</td>\n    </tr>\n  </tbody>\n</table>\n</div>"
     },
     "execution_count": 19,
     "metadata": {},
     "output_type": "execute_result"
    }
   ],
   "source": [
    "# Traer las ordenes id, el cliente para las ciudades de Los Angeles, Madison y Wet Jordan que tengan mas de 2 cantidades los primeros 100 registros\n",
    "# .isin(lista) verifica si el valor esta dentro de los valores de la lista pasada por parametro\n",
    "df_store.loc[(df_store.City.isin(['Los Angeles', 'Madison', 'West Jordan'])) & (df_store.Quantity > 2), ['Order_ID',\n",
    "                                                                                                         'Customer Name',\n",
    "                                                                                                         'City',\n",
    "                                                                                                         'Quantity']].head(\n",
    "    10)"
   ],
   "metadata": {
    "collapsed": false,
    "pycharm": {
     "name": "#%%\n"
    }
   }
  },
  {
   "cell_type": "code",
   "execution_count": 17,
   "outputs": [
    {
     "data": {
      "text/plain": "            Order_ID  Order_Date\n1153  CA-2017-160395  31/12/2016\n5738  CA-2017-156139  31/12/2016\n4613  US-2017-165953  31/12/2016\n4612  US-2017-165953  31/12/2016\n2821  CA-2017-100202  31/12/2016\n6341  US-2017-105830  31/12/2016\n1152  CA-2017-160395  31/12/2016\n2321  CA-2015-109470  31/12/2015\n1895  CA-2015-109197  31/12/2015\n7355  CA-2015-139780  31/12/2015",
      "text/html": "<div>\n<style scoped>\n    .dataframe tbody tr th:only-of-type {\n        vertical-align: middle;\n    }\n\n    .dataframe tbody tr th {\n        vertical-align: top;\n    }\n\n    .dataframe thead th {\n        text-align: right;\n    }\n</style>\n<table border=\"1\" class=\"dataframe\">\n  <thead>\n    <tr style=\"text-align: right;\">\n      <th></th>\n      <th>Order_ID</th>\n      <th>Order_Date</th>\n    </tr>\n  </thead>\n  <tbody>\n    <tr>\n      <th>1153</th>\n      <td>CA-2017-160395</td>\n      <td>31/12/2016</td>\n    </tr>\n    <tr>\n      <th>5738</th>\n      <td>CA-2017-156139</td>\n      <td>31/12/2016</td>\n    </tr>\n    <tr>\n      <th>4613</th>\n      <td>US-2017-165953</td>\n      <td>31/12/2016</td>\n    </tr>\n    <tr>\n      <th>4612</th>\n      <td>US-2017-165953</td>\n      <td>31/12/2016</td>\n    </tr>\n    <tr>\n      <th>2821</th>\n      <td>CA-2017-100202</td>\n      <td>31/12/2016</td>\n    </tr>\n    <tr>\n      <th>6341</th>\n      <td>US-2017-105830</td>\n      <td>31/12/2016</td>\n    </tr>\n    <tr>\n      <th>1152</th>\n      <td>CA-2017-160395</td>\n      <td>31/12/2016</td>\n    </tr>\n    <tr>\n      <th>2321</th>\n      <td>CA-2015-109470</td>\n      <td>31/12/2015</td>\n    </tr>\n    <tr>\n      <th>1895</th>\n      <td>CA-2015-109197</td>\n      <td>31/12/2015</td>\n    </tr>\n    <tr>\n      <th>7355</th>\n      <td>CA-2015-139780</td>\n      <td>31/12/2015</td>\n    </tr>\n  </tbody>\n</table>\n</div>"
     },
     "execution_count": 17,
     "metadata": {},
     "output_type": "execute_result"
    }
   ],
   "source": [
    "# Traer las 10 ordenes mas viejas\n",
    "df_store[['Order_ID', 'Order_Date']].sort_values('Order_Date', ascending=False).head(10)"
   ],
   "metadata": {
    "collapsed": false,
    "pycharm": {
     "name": "#%%\n"
    }
   }
  },
  {
   "cell_type": "code",
   "execution_count": 21,
   "outputs": [
    {
     "data": {
      "text/plain": "                Quantity\nOrder_ID                \nCA-2014-100006         3\nCA-2014-100090         9\nCA-2014-100293         6\nCA-2014-100328         1\nCA-2014-100363         5\n...                  ...\nUS-2017-168802         4\nUS-2017-169320         7\nUS-2017-169488         7\nUS-2017-169502         8\nUS-2017-169551        16\n\n[5009 rows x 1 columns]",
      "text/html": "<div>\n<style scoped>\n    .dataframe tbody tr th:only-of-type {\n        vertical-align: middle;\n    }\n\n    .dataframe tbody tr th {\n        vertical-align: top;\n    }\n\n    .dataframe thead th {\n        text-align: right;\n    }\n</style>\n<table border=\"1\" class=\"dataframe\">\n  <thead>\n    <tr style=\"text-align: right;\">\n      <th></th>\n      <th>Quantity</th>\n    </tr>\n    <tr>\n      <th>Order_ID</th>\n      <th></th>\n    </tr>\n  </thead>\n  <tbody>\n    <tr>\n      <th>CA-2014-100006</th>\n      <td>3</td>\n    </tr>\n    <tr>\n      <th>CA-2014-100090</th>\n      <td>9</td>\n    </tr>\n    <tr>\n      <th>CA-2014-100293</th>\n      <td>6</td>\n    </tr>\n    <tr>\n      <th>CA-2014-100328</th>\n      <td>1</td>\n    </tr>\n    <tr>\n      <th>CA-2014-100363</th>\n      <td>5</td>\n    </tr>\n    <tr>\n      <th>...</th>\n      <td>...</td>\n    </tr>\n    <tr>\n      <th>US-2017-168802</th>\n      <td>4</td>\n    </tr>\n    <tr>\n      <th>US-2017-169320</th>\n      <td>7</td>\n    </tr>\n    <tr>\n      <th>US-2017-169488</th>\n      <td>7</td>\n    </tr>\n    <tr>\n      <th>US-2017-169502</th>\n      <td>8</td>\n    </tr>\n    <tr>\n      <th>US-2017-169551</th>\n      <td>16</td>\n    </tr>\n  </tbody>\n</table>\n<p>5009 rows × 1 columns</p>\n</div>"
     },
     "execution_count": 21,
     "metadata": {},
     "output_type": "execute_result"
    }
   ],
   "source": [
    "# traer la cantidad de unidades  order id\n",
    "df_store.groupby(['Order_ID']).Quantity.sum().to_frame()\n"
   ],
   "metadata": {
    "collapsed": false,
    "pycharm": {
     "name": "#%%\n"
    }
   }
  },
  {
   "cell_type": "code",
   "execution_count": 23,
   "outputs": [
    {
     "data": {
      "text/plain": "                Quantity\nOrder_ID                \nCA-2014-100678        11\nCA-2014-100762        11\nCA-2014-101364        13\nCA-2014-101560        19\nCA-2014-101931        17\n...                  ...\nUS-2017-166324        12\nUS-2017-166688        16\nUS-2017-167402        19\nUS-2017-167920        21\nUS-2017-169551        16\n\n[1139 rows x 1 columns]",
      "text/html": "<div>\n<style scoped>\n    .dataframe tbody tr th:only-of-type {\n        vertical-align: middle;\n    }\n\n    .dataframe tbody tr th {\n        vertical-align: top;\n    }\n\n    .dataframe thead th {\n        text-align: right;\n    }\n</style>\n<table border=\"1\" class=\"dataframe\">\n  <thead>\n    <tr style=\"text-align: right;\">\n      <th></th>\n      <th>Quantity</th>\n    </tr>\n    <tr>\n      <th>Order_ID</th>\n      <th></th>\n    </tr>\n  </thead>\n  <tbody>\n    <tr>\n      <th>CA-2014-100678</th>\n      <td>11</td>\n    </tr>\n    <tr>\n      <th>CA-2014-100762</th>\n      <td>11</td>\n    </tr>\n    <tr>\n      <th>CA-2014-101364</th>\n      <td>13</td>\n    </tr>\n    <tr>\n      <th>CA-2014-101560</th>\n      <td>19</td>\n    </tr>\n    <tr>\n      <th>CA-2014-101931</th>\n      <td>17</td>\n    </tr>\n    <tr>\n      <th>...</th>\n      <td>...</td>\n    </tr>\n    <tr>\n      <th>US-2017-166324</th>\n      <td>12</td>\n    </tr>\n    <tr>\n      <th>US-2017-166688</th>\n      <td>16</td>\n    </tr>\n    <tr>\n      <th>US-2017-167402</th>\n      <td>19</td>\n    </tr>\n    <tr>\n      <th>US-2017-167920</th>\n      <td>21</td>\n    </tr>\n    <tr>\n      <th>US-2017-169551</th>\n      <td>16</td>\n    </tr>\n  </tbody>\n</table>\n<p>1139 rows × 1 columns</p>\n</div>"
     },
     "execution_count": 23,
     "metadata": {},
     "output_type": "execute_result"
    }
   ],
   "source": [
    "# traer la cantidad de unidades  order id que la sumatoria sea mayor a 10\n",
    "\"\"\"\n",
    "df_store.groupby(['Order_ID']).filter(lambda row: row.Quantity.sum() > 10).groupby(['Order_ID']).Quantity.sum()\n",
    "\n",
    "df_store.groupby(['Order_ID']) # realiza una agrupacion de todo el DF por la columna pasada por parmetro\n",
    ".filter(lambda row: row.Quantity.sum() > 10)  realiza un filtrado por dato agrupado, y le espeficicamos la funcion de agrupacion sum() para que realice el calculo\n",
    "# sin embargo listaria de esta forma todo el DF ya que no se a realizado la agrupacion de salida solo del filtro\n",
    ".groupby(['Order_ID']).Quantity.sum()  # se realiza la agrupacion sobre el filtro, y la variable operando a realizar la sumatoria\n",
    "\n",
    "\"\"\"\n",
    "\n",
    "df_store.groupby(['Order_ID']).filter(lambda row: row.Quantity.sum() > 10).groupby(['Order_ID']).Quantity.sum().to_frame()"
   ],
   "metadata": {
    "collapsed": false,
    "pycharm": {
     "name": "#%%\n"
    }
   }
  }
 ],
 "metadata": {
  "kernelspec": {
   "display_name": "Python 3",
   "language": "python",
   "name": "python3"
  },
  "language_info": {
   "codemirror_mode": {
    "name": "ipython",
    "version": 2
   },
   "file_extension": ".py",
   "mimetype": "text/x-python",
   "name": "python",
   "nbconvert_exporter": "python",
   "pygments_lexer": "ipython2",
   "version": "2.7.6"
  }
 },
 "nbformat": 4,
 "nbformat_minor": 0
}