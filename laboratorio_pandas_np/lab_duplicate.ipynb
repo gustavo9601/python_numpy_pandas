{
 "cells": [
  {
   "cell_type": "code",
   "execution_count": 1,
   "metadata": {
    "collapsed": true
   },
   "outputs": [],
   "source": [
    "import pandas as pd"
   ]
  },
  {
   "cell_type": "code",
   "execution_count": 2,
   "outputs": [
    {
     "data": {
      "text/plain": "    a  b\n0   w  1\n1   w  1\n2   w  1\n3   w  1\n4   x  2\n5   x  2\n6   x  2\n7   y  3\n8   y  3\n9   z  4\n10  v  5",
      "text/html": "<div>\n<style scoped>\n    .dataframe tbody tr th:only-of-type {\n        vertical-align: middle;\n    }\n\n    .dataframe tbody tr th {\n        vertical-align: top;\n    }\n\n    .dataframe thead th {\n        text-align: right;\n    }\n</style>\n<table border=\"1\" class=\"dataframe\">\n  <thead>\n    <tr style=\"text-align: right;\">\n      <th></th>\n      <th>a</th>\n      <th>b</th>\n    </tr>\n  </thead>\n  <tbody>\n    <tr>\n      <th>0</th>\n      <td>w</td>\n      <td>1</td>\n    </tr>\n    <tr>\n      <th>1</th>\n      <td>w</td>\n      <td>1</td>\n    </tr>\n    <tr>\n      <th>2</th>\n      <td>w</td>\n      <td>1</td>\n    </tr>\n    <tr>\n      <th>3</th>\n      <td>w</td>\n      <td>1</td>\n    </tr>\n    <tr>\n      <th>4</th>\n      <td>x</td>\n      <td>2</td>\n    </tr>\n    <tr>\n      <th>5</th>\n      <td>x</td>\n      <td>2</td>\n    </tr>\n    <tr>\n      <th>6</th>\n      <td>x</td>\n      <td>2</td>\n    </tr>\n    <tr>\n      <th>7</th>\n      <td>y</td>\n      <td>3</td>\n    </tr>\n    <tr>\n      <th>8</th>\n      <td>y</td>\n      <td>3</td>\n    </tr>\n    <tr>\n      <th>9</th>\n      <td>z</td>\n      <td>4</td>\n    </tr>\n    <tr>\n      <th>10</th>\n      <td>v</td>\n      <td>5</td>\n    </tr>\n  </tbody>\n</table>\n</div>"
     },
     "execution_count": 2,
     "metadata": {},
     "output_type": "execute_result"
    }
   ],
   "source": [
    "df = pd.DataFrame({'a': ['w'] * 4 + ['x'] * 3 + ['y'] * 2 + ['z'] + ['v'],\n",
    "                   'b': [1, 1, 1, 1, 2, 2, 2, 3, 3, 4, 5]})\n",
    "df"
   ],
   "metadata": {
    "collapsed": false,
    "pycharm": {
     "name": "#%%\n"
    }
   }
  },
  {
   "cell_type": "code",
   "execution_count": 3,
   "outputs": [
    {
     "data": {
      "text/plain": "0     False\n1      True\n2      True\n3      True\n4     False\n5      True\n6      True\n7     False\n8      True\n9     False\n10    False\ndtype: bool"
     },
     "execution_count": 3,
     "metadata": {},
     "output_type": "execute_result"
    }
   ],
   "source": [
    "# Devuelve una serie boolean, con los valores duplicados en la ultima ocurrencia True\n",
    "df.duplicated()"
   ],
   "metadata": {
    "collapsed": false,
    "pycharm": {
     "name": "#%%\n"
    }
   }
  },
  {
   "cell_type": "code",
   "execution_count": 4,
   "outputs": [
    {
     "data": {
      "text/plain": "0     False\n1      True\n2      True\n3      True\n4     False\n5      True\n6      True\n7     False\n8      True\n9     False\n10    False\ndtype: bool"
     },
     "execution_count": 4,
     "metadata": {},
     "output_type": "execute_result"
    }
   ],
   "source": [
    "# marca solo la primera ocurrencia\n",
    "df.duplicated(keep='first')"
   ],
   "metadata": {
    "collapsed": false,
    "pycharm": {
     "name": "#%%\n"
    }
   }
  },
  {
   "cell_type": "code",
   "execution_count": 5,
   "outputs": [
    {
     "data": {
      "text/plain": "0      True\n1      True\n2      True\n3     False\n4      True\n5      True\n6     False\n7      True\n8     False\n9     False\n10    False\ndtype: bool"
     },
     "execution_count": 5,
     "metadata": {},
     "output_type": "execute_result"
    }
   ],
   "source": [
    "# marca solo la última ocurrencia en False\n",
    "df.duplicated(keep='last')"
   ],
   "metadata": {
    "collapsed": false,
    "pycharm": {
     "name": "#%%\n"
    }
   }
  },
  {
   "cell_type": "code",
   "execution_count": 6,
   "outputs": [
    {
     "data": {
      "text/plain": "    a  b\n0   w  1\n4   x  2\n7   y  3\n9   z  4\n10  v  5",
      "text/html": "<div>\n<style scoped>\n    .dataframe tbody tr th:only-of-type {\n        vertical-align: middle;\n    }\n\n    .dataframe tbody tr th {\n        vertical-align: top;\n    }\n\n    .dataframe thead th {\n        text-align: right;\n    }\n</style>\n<table border=\"1\" class=\"dataframe\">\n  <thead>\n    <tr style=\"text-align: right;\">\n      <th></th>\n      <th>a</th>\n      <th>b</th>\n    </tr>\n  </thead>\n  <tbody>\n    <tr>\n      <th>0</th>\n      <td>w</td>\n      <td>1</td>\n    </tr>\n    <tr>\n      <th>4</th>\n      <td>x</td>\n      <td>2</td>\n    </tr>\n    <tr>\n      <th>7</th>\n      <td>y</td>\n      <td>3</td>\n    </tr>\n    <tr>\n      <th>9</th>\n      <td>z</td>\n      <td>4</td>\n    </tr>\n    <tr>\n      <th>10</th>\n      <td>v</td>\n      <td>5</td>\n    </tr>\n  </tbody>\n</table>\n</div>"
     },
     "execution_count": 6,
     "metadata": {},
     "output_type": "execute_result"
    }
   ],
   "source": [
    "# Filtra aquellos casos que no tienen duplicados, el ~ es negación\n",
    "df[~ df.duplicated()]"
   ],
   "metadata": {
    "collapsed": false,
    "pycharm": {
     "name": "#%%\n"
    }
   }
  },
  {
   "cell_type": "code",
   "execution_count": 7,
   "outputs": [
    {
     "data": {
      "text/plain": "0      True\n1      True\n2      True\n3      True\n4      True\n5      True\n6      True\n7      True\n8      True\n9     False\n10    False\ndtype: bool"
     },
     "execution_count": 7,
     "metadata": {},
     "output_type": "execute_result"
    }
   ],
   "source": [
    "# Devolvera una serie de booleanos en True todos los que se repiten y False los que no\n",
    "df.duplicated(keep=False)"
   ],
   "metadata": {
    "collapsed": false,
    "pycharm": {
     "name": "#%%\n"
    }
   }
  },
  {
   "cell_type": "code",
   "execution_count": 8,
   "outputs": [
    {
     "data": {
      "text/plain": "    a  b\n0   w  1\n4   x  2\n7   y  3\n9   z  4\n10  v  5",
      "text/html": "<div>\n<style scoped>\n    .dataframe tbody tr th:only-of-type {\n        vertical-align: middle;\n    }\n\n    .dataframe tbody tr th {\n        vertical-align: top;\n    }\n\n    .dataframe thead th {\n        text-align: right;\n    }\n</style>\n<table border=\"1\" class=\"dataframe\">\n  <thead>\n    <tr style=\"text-align: right;\">\n      <th></th>\n      <th>a</th>\n      <th>b</th>\n    </tr>\n  </thead>\n  <tbody>\n    <tr>\n      <th>0</th>\n      <td>w</td>\n      <td>1</td>\n    </tr>\n    <tr>\n      <th>4</th>\n      <td>x</td>\n      <td>2</td>\n    </tr>\n    <tr>\n      <th>7</th>\n      <td>y</td>\n      <td>3</td>\n    </tr>\n    <tr>\n      <th>9</th>\n      <td>z</td>\n      <td>4</td>\n    </tr>\n    <tr>\n      <th>10</th>\n      <td>v</td>\n      <td>5</td>\n    </tr>\n  </tbody>\n</table>\n</div>"
     },
     "execution_count": 8,
     "metadata": {},
     "output_type": "execute_result"
    }
   ],
   "source": [
    "# descarta los registros duplicados, tiene por defecto el keep = first\n",
    "df.drop_duplicates()\n"
   ],
   "metadata": {
    "collapsed": false,
    "pycharm": {
     "name": "#%%\n"
    }
   }
  },
  {
   "cell_type": "code",
   "execution_count": 9,
   "outputs": [
    {
     "data": {
      "text/plain": "    a  b\n3   w  1\n6   x  2\n8   y  3\n9   z  4\n10  v  5",
      "text/html": "<div>\n<style scoped>\n    .dataframe tbody tr th:only-of-type {\n        vertical-align: middle;\n    }\n\n    .dataframe tbody tr th {\n        vertical-align: top;\n    }\n\n    .dataframe thead th {\n        text-align: right;\n    }\n</style>\n<table border=\"1\" class=\"dataframe\">\n  <thead>\n    <tr style=\"text-align: right;\">\n      <th></th>\n      <th>a</th>\n      <th>b</th>\n    </tr>\n  </thead>\n  <tbody>\n    <tr>\n      <th>3</th>\n      <td>w</td>\n      <td>1</td>\n    </tr>\n    <tr>\n      <th>6</th>\n      <td>x</td>\n      <td>2</td>\n    </tr>\n    <tr>\n      <th>8</th>\n      <td>y</td>\n      <td>3</td>\n    </tr>\n    <tr>\n      <th>9</th>\n      <td>z</td>\n      <td>4</td>\n    </tr>\n    <tr>\n      <th>10</th>\n      <td>v</td>\n      <td>5</td>\n    </tr>\n  </tbody>\n</table>\n</div>"
     },
     "execution_count": 9,
     "metadata": {},
     "output_type": "execute_result"
    }
   ],
   "source": [
    "# elimina los duplicados teniendo en cuenta una sola columna\n",
    "df.drop_duplicates(['a'], keep='last')"
   ],
   "metadata": {
    "collapsed": false,
    "pycharm": {
     "name": "#%%\n"
    }
   }
  }
 ],
 "metadata": {
  "kernelspec": {
   "display_name": "Python 3",
   "language": "python",
   "name": "python3"
  },
  "language_info": {
   "codemirror_mode": {
    "name": "ipython",
    "version": 2
   },
   "file_extension": ".py",
   "mimetype": "text/x-python",
   "name": "python",
   "nbconvert_exporter": "python",
   "pygments_lexer": "ipython2",
   "version": "2.7.6"
  }
 },
 "nbformat": 4,
 "nbformat_minor": 0
}