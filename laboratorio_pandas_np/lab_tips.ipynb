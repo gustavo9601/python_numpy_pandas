{
 "cells": [
  {
   "cell_type": "code",
   "execution_count": 2,
   "metadata": {
    "collapsed": true
   },
   "outputs": [
    {
     "name": "stdout",
     "output_type": "stream",
     "text": [
      "pd.__version__ 1.2.4\n",
      "np.__version__ 1.20.2\n"
     ]
    }
   ],
   "source": [
    "import pandas as pd\n",
    "import numpy as np\n",
    "import seaborn as sns\n",
    "\n",
    "# Formateo de decimales\n",
    "pd.options.display.float_format = '{:,.3f}'.format\n",
    "\n",
    "print(\"pd.__version__\", pd.__version__)\n",
    "print(\"np.__version__\", np.__version__)"
   ]
  },
  {
   "cell_type": "code",
   "execution_count": 5,
   "outputs": [
    {
     "name": "stdout",
     "output_type": "stream",
     "text": [
      "(244, 7)\n"
     ]
    },
    {
     "data": {
      "text/plain": "   total_bill   tip     sex smoker  day    time  size\n0      16.990 1.010  Female     No  Sun  Dinner     2\n1      10.340 1.660    Male     No  Sun  Dinner     3\n2      21.010 3.500    Male     No  Sun  Dinner     3\n3      23.680 3.310    Male     No  Sun  Dinner     2\n4      24.590 3.610  Female     No  Sun  Dinner     4",
      "text/html": "<div>\n<style scoped>\n    .dataframe tbody tr th:only-of-type {\n        vertical-align: middle;\n    }\n\n    .dataframe tbody tr th {\n        vertical-align: top;\n    }\n\n    .dataframe thead th {\n        text-align: right;\n    }\n</style>\n<table border=\"1\" class=\"dataframe\">\n  <thead>\n    <tr style=\"text-align: right;\">\n      <th></th>\n      <th>total_bill</th>\n      <th>tip</th>\n      <th>sex</th>\n      <th>smoker</th>\n      <th>day</th>\n      <th>time</th>\n      <th>size</th>\n    </tr>\n  </thead>\n  <tbody>\n    <tr>\n      <th>0</th>\n      <td>16.990</td>\n      <td>1.010</td>\n      <td>Female</td>\n      <td>No</td>\n      <td>Sun</td>\n      <td>Dinner</td>\n      <td>2</td>\n    </tr>\n    <tr>\n      <th>1</th>\n      <td>10.340</td>\n      <td>1.660</td>\n      <td>Male</td>\n      <td>No</td>\n      <td>Sun</td>\n      <td>Dinner</td>\n      <td>3</td>\n    </tr>\n    <tr>\n      <th>2</th>\n      <td>21.010</td>\n      <td>3.500</td>\n      <td>Male</td>\n      <td>No</td>\n      <td>Sun</td>\n      <td>Dinner</td>\n      <td>3</td>\n    </tr>\n    <tr>\n      <th>3</th>\n      <td>23.680</td>\n      <td>3.310</td>\n      <td>Male</td>\n      <td>No</td>\n      <td>Sun</td>\n      <td>Dinner</td>\n      <td>2</td>\n    </tr>\n    <tr>\n      <th>4</th>\n      <td>24.590</td>\n      <td>3.610</td>\n      <td>Female</td>\n      <td>No</td>\n      <td>Sun</td>\n      <td>Dinner</td>\n      <td>4</td>\n    </tr>\n  </tbody>\n</table>\n</div>"
     },
     "execution_count": 5,
     "metadata": {},
     "output_type": "execute_result"
    }
   ],
   "source": [
    "df_tips = sns.load_dataset('tips')\n",
    "print(df_tips.shape)\n",
    "df_tips.head()"
   ],
   "metadata": {
    "collapsed": false,
    "pycharm": {
     "name": "#%%\n"
    }
   }
  },
  {
   "cell_type": "code",
   "execution_count": 6,
   "outputs": [
    {
     "data": {
      "text/plain": "        total_bill     tip   sex smoker  day    time    size\ncount      244.000 244.000   244    244  244     244 244.000\nunique         NaN     NaN     2      2    4       2     NaN\ntop            NaN     NaN  Male     No  Sat  Dinner     NaN\nfreq           NaN     NaN   157    151   87     176     NaN\nmean        19.786   2.998   NaN    NaN  NaN     NaN   2.570\nstd          8.902   1.384   NaN    NaN  NaN     NaN   0.951\nmin          3.070   1.000   NaN    NaN  NaN     NaN   1.000\n25%         13.348   2.000   NaN    NaN  NaN     NaN   2.000\n50%         17.795   2.900   NaN    NaN  NaN     NaN   2.000\n75%         24.127   3.562   NaN    NaN  NaN     NaN   3.000\nmax         50.810  10.000   NaN    NaN  NaN     NaN   6.000",
      "text/html": "<div>\n<style scoped>\n    .dataframe tbody tr th:only-of-type {\n        vertical-align: middle;\n    }\n\n    .dataframe tbody tr th {\n        vertical-align: top;\n    }\n\n    .dataframe thead th {\n        text-align: right;\n    }\n</style>\n<table border=\"1\" class=\"dataframe\">\n  <thead>\n    <tr style=\"text-align: right;\">\n      <th></th>\n      <th>total_bill</th>\n      <th>tip</th>\n      <th>sex</th>\n      <th>smoker</th>\n      <th>day</th>\n      <th>time</th>\n      <th>size</th>\n    </tr>\n  </thead>\n  <tbody>\n    <tr>\n      <th>count</th>\n      <td>244.000</td>\n      <td>244.000</td>\n      <td>244</td>\n      <td>244</td>\n      <td>244</td>\n      <td>244</td>\n      <td>244.000</td>\n    </tr>\n    <tr>\n      <th>unique</th>\n      <td>NaN</td>\n      <td>NaN</td>\n      <td>2</td>\n      <td>2</td>\n      <td>4</td>\n      <td>2</td>\n      <td>NaN</td>\n    </tr>\n    <tr>\n      <th>top</th>\n      <td>NaN</td>\n      <td>NaN</td>\n      <td>Male</td>\n      <td>No</td>\n      <td>Sat</td>\n      <td>Dinner</td>\n      <td>NaN</td>\n    </tr>\n    <tr>\n      <th>freq</th>\n      <td>NaN</td>\n      <td>NaN</td>\n      <td>157</td>\n      <td>151</td>\n      <td>87</td>\n      <td>176</td>\n      <td>NaN</td>\n    </tr>\n    <tr>\n      <th>mean</th>\n      <td>19.786</td>\n      <td>2.998</td>\n      <td>NaN</td>\n      <td>NaN</td>\n      <td>NaN</td>\n      <td>NaN</td>\n      <td>2.570</td>\n    </tr>\n    <tr>\n      <th>std</th>\n      <td>8.902</td>\n      <td>1.384</td>\n      <td>NaN</td>\n      <td>NaN</td>\n      <td>NaN</td>\n      <td>NaN</td>\n      <td>0.951</td>\n    </tr>\n    <tr>\n      <th>min</th>\n      <td>3.070</td>\n      <td>1.000</td>\n      <td>NaN</td>\n      <td>NaN</td>\n      <td>NaN</td>\n      <td>NaN</td>\n      <td>1.000</td>\n    </tr>\n    <tr>\n      <th>25%</th>\n      <td>13.348</td>\n      <td>2.000</td>\n      <td>NaN</td>\n      <td>NaN</td>\n      <td>NaN</td>\n      <td>NaN</td>\n      <td>2.000</td>\n    </tr>\n    <tr>\n      <th>50%</th>\n      <td>17.795</td>\n      <td>2.900</td>\n      <td>NaN</td>\n      <td>NaN</td>\n      <td>NaN</td>\n      <td>NaN</td>\n      <td>2.000</td>\n    </tr>\n    <tr>\n      <th>75%</th>\n      <td>24.127</td>\n      <td>3.562</td>\n      <td>NaN</td>\n      <td>NaN</td>\n      <td>NaN</td>\n      <td>NaN</td>\n      <td>3.000</td>\n    </tr>\n    <tr>\n      <th>max</th>\n      <td>50.810</td>\n      <td>10.000</td>\n      <td>NaN</td>\n      <td>NaN</td>\n      <td>NaN</td>\n      <td>NaN</td>\n      <td>6.000</td>\n    </tr>\n  </tbody>\n</table>\n</div>"
     },
     "execution_count": 6,
     "metadata": {},
     "output_type": "execute_result"
    }
   ],
   "source": [
    "df_tips.describe(include='all')"
   ],
   "metadata": {
    "collapsed": false,
    "pycharm": {
     "name": "#%%\n"
    }
   }
  },
  {
   "cell_type": "code",
   "execution_count": 14,
   "outputs": [
    {
     "data": {
      "text/plain": "total_bill    229\ntip           123\nsex             2\nsmoker          2\nday             4\ntime            2\nsize            6\ndtype: int64"
     },
     "execution_count": 14,
     "metadata": {},
     "output_type": "execute_result"
    }
   ],
   "source": [
    "# Sirve para identificar rapidamente valores categoricos\n",
    "df_tips.nunique()"
   ],
   "metadata": {
    "collapsed": false,
    "pycharm": {
     "name": "#%%\n"
    }
   }
  },
  {
   "cell_type": "code",
   "execution_count": 18,
   "outputs": [
    {
     "data": {
      "text/plain": "      day\nSat    87\nSun    76\nThur   62\nFri    19",
      "text/html": "<div>\n<style scoped>\n    .dataframe tbody tr th:only-of-type {\n        vertical-align: middle;\n    }\n\n    .dataframe tbody tr th {\n        vertical-align: top;\n    }\n\n    .dataframe thead th {\n        text-align: right;\n    }\n</style>\n<table border=\"1\" class=\"dataframe\">\n  <thead>\n    <tr style=\"text-align: right;\">\n      <th></th>\n      <th>day</th>\n    </tr>\n  </thead>\n  <tbody>\n    <tr>\n      <th>Sat</th>\n      <td>87</td>\n    </tr>\n    <tr>\n      <th>Sun</th>\n      <td>76</td>\n    </tr>\n    <tr>\n      <th>Thur</th>\n      <td>62</td>\n    </tr>\n    <tr>\n      <th>Fri</th>\n      <td>19</td>\n    </tr>\n  </tbody>\n</table>\n</div>"
     },
     "execution_count": 18,
     "metadata": {},
     "output_type": "execute_result"
    }
   ],
   "source": [
    "# Conteo de datos en una columna\n",
    "df_tips['day'].value_counts().to_frame()"
   ],
   "metadata": {
    "collapsed": false,
    "pycharm": {
     "name": "#%%\n"
    }
   }
  },
  {
   "cell_type": "code",
   "execution_count": 16,
   "outputs": [
    {
     "data": {
      "text/plain": "        total_bill   tip  size\nsex                           \nMale        20.744 3.090 2.631\nFemale      18.057 2.833 2.460",
      "text/html": "<div>\n<style scoped>\n    .dataframe tbody tr th:only-of-type {\n        vertical-align: middle;\n    }\n\n    .dataframe tbody tr th {\n        vertical-align: top;\n    }\n\n    .dataframe thead th {\n        text-align: right;\n    }\n</style>\n<table border=\"1\" class=\"dataframe\">\n  <thead>\n    <tr style=\"text-align: right;\">\n      <th></th>\n      <th>total_bill</th>\n      <th>tip</th>\n      <th>size</th>\n    </tr>\n    <tr>\n      <th>sex</th>\n      <th></th>\n      <th></th>\n      <th></th>\n    </tr>\n  </thead>\n  <tbody>\n    <tr>\n      <th>Male</th>\n      <td>20.744</td>\n      <td>3.090</td>\n      <td>2.631</td>\n    </tr>\n    <tr>\n      <th>Female</th>\n      <td>18.057</td>\n      <td>2.833</td>\n      <td>2.460</td>\n    </tr>\n  </tbody>\n</table>\n</div>"
     },
     "execution_count": 16,
     "metadata": {},
     "output_type": "execute_result"
    }
   ],
   "source": [
    "# Agrupacion por columna y aplicando la media\n",
    "df_tips.groupby('sex').mean()"
   ],
   "metadata": {
    "collapsed": false,
    "pycharm": {
     "name": "#%%\n"
    }
   }
  },
  {
   "cell_type": "code",
   "execution_count": 19,
   "outputs": [
    {
     "data": {
      "text/plain": "     total_bill   tip     sex smoker   day    time  size  prct_tip\n239      29.030 5.920    Male     No   Sat  Dinner     3     0.204\n240      27.180 2.000  Female    Yes   Sat  Dinner     2     0.074\n241      22.670 2.000    Male    Yes   Sat  Dinner     2     0.088\n242      17.820 1.750    Male     No   Sat  Dinner     2     0.098\n243      18.780 3.000  Female     No  Thur  Dinner     2     0.160",
      "text/html": "<div>\n<style scoped>\n    .dataframe tbody tr th:only-of-type {\n        vertical-align: middle;\n    }\n\n    .dataframe tbody tr th {\n        vertical-align: top;\n    }\n\n    .dataframe thead th {\n        text-align: right;\n    }\n</style>\n<table border=\"1\" class=\"dataframe\">\n  <thead>\n    <tr style=\"text-align: right;\">\n      <th></th>\n      <th>total_bill</th>\n      <th>tip</th>\n      <th>sex</th>\n      <th>smoker</th>\n      <th>day</th>\n      <th>time</th>\n      <th>size</th>\n      <th>prct_tip</th>\n    </tr>\n  </thead>\n  <tbody>\n    <tr>\n      <th>239</th>\n      <td>29.030</td>\n      <td>5.920</td>\n      <td>Male</td>\n      <td>No</td>\n      <td>Sat</td>\n      <td>Dinner</td>\n      <td>3</td>\n      <td>0.204</td>\n    </tr>\n    <tr>\n      <th>240</th>\n      <td>27.180</td>\n      <td>2.000</td>\n      <td>Female</td>\n      <td>Yes</td>\n      <td>Sat</td>\n      <td>Dinner</td>\n      <td>2</td>\n      <td>0.074</td>\n    </tr>\n    <tr>\n      <th>241</th>\n      <td>22.670</td>\n      <td>2.000</td>\n      <td>Male</td>\n      <td>Yes</td>\n      <td>Sat</td>\n      <td>Dinner</td>\n      <td>2</td>\n      <td>0.088</td>\n    </tr>\n    <tr>\n      <th>242</th>\n      <td>17.820</td>\n      <td>1.750</td>\n      <td>Male</td>\n      <td>No</td>\n      <td>Sat</td>\n      <td>Dinner</td>\n      <td>2</td>\n      <td>0.098</td>\n    </tr>\n    <tr>\n      <th>243</th>\n      <td>18.780</td>\n      <td>3.000</td>\n      <td>Female</td>\n      <td>No</td>\n      <td>Thur</td>\n      <td>Dinner</td>\n      <td>2</td>\n      <td>0.160</td>\n    </tr>\n  </tbody>\n</table>\n</div>"
     },
     "execution_count": 19,
     "metadata": {},
     "output_type": "execute_result"
    }
   ],
   "source": [
    "# Creando una nueva columna con operaciones entre columna\n",
    "df_tips['prct_tip'] = df_tips['tip'] / df_tips['total_bill']\n",
    "df_tips.tail()"
   ],
   "metadata": {
    "collapsed": false,
    "pycharm": {
     "name": "#%%\n"
    }
   }
  },
  {
   "cell_type": "code",
   "execution_count": 20,
   "outputs": [
    {
     "data": {
      "text/plain": "       total_bill                                                prct_tip  \\\n            count   mean   std   min    25%    50%    75%    max    count   \nsex                                                                         \nMale      157.000 20.744 9.246 7.250 14.000 18.350 24.710 50.810  157.000   \nFemale     87.000 18.057 8.009 3.070 12.750 16.400 21.520 44.300   87.000   \n\n                                                  \n        mean   std   min   25%   50%   75%   max  \nsex                                               \nMale   0.158 0.065 0.036 0.121 0.153 0.186 0.710  \nFemale 0.166 0.054 0.056 0.140 0.156 0.194 0.417  ",
      "text/html": "<div>\n<style scoped>\n    .dataframe tbody tr th:only-of-type {\n        vertical-align: middle;\n    }\n\n    .dataframe tbody tr th {\n        vertical-align: top;\n    }\n\n    .dataframe thead tr th {\n        text-align: left;\n    }\n\n    .dataframe thead tr:last-of-type th {\n        text-align: right;\n    }\n</style>\n<table border=\"1\" class=\"dataframe\">\n  <thead>\n    <tr>\n      <th></th>\n      <th colspan=\"8\" halign=\"left\">total_bill</th>\n      <th colspan=\"8\" halign=\"left\">prct_tip</th>\n    </tr>\n    <tr>\n      <th></th>\n      <th>count</th>\n      <th>mean</th>\n      <th>std</th>\n      <th>min</th>\n      <th>25%</th>\n      <th>50%</th>\n      <th>75%</th>\n      <th>max</th>\n      <th>count</th>\n      <th>mean</th>\n      <th>std</th>\n      <th>min</th>\n      <th>25%</th>\n      <th>50%</th>\n      <th>75%</th>\n      <th>max</th>\n    </tr>\n    <tr>\n      <th>sex</th>\n      <th></th>\n      <th></th>\n      <th></th>\n      <th></th>\n      <th></th>\n      <th></th>\n      <th></th>\n      <th></th>\n      <th></th>\n      <th></th>\n      <th></th>\n      <th></th>\n      <th></th>\n      <th></th>\n      <th></th>\n      <th></th>\n    </tr>\n  </thead>\n  <tbody>\n    <tr>\n      <th>Male</th>\n      <td>157.000</td>\n      <td>20.744</td>\n      <td>9.246</td>\n      <td>7.250</td>\n      <td>14.000</td>\n      <td>18.350</td>\n      <td>24.710</td>\n      <td>50.810</td>\n      <td>157.000</td>\n      <td>0.158</td>\n      <td>0.065</td>\n      <td>0.036</td>\n      <td>0.121</td>\n      <td>0.153</td>\n      <td>0.186</td>\n      <td>0.710</td>\n    </tr>\n    <tr>\n      <th>Female</th>\n      <td>87.000</td>\n      <td>18.057</td>\n      <td>8.009</td>\n      <td>3.070</td>\n      <td>12.750</td>\n      <td>16.400</td>\n      <td>21.520</td>\n      <td>44.300</td>\n      <td>87.000</td>\n      <td>0.166</td>\n      <td>0.054</td>\n      <td>0.056</td>\n      <td>0.140</td>\n      <td>0.156</td>\n      <td>0.194</td>\n      <td>0.417</td>\n    </tr>\n  </tbody>\n</table>\n</div>"
     },
     "execution_count": 20,
     "metadata": {},
     "output_type": "execute_result"
    }
   ],
   "source": [
    "# Agrupacion por columna, pivoteando otras columnas y aplicando funciones\n",
    "df_tips.groupby('sex')[['total_bill', 'prct_tip']].describe()"
   ],
   "metadata": {
    "collapsed": false,
    "pycharm": {
     "name": "#%%\n"
    }
   }
  },
  {
   "cell_type": "code",
   "execution_count": 21,
   "outputs": [
    {
     "name": "stdout",
     "output_type": "stream",
     "text": [
      "        total_bill  prct_tip\n",
      "sex                         \n",
      "Male        23.233     0.177\n",
      "Female      20.224     0.186\n",
      "               total_bill  prct_tip\n",
      "sex    time                        \n",
      "Male   Lunch       20.214     0.186\n",
      "       Dinner      24.037     0.174\n",
      "Female Lunch       18.300     0.182\n",
      "       Dinner      21.519     0.190\n",
      "               total_bill  prct_tip\n",
      "sex    time                        \n",
      "Male   Lunch       20.214     0.186\n",
      "       Dinner      24.037     0.174\n",
      "Female Lunch       18.300     0.182\n",
      "       Dinner      21.519     0.190\n",
      "              total_bill                  prct_tip             \n",
      "                    mean   amax       sum     mean  amax    sum\n",
      "sex    time                                                    \n",
      "Male   Lunch      18.048 41.190   595.600    0.166 0.266  5.481\n",
      "       Dinner     21.461 50.810 2,661.220    0.155 0.710 19.270\n",
      "Female Lunch      16.339 43.110   571.870    0.162 0.259  5.680\n",
      "       Dinner     19.213 44.300   999.080    0.169 0.417  8.805\n"
     ]
    }
   ],
   "source": [
    "# Aplicando funciones a columnas\n",
    "def mean_eur2usd(x):\n",
    "    y = np.mean(x) * 1.12\n",
    "    return y\n",
    "\n",
    "\n",
    "# Agrupacion por una columna, pivoteando otras columnas aplicando funciones\n",
    "print(df_tips.groupby('sex')[['total_bill', 'prct_tip']].apply(mean_eur2usd))\n",
    "# Agrupacion por mas de una columna, pivoteando otras columnas aplicando funciones\n",
    "print(df_tips.groupby(['sex', 'time'])[['total_bill', 'prct_tip']].apply(mean_eur2usd))\n",
    "# Agrupacion por mas de una columna, aplicando una lambda\n",
    "print(df_tips.groupby(['sex', 'time'])[['total_bill', 'prct_tip']].apply(lambda x: np.mean(x) * 1.12))\n",
    "# Agrupacion por mas de una columna, aplicando mas de una funcion\n",
    "print(df_tips.groupby(['sex', 'time'])[['total_bill', 'prct_tip']].aggregate([np.mean, np.max, np.sum]))"
   ],
   "metadata": {
    "collapsed": false,
    "pycharm": {
     "name": "#%%\n"
    }
   }
  },
  {
   "cell_type": "code",
   "execution_count": 22,
   "outputs": [
    {
     "data": {
      "text/plain": "                tip        total_bill                prct_tip       \n                min    max       mean mean_eur2usd <lambda_0>    sum\nsex    time                                                         \nMale   Lunch  1.440  6.700     18.048       20.214      0.186  5.481\n       Dinner 1.000 10.000     21.461       24.037      0.174 19.270\nFemale Lunch  1.250  5.170     16.339       18.300      0.182  5.680\n       Dinner 1.000  6.500     19.213       21.519      0.190  8.805",
      "text/html": "<div>\n<style scoped>\n    .dataframe tbody tr th:only-of-type {\n        vertical-align: middle;\n    }\n\n    .dataframe tbody tr th {\n        vertical-align: top;\n    }\n\n    .dataframe thead tr th {\n        text-align: left;\n    }\n\n    .dataframe thead tr:last-of-type th {\n        text-align: right;\n    }\n</style>\n<table border=\"1\" class=\"dataframe\">\n  <thead>\n    <tr>\n      <th></th>\n      <th></th>\n      <th colspan=\"2\" halign=\"left\">tip</th>\n      <th colspan=\"2\" halign=\"left\">total_bill</th>\n      <th colspan=\"2\" halign=\"left\">prct_tip</th>\n    </tr>\n    <tr>\n      <th></th>\n      <th></th>\n      <th>min</th>\n      <th>max</th>\n      <th>mean</th>\n      <th>mean_eur2usd</th>\n      <th>&lt;lambda_0&gt;</th>\n      <th>sum</th>\n    </tr>\n    <tr>\n      <th>sex</th>\n      <th>time</th>\n      <th></th>\n      <th></th>\n      <th></th>\n      <th></th>\n      <th></th>\n      <th></th>\n    </tr>\n  </thead>\n  <tbody>\n    <tr>\n      <th rowspan=\"2\" valign=\"top\">Male</th>\n      <th>Lunch</th>\n      <td>1.440</td>\n      <td>6.700</td>\n      <td>18.048</td>\n      <td>20.214</td>\n      <td>0.186</td>\n      <td>5.481</td>\n    </tr>\n    <tr>\n      <th>Dinner</th>\n      <td>1.000</td>\n      <td>10.000</td>\n      <td>21.461</td>\n      <td>24.037</td>\n      <td>0.174</td>\n      <td>19.270</td>\n    </tr>\n    <tr>\n      <th rowspan=\"2\" valign=\"top\">Female</th>\n      <th>Lunch</th>\n      <td>1.250</td>\n      <td>5.170</td>\n      <td>16.339</td>\n      <td>18.300</td>\n      <td>0.182</td>\n      <td>5.680</td>\n    </tr>\n    <tr>\n      <th>Dinner</th>\n      <td>1.000</td>\n      <td>6.500</td>\n      <td>19.213</td>\n      <td>21.519</td>\n      <td>0.190</td>\n      <td>8.805</td>\n    </tr>\n  </tbody>\n</table>\n</div>"
     },
     "execution_count": 22,
     "metadata": {},
     "output_type": "execute_result"
    }
   ],
   "source": [
    "# Usando un diccionario para definir todas las funciones a aplicar a la agrupacion\n",
    "dict_agg = {\n",
    "    'tip': [min, max],\n",
    "    'total_bill': [np.mean, mean_eur2usd],\n",
    "    'prct_tip': [lambda x: np.mean(x) * 1.12, np.sum]\n",
    "}\n",
    "\n",
    "df_tips.groupby(['sex', 'time'])[['tip', 'total_bill', 'prct_tip', ]].aggregate(dict_agg)\n"
   ],
   "metadata": {
    "collapsed": false,
    "pycharm": {
     "name": "#%%\n"
    }
   }
  },
  {
   "cell_type": "code",
   "execution_count": 24,
   "outputs": [
    {
     "name": "stdout",
     "output_type": "stream",
     "text": [
      "(209, 8)\n"
     ]
    },
    {
     "data": {
      "text/plain": "   total_bill   tip     sex smoker  day    time  size  prct_tip\n0      16.990 1.010  Female     No  Sun  Dinner     2     0.059\n1      10.340 1.660    Male     No  Sun  Dinner     3     0.161\n2      21.010 3.500    Male     No  Sun  Dinner     3     0.167\n3      23.680 3.310    Male     No  Sun  Dinner     2     0.140\n4      24.590 3.610  Female     No  Sun  Dinner     4     0.147",
      "text/html": "<div>\n<style scoped>\n    .dataframe tbody tr th:only-of-type {\n        vertical-align: middle;\n    }\n\n    .dataframe tbody tr th {\n        vertical-align: top;\n    }\n\n    .dataframe thead th {\n        text-align: right;\n    }\n</style>\n<table border=\"1\" class=\"dataframe\">\n  <thead>\n    <tr style=\"text-align: right;\">\n      <th></th>\n      <th>total_bill</th>\n      <th>tip</th>\n      <th>sex</th>\n      <th>smoker</th>\n      <th>day</th>\n      <th>time</th>\n      <th>size</th>\n      <th>prct_tip</th>\n    </tr>\n  </thead>\n  <tbody>\n    <tr>\n      <th>0</th>\n      <td>16.990</td>\n      <td>1.010</td>\n      <td>Female</td>\n      <td>No</td>\n      <td>Sun</td>\n      <td>Dinner</td>\n      <td>2</td>\n      <td>0.059</td>\n    </tr>\n    <tr>\n      <th>1</th>\n      <td>10.340</td>\n      <td>1.660</td>\n      <td>Male</td>\n      <td>No</td>\n      <td>Sun</td>\n      <td>Dinner</td>\n      <td>3</td>\n      <td>0.161</td>\n    </tr>\n    <tr>\n      <th>2</th>\n      <td>21.010</td>\n      <td>3.500</td>\n      <td>Male</td>\n      <td>No</td>\n      <td>Sun</td>\n      <td>Dinner</td>\n      <td>3</td>\n      <td>0.167</td>\n    </tr>\n    <tr>\n      <th>3</th>\n      <td>23.680</td>\n      <td>3.310</td>\n      <td>Male</td>\n      <td>No</td>\n      <td>Sun</td>\n      <td>Dinner</td>\n      <td>2</td>\n      <td>0.140</td>\n    </tr>\n    <tr>\n      <th>4</th>\n      <td>24.590</td>\n      <td>3.610</td>\n      <td>Female</td>\n      <td>No</td>\n      <td>Sun</td>\n      <td>Dinner</td>\n      <td>4</td>\n      <td>0.147</td>\n    </tr>\n  </tbody>\n</table>\n</div>"
     },
     "execution_count": 24,
     "metadata": {},
     "output_type": "execute_result"
    }
   ],
   "source": [
    "# Filtrando agrupacion por una funcion\n",
    "def f_filter(x):\n",
    "    return mean_eur2usd(x['total_bill'].mean()) > 20\n",
    "\n",
    "\n",
    "df_filtered = df_tips.groupby(['sex', 'time']).filter(f_filter)\n",
    "print(df_filtered.shape)\n",
    "df_filtered.head()"
   ],
   "metadata": {
    "collapsed": false,
    "pycharm": {
     "name": "#%%\n"
    }
   }
  },
  {
   "cell_type": "code",
   "execution_count": 25,
   "outputs": [
    {
     "data": {
      "text/plain": "               total_bill  tip  smoker  day  size  prct_tip\nsex    time                                                \nMale   Lunch           33   33      33   33    33        33\n       Dinner         124  124     124  124   124       124\nFemale Lunch            0    0       0    0     0         0\n       Dinner          52   52      52   52    52        52",
      "text/html": "<div>\n<style scoped>\n    .dataframe tbody tr th:only-of-type {\n        vertical-align: middle;\n    }\n\n    .dataframe tbody tr th {\n        vertical-align: top;\n    }\n\n    .dataframe thead th {\n        text-align: right;\n    }\n</style>\n<table border=\"1\" class=\"dataframe\">\n  <thead>\n    <tr style=\"text-align: right;\">\n      <th></th>\n      <th></th>\n      <th>total_bill</th>\n      <th>tip</th>\n      <th>smoker</th>\n      <th>day</th>\n      <th>size</th>\n      <th>prct_tip</th>\n    </tr>\n    <tr>\n      <th>sex</th>\n      <th>time</th>\n      <th></th>\n      <th></th>\n      <th></th>\n      <th></th>\n      <th></th>\n      <th></th>\n    </tr>\n  </thead>\n  <tbody>\n    <tr>\n      <th rowspan=\"2\" valign=\"top\">Male</th>\n      <th>Lunch</th>\n      <td>33</td>\n      <td>33</td>\n      <td>33</td>\n      <td>33</td>\n      <td>33</td>\n      <td>33</td>\n    </tr>\n    <tr>\n      <th>Dinner</th>\n      <td>124</td>\n      <td>124</td>\n      <td>124</td>\n      <td>124</td>\n      <td>124</td>\n      <td>124</td>\n    </tr>\n    <tr>\n      <th rowspan=\"2\" valign=\"top\">Female</th>\n      <th>Lunch</th>\n      <td>0</td>\n      <td>0</td>\n      <td>0</td>\n      <td>0</td>\n      <td>0</td>\n      <td>0</td>\n    </tr>\n    <tr>\n      <th>Dinner</th>\n      <td>52</td>\n      <td>52</td>\n      <td>52</td>\n      <td>52</td>\n      <td>52</td>\n      <td>52</td>\n    </tr>\n  </tbody>\n</table>\n</div>"
     },
     "execution_count": 25,
     "metadata": {},
     "output_type": "execute_result"
    }
   ],
   "source": [
    "# Contando registros a partir de la agrupacion\n",
    "df_filtered.groupby(['sex', 'time']).count()\n"
   ],
   "metadata": {
    "collapsed": false,
    "pycharm": {
     "name": "#%%\n"
    }
   }
  },
  {
   "cell_type": "code",
   "execution_count": 28,
   "outputs": [
    {
     "name": "stdout",
     "output_type": "stream",
     "text": [
      "   total_bill   tip     sex smoker  day    time  size  prct_tip  ones\n",
      "0      16.990 1.010  Female     No  Sun  Dinner     2     0.059     1\n",
      "1      10.340 1.660    Male     No  Sun  Dinner     3     0.161     1\n",
      "2      21.010 3.500    Male     No  Sun  Dinner     3     0.167     1\n",
      "3      23.680 3.310    Male     No  Sun  Dinner     2     0.140     1\n",
      "4      24.590 3.610  Female     No  Sun  Dinner     4     0.147     1\n"
     ]
    },
    {
     "data": {
      "text/plain": "               ones\nsex    smoker      \nMale   Yes       60\n       No        97\nFemale Yes       33\n       No        54",
      "text/html": "<div>\n<style scoped>\n    .dataframe tbody tr th:only-of-type {\n        vertical-align: middle;\n    }\n\n    .dataframe tbody tr th {\n        vertical-align: top;\n    }\n\n    .dataframe thead th {\n        text-align: right;\n    }\n</style>\n<table border=\"1\" class=\"dataframe\">\n  <thead>\n    <tr style=\"text-align: right;\">\n      <th></th>\n      <th></th>\n      <th>ones</th>\n    </tr>\n    <tr>\n      <th>sex</th>\n      <th>smoker</th>\n      <th></th>\n    </tr>\n  </thead>\n  <tbody>\n    <tr>\n      <th rowspan=\"2\" valign=\"top\">Male</th>\n      <th>Yes</th>\n      <td>60</td>\n    </tr>\n    <tr>\n      <th>No</th>\n      <td>97</td>\n    </tr>\n    <tr>\n      <th rowspan=\"2\" valign=\"top\">Female</th>\n      <th>Yes</th>\n      <td>33</td>\n    </tr>\n    <tr>\n      <th>No</th>\n      <td>54</td>\n    </tr>\n  </tbody>\n</table>\n</div>"
     },
     "execution_count": 28,
     "metadata": {},
     "output_type": "execute_result"
    }
   ],
   "source": [
    "# Creando una columna con el valor 1, que servira para hacer conteos en las agrupaciones\n",
    "df_tips['ones'] = 1\n",
    "print(df_tips.head())\n",
    "# Usando la columna de ones para sumar en la agrupacion, suponiendo que 1 registro equivale a un dato valido\n",
    "df_g = df_tips.groupby(['sex', 'smoker'])[['ones']].sum()\n",
    "df_g"
   ],
   "metadata": {
    "collapsed": false,
    "pycharm": {
     "name": "#%%\n"
    }
   }
  },
  {
   "cell_type": "code",
   "execution_count": 29,
   "outputs": [
    {
     "data": {
      "text/plain": "         ones\nsex          \nMale    15700\nFemale   8700",
      "text/html": "<div>\n<style scoped>\n    .dataframe tbody tr th:only-of-type {\n        vertical-align: middle;\n    }\n\n    .dataframe tbody tr th {\n        vertical-align: top;\n    }\n\n    .dataframe thead th {\n        text-align: right;\n    }\n</style>\n<table border=\"1\" class=\"dataframe\">\n  <thead>\n    <tr style=\"text-align: right;\">\n      <th></th>\n      <th>ones</th>\n    </tr>\n    <tr>\n      <th>sex</th>\n      <th></th>\n    </tr>\n  </thead>\n  <tbody>\n    <tr>\n      <th>Male</th>\n      <td>15700</td>\n    </tr>\n    <tr>\n      <th>Female</th>\n      <td>8700</td>\n    </tr>\n  </tbody>\n</table>\n</div>"
     },
     "execution_count": 29,
     "metadata": {},
     "output_type": "execute_result"
    }
   ],
   "source": [
    "# Usando la agrupacion formada, y aplicando sobre alguno de los niveles de la agurpacion una funcion\n",
    "# Para este caso se esta sacando el porcentaje de participacion\n",
    "df_g.groupby(level=0).apply(lambda x: x.sum() * 100)\n",
    "\n"
   ],
   "metadata": {
    "collapsed": false,
    "pycharm": {
     "name": "#%%\n"
    }
   }
  },
  {
   "cell_type": "code",
   "execution_count": 34,
   "outputs": [
    {
     "name": "stdout",
     "output_type": "stream",
     "text": [
      "(3, 18]     127\n",
      "(18, 35]    101\n",
      "(35, 60]     16\n",
      "Name: total_bill, dtype: int64\n"
     ]
    }
   ],
   "source": [
    "# pd.cut // Permite hacer una segmentacion de datos a apartir de los parametros\n",
    "# Conteo de los valores que pertenecen dentro de cada rango\n",
    "print(pd.cut(df_tips['total_bill'], bins=[3, 18, 35, 60]).value_counts())"
   ],
   "metadata": {
    "collapsed": false,
    "pycharm": {
     "name": "#%%\n"
    }
   }
  },
  {
   "cell_type": "code",
   "execution_count": 35,
   "outputs": [
    {
     "data": {
      "text/plain": "   total_bill   tip     sex smoker  day    time  size  prct_tip  ones  \\\n0      16.990 1.010  Female     No  Sun  Dinner     2     0.059     1   \n1      10.340 1.660    Male     No  Sun  Dinner     3     0.161     1   \n2      21.010 3.500    Male     No  Sun  Dinner     3     0.167     1   \n3      23.680 3.310    Male     No  Sun  Dinner     2     0.140     1   \n4      24.590 3.610  Female     No  Sun  Dinner     4     0.147     1   \n\n  bin_total  \n0   (3, 18]  \n1   (3, 18]  \n2  (18, 35]  \n3  (18, 35]  \n4  (18, 35]  ",
      "text/html": "<div>\n<style scoped>\n    .dataframe tbody tr th:only-of-type {\n        vertical-align: middle;\n    }\n\n    .dataframe tbody tr th {\n        vertical-align: top;\n    }\n\n    .dataframe thead th {\n        text-align: right;\n    }\n</style>\n<table border=\"1\" class=\"dataframe\">\n  <thead>\n    <tr style=\"text-align: right;\">\n      <th></th>\n      <th>total_bill</th>\n      <th>tip</th>\n      <th>sex</th>\n      <th>smoker</th>\n      <th>day</th>\n      <th>time</th>\n      <th>size</th>\n      <th>prct_tip</th>\n      <th>ones</th>\n      <th>bin_total</th>\n    </tr>\n  </thead>\n  <tbody>\n    <tr>\n      <th>0</th>\n      <td>16.990</td>\n      <td>1.010</td>\n      <td>Female</td>\n      <td>No</td>\n      <td>Sun</td>\n      <td>Dinner</td>\n      <td>2</td>\n      <td>0.059</td>\n      <td>1</td>\n      <td>(3, 18]</td>\n    </tr>\n    <tr>\n      <th>1</th>\n      <td>10.340</td>\n      <td>1.660</td>\n      <td>Male</td>\n      <td>No</td>\n      <td>Sun</td>\n      <td>Dinner</td>\n      <td>3</td>\n      <td>0.161</td>\n      <td>1</td>\n      <td>(3, 18]</td>\n    </tr>\n    <tr>\n      <th>2</th>\n      <td>21.010</td>\n      <td>3.500</td>\n      <td>Male</td>\n      <td>No</td>\n      <td>Sun</td>\n      <td>Dinner</td>\n      <td>3</td>\n      <td>0.167</td>\n      <td>1</td>\n      <td>(18, 35]</td>\n    </tr>\n    <tr>\n      <th>3</th>\n      <td>23.680</td>\n      <td>3.310</td>\n      <td>Male</td>\n      <td>No</td>\n      <td>Sun</td>\n      <td>Dinner</td>\n      <td>2</td>\n      <td>0.140</td>\n      <td>1</td>\n      <td>(18, 35]</td>\n    </tr>\n    <tr>\n      <th>4</th>\n      <td>24.590</td>\n      <td>3.610</td>\n      <td>Female</td>\n      <td>No</td>\n      <td>Sun</td>\n      <td>Dinner</td>\n      <td>4</td>\n      <td>0.147</td>\n      <td>1</td>\n      <td>(18, 35]</td>\n    </tr>\n  </tbody>\n</table>\n</div>"
     },
     "execution_count": 35,
     "metadata": {},
     "output_type": "execute_result"
    }
   ],
   "source": [
    "# Segmentacion de datos , agrupando en rangos un valor numerico haciendolo categorico\n",
    "# bins = [rangos a cortar la agrupacion]\n",
    "# Agrega una columna con las egmentaciones\n",
    "df_tips['bin_total'] = pd.cut(df_tips['total_bill'], bins=[3, 18, 35, 60])\n",
    "df_tips.head()"
   ],
   "metadata": {
    "collapsed": false,
    "pycharm": {
     "name": "#%%\n"
    }
   }
  },
  {
   "cell_type": "code",
   "execution_count": 37,
   "outputs": [
    {
     "data": {
      "text/plain": "                  ones\ntime   bin_total      \nLunch  (3, 18]      45\n       (18, 35]     21\n       (35, 60]      2\nDinner (3, 18]      82\n       (18, 35]     80\n       (35, 60]     14",
      "text/html": "<div>\n<style scoped>\n    .dataframe tbody tr th:only-of-type {\n        vertical-align: middle;\n    }\n\n    .dataframe tbody tr th {\n        vertical-align: top;\n    }\n\n    .dataframe thead th {\n        text-align: right;\n    }\n</style>\n<table border=\"1\" class=\"dataframe\">\n  <thead>\n    <tr style=\"text-align: right;\">\n      <th></th>\n      <th></th>\n      <th>ones</th>\n    </tr>\n    <tr>\n      <th>time</th>\n      <th>bin_total</th>\n      <th></th>\n    </tr>\n  </thead>\n  <tbody>\n    <tr>\n      <th rowspan=\"3\" valign=\"top\">Lunch</th>\n      <th>(3, 18]</th>\n      <td>45</td>\n    </tr>\n    <tr>\n      <th>(18, 35]</th>\n      <td>21</td>\n    </tr>\n    <tr>\n      <th>(35, 60]</th>\n      <td>2</td>\n    </tr>\n    <tr>\n      <th rowspan=\"3\" valign=\"top\">Dinner</th>\n      <th>(3, 18]</th>\n      <td>82</td>\n    </tr>\n    <tr>\n      <th>(18, 35]</th>\n      <td>80</td>\n    </tr>\n    <tr>\n      <th>(35, 60]</th>\n      <td>14</td>\n    </tr>\n  </tbody>\n</table>\n</div>"
     },
     "execution_count": 37,
     "metadata": {},
     "output_type": "execute_result"
    }
   ],
   "source": [
    "# Agrupando por mas de una columna, usando la columna ones para el conteo\n",
    "df_tips.groupby(['time', 'bin_total'])[['ones']].count()"
   ],
   "metadata": {
    "collapsed": false,
    "pycharm": {
     "name": "#%%\n"
    }
   }
  },
  {
   "cell_type": "code",
   "execution_count": 40,
   "outputs": [
    {
     "data": {
      "text/plain": "'\\nTABLAS PIVOTE\\n'"
     },
     "execution_count": 40,
     "metadata": {},
     "output_type": "execute_result"
    }
   ],
   "source": [
    "# Misma operacion de agrupacion, pero obteniendo la participacion por el nivel 0 de agrupacion\n",
    "df_partipacion = df_tips.groupby(['time', 'bin_total'])[['ones']].count().groupby(level=0).apply(\n",
    "    lambda x:\n",
    "    x / x.sum() * 100\n",
    ")\n",
    "df_partipacion"
   ],
   "metadata": {
    "collapsed": false,
    "pycharm": {
     "name": "#%%\n"
    }
   }
  },
  {
   "cell_type": "code",
   "execution_count": 42,
   "outputs": [
    {
     "data": {
      "text/plain": "               total_bill\nsex    time              \nMale   Lunch       18.048\n       Dinner      21.461\nFemale Lunch       16.339\n       Dinner      19.213",
      "text/html": "<div>\n<style scoped>\n    .dataframe tbody tr th:only-of-type {\n        vertical-align: middle;\n    }\n\n    .dataframe tbody tr th {\n        vertical-align: top;\n    }\n\n    .dataframe thead th {\n        text-align: right;\n    }\n</style>\n<table border=\"1\" class=\"dataframe\">\n  <thead>\n    <tr style=\"text-align: right;\">\n      <th></th>\n      <th></th>\n      <th>total_bill</th>\n    </tr>\n    <tr>\n      <th>sex</th>\n      <th>time</th>\n      <th></th>\n    </tr>\n  </thead>\n  <tbody>\n    <tr>\n      <th rowspan=\"2\" valign=\"top\">Male</th>\n      <th>Lunch</th>\n      <td>18.048</td>\n    </tr>\n    <tr>\n      <th>Dinner</th>\n      <td>21.461</td>\n    </tr>\n    <tr>\n      <th rowspan=\"2\" valign=\"top\">Female</th>\n      <th>Lunch</th>\n      <td>16.339</td>\n    </tr>\n    <tr>\n      <th>Dinner</th>\n      <td>19.213</td>\n    </tr>\n  </tbody>\n</table>\n</div>"
     },
     "execution_count": 42,
     "metadata": {},
     "output_type": "execute_result"
    }
   ],
   "source": [
    "\"\"\"\n",
    "TABLAS PIVOTE\n",
    "\"\"\"\n",
    "# Agrupacion por columnas, y aplicando funciones a partir de los valores de otra columna\n",
    "df_tips.groupby(['sex', 'time'])[['total_bill']].mean()"
   ],
   "metadata": {
    "collapsed": false,
    "pycharm": {
     "name": "#%%\n"
    }
   }
  },
  {
   "cell_type": "code",
   "execution_count": 44,
   "outputs": [
    {
     "data": {
      "text/plain": "      sex    time  total_bill\n0    Male   Lunch      18.048\n1    Male  Dinner      21.461\n2  Female   Lunch      16.339\n3  Female  Dinner      19.213",
      "text/html": "<div>\n<style scoped>\n    .dataframe tbody tr th:only-of-type {\n        vertical-align: middle;\n    }\n\n    .dataframe tbody tr th {\n        vertical-align: top;\n    }\n\n    .dataframe thead th {\n        text-align: right;\n    }\n</style>\n<table border=\"1\" class=\"dataframe\">\n  <thead>\n    <tr style=\"text-align: right;\">\n      <th></th>\n      <th>sex</th>\n      <th>time</th>\n      <th>total_bill</th>\n    </tr>\n  </thead>\n  <tbody>\n    <tr>\n      <th>0</th>\n      <td>Male</td>\n      <td>Lunch</td>\n      <td>18.048</td>\n    </tr>\n    <tr>\n      <th>1</th>\n      <td>Male</td>\n      <td>Dinner</td>\n      <td>21.461</td>\n    </tr>\n    <tr>\n      <th>2</th>\n      <td>Female</td>\n      <td>Lunch</td>\n      <td>16.339</td>\n    </tr>\n    <tr>\n      <th>3</th>\n      <td>Female</td>\n      <td>Dinner</td>\n      <td>19.213</td>\n    </tr>\n  </tbody>\n</table>\n</div>"
     },
     "execution_count": 44,
     "metadata": {},
     "output_type": "execute_result"
    }
   ],
   "source": [
    "# Añadinedo indices numericos al dataframe, de forma que confireve la agrupacion a una tabla\n",
    "df_gp = df_tips.groupby(['sex', 'time'])[['total_bill']].mean().reset_index()\n",
    "df_gp"
   ],
   "metadata": {
    "collapsed": false,
    "pycharm": {
     "name": "#%%\n"
    }
   }
  },
  {
   "cell_type": "code",
   "execution_count": 45,
   "outputs": [
    {
     "data": {
      "text/plain": "time    Lunch  Dinner\nsex                  \nMale   18.048  21.461\nFemale 16.339  19.213",
      "text/html": "<div>\n<style scoped>\n    .dataframe tbody tr th:only-of-type {\n        vertical-align: middle;\n    }\n\n    .dataframe tbody tr th {\n        vertical-align: top;\n    }\n\n    .dataframe thead th {\n        text-align: right;\n    }\n</style>\n<table border=\"1\" class=\"dataframe\">\n  <thead>\n    <tr style=\"text-align: right;\">\n      <th>time</th>\n      <th>Lunch</th>\n      <th>Dinner</th>\n    </tr>\n    <tr>\n      <th>sex</th>\n      <th></th>\n      <th></th>\n    </tr>\n  </thead>\n  <tbody>\n    <tr>\n      <th>Male</th>\n      <td>18.048</td>\n      <td>21.461</td>\n    </tr>\n    <tr>\n      <th>Female</th>\n      <td>16.339</td>\n      <td>19.213</td>\n    </tr>\n  </tbody>\n</table>\n</div>"
     },
     "execution_count": 45,
     "metadata": {},
     "output_type": "execute_result"
    }
   ],
   "source": [
    "# pivot_table(values=['valores a operar'], index=[filas o nivel de agrupacion], columns=[columnas a pivotear], aggfunc=[funciones a operar])\n",
    "# Si no se especifica el valor de aggfunc realizara la media por default\n",
    "df_gp.pivot_table(values='total_bill', index='sex', columns='time')"
   ],
   "metadata": {
    "collapsed": false,
    "pycharm": {
     "name": "#%%\n"
    }
   }
  },
  {
   "cell_type": "code",
   "execution_count": 46,
   "outputs": [
    {
     "data": {
      "text/plain": "time    Lunch  Dinner\nsex                  \nMale   18.048  21.461\nFemale 16.339  19.213",
      "text/html": "<div>\n<style scoped>\n    .dataframe tbody tr th:only-of-type {\n        vertical-align: middle;\n    }\n\n    .dataframe tbody tr th {\n        vertical-align: top;\n    }\n\n    .dataframe thead th {\n        text-align: right;\n    }\n</style>\n<table border=\"1\" class=\"dataframe\">\n  <thead>\n    <tr style=\"text-align: right;\">\n      <th>time</th>\n      <th>Lunch</th>\n      <th>Dinner</th>\n    </tr>\n    <tr>\n      <th>sex</th>\n      <th></th>\n      <th></th>\n    </tr>\n  </thead>\n  <tbody>\n    <tr>\n      <th>Male</th>\n      <td>18.048</td>\n      <td>21.461</td>\n    </tr>\n    <tr>\n      <th>Female</th>\n      <td>16.339</td>\n      <td>19.213</td>\n    </tr>\n  </tbody>\n</table>\n</div>"
     },
     "execution_count": 46,
     "metadata": {},
     "output_type": "execute_result"
    }
   ],
   "source": [
    "# pivot_table(values=['valores a operar'], index=[filas o nivel de agrupacion], columns=[columnas a pivotear], aggfunc=[funciones a operar])\n",
    "# Si no se especifica el valor de aggfunc realizara la media por default\n",
    "df_tips.pivot_table(values='total_bill', index='sex', columns='time')"
   ],
   "metadata": {
    "collapsed": false,
    "pycharm": {
     "name": "#%%\n"
    }
   }
  },
  {
   "cell_type": "code",
   "execution_count": 56,
   "outputs": [
    {
     "data": {
      "text/plain": "              median                            std                         \n                 tip        total_bill          tip        total_bill       \ntime           Lunch Dinner      Lunch Dinner Lunch Dinner      Lunch Dinner\nsex    smoker                                                               \nMale   Yes     2.200  3.000     16.000 23.100 1.096  1.596      6.852 10.250\n       No      2.405  3.000     16.975 18.290 1.486  1.497      8.739  8.748\nFemale Yes     2.500  3.000     14.845 16.320 1.057  1.306      9.426  9.290\n       No      2.000  3.000     13.420 17.310 1.078  1.118      6.759  7.298",
      "text/html": "<div>\n<style scoped>\n    .dataframe tbody tr th:only-of-type {\n        vertical-align: middle;\n    }\n\n    .dataframe tbody tr th {\n        vertical-align: top;\n    }\n\n    .dataframe thead tr th {\n        text-align: left;\n    }\n\n    .dataframe thead tr:last-of-type th {\n        text-align: right;\n    }\n</style>\n<table border=\"1\" class=\"dataframe\">\n  <thead>\n    <tr>\n      <th></th>\n      <th></th>\n      <th colspan=\"4\" halign=\"left\">median</th>\n      <th colspan=\"4\" halign=\"left\">std</th>\n    </tr>\n    <tr>\n      <th></th>\n      <th></th>\n      <th colspan=\"2\" halign=\"left\">tip</th>\n      <th colspan=\"2\" halign=\"left\">total_bill</th>\n      <th colspan=\"2\" halign=\"left\">tip</th>\n      <th colspan=\"2\" halign=\"left\">total_bill</th>\n    </tr>\n    <tr>\n      <th></th>\n      <th>time</th>\n      <th>Lunch</th>\n      <th>Dinner</th>\n      <th>Lunch</th>\n      <th>Dinner</th>\n      <th>Lunch</th>\n      <th>Dinner</th>\n      <th>Lunch</th>\n      <th>Dinner</th>\n    </tr>\n    <tr>\n      <th>sex</th>\n      <th>smoker</th>\n      <th></th>\n      <th></th>\n      <th></th>\n      <th></th>\n      <th></th>\n      <th></th>\n      <th></th>\n      <th></th>\n    </tr>\n  </thead>\n  <tbody>\n    <tr>\n      <th rowspan=\"2\" valign=\"top\">Male</th>\n      <th>Yes</th>\n      <td>2.200</td>\n      <td>3.000</td>\n      <td>16.000</td>\n      <td>23.100</td>\n      <td>1.096</td>\n      <td>1.596</td>\n      <td>6.852</td>\n      <td>10.250</td>\n    </tr>\n    <tr>\n      <th>No</th>\n      <td>2.405</td>\n      <td>3.000</td>\n      <td>16.975</td>\n      <td>18.290</td>\n      <td>1.486</td>\n      <td>1.497</td>\n      <td>8.739</td>\n      <td>8.748</td>\n    </tr>\n    <tr>\n      <th rowspan=\"2\" valign=\"top\">Female</th>\n      <th>Yes</th>\n      <td>2.500</td>\n      <td>3.000</td>\n      <td>14.845</td>\n      <td>16.320</td>\n      <td>1.057</td>\n      <td>1.306</td>\n      <td>9.426</td>\n      <td>9.290</td>\n    </tr>\n    <tr>\n      <th>No</th>\n      <td>2.000</td>\n      <td>3.000</td>\n      <td>13.420</td>\n      <td>17.310</td>\n      <td>1.078</td>\n      <td>1.118</td>\n      <td>6.759</td>\n      <td>7.298</td>\n    </tr>\n  </tbody>\n</table>\n</div>"
     },
     "execution_count": 56,
     "metadata": {},
     "output_type": "execute_result"
    }
   ],
   "source": [
    "# Tabla pivote o dinamica\n",
    "df_pivot = df_tips.pivot_table(values=['total_bill', 'tip'],\n",
    "                               index=['sex', 'smoker'],\n",
    "                               columns=['time'],\n",
    "                               aggfunc=[np.median, np.std])\n",
    "df_pivot\n",
    "#df_tips"
   ],
   "metadata": {
    "collapsed": false,
    "pycharm": {
     "name": "#%%\n"
    }
   }
  },
  {
   "cell_type": "code",
   "execution_count": 53,
   "outputs": [
    {
     "data": {
      "text/plain": "   level_0     level_1    time     sex      0\n0   median         tip   Lunch    Male  2.310\n1   median         tip   Lunch  Female  2.010\n2   median         tip  Dinner    Male  3.000\n3   median         tip  Dinner  Female  3.000\n4   median  total_bill   Lunch    Male 16.580\n5   median  total_bill   Lunch  Female 13.420\n6   median  total_bill  Dinner    Male 19.630\n7   median  total_bill  Dinner  Female 17.190\n8      std         tip   Lunch    Male  1.329\n9      std         tip   Lunch  Female  1.075\n10     std         tip  Dinner    Male  1.529\n11     std         tip  Dinner  Female  1.193\n12     std  total_bill   Lunch    Male  7.953\n13     std  total_bill   Lunch  Female  7.501\n14     std  total_bill  Dinner    Male  9.461\n15     std  total_bill  Dinner  Female  8.202",
      "text/html": "<div>\n<style scoped>\n    .dataframe tbody tr th:only-of-type {\n        vertical-align: middle;\n    }\n\n    .dataframe tbody tr th {\n        vertical-align: top;\n    }\n\n    .dataframe thead th {\n        text-align: right;\n    }\n</style>\n<table border=\"1\" class=\"dataframe\">\n  <thead>\n    <tr style=\"text-align: right;\">\n      <th></th>\n      <th>level_0</th>\n      <th>level_1</th>\n      <th>time</th>\n      <th>sex</th>\n      <th>0</th>\n    </tr>\n  </thead>\n  <tbody>\n    <tr>\n      <th>0</th>\n      <td>median</td>\n      <td>tip</td>\n      <td>Lunch</td>\n      <td>Male</td>\n      <td>2.310</td>\n    </tr>\n    <tr>\n      <th>1</th>\n      <td>median</td>\n      <td>tip</td>\n      <td>Lunch</td>\n      <td>Female</td>\n      <td>2.010</td>\n    </tr>\n    <tr>\n      <th>2</th>\n      <td>median</td>\n      <td>tip</td>\n      <td>Dinner</td>\n      <td>Male</td>\n      <td>3.000</td>\n    </tr>\n    <tr>\n      <th>3</th>\n      <td>median</td>\n      <td>tip</td>\n      <td>Dinner</td>\n      <td>Female</td>\n      <td>3.000</td>\n    </tr>\n    <tr>\n      <th>4</th>\n      <td>median</td>\n      <td>total_bill</td>\n      <td>Lunch</td>\n      <td>Male</td>\n      <td>16.580</td>\n    </tr>\n    <tr>\n      <th>5</th>\n      <td>median</td>\n      <td>total_bill</td>\n      <td>Lunch</td>\n      <td>Female</td>\n      <td>13.420</td>\n    </tr>\n    <tr>\n      <th>6</th>\n      <td>median</td>\n      <td>total_bill</td>\n      <td>Dinner</td>\n      <td>Male</td>\n      <td>19.630</td>\n    </tr>\n    <tr>\n      <th>7</th>\n      <td>median</td>\n      <td>total_bill</td>\n      <td>Dinner</td>\n      <td>Female</td>\n      <td>17.190</td>\n    </tr>\n    <tr>\n      <th>8</th>\n      <td>std</td>\n      <td>tip</td>\n      <td>Lunch</td>\n      <td>Male</td>\n      <td>1.329</td>\n    </tr>\n    <tr>\n      <th>9</th>\n      <td>std</td>\n      <td>tip</td>\n      <td>Lunch</td>\n      <td>Female</td>\n      <td>1.075</td>\n    </tr>\n    <tr>\n      <th>10</th>\n      <td>std</td>\n      <td>tip</td>\n      <td>Dinner</td>\n      <td>Male</td>\n      <td>1.529</td>\n    </tr>\n    <tr>\n      <th>11</th>\n      <td>std</td>\n      <td>tip</td>\n      <td>Dinner</td>\n      <td>Female</td>\n      <td>1.193</td>\n    </tr>\n    <tr>\n      <th>12</th>\n      <td>std</td>\n      <td>total_bill</td>\n      <td>Lunch</td>\n      <td>Male</td>\n      <td>7.953</td>\n    </tr>\n    <tr>\n      <th>13</th>\n      <td>std</td>\n      <td>total_bill</td>\n      <td>Lunch</td>\n      <td>Female</td>\n      <td>7.501</td>\n    </tr>\n    <tr>\n      <th>14</th>\n      <td>std</td>\n      <td>total_bill</td>\n      <td>Dinner</td>\n      <td>Male</td>\n      <td>9.461</td>\n    </tr>\n    <tr>\n      <th>15</th>\n      <td>std</td>\n      <td>total_bill</td>\n      <td>Dinner</td>\n      <td>Female</td>\n      <td>8.202</td>\n    </tr>\n  </tbody>\n</table>\n</div>"
     },
     "execution_count": 53,
     "metadata": {},
     "output_type": "execute_result"
    }
   ],
   "source": [
    "# Convirtiendo la agrupacion a tabla\n",
    "# .unstack() // traspone datos de columnas a filas\n",
    "# .reset_index() // agrega nuevos indices numericos\n",
    "df_pivot.unstack().reset_index()"
   ],
   "metadata": {
    "collapsed": false,
    "pycharm": {
     "name": "#%%\n"
    }
   }
  }
 ],
 "metadata": {
  "kernelspec": {
   "display_name": "Python 3",
   "language": "python",
   "name": "python3"
  },
  "language_info": {
   "codemirror_mode": {
    "name": "ipython",
    "version": 2
   },
   "file_extension": ".py",
   "mimetype": "text/x-python",
   "name": "python",
   "nbconvert_exporter": "python",
   "pygments_lexer": "ipython2",
   "version": "2.7.6"
  }
 },
 "nbformat": 4,
 "nbformat_minor": 0
}