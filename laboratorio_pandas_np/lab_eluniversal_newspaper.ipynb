{
 "cells": [
  {
   "cell_type": "code",
   "execution_count": 37,
   "metadata": {
    "collapsed": true
   },
   "outputs": [],
   "source": [
    "import pandas as pd\n",
    "from urllib.parse import urlparse\n",
    "import hashlib"
   ]
  },
  {
   "cell_type": "code",
   "execution_count": 6,
   "outputs": [
    {
     "data": {
      "text/plain": "                                               title  \\\n0  Jorge Hank Rhon llama \"basura\" a Lupita Jones;...   \n1  Usuarios reportan fallas en YouTube; videos no...   \n2  Lo que debes saber de las semifinales del Guar...   \n3  Inai llama a instituciones del Estado a conduc...   \n4  Inicia vacunación contra Covid-19 de maestros ...   \n\n                                                body  \\\n0  \\nTijuana.- El candidato a la gubernatura de B...   \n1  \\nDesde las 9:30 p.m. los usuarios de YouTube ...   \n2  \\nEstán por comenzar las semifinales del Guard...   \n3  \\nBlanca Lilia Ibarra, comisionada presidenta ...   \n4  \\nTlaxcala.- Tlaxcala inició este martes con l...   \n\n                                                link  \\\n0  https://www.eluniversal.com.mx/elecciones/jorg...   \n1  https://www.eluniversal.com.mx/cartera/usuario...   \n2  https://www.eluniversal.com.mx/universal-depor...   \n3  https://www.eluniversal.com.mx/elecciones/inai...   \n4  https://www.eluniversal.com.mx/estados/inicia-...   \n\n                             host  \n0  https://www.eluniversal.com.mx  \n1  https://www.eluniversal.com.mx  \n2  https://www.eluniversal.com.mx  \n3  https://www.eluniversal.com.mx  \n4  https://www.eluniversal.com.mx  ",
      "text/html": "<div>\n<style scoped>\n    .dataframe tbody tr th:only-of-type {\n        vertical-align: middle;\n    }\n\n    .dataframe tbody tr th {\n        vertical-align: top;\n    }\n\n    .dataframe thead th {\n        text-align: right;\n    }\n</style>\n<table border=\"1\" class=\"dataframe\">\n  <thead>\n    <tr style=\"text-align: right;\">\n      <th></th>\n      <th>title</th>\n      <th>body</th>\n      <th>link</th>\n      <th>host</th>\n    </tr>\n  </thead>\n  <tbody>\n    <tr>\n      <th>0</th>\n      <td>Jorge Hank Rhon llama \"basura\" a Lupita Jones;...</td>\n      <td>\\nTijuana.- El candidato a la gubernatura de B...</td>\n      <td>https://www.eluniversal.com.mx/elecciones/jorg...</td>\n      <td>https://www.eluniversal.com.mx</td>\n    </tr>\n    <tr>\n      <th>1</th>\n      <td>Usuarios reportan fallas en YouTube; videos no...</td>\n      <td>\\nDesde las 9:30 p.m. los usuarios de YouTube ...</td>\n      <td>https://www.eluniversal.com.mx/cartera/usuario...</td>\n      <td>https://www.eluniversal.com.mx</td>\n    </tr>\n    <tr>\n      <th>2</th>\n      <td>Lo que debes saber de las semifinales del Guar...</td>\n      <td>\\nEstán por comenzar las semifinales del Guard...</td>\n      <td>https://www.eluniversal.com.mx/universal-depor...</td>\n      <td>https://www.eluniversal.com.mx</td>\n    </tr>\n    <tr>\n      <th>3</th>\n      <td>Inai llama a instituciones del Estado a conduc...</td>\n      <td>\\nBlanca Lilia Ibarra, comisionada presidenta ...</td>\n      <td>https://www.eluniversal.com.mx/elecciones/inai...</td>\n      <td>https://www.eluniversal.com.mx</td>\n    </tr>\n    <tr>\n      <th>4</th>\n      <td>Inicia vacunación contra Covid-19 de maestros ...</td>\n      <td>\\nTlaxcala.- Tlaxcala inició este martes con l...</td>\n      <td>https://www.eluniversal.com.mx/estados/inicia-...</td>\n      <td>https://www.eluniversal.com.mx</td>\n    </tr>\n  </tbody>\n</table>\n</div>"
     },
     "execution_count": 6,
     "metadata": {},
     "output_type": "execute_result"
    }
   ],
   "source": [
    "# Load df\n",
    "df_el_universal = pd.read_csv('./../db/eluniversal_articles.csv', encoding='utf-8')\n",
    "df_el_universal.head()\n"
   ],
   "metadata": {
    "collapsed": false,
    "pycharm": {
     "name": "#%%\n"
    }
   }
  },
  {
   "cell_type": "code",
   "execution_count": 9,
   "outputs": [
    {
     "data": {
      "text/plain": "                                                title  \\\n0   Jorge Hank Rhon llama \"basura\" a Lupita Jones;...   \n1   Usuarios reportan fallas en YouTube; videos no...   \n2   Lo que debes saber de las semifinales del Guar...   \n3   Inai llama a instituciones del Estado a conduc...   \n4   Inicia vacunación contra Covid-19 de maestros ...   \n5   Fiscalía de Nueva York inicia investigación cr...   \n6   Activan Alerta Amber por Melanie Ashley, de 17...   \n7   Piden al Ejército intervenir en Saltillo ante ...   \n8   Hospitalizan a profesor de CCH Naucalpan que r...   \n9   Denuncia senador de Morena a Ricardo Gallardo ...   \n10  Tribunal Electoral de Veracruz retira candidat...   \n11  Tormenta deja afectaciones en más de 20 coloni...   \n\n                                                 link  \n0   https://www.eluniversal.com.mx/elecciones/jorg...  \n1   https://www.eluniversal.com.mx/cartera/usuario...  \n2   https://www.eluniversal.com.mx/universal-depor...  \n3   https://www.eluniversal.com.mx/elecciones/inai...  \n4   https://www.eluniversal.com.mx/estados/inicia-...  \n5   https://www.eluniversal.com.mx/mundo/fiscalia-...  \n6   https://www.eluniversal.com.mx/metropoli/activ...  \n7   https://www.eluniversal.com.mx/estados/piden-a...  \n8   https://www.eluniversal.com.mx/metropoli/hospi...  \n9   https://www.eluniversal.com.mx/elecciones/denu...  \n10  https://www.eluniversal.com.mx/elecciones/elec...  \n11  https://www.eluniversal.com.mx/estados/torment...  ",
      "text/html": "<div>\n<style scoped>\n    .dataframe tbody tr th:only-of-type {\n        vertical-align: middle;\n    }\n\n    .dataframe tbody tr th {\n        vertical-align: top;\n    }\n\n    .dataframe thead th {\n        text-align: right;\n    }\n</style>\n<table border=\"1\" class=\"dataframe\">\n  <thead>\n    <tr style=\"text-align: right;\">\n      <th></th>\n      <th>title</th>\n      <th>link</th>\n    </tr>\n  </thead>\n  <tbody>\n    <tr>\n      <th>0</th>\n      <td>Jorge Hank Rhon llama \"basura\" a Lupita Jones;...</td>\n      <td>https://www.eluniversal.com.mx/elecciones/jorg...</td>\n    </tr>\n    <tr>\n      <th>1</th>\n      <td>Usuarios reportan fallas en YouTube; videos no...</td>\n      <td>https://www.eluniversal.com.mx/cartera/usuario...</td>\n    </tr>\n    <tr>\n      <th>2</th>\n      <td>Lo que debes saber de las semifinales del Guar...</td>\n      <td>https://www.eluniversal.com.mx/universal-depor...</td>\n    </tr>\n    <tr>\n      <th>3</th>\n      <td>Inai llama a instituciones del Estado a conduc...</td>\n      <td>https://www.eluniversal.com.mx/elecciones/inai...</td>\n    </tr>\n    <tr>\n      <th>4</th>\n      <td>Inicia vacunación contra Covid-19 de maestros ...</td>\n      <td>https://www.eluniversal.com.mx/estados/inicia-...</td>\n    </tr>\n    <tr>\n      <th>5</th>\n      <td>Fiscalía de Nueva York inicia investigación cr...</td>\n      <td>https://www.eluniversal.com.mx/mundo/fiscalia-...</td>\n    </tr>\n    <tr>\n      <th>6</th>\n      <td>Activan Alerta Amber por Melanie Ashley, de 17...</td>\n      <td>https://www.eluniversal.com.mx/metropoli/activ...</td>\n    </tr>\n    <tr>\n      <th>7</th>\n      <td>Piden al Ejército intervenir en Saltillo ante ...</td>\n      <td>https://www.eluniversal.com.mx/estados/piden-a...</td>\n    </tr>\n    <tr>\n      <th>8</th>\n      <td>Hospitalizan a profesor de CCH Naucalpan que r...</td>\n      <td>https://www.eluniversal.com.mx/metropoli/hospi...</td>\n    </tr>\n    <tr>\n      <th>9</th>\n      <td>Denuncia senador de Morena a Ricardo Gallardo ...</td>\n      <td>https://www.eluniversal.com.mx/elecciones/denu...</td>\n    </tr>\n    <tr>\n      <th>10</th>\n      <td>Tribunal Electoral de Veracruz retira candidat...</td>\n      <td>https://www.eluniversal.com.mx/elecciones/elec...</td>\n    </tr>\n    <tr>\n      <th>11</th>\n      <td>Tormenta deja afectaciones en más de 20 coloni...</td>\n      <td>https://www.eluniversal.com.mx/estados/torment...</td>\n    </tr>\n  </tbody>\n</table>\n</div>"
     },
     "execution_count": 9,
     "metadata": {},
     "output_type": "execute_result"
    }
   ],
   "source": [
    "# Index and selection\n",
    "\n",
    "# Select multiple columns\n",
    "df_el_universal[['title', 'link']]"
   ],
   "metadata": {
    "collapsed": false,
    "pycharm": {
     "name": "#%%\n"
    }
   }
  },
  {
   "cell_type": "code",
   "execution_count": 13,
   "outputs": [
    {
     "data": {
      "text/plain": "                                               title  \\\n5  Fiscalía de Nueva York inicia investigación cr...   \n6  Activan Alerta Amber por Melanie Ashley, de 17...   \n7  Piden al Ejército intervenir en Saltillo ante ...   \n8  Hospitalizan a profesor de CCH Naucalpan que r...   \n9  Denuncia senador de Morena a Ricardo Gallardo ...   \n\n                                                body  \\\n5  \\nLa Organización Trump es blanco de una inves...   \n6  \\nLa Fiscalía General de Justicia activó la Al...   \n7  \\nSaltillo.- Miles de saltillenses abarrotaron...   \n8  \\nNaucalpan, Méx.- El profesor de matemáticas ...   \n9  \\nEl senador de Morena, Elí César Cervantes, p...   \n\n                                                link  \\\n5  https://www.eluniversal.com.mx/mundo/fiscalia-...   \n6  https://www.eluniversal.com.mx/metropoli/activ...   \n7  https://www.eluniversal.com.mx/estados/piden-a...   \n8  https://www.eluniversal.com.mx/metropoli/hospi...   \n9  https://www.eluniversal.com.mx/elecciones/denu...   \n\n                             host  \n5  https://www.eluniversal.com.mx  \n6  https://www.eluniversal.com.mx  \n7  https://www.eluniversal.com.mx  \n8  https://www.eluniversal.com.mx  \n9  https://www.eluniversal.com.mx  ",
      "text/html": "<div>\n<style scoped>\n    .dataframe tbody tr th:only-of-type {\n        vertical-align: middle;\n    }\n\n    .dataframe tbody tr th {\n        vertical-align: top;\n    }\n\n    .dataframe thead th {\n        text-align: right;\n    }\n</style>\n<table border=\"1\" class=\"dataframe\">\n  <thead>\n    <tr style=\"text-align: right;\">\n      <th></th>\n      <th>title</th>\n      <th>body</th>\n      <th>link</th>\n      <th>host</th>\n    </tr>\n  </thead>\n  <tbody>\n    <tr>\n      <th>5</th>\n      <td>Fiscalía de Nueva York inicia investigación cr...</td>\n      <td>\\nLa Organización Trump es blanco de una inves...</td>\n      <td>https://www.eluniversal.com.mx/mundo/fiscalia-...</td>\n      <td>https://www.eluniversal.com.mx</td>\n    </tr>\n    <tr>\n      <th>6</th>\n      <td>Activan Alerta Amber por Melanie Ashley, de 17...</td>\n      <td>\\nLa Fiscalía General de Justicia activó la Al...</td>\n      <td>https://www.eluniversal.com.mx/metropoli/activ...</td>\n      <td>https://www.eluniversal.com.mx</td>\n    </tr>\n    <tr>\n      <th>7</th>\n      <td>Piden al Ejército intervenir en Saltillo ante ...</td>\n      <td>\\nSaltillo.- Miles de saltillenses abarrotaron...</td>\n      <td>https://www.eluniversal.com.mx/estados/piden-a...</td>\n      <td>https://www.eluniversal.com.mx</td>\n    </tr>\n    <tr>\n      <th>8</th>\n      <td>Hospitalizan a profesor de CCH Naucalpan que r...</td>\n      <td>\\nNaucalpan, Méx.- El profesor de matemáticas ...</td>\n      <td>https://www.eluniversal.com.mx/metropoli/hospi...</td>\n      <td>https://www.eluniversal.com.mx</td>\n    </tr>\n    <tr>\n      <th>9</th>\n      <td>Denuncia senador de Morena a Ricardo Gallardo ...</td>\n      <td>\\nEl senador de Morena, Elí César Cervantes, p...</td>\n      <td>https://www.eluniversal.com.mx/elecciones/denu...</td>\n      <td>https://www.eluniversal.com.mx</td>\n    </tr>\n  </tbody>\n</table>\n</div>"
     },
     "execution_count": 13,
     "metadata": {},
     "output_type": "execute_result"
    }
   ],
   "source": [
    "# Index and selection\n",
    "\n",
    "# Select multiple rows\n",
    "df_el_universal.iloc[5:10]\n"
   ],
   "metadata": {
    "collapsed": false,
    "pycharm": {
     "name": "#%%\n"
    }
   }
  },
  {
   "cell_type": "code",
   "execution_count": 17,
   "outputs": [
    {
     "data": {
      "text/plain": "                                               title  \\\n0  Jorge Hank Rhon llama \"basura\" a Lupita Jones;...   \n1  Usuarios reportan fallas en YouTube; videos no...   \n2  Lo que debes saber de las semifinales del Guar...   \n3  Inai llama a instituciones del Estado a conduc...   \n4  Inicia vacunación contra Covid-19 de maestros ...   \n5  Fiscalía de Nueva York inicia investigación cr...   \n6  Activan Alerta Amber por Melanie Ashley, de 17...   \n7  Piden al Ejército intervenir en Saltillo ante ...   \n8  Hospitalizan a profesor de CCH Naucalpan que r...   \n9  Denuncia senador de Morena a Ricardo Gallardo ...   \n\n                                                body  \n0  \\nTijuana.- El candidato a la gubernatura de B...  \n1  \\nDesde las 9:30 p.m. los usuarios de YouTube ...  \n2  \\nEstán por comenzar las semifinales del Guard...  \n3  \\nBlanca Lilia Ibarra, comisionada presidenta ...  \n4  \\nTlaxcala.- Tlaxcala inició este martes con l...  \n5  \\nLa Organización Trump es blanco de una inves...  \n6  \\nLa Fiscalía General de Justicia activó la Al...  \n7  \\nSaltillo.- Miles de saltillenses abarrotaron...  \n8  \\nNaucalpan, Méx.- El profesor de matemáticas ...  \n9  \\nEl senador de Morena, Elí César Cervantes, p...  ",
      "text/html": "<div>\n<style scoped>\n    .dataframe tbody tr th:only-of-type {\n        vertical-align: middle;\n    }\n\n    .dataframe tbody tr th {\n        vertical-align: top;\n    }\n\n    .dataframe thead th {\n        text-align: right;\n    }\n</style>\n<table border=\"1\" class=\"dataframe\">\n  <thead>\n    <tr style=\"text-align: right;\">\n      <th></th>\n      <th>title</th>\n      <th>body</th>\n    </tr>\n  </thead>\n  <tbody>\n    <tr>\n      <th>0</th>\n      <td>Jorge Hank Rhon llama \"basura\" a Lupita Jones;...</td>\n      <td>\\nTijuana.- El candidato a la gubernatura de B...</td>\n    </tr>\n    <tr>\n      <th>1</th>\n      <td>Usuarios reportan fallas en YouTube; videos no...</td>\n      <td>\\nDesde las 9:30 p.m. los usuarios de YouTube ...</td>\n    </tr>\n    <tr>\n      <th>2</th>\n      <td>Lo que debes saber de las semifinales del Guar...</td>\n      <td>\\nEstán por comenzar las semifinales del Guard...</td>\n    </tr>\n    <tr>\n      <th>3</th>\n      <td>Inai llama a instituciones del Estado a conduc...</td>\n      <td>\\nBlanca Lilia Ibarra, comisionada presidenta ...</td>\n    </tr>\n    <tr>\n      <th>4</th>\n      <td>Inicia vacunación contra Covid-19 de maestros ...</td>\n      <td>\\nTlaxcala.- Tlaxcala inició este martes con l...</td>\n    </tr>\n    <tr>\n      <th>5</th>\n      <td>Fiscalía de Nueva York inicia investigación cr...</td>\n      <td>\\nLa Organización Trump es blanco de una inves...</td>\n    </tr>\n    <tr>\n      <th>6</th>\n      <td>Activan Alerta Amber por Melanie Ashley, de 17...</td>\n      <td>\\nLa Fiscalía General de Justicia activó la Al...</td>\n    </tr>\n    <tr>\n      <th>7</th>\n      <td>Piden al Ejército intervenir en Saltillo ante ...</td>\n      <td>\\nSaltillo.- Miles de saltillenses abarrotaron...</td>\n    </tr>\n    <tr>\n      <th>8</th>\n      <td>Hospitalizan a profesor de CCH Naucalpan que r...</td>\n      <td>\\nNaucalpan, Méx.- El profesor de matemáticas ...</td>\n    </tr>\n    <tr>\n      <th>9</th>\n      <td>Denuncia senador de Morena a Ricardo Gallardo ...</td>\n      <td>\\nEl senador de Morena, Elí César Cervantes, p...</td>\n    </tr>\n  </tbody>\n</table>\n</div>"
     },
     "execution_count": 17,
     "metadata": {},
     "output_type": "execute_result"
    }
   ],
   "source": [
    "# Index and selection\n",
    "\n",
    "# Select multiple rows and rows\n",
    "# first row to 10 and 2 columns\n",
    "df_el_universal.iloc[:10][['title', 'body']]\n",
    "\n"
   ],
   "metadata": {
    "collapsed": false,
    "pycharm": {
     "name": "#%%\n"
    }
   }
  },
  {
   "cell_type": "code",
   "execution_count": 18,
   "outputs": [
    {
     "data": {
      "text/plain": "                                                title  \\\n7   Piden al Ejército intervenir en Saltillo ante ...   \n8   Hospitalizan a profesor de CCH Naucalpan que r...   \n9   Denuncia senador de Morena a Ricardo Gallardo ...   \n10  Tribunal Electoral de Veracruz retira candidat...   \n11  Tormenta deja afectaciones en más de 20 coloni...   \n\n                                                 body  \\\n7   \\nSaltillo.- Miles de saltillenses abarrotaron...   \n8   \\nNaucalpan, Méx.- El profesor de matemáticas ...   \n9   \\nEl senador de Morena, Elí César Cervantes, p...   \n10  \\nEl Tribunal Electoral de Veracruz (TEV) echó...   \n11  \\nNuevo Laredo.- Más de 600 elementos del Ejér...   \n\n                                                 link  \\\n7   https://www.eluniversal.com.mx/estados/piden-a...   \n8   https://www.eluniversal.com.mx/metropoli/hospi...   \n9   https://www.eluniversal.com.mx/elecciones/denu...   \n10  https://www.eluniversal.com.mx/elecciones/elec...   \n11  https://www.eluniversal.com.mx/estados/torment...   \n\n                              host newspaper_uid  \n7   https://www.eluniversal.com.mx   eluniversal  \n8   https://www.eluniversal.com.mx   eluniversal  \n9   https://www.eluniversal.com.mx   eluniversal  \n10  https://www.eluniversal.com.mx   eluniversal  \n11  https://www.eluniversal.com.mx   eluniversal  ",
      "text/html": "<div>\n<style scoped>\n    .dataframe tbody tr th:only-of-type {\n        vertical-align: middle;\n    }\n\n    .dataframe tbody tr th {\n        vertical-align: top;\n    }\n\n    .dataframe thead th {\n        text-align: right;\n    }\n</style>\n<table border=\"1\" class=\"dataframe\">\n  <thead>\n    <tr style=\"text-align: right;\">\n      <th></th>\n      <th>title</th>\n      <th>body</th>\n      <th>link</th>\n      <th>host</th>\n      <th>newspaper_uid</th>\n    </tr>\n  </thead>\n  <tbody>\n    <tr>\n      <th>7</th>\n      <td>Piden al Ejército intervenir en Saltillo ante ...</td>\n      <td>\\nSaltillo.- Miles de saltillenses abarrotaron...</td>\n      <td>https://www.eluniversal.com.mx/estados/piden-a...</td>\n      <td>https://www.eluniversal.com.mx</td>\n      <td>eluniversal</td>\n    </tr>\n    <tr>\n      <th>8</th>\n      <td>Hospitalizan a profesor de CCH Naucalpan que r...</td>\n      <td>\\nNaucalpan, Méx.- El profesor de matemáticas ...</td>\n      <td>https://www.eluniversal.com.mx/metropoli/hospi...</td>\n      <td>https://www.eluniversal.com.mx</td>\n      <td>eluniversal</td>\n    </tr>\n    <tr>\n      <th>9</th>\n      <td>Denuncia senador de Morena a Ricardo Gallardo ...</td>\n      <td>\\nEl senador de Morena, Elí César Cervantes, p...</td>\n      <td>https://www.eluniversal.com.mx/elecciones/denu...</td>\n      <td>https://www.eluniversal.com.mx</td>\n      <td>eluniversal</td>\n    </tr>\n    <tr>\n      <th>10</th>\n      <td>Tribunal Electoral de Veracruz retira candidat...</td>\n      <td>\\nEl Tribunal Electoral de Veracruz (TEV) echó...</td>\n      <td>https://www.eluniversal.com.mx/elecciones/elec...</td>\n      <td>https://www.eluniversal.com.mx</td>\n      <td>eluniversal</td>\n    </tr>\n    <tr>\n      <th>11</th>\n      <td>Tormenta deja afectaciones en más de 20 coloni...</td>\n      <td>\\nNuevo Laredo.- Más de 600 elementos del Ejér...</td>\n      <td>https://www.eluniversal.com.mx/estados/torment...</td>\n      <td>https://www.eluniversal.com.mx</td>\n      <td>eluniversal</td>\n    </tr>\n  </tbody>\n</table>\n</div>"
     },
     "execution_count": 18,
     "metadata": {},
     "output_type": "execute_result"
    }
   ],
   "source": [
    "# Data Wrangling\n",
    "\n",
    "# Add newspaper_uid\n",
    "\n",
    "df_el_universal['newspaper_uid'] = 'eluniversal'\n",
    "df_el_universal.tail()"
   ],
   "metadata": {
    "collapsed": false,
    "pycharm": {
     "name": "#%%\n"
    }
   }
  },
  {
   "cell_type": "code",
   "execution_count": 22,
   "outputs": [
    {
     "data": {
      "text/plain": "0     www.eluniversal.com.mx\n1     www.eluniversal.com.mx\n2     www.eluniversal.com.mx\n3     www.eluniversal.com.mx\n4     www.eluniversal.com.mx\n5     www.eluniversal.com.mx\n6     www.eluniversal.com.mx\n7     www.eluniversal.com.mx\n8     www.eluniversal.com.mx\n9     www.eluniversal.com.mx\n10    www.eluniversal.com.mx\n11    www.eluniversal.com.mx\nName: host_real, dtype: object"
     },
     "execution_count": 22,
     "metadata": {},
     "output_type": "execute_result"
    }
   ],
   "source": [
    "# Data Wrangling\n",
    "\n",
    "# 1. Extract from url the real host\n",
    "# urlparse(url).netloc // get the host\n",
    "df_el_universal['host_real'] = df_el_universal['link'].apply(lambda url: urlparse(url).netloc)\n",
    "df_el_universal['host_real']\n"
   ],
   "metadata": {
    "collapsed": false,
    "pycharm": {
     "name": "#%%\n"
    }
   }
  },
  {
   "cell_type": "code",
   "execution_count": 24,
   "outputs": [
    {
     "data": {
      "text/plain": "https://www.eluniversal.com.mx    12\nName: host, dtype: int64"
     },
     "execution_count": 24,
     "metadata": {},
     "output_type": "execute_result"
    }
   ],
   "source": [
    "# Count data\n",
    "\n",
    "df_el_universal['host'].value_counts()\n"
   ],
   "metadata": {
    "collapsed": false,
    "pycharm": {
     "name": "#%%\n"
    }
   }
  },
  {
   "cell_type": "code",
   "execution_count": 34,
   "outputs": [
    {
     "data": {
      "text/plain": "Empty DataFrame\nColumns: [missing_titles]\nIndex: []",
      "text/html": "<div>\n<style scoped>\n    .dataframe tbody tr th:only-of-type {\n        vertical-align: middle;\n    }\n\n    .dataframe tbody tr th {\n        vertical-align: top;\n    }\n\n    .dataframe thead th {\n        text-align: right;\n    }\n</style>\n<table border=\"1\" class=\"dataframe\">\n  <thead>\n    <tr style=\"text-align: right;\">\n      <th></th>\n      <th>missing_titles</th>\n    </tr>\n  </thead>\n  <tbody>\n  </tbody>\n</table>\n</div>"
     },
     "execution_count": 34,
     "metadata": {},
     "output_type": "execute_result"
    }
   ],
   "source": [
    "# Missing Data\n",
    "\n",
    "missin_titles_mask = df_el_universal['title'].isna()\n",
    "\n",
    "# filter the dataframe, from one boolean series, and extract de last part of the link\n",
    "#   .applymap(lambda title: title.split('-')) // slicing the string\n",
    "#  .applymap(lambda title_word_list: ' '.join(title_word_list)) // join the slices string only one word\n",
    "missing_titles = (df_el_universal[missin_titles_mask]['link']\n",
    "                  .str.extract(r'(?P<missing_titles>[^/]+)$')\n",
    "                  .applymap(lambda title: title.split('-'))\n",
    "                  .applymap(lambda title_word_list: ' '.join(title_word_list)))\n",
    "\n",
    "missing_titles"
   ],
   "metadata": {
    "collapsed": false,
    "pycharm": {
     "name": "#%%\n"
    }
   }
  },
  {
   "cell_type": "code",
   "execution_count": 39,
   "outputs": [
    {
     "name": "stdout",
     "output_type": "stream",
     "text": [
      "0     e42f76b932d9046708ed15e56bc5ead0\n",
      "1     7b67c50514917b50989e48ac079e22e6\n",
      "2     a7708eda70ba216b3bc4322853c92a32\n",
      "3     61ffbcefede57ea07ee95f6aeaa99c54\n",
      "4     9f63997beddd0cb12acb7e9d2b5f68e5\n",
      "5     f2d5d725f5ba9e9e2177e836213043e2\n",
      "6     27497c3179d4d25a8b594b20a7f4e2ce\n",
      "7     43e32f74660045b88a68e5996a8e4a8f\n",
      "8     1c4200e8379153d313299b13a5dede71\n",
      "9     24270d3abd4cd45b059be13c1f9cc3ba\n",
      "10    a4fcfb605f352afd18b594f761274ef8\n",
      "11    aa7a18c3b4a7a70c71f7dda9574908e9\n",
      "dtype: object\n"
     ]
    },
    {
     "data": {
      "text/plain": "                                                                              title  \\\nuid                                                                                   \ne42f76b932d9046708ed15e56bc5ead0  Jorge Hank Rhon llama \"basura\" a Lupita Jones;...   \n7b67c50514917b50989e48ac079e22e6  Usuarios reportan fallas en YouTube; videos no...   \na7708eda70ba216b3bc4322853c92a32  Lo que debes saber de las semifinales del Guar...   \n61ffbcefede57ea07ee95f6aeaa99c54  Inai llama a instituciones del Estado a conduc...   \n9f63997beddd0cb12acb7e9d2b5f68e5  Inicia vacunación contra Covid-19 de maestros ...   \nf2d5d725f5ba9e9e2177e836213043e2  Fiscalía de Nueva York inicia investigación cr...   \n27497c3179d4d25a8b594b20a7f4e2ce  Activan Alerta Amber por Melanie Ashley, de 17...   \n43e32f74660045b88a68e5996a8e4a8f  Piden al Ejército intervenir en Saltillo ante ...   \n1c4200e8379153d313299b13a5dede71  Hospitalizan a profesor de CCH Naucalpan que r...   \n24270d3abd4cd45b059be13c1f9cc3ba  Denuncia senador de Morena a Ricardo Gallardo ...   \na4fcfb605f352afd18b594f761274ef8  Tribunal Electoral de Veracruz retira candidat...   \naa7a18c3b4a7a70c71f7dda9574908e9  Tormenta deja afectaciones en más de 20 coloni...   \n\n                                                                               body  \\\nuid                                                                                   \ne42f76b932d9046708ed15e56bc5ead0  \\nTijuana.- El candidato a la gubernatura de B...   \n7b67c50514917b50989e48ac079e22e6  \\nDesde las 9:30 p.m. los usuarios de YouTube ...   \na7708eda70ba216b3bc4322853c92a32  \\nEstán por comenzar las semifinales del Guard...   \n61ffbcefede57ea07ee95f6aeaa99c54  \\nBlanca Lilia Ibarra, comisionada presidenta ...   \n9f63997beddd0cb12acb7e9d2b5f68e5  \\nTlaxcala.- Tlaxcala inició este martes con l...   \nf2d5d725f5ba9e9e2177e836213043e2  \\nLa Organización Trump es blanco de una inves...   \n27497c3179d4d25a8b594b20a7f4e2ce  \\nLa Fiscalía General de Justicia activó la Al...   \n43e32f74660045b88a68e5996a8e4a8f  \\nSaltillo.- Miles de saltillenses abarrotaron...   \n1c4200e8379153d313299b13a5dede71  \\nNaucalpan, Méx.- El profesor de matemáticas ...   \n24270d3abd4cd45b059be13c1f9cc3ba  \\nEl senador de Morena, Elí César Cervantes, p...   \na4fcfb605f352afd18b594f761274ef8  \\nEl Tribunal Electoral de Veracruz (TEV) echó...   \naa7a18c3b4a7a70c71f7dda9574908e9  \\nNuevo Laredo.- Más de 600 elementos del Ejér...   \n\n                                                                               link  \\\nuid                                                                                   \ne42f76b932d9046708ed15e56bc5ead0  https://www.eluniversal.com.mx/elecciones/jorg...   \n7b67c50514917b50989e48ac079e22e6  https://www.eluniversal.com.mx/cartera/usuario...   \na7708eda70ba216b3bc4322853c92a32  https://www.eluniversal.com.mx/universal-depor...   \n61ffbcefede57ea07ee95f6aeaa99c54  https://www.eluniversal.com.mx/elecciones/inai...   \n9f63997beddd0cb12acb7e9d2b5f68e5  https://www.eluniversal.com.mx/estados/inicia-...   \nf2d5d725f5ba9e9e2177e836213043e2  https://www.eluniversal.com.mx/mundo/fiscalia-...   \n27497c3179d4d25a8b594b20a7f4e2ce  https://www.eluniversal.com.mx/metropoli/activ...   \n43e32f74660045b88a68e5996a8e4a8f  https://www.eluniversal.com.mx/estados/piden-a...   \n1c4200e8379153d313299b13a5dede71  https://www.eluniversal.com.mx/metropoli/hospi...   \n24270d3abd4cd45b059be13c1f9cc3ba  https://www.eluniversal.com.mx/elecciones/denu...   \na4fcfb605f352afd18b594f761274ef8  https://www.eluniversal.com.mx/elecciones/elec...   \naa7a18c3b4a7a70c71f7dda9574908e9  https://www.eluniversal.com.mx/estados/torment...   \n\n                                                            host  \\\nuid                                                                \ne42f76b932d9046708ed15e56bc5ead0  https://www.eluniversal.com.mx   \n7b67c50514917b50989e48ac079e22e6  https://www.eluniversal.com.mx   \na7708eda70ba216b3bc4322853c92a32  https://www.eluniversal.com.mx   \n61ffbcefede57ea07ee95f6aeaa99c54  https://www.eluniversal.com.mx   \n9f63997beddd0cb12acb7e9d2b5f68e5  https://www.eluniversal.com.mx   \nf2d5d725f5ba9e9e2177e836213043e2  https://www.eluniversal.com.mx   \n27497c3179d4d25a8b594b20a7f4e2ce  https://www.eluniversal.com.mx   \n43e32f74660045b88a68e5996a8e4a8f  https://www.eluniversal.com.mx   \n1c4200e8379153d313299b13a5dede71  https://www.eluniversal.com.mx   \n24270d3abd4cd45b059be13c1f9cc3ba  https://www.eluniversal.com.mx   \na4fcfb605f352afd18b594f761274ef8  https://www.eluniversal.com.mx   \naa7a18c3b4a7a70c71f7dda9574908e9  https://www.eluniversal.com.mx   \n\n                                 newspaper_uid               host_real  \nuid                                                                     \ne42f76b932d9046708ed15e56bc5ead0   eluniversal  www.eluniversal.com.mx  \n7b67c50514917b50989e48ac079e22e6   eluniversal  www.eluniversal.com.mx  \na7708eda70ba216b3bc4322853c92a32   eluniversal  www.eluniversal.com.mx  \n61ffbcefede57ea07ee95f6aeaa99c54   eluniversal  www.eluniversal.com.mx  \n9f63997beddd0cb12acb7e9d2b5f68e5   eluniversal  www.eluniversal.com.mx  \nf2d5d725f5ba9e9e2177e836213043e2   eluniversal  www.eluniversal.com.mx  \n27497c3179d4d25a8b594b20a7f4e2ce   eluniversal  www.eluniversal.com.mx  \n43e32f74660045b88a68e5996a8e4a8f   eluniversal  www.eluniversal.com.mx  \n1c4200e8379153d313299b13a5dede71   eluniversal  www.eluniversal.com.mx  \n24270d3abd4cd45b059be13c1f9cc3ba   eluniversal  www.eluniversal.com.mx  \na4fcfb605f352afd18b594f761274ef8   eluniversal  www.eluniversal.com.mx  \naa7a18c3b4a7a70c71f7dda9574908e9   eluniversal  www.eluniversal.com.mx  ",
      "text/html": "<div>\n<style scoped>\n    .dataframe tbody tr th:only-of-type {\n        vertical-align: middle;\n    }\n\n    .dataframe tbody tr th {\n        vertical-align: top;\n    }\n\n    .dataframe thead th {\n        text-align: right;\n    }\n</style>\n<table border=\"1\" class=\"dataframe\">\n  <thead>\n    <tr style=\"text-align: right;\">\n      <th></th>\n      <th>title</th>\n      <th>body</th>\n      <th>link</th>\n      <th>host</th>\n      <th>newspaper_uid</th>\n      <th>host_real</th>\n    </tr>\n    <tr>\n      <th>uid</th>\n      <th></th>\n      <th></th>\n      <th></th>\n      <th></th>\n      <th></th>\n      <th></th>\n    </tr>\n  </thead>\n  <tbody>\n    <tr>\n      <th>e42f76b932d9046708ed15e56bc5ead0</th>\n      <td>Jorge Hank Rhon llama \"basura\" a Lupita Jones;...</td>\n      <td>\\nTijuana.- El candidato a la gubernatura de B...</td>\n      <td>https://www.eluniversal.com.mx/elecciones/jorg...</td>\n      <td>https://www.eluniversal.com.mx</td>\n      <td>eluniversal</td>\n      <td>www.eluniversal.com.mx</td>\n    </tr>\n    <tr>\n      <th>7b67c50514917b50989e48ac079e22e6</th>\n      <td>Usuarios reportan fallas en YouTube; videos no...</td>\n      <td>\\nDesde las 9:30 p.m. los usuarios de YouTube ...</td>\n      <td>https://www.eluniversal.com.mx/cartera/usuario...</td>\n      <td>https://www.eluniversal.com.mx</td>\n      <td>eluniversal</td>\n      <td>www.eluniversal.com.mx</td>\n    </tr>\n    <tr>\n      <th>a7708eda70ba216b3bc4322853c92a32</th>\n      <td>Lo que debes saber de las semifinales del Guar...</td>\n      <td>\\nEstán por comenzar las semifinales del Guard...</td>\n      <td>https://www.eluniversal.com.mx/universal-depor...</td>\n      <td>https://www.eluniversal.com.mx</td>\n      <td>eluniversal</td>\n      <td>www.eluniversal.com.mx</td>\n    </tr>\n    <tr>\n      <th>61ffbcefede57ea07ee95f6aeaa99c54</th>\n      <td>Inai llama a instituciones del Estado a conduc...</td>\n      <td>\\nBlanca Lilia Ibarra, comisionada presidenta ...</td>\n      <td>https://www.eluniversal.com.mx/elecciones/inai...</td>\n      <td>https://www.eluniversal.com.mx</td>\n      <td>eluniversal</td>\n      <td>www.eluniversal.com.mx</td>\n    </tr>\n    <tr>\n      <th>9f63997beddd0cb12acb7e9d2b5f68e5</th>\n      <td>Inicia vacunación contra Covid-19 de maestros ...</td>\n      <td>\\nTlaxcala.- Tlaxcala inició este martes con l...</td>\n      <td>https://www.eluniversal.com.mx/estados/inicia-...</td>\n      <td>https://www.eluniversal.com.mx</td>\n      <td>eluniversal</td>\n      <td>www.eluniversal.com.mx</td>\n    </tr>\n    <tr>\n      <th>f2d5d725f5ba9e9e2177e836213043e2</th>\n      <td>Fiscalía de Nueva York inicia investigación cr...</td>\n      <td>\\nLa Organización Trump es blanco de una inves...</td>\n      <td>https://www.eluniversal.com.mx/mundo/fiscalia-...</td>\n      <td>https://www.eluniversal.com.mx</td>\n      <td>eluniversal</td>\n      <td>www.eluniversal.com.mx</td>\n    </tr>\n    <tr>\n      <th>27497c3179d4d25a8b594b20a7f4e2ce</th>\n      <td>Activan Alerta Amber por Melanie Ashley, de 17...</td>\n      <td>\\nLa Fiscalía General de Justicia activó la Al...</td>\n      <td>https://www.eluniversal.com.mx/metropoli/activ...</td>\n      <td>https://www.eluniversal.com.mx</td>\n      <td>eluniversal</td>\n      <td>www.eluniversal.com.mx</td>\n    </tr>\n    <tr>\n      <th>43e32f74660045b88a68e5996a8e4a8f</th>\n      <td>Piden al Ejército intervenir en Saltillo ante ...</td>\n      <td>\\nSaltillo.- Miles de saltillenses abarrotaron...</td>\n      <td>https://www.eluniversal.com.mx/estados/piden-a...</td>\n      <td>https://www.eluniversal.com.mx</td>\n      <td>eluniversal</td>\n      <td>www.eluniversal.com.mx</td>\n    </tr>\n    <tr>\n      <th>1c4200e8379153d313299b13a5dede71</th>\n      <td>Hospitalizan a profesor de CCH Naucalpan que r...</td>\n      <td>\\nNaucalpan, Méx.- El profesor de matemáticas ...</td>\n      <td>https://www.eluniversal.com.mx/metropoli/hospi...</td>\n      <td>https://www.eluniversal.com.mx</td>\n      <td>eluniversal</td>\n      <td>www.eluniversal.com.mx</td>\n    </tr>\n    <tr>\n      <th>24270d3abd4cd45b059be13c1f9cc3ba</th>\n      <td>Denuncia senador de Morena a Ricardo Gallardo ...</td>\n      <td>\\nEl senador de Morena, Elí César Cervantes, p...</td>\n      <td>https://www.eluniversal.com.mx/elecciones/denu...</td>\n      <td>https://www.eluniversal.com.mx</td>\n      <td>eluniversal</td>\n      <td>www.eluniversal.com.mx</td>\n    </tr>\n    <tr>\n      <th>a4fcfb605f352afd18b594f761274ef8</th>\n      <td>Tribunal Electoral de Veracruz retira candidat...</td>\n      <td>\\nEl Tribunal Electoral de Veracruz (TEV) echó...</td>\n      <td>https://www.eluniversal.com.mx/elecciones/elec...</td>\n      <td>https://www.eluniversal.com.mx</td>\n      <td>eluniversal</td>\n      <td>www.eluniversal.com.mx</td>\n    </tr>\n    <tr>\n      <th>aa7a18c3b4a7a70c71f7dda9574908e9</th>\n      <td>Tormenta deja afectaciones en más de 20 coloni...</td>\n      <td>\\nNuevo Laredo.- Más de 600 elementos del Ejér...</td>\n      <td>https://www.eluniversal.com.mx/estados/torment...</td>\n      <td>https://www.eluniversal.com.mx</td>\n      <td>eluniversal</td>\n      <td>www.eluniversal.com.mx</td>\n    </tr>\n  </tbody>\n</table>\n</div>"
     },
     "execution_count": 39,
     "metadata": {},
     "output_type": "execute_result"
    }
   ],
   "source": [
    "# Data Wrangling\n",
    "# Add unic id to fr\n",
    "\n",
    "# axis=1 // choose the rows\n",
    "# hashlib.md5(bytes(row['link'].encode() hashing the link to transform as the unic id\n",
    "# hash_object.hexdigest()  // trasnform the object to hexadecimal number\n",
    "uids = (\n",
    "    df_el_universal.apply(lambda row: hashlib.md5(bytes(row['link'].encode())), axis=1)\n",
    "    .apply(lambda hash_object: hash_object.hexdigest())\n",
    ")\n",
    "\n",
    "# The before code generated a series of unics id\n",
    "print(uids)\n",
    "\n",
    "# add the series as index of the df\n",
    "df_el_universal['uid'] = uids\n",
    "# Set the index from the column uid\n",
    "df_el_universal.set_index('uid', inplace=True)\n",
    "\n",
    "df_el_universal"
   ],
   "metadata": {
    "collapsed": false,
    "pycharm": {
     "name": "#%%\n"
    }
   }
  },
  {
   "cell_type": "code",
   "execution_count": 43,
   "outputs": [
    {
     "data": {
      "text/plain": "uid\ne42f76b932d9046708ed15e56bc5ead0    Tijuana.- El candidato a la gubernatura de Baj...\n7b67c50514917b50989e48ac079e22e6    Desde las 9:30 p.m. los usuarios de YouTube re...\na7708eda70ba216b3bc4322853c92a32    Están por comenzar las semifinales del Guardia...\n61ffbcefede57ea07ee95f6aeaa99c54    Blanca Lilia Ibarra, comisionada presidenta de...\n9f63997beddd0cb12acb7e9d2b5f68e5    Tlaxcala.- Tlaxcala inició este martes con la ...\nf2d5d725f5ba9e9e2177e836213043e2    La Organización Trump es blanco de una investi...\n27497c3179d4d25a8b594b20a7f4e2ce    La Fiscalía General de Justicia activó la Aler...\n43e32f74660045b88a68e5996a8e4a8f    Saltillo.- Miles de saltillenses abarrotaron l...\n1c4200e8379153d313299b13a5dede71    Naucalpan, Méx.- El profesor de matemáticas Ma...\n24270d3abd4cd45b059be13c1f9cc3ba    El senador de Morena, Elí César Cervantes, pre...\na4fcfb605f352afd18b594f761274ef8    El Tribunal Electoral de Veracruz (TEV) echó a...\naa7a18c3b4a7a70c71f7dda9574908e9    Nuevo Laredo.- Más de 600 elementos del Ejérci...\ndtype: object"
     },
     "execution_count": 43,
     "metadata": {},
     "output_type": "execute_result"
    }
   ],
   "source": [
    "# Data Wrangling\n",
    "\n",
    "# Remove \\n from the body\n",
    "\n",
    "# .apply(lambda body: list(body)) // Trasnform all letters as a position of list\n",
    "# .apply(lambda letters: list(map(lambda letter: letter.replace('\\n', ''), letters))) // Replace for all \\n to ''\n",
    "# .apply(lambda letters_join: ''.join(letters_join))  // Join the positions letters as only one string\n",
    "stripped_body = (\n",
    "    df_el_universal\n",
    "        .apply(lambda row: row['body'], axis=1)\n",
    "        .apply(lambda body: list(body))\n",
    "        .apply(lambda letters: list(map(lambda letter: letter.replace('\\n', ''), letters)))\n",
    "        .apply(lambda letters_join: ''.join(letters_join))\n",
    ")\n",
    "stripped_body\n"
   ],
   "metadata": {
    "collapsed": false,
    "pycharm": {
     "name": "#%%\n"
    }
   }
  },
  {
   "cell_type": "code",
   "execution_count": 35,
   "outputs": [
    {
     "name": "stdout",
     "output_type": "stream",
     "text": [
      "                                                title  \\\n",
      "0   Jorge Hank Rhon llama \"basura\" a Lupita Jones;...   \n",
      "1   Usuarios reportan fallas en YouTube; videos no...   \n",
      "2   Lo que debes saber de las semifinales del Guar...   \n",
      "3   Inai llama a instituciones del Estado a conduc...   \n",
      "4   Inicia vacunación contra Covid-19 de maestros ...   \n",
      "5   Fiscalía de Nueva York inicia investigación cr...   \n",
      "6   Activan Alerta Amber por Melanie Ashley, de 17...   \n",
      "7   Piden al Ejército intervenir en Saltillo ante ...   \n",
      "8   Hospitalizan a profesor de CCH Naucalpan que r...   \n",
      "9   Denuncia senador de Morena a Ricardo Gallardo ...   \n",
      "10  Tribunal Electoral de Veracruz retira candidat...   \n",
      "11  Tormenta deja afectaciones en más de 20 coloni...   \n",
      "\n",
      "                                                 body  \\\n",
      "0   \\nTijuana.- El candidato a la gubernatura de B...   \n",
      "1   \\nDesde las 9:30 p.m. los usuarios de YouTube ...   \n",
      "2   \\nEstán por comenzar las semifinales del Guard...   \n",
      "3   \\nBlanca Lilia Ibarra, comisionada presidenta ...   \n",
      "4   \\nTlaxcala.- Tlaxcala inició este martes con l...   \n",
      "5   \\nLa Organización Trump es blanco de una inves...   \n",
      "6   \\nLa Fiscalía General de Justicia activó la Al...   \n",
      "7   \\nSaltillo.- Miles de saltillenses abarrotaron...   \n",
      "8   \\nNaucalpan, Méx.- El profesor de matemáticas ...   \n",
      "9   \\nEl senador de Morena, Elí César Cervantes, p...   \n",
      "10  \\nEl Tribunal Electoral de Veracruz (TEV) echó...   \n",
      "11  \\nNuevo Laredo.- Más de 600 elementos del Ejér...   \n",
      "\n",
      "                                                 link                    host  \\\n",
      "0   https://www.eluniversal.com.mx/elecciones/jorg...  www.eluniversal.com.mx   \n",
      "1   https://www.eluniversal.com.mx/cartera/usuario...  www.eluniversal.com.mx   \n",
      "2   https://www.eluniversal.com.mx/universal-depor...  www.eluniversal.com.mx   \n",
      "3   https://www.eluniversal.com.mx/elecciones/inai...  www.eluniversal.com.mx   \n",
      "4   https://www.eluniversal.com.mx/estados/inicia-...  www.eluniversal.com.mx   \n",
      "5   https://www.eluniversal.com.mx/mundo/fiscalia-...  www.eluniversal.com.mx   \n",
      "6   https://www.eluniversal.com.mx/metropoli/activ...  www.eluniversal.com.mx   \n",
      "7   https://www.eluniversal.com.mx/estados/piden-a...  www.eluniversal.com.mx   \n",
      "8   https://www.eluniversal.com.mx/metropoli/hospi...  www.eluniversal.com.mx   \n",
      "9   https://www.eluniversal.com.mx/elecciones/denu...  www.eluniversal.com.mx   \n",
      "10  https://www.eluniversal.com.mx/elecciones/elec...  www.eluniversal.com.mx   \n",
      "11  https://www.eluniversal.com.mx/estados/torment...  www.eluniversal.com.mx   \n",
      "\n",
      "          newspaper_uid  \n",
      "0   ./../db/eluniversal  \n",
      "1   ./../db/eluniversal  \n",
      "2   ./../db/eluniversal  \n",
      "3   ./../db/eluniversal  \n",
      "4   ./../db/eluniversal  \n",
      "5   ./../db/eluniversal  \n",
      "6   ./../db/eluniversal  \n",
      "7   ./../db/eluniversal  \n",
      "8   ./../db/eluniversal  \n",
      "9   ./../db/eluniversal  \n",
      "10  ./../db/eluniversal  \n",
      "11  ./../db/eluniversal  \n"
     ]
    }
   ],
   "source": [
    "# Data Wrangling ETL\n",
    "\n",
    "def main(filename):\n",
    "    df = _read_data(filename)\n",
    "    newspaper_uid = _extract_newspaper_uid(filename)\n",
    "    df = _add_newspaper_uid_column(df, newspaper_uid)\n",
    "    df = _extract_host(df)\n",
    "    df = _fill_missing_titles(df)\n",
    "    print(df)\n",
    "\n",
    "\n",
    "def _read_data(filename):\n",
    "    return pd.read_csv(filename)\n",
    "\n",
    "\n",
    "def _extract_newspaper_uid(filename):\n",
    "    # Ger the first part of the filename\n",
    "    return filename.split('_')[0]\n",
    "\n",
    "\n",
    "def _add_newspaper_uid_column(df, newspaper_uid):\n",
    "    df['newspaper_uid'] = newspaper_uid\n",
    "    return df\n",
    "\n",
    "\n",
    "def _extract_host(df):\n",
    "    df['host'] = df['link'].apply(lambda url: urlparse(url).netloc)\n",
    "    return df\n",
    "\n",
    "\n",
    "def _fill_missing_titles(df):\n",
    "\n",
    "    missing_titles_mask = df_el_universal['title'].isna()\n",
    "\n",
    "    missing_titles = (df_el_universal[missing_titles_mask]['link']\n",
    "                      .str.extract(r'(?P<missing_titles>[^/]+)$')\n",
    "                      .applymap(lambda title: title.split('-'))\n",
    "                      .applymap(lambda title_word_list: ' '.join(title_word_list)))\n",
    "\n",
    "    # Select the rows filterd by the series pass by params,\n",
    "    # and choose the column title to replace\n",
    "    df.loc[missing_titles_mask, 'title'] = missing_titles.loc[:, 'missing_titles']\n",
    "    return df\n",
    "\n",
    "\n",
    "filename = './../db/eluniversal_articles.csv'\n",
    "main(filename)"
   ],
   "metadata": {
    "collapsed": false,
    "pycharm": {
     "name": "#%%\n"
    }
   }
  }
 ],
 "metadata": {
  "kernelspec": {
   "display_name": "Python 3",
   "language": "python",
   "name": "python3"
  },
  "language_info": {
   "codemirror_mode": {
    "name": "ipython",
    "version": 2
   },
   "file_extension": ".py",
   "mimetype": "text/x-python",
   "name": "python",
   "nbconvert_exporter": "python",
   "pygments_lexer": "ipython2",
   "version": "2.7.6"
  }
 },
 "nbformat": 4,
 "nbformat_minor": 0
}