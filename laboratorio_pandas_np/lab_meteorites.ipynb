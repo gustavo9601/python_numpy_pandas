{
 "cells": [
  {
   "cell_type": "code",
   "execution_count": 38,
   "metadata": {
    "collapsed": true
   },
   "outputs": [],
   "source": [
    "import pandas as pd\n",
    "\n",
    "# Set format display values in PD\n",
    "pd.options.display.float_format = '{:,.1f}'.format"
   ]
  },
  {
   "cell_type": "code",
   "execution_count": 39,
   "outputs": [
    {
     "data": {
      "text/plain": "                   name   id nametype recclass  mass (g)   fall  \\\n2116  Allan Hills 85054  920    Valid       H5      55.3  Found   \n\n                        year  reclat  reclong             GeoLocation  \n2116  01/01/1985 12:00:00 AM   -76.8    156.5  (-76.84514, 156.45805)  ",
      "text/html": "<div>\n<style scoped>\n    .dataframe tbody tr th:only-of-type {\n        vertical-align: middle;\n    }\n\n    .dataframe tbody tr th {\n        vertical-align: top;\n    }\n\n    .dataframe thead th {\n        text-align: right;\n    }\n</style>\n<table border=\"1\" class=\"dataframe\">\n  <thead>\n    <tr style=\"text-align: right;\">\n      <th></th>\n      <th>name</th>\n      <th>id</th>\n      <th>nametype</th>\n      <th>recclass</th>\n      <th>mass (g)</th>\n      <th>fall</th>\n      <th>year</th>\n      <th>reclat</th>\n      <th>reclong</th>\n      <th>GeoLocation</th>\n    </tr>\n  </thead>\n  <tbody>\n    <tr>\n      <th>2116</th>\n      <td>Allan Hills 85054</td>\n      <td>920</td>\n      <td>Valid</td>\n      <td>H5</td>\n      <td>55.3</td>\n      <td>Found</td>\n      <td>01/01/1985 12:00:00 AM</td>\n      <td>-76.8</td>\n      <td>156.5</td>\n      <td>(-76.84514, 156.45805)</td>\n    </tr>\n  </tbody>\n</table>\n</div>"
     },
     "execution_count": 39,
     "metadata": {},
     "output_type": "execute_result"
    }
   ],
   "source": [
    "df_meteorites = pd.read_csv('../db/Meteorite_Landings.csv')\n",
    "# Sample => escoge aletaroiamente un registro\n",
    "df_meteorites.sample()"
   ],
   "metadata": {
    "collapsed": false,
    "pycharm": {
     "name": "#%%\n"
    }
   }
  },
  {
   "cell_type": "code",
   "execution_count": 40,
   "outputs": [
    {
     "name": "stdout",
     "output_type": "stream",
     "text": [
      "df_meteorites.shape (45716, 10)\n"
     ]
    }
   ],
   "source": [
    "# .shape\n",
    "# retorna filas y columnas del archivo\n",
    "print(\"df_meteorites.shape\", df_meteorites.shape)"
   ],
   "metadata": {
    "collapsed": false,
    "pycharm": {
     "name": "#%%\n"
    }
   }
  },
  {
   "cell_type": "code",
   "execution_count": 41,
   "outputs": [
    {
     "name": "stdout",
     "output_type": "stream",
     "text": [
      "            id     mass (g)   reclat  reclong\n",
      "count 45,716.0     45,585.0 38,401.0 38,401.0\n",
      "mean  26,889.7     13,278.1    -39.1     61.1\n",
      "std   16,860.7    574,988.9     46.4     80.6\n",
      "min        1.0          0.0    -87.4   -165.4\n",
      "25%   12,688.8          7.2    -76.7      0.0\n",
      "50%   24,261.5         32.6    -71.5     35.7\n",
      "75%   40,656.8        202.6      0.0    157.2\n",
      "max   57,458.0 60,000,000.0     81.2    354.5\n",
      "            name       id nametype recclass     mass (g)   fall  \\\n",
      "count      45716 45,716.0    45716    45716     45,585.0  45716   \n",
      "unique     45716      NaN        2      466          NaN      2   \n",
      "top     Kamyshla      NaN    Valid       L6          NaN  Found   \n",
      "freq           1      NaN    45641     8285          NaN  44609   \n",
      "mean         NaN 26,889.7      NaN      NaN     13,278.1    NaN   \n",
      "std          NaN 16,860.7      NaN      NaN    574,988.9    NaN   \n",
      "min          NaN      1.0      NaN      NaN          0.0    NaN   \n",
      "25%          NaN 12,688.8      NaN      NaN          7.2    NaN   \n",
      "50%          NaN 24,261.5      NaN      NaN         32.6    NaN   \n",
      "75%          NaN 40,656.8      NaN      NaN        202.6    NaN   \n",
      "max          NaN 57,458.0      NaN      NaN 60,000,000.0    NaN   \n",
      "\n",
      "                          year   reclat  reclong GeoLocation  \n",
      "count                    45425 38,401.0 38,401.0       38401  \n",
      "unique                     266      NaN      NaN       17100  \n",
      "top     01/01/2003 12:00:00 AM      NaN      NaN  (0.0, 0.0)  \n",
      "freq                      3323      NaN      NaN        6214  \n",
      "mean                       NaN    -39.1     61.1         NaN  \n",
      "std                        NaN     46.4     80.6         NaN  \n",
      "min                        NaN    -87.4   -165.4         NaN  \n",
      "25%                        NaN    -76.7      0.0         NaN  \n",
      "50%                        NaN    -71.5     35.7         NaN  \n",
      "75%                        NaN      0.0    157.2         NaN  \n",
      "max                        NaN     81.2    354.5         NaN  \n",
      "<class 'pandas.core.frame.DataFrame'>\n",
      "RangeIndex: 45716 entries, 0 to 45715\n",
      "Data columns (total 10 columns):\n",
      " #   Column       Non-Null Count  Dtype  \n",
      "---  ------       --------------  -----  \n",
      " 0   name         45716 non-null  object \n",
      " 1   id           45716 non-null  int64  \n",
      " 2   nametype     45716 non-null  object \n",
      " 3   recclass     45716 non-null  object \n",
      " 4   mass (g)     45585 non-null  float64\n",
      " 5   fall         45716 non-null  object \n",
      " 6   year         45425 non-null  object \n",
      " 7   reclat       38401 non-null  float64\n",
      " 8   reclong      38401 non-null  float64\n",
      " 9   GeoLocation  38401 non-null  object \n",
      "dtypes: float64(3), int64(1), object(6)\n",
      "memory usage: 2.4+ MB\n",
      "None\n",
      "name            object\n",
      "id               int64\n",
      "nametype        object\n",
      "recclass        object\n",
      "mass (g)       float64\n",
      "fall            object\n",
      "year            object\n",
      "reclat         float64\n",
      "reclong        float64\n",
      "GeoLocation     object\n",
      "dtype: object\n"
     ]
    }
   ],
   "source": [
    "# .describe()\n",
    "# Resumenm estadistico\n",
    "print(df_meteorites.describe())\n",
    "print(df_meteorites.describe(include='all'))\n",
    "\n",
    "# .info()\n",
    "# .dtypes() // Informacion de tipo de columna\n",
    "# Informacion de categoria y tipo\n",
    "print(df_meteorites.info())\n",
    "print(df_meteorites.dtypes)"
   ],
   "metadata": {
    "collapsed": false,
    "pycharm": {
     "name": "#%%\n"
    }
   }
  },
  {
   "cell_type": "code",
   "execution_count": 42,
   "outputs": [
    {
     "data": {
      "text/plain": "name            string\nid               Int64\nnametype        string\nrecclass        string\nmass (g)       Float64\nfall            string\nyear            string\nreclat         Float64\nreclong        Float64\nGeoLocation     string\ndtype: object"
     },
     "execution_count": 42,
     "metadata": {},
     "output_type": "execute_result"
    }
   ],
   "source": [
    "# .convert_dtypes().dtypes\n",
    "# Trasnformacion de datos mas compresibles (Object => string)\n",
    "df_meteorites.convert_dtypes().dtypes\n"
   ],
   "metadata": {
    "collapsed": false,
    "pycharm": {
     "name": "#%%\n"
    }
   }
  },
  {
   "cell_type": "code",
   "execution_count": 43,
   "outputs": [
    {
     "name": "stdout",
     "output_type": "stream",
     "text": [
      "name           45716\n",
      "id             45716\n",
      "nametype           2\n",
      "recclass         466\n",
      "mass (g)       12576\n",
      "fall               2\n",
      "year             266\n",
      "reclat         12738\n",
      "reclong        14640\n",
      "GeoLocation    17100\n",
      "dtype: int64\n"
     ]
    }
   ],
   "source": [
    "# .nunique()\n",
    "# Hace un distinc de cada valor unico sobre cada columna, retornando la cantidad de valores unicos\n",
    "# Sirve para identificar rapidamente valores categoricos\n",
    "print(df_meteorites.nunique())"
   ],
   "metadata": {
    "collapsed": false,
    "pycharm": {
     "name": "#%%\n"
    }
   }
  },
  {
   "cell_type": "code",
   "execution_count": 44,
   "outputs": [
    {
     "name": "stdout",
     "output_type": "stream",
     "text": [
      "2\n"
     ]
    }
   ],
   "source": [
    "# .nunique()\n",
    "# aplicado a una columna realiza, el distinc y muestra la cantidad de valores unicos\n",
    "print(df_meteorites['fall'].nunique())"
   ],
   "metadata": {
    "collapsed": false,
    "pycharm": {
     "name": "#%%\n"
    }
   }
  },
  {
   "cell_type": "code",
   "execution_count": 45,
   "outputs": [
    {
     "name": "stdout",
     "output_type": "stream",
     "text": [
      "Found    44609\n",
      "Fell      1107\n",
      "Name: fall, dtype: int64\n"
     ]
    }
   ],
   "source": [
    "# .value_counts()\n",
    "# realiza la agrupacion por valores unicos, mostrando la cantidad\n",
    "print(df_meteorites['fall'].value_counts())"
   ],
   "metadata": {
    "collapsed": false,
    "pycharm": {
     "name": "#%%\n"
    }
   }
  },
  {
   "cell_type": "code",
   "execution_count": 46,
   "outputs": [
    {
     "name": "stdout",
     "output_type": "stream",
     "text": [
      "name             object\n",
      "id                int64\n",
      "nametype       category\n",
      "recclass         object\n",
      "mass (g)        float64\n",
      "fall           category\n",
      "year             object\n",
      "reclat          float64\n",
      "reclong         float64\n",
      "GeoLocation      object\n",
      "dtype: object\n"
     ]
    }
   ],
   "source": [
    "# Seteando variables string a variables categoricas, para mejorar el performance\n",
    "df_meteorites[['fall', 'nametype']] = df_meteorites[['fall', 'nametype']].astype('category')\n",
    "print(df_meteorites.dtypes)"
   ],
   "metadata": {
    "collapsed": false,
    "pycharm": {
     "name": "#%%\n"
    }
   }
  },
  {
   "cell_type": "code",
   "execution_count": 47,
   "outputs": [
    {
     "name": "stdout",
     "output_type": "stream",
     "text": [
      "name                   object\n",
      "id                      int64\n",
      "nametype             category\n",
      "recclass               object\n",
      "mass (g)              float64\n",
      "fall                 category\n",
      "year           datetime64[ns]\n",
      "reclat                float64\n",
      "reclong               float64\n",
      "GeoLocation            object\n",
      "dtype: object\n"
     ]
    }
   ],
   "source": [
    "# Seteando las fechas\n",
    "# errors='coerce', // si al parsear genera error, colocara un nan\n",
    "df_meteorites['year'] = pd.to_datetime(\n",
    "    df_meteorites['year'],\n",
    "    errors='coerce',\n",
    "    format='%m/%d/%Y %H:%M:%S %p'\n",
    ")\n",
    "print(df_meteorites.dtypes)"
   ],
   "metadata": {
    "collapsed": false,
    "pycharm": {
     "name": "#%%\n"
    }
   }
  },
  {
   "cell_type": "code",
   "execution_count": 48,
   "outputs": [
    {
     "data": {
      "text/plain": "                      name     id nametype recclass  mass_update   fall  \\\n8861  Dominion Range 08417  52155    Valid       L6         31.5  Found   \n\n                    year  reclat  reclong GeoLocation  \n8861 2008-01-01 12:00:00     0.0      0.0  (0.0, 0.0)  ",
      "text/html": "<div>\n<style scoped>\n    .dataframe tbody tr th:only-of-type {\n        vertical-align: middle;\n    }\n\n    .dataframe tbody tr th {\n        vertical-align: top;\n    }\n\n    .dataframe thead th {\n        text-align: right;\n    }\n</style>\n<table border=\"1\" class=\"dataframe\">\n  <thead>\n    <tr style=\"text-align: right;\">\n      <th></th>\n      <th>name</th>\n      <th>id</th>\n      <th>nametype</th>\n      <th>recclass</th>\n      <th>mass_update</th>\n      <th>fall</th>\n      <th>year</th>\n      <th>reclat</th>\n      <th>reclong</th>\n      <th>GeoLocation</th>\n    </tr>\n  </thead>\n  <tbody>\n    <tr>\n      <th>8861</th>\n      <td>Dominion Range 08417</td>\n      <td>52155</td>\n      <td>Valid</td>\n      <td>L6</td>\n      <td>31.5</td>\n      <td>Found</td>\n      <td>2008-01-01 12:00:00</td>\n      <td>0.0</td>\n      <td>0.0</td>\n      <td>(0.0, 0.0)</td>\n    </tr>\n  </tbody>\n</table>\n</div>"
     },
     "execution_count": 48,
     "metadata": {},
     "output_type": "execute_result"
    }
   ],
   "source": [
    "# Renombrando una columna sin reasignar\n",
    "# inplace=True // Reemplaza a la ves que se ejecuta\n",
    "df_meteorites.rename(columns={'mass (g)': 'mass_update'}, inplace=True)\n",
    "df_meteorites.sample()"
   ],
   "metadata": {
    "collapsed": false,
    "pycharm": {
     "name": "#%%\n"
    }
   }
  },
  {
   "cell_type": "code",
   "execution_count": 49,
   "outputs": [
    {
     "data": {
      "text/plain": "            name nametype  mass_update  fall                year  reclat  \\\n1         Aarhus    Valid        720.0  Fell 1951-01-01 12:00:00    56.2   \n3       Acapulco    Valid      1,914.0  Fell 1976-01-01 12:00:00    16.9   \n5       Adhi Kot    Valid      4,239.0  Fell 1919-01-01 12:00:00    32.1   \n7           Agen    Valid     30,000.0  Fell 1814-01-01 12:00:00    44.2   \n9  Aguila Blanca    Valid      1,440.0  Fell 1920-01-01 12:00:00   -30.9   \n\n   reclong           GeoLocation  \n1     10.2  (56.18333, 10.23333)  \n3    -99.9     (16.88333, -99.9)  \n5     71.8          (32.1, 71.8)  \n7      0.6   (44.21667, 0.61667)  \n9    -64.5   (-30.86667, -64.55)  ",
      "text/html": "<div>\n<style scoped>\n    .dataframe tbody tr th:only-of-type {\n        vertical-align: middle;\n    }\n\n    .dataframe tbody tr th {\n        vertical-align: top;\n    }\n\n    .dataframe thead th {\n        text-align: right;\n    }\n</style>\n<table border=\"1\" class=\"dataframe\">\n  <thead>\n    <tr style=\"text-align: right;\">\n      <th></th>\n      <th>name</th>\n      <th>nametype</th>\n      <th>mass_update</th>\n      <th>fall</th>\n      <th>year</th>\n      <th>reclat</th>\n      <th>reclong</th>\n      <th>GeoLocation</th>\n    </tr>\n  </thead>\n  <tbody>\n    <tr>\n      <th>1</th>\n      <td>Aarhus</td>\n      <td>Valid</td>\n      <td>720.0</td>\n      <td>Fell</td>\n      <td>1951-01-01 12:00:00</td>\n      <td>56.2</td>\n      <td>10.2</td>\n      <td>(56.18333, 10.23333)</td>\n    </tr>\n    <tr>\n      <th>3</th>\n      <td>Acapulco</td>\n      <td>Valid</td>\n      <td>1,914.0</td>\n      <td>Fell</td>\n      <td>1976-01-01 12:00:00</td>\n      <td>16.9</td>\n      <td>-99.9</td>\n      <td>(16.88333, -99.9)</td>\n    </tr>\n    <tr>\n      <th>5</th>\n      <td>Adhi Kot</td>\n      <td>Valid</td>\n      <td>4,239.0</td>\n      <td>Fell</td>\n      <td>1919-01-01 12:00:00</td>\n      <td>32.1</td>\n      <td>71.8</td>\n      <td>(32.1, 71.8)</td>\n    </tr>\n    <tr>\n      <th>7</th>\n      <td>Agen</td>\n      <td>Valid</td>\n      <td>30,000.0</td>\n      <td>Fell</td>\n      <td>1814-01-01 12:00:00</td>\n      <td>44.2</td>\n      <td>0.6</td>\n      <td>(44.21667, 0.61667)</td>\n    </tr>\n    <tr>\n      <th>9</th>\n      <td>Aguila Blanca</td>\n      <td>Valid</td>\n      <td>1,440.0</td>\n      <td>Fell</td>\n      <td>1920-01-01 12:00:00</td>\n      <td>-30.9</td>\n      <td>-64.5</td>\n      <td>(-30.86667, -64.55)</td>\n    </tr>\n  </tbody>\n</table>\n</div>"
     },
     "execution_count": 49,
     "metadata": {},
     "output_type": "execute_result"
    }
   ],
   "source": [
    "# Creando una columna en un DF\n",
    "df_meteorites['nueva_columna'] = 1\n",
    "# Eliminando una columna\n",
    "# axis=1 // 1 columna || 0 fila\n",
    "df_meteorites.drop(['nueva_columna'], axis=1, inplace=True)\n",
    "# especificando las columnas y filas a liminar\n",
    "df_meteorites.drop(columns=['id', 'recclass'], index=[0, 2, 4, 6, 8], inplace=True)\n",
    "df_meteorites.head()\n"
   ],
   "metadata": {
    "collapsed": false,
    "pycharm": {
     "name": "#%%\n"
    }
   }
  },
  {
   "cell_type": "code",
   "execution_count": 50,
   "outputs": [
    {
     "data": {
      "text/plain": "            name nametype  mass_update  fall                year  reclat  \\\n1         Aarhus    Valid        720.0  Fell 1951-01-01 12:00:00    56.2   \n3       Acapulco    Valid      1,914.0  Fell 1976-01-01 12:00:00    16.9   \n5       Adhi Kot    Valid      4,239.0  Fell 1919-01-01 12:00:00    32.1   \n7           Agen    Valid     30,000.0  Fell 1814-01-01 12:00:00    44.2   \n9  Aguila Blanca    Valid      1,440.0  Fell 1920-01-01 12:00:00   -30.9   \n\n   reclong           GeoLocation  \n1     10.2  (56.18333, 10.23333)  \n3    -99.9     (16.88333, -99.9)  \n5     71.8          (32.1, 71.8)  \n7      0.6   (44.21667, 0.61667)  \n9    -64.5   (-30.86667, -64.55)  ",
      "text/html": "<div>\n<style scoped>\n    .dataframe tbody tr th:only-of-type {\n        vertical-align: middle;\n    }\n\n    .dataframe tbody tr th {\n        vertical-align: top;\n    }\n\n    .dataframe thead th {\n        text-align: right;\n    }\n</style>\n<table border=\"1\" class=\"dataframe\">\n  <thead>\n    <tr style=\"text-align: right;\">\n      <th></th>\n      <th>name</th>\n      <th>nametype</th>\n      <th>mass_update</th>\n      <th>fall</th>\n      <th>year</th>\n      <th>reclat</th>\n      <th>reclong</th>\n      <th>GeoLocation</th>\n    </tr>\n  </thead>\n  <tbody>\n    <tr>\n      <th>1</th>\n      <td>Aarhus</td>\n      <td>Valid</td>\n      <td>720.0</td>\n      <td>Fell</td>\n      <td>1951-01-01 12:00:00</td>\n      <td>56.2</td>\n      <td>10.2</td>\n      <td>(56.18333, 10.23333)</td>\n    </tr>\n    <tr>\n      <th>3</th>\n      <td>Acapulco</td>\n      <td>Valid</td>\n      <td>1,914.0</td>\n      <td>Fell</td>\n      <td>1976-01-01 12:00:00</td>\n      <td>16.9</td>\n      <td>-99.9</td>\n      <td>(16.88333, -99.9)</td>\n    </tr>\n    <tr>\n      <th>5</th>\n      <td>Adhi Kot</td>\n      <td>Valid</td>\n      <td>4,239.0</td>\n      <td>Fell</td>\n      <td>1919-01-01 12:00:00</td>\n      <td>32.1</td>\n      <td>71.8</td>\n      <td>(32.1, 71.8)</td>\n    </tr>\n    <tr>\n      <th>7</th>\n      <td>Agen</td>\n      <td>Valid</td>\n      <td>30,000.0</td>\n      <td>Fell</td>\n      <td>1814-01-01 12:00:00</td>\n      <td>44.2</td>\n      <td>0.6</td>\n      <td>(44.21667, 0.61667)</td>\n    </tr>\n    <tr>\n      <th>9</th>\n      <td>Aguila Blanca</td>\n      <td>Valid</td>\n      <td>1,440.0</td>\n      <td>Fell</td>\n      <td>1920-01-01 12:00:00</td>\n      <td>-30.9</td>\n      <td>-64.5</td>\n      <td>(-30.86667, -64.55)</td>\n    </tr>\n  </tbody>\n</table>\n</div>"
     },
     "execution_count": 50,
     "metadata": {},
     "output_type": "execute_result"
    }
   ],
   "source": [
    "# Eliminando los registros con nan\n",
    "df_meteorites['mass_update'] = df_meteorites['mass_update'].dropna()\n",
    "df_meteorites.head()\n"
   ],
   "metadata": {
    "collapsed": false,
    "pycharm": {
     "name": "#%%\n"
    }
   }
  },
  {
   "cell_type": "code",
   "execution_count": 51,
   "outputs": [
    {
     "data": {
      "text/plain": "                              name nametype  mass_update   fall  \\\n32152  Queen Alexandra Range 02178    Valid          0.6  Found   \n\n                     year  reclat  reclong     GeoLocation  \n32152 2002-01-01 12:00:00   -84.0    168.0  (-84.0, 168.0)  ",
      "text/html": "<div>\n<style scoped>\n    .dataframe tbody tr th:only-of-type {\n        vertical-align: middle;\n    }\n\n    .dataframe tbody tr th {\n        vertical-align: top;\n    }\n\n    .dataframe thead th {\n        text-align: right;\n    }\n</style>\n<table border=\"1\" class=\"dataframe\">\n  <thead>\n    <tr style=\"text-align: right;\">\n      <th></th>\n      <th>name</th>\n      <th>nametype</th>\n      <th>mass_update</th>\n      <th>fall</th>\n      <th>year</th>\n      <th>reclat</th>\n      <th>reclong</th>\n      <th>GeoLocation</th>\n    </tr>\n  </thead>\n  <tbody>\n    <tr>\n      <th>32152</th>\n      <td>Queen Alexandra Range 02178</td>\n      <td>Valid</td>\n      <td>0.6</td>\n      <td>Found</td>\n      <td>2002-01-01 12:00:00</td>\n      <td>-84.0</td>\n      <td>168.0</td>\n      <td>(-84.0, 168.0)</td>\n    </tr>\n  </tbody>\n</table>\n</div>"
     },
     "execution_count": 51,
     "metadata": {},
     "output_type": "execute_result"
    }
   ],
   "source": [
    "# Haciendo una copia full del df\n",
    "copy_of_meteorites = df_meteorites.copy(deep=True)\n",
    "copy_of_meteorites.sample()"
   ],
   "metadata": {
    "collapsed": false,
    "pycharm": {
     "name": "#%%\n"
    }
   }
  }
 ],
 "metadata": {
  "kernelspec": {
   "display_name": "Python 3",
   "language": "python",
   "name": "python3"
  },
  "language_info": {
   "codemirror_mode": {
    "name": "ipython",
    "version": 2
   },
   "file_extension": ".py",
   "mimetype": "text/x-python",
   "name": "python",
   "nbconvert_exporter": "python",
   "pygments_lexer": "ipython2",
   "version": "2.7.6"
  }
 },
 "nbformat": 4,
 "nbformat_minor": 0
}