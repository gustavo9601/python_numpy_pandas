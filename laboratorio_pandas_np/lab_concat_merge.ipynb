{
 "cells": [
  {
   "cell_type": "code",
   "execution_count": 1,
   "metadata": {
    "collapsed": true,
    "pycharm": {
     "name": "#%%\n"
    }
   },
   "outputs": [],
   "source": [
    "import pandas as pd\n",
    "import numpy as np\n",
    "\n"
   ]
  },
  {
   "cell_type": "code",
   "execution_count": 2,
   "outputs": [],
   "source": [
    "# Set format display values in PD\n",
    "# Se especifica que el maximo de decimales\n",
    "pd.options.display.float_format = '{:,.2f}'.format\n",
    "np.set_printoptions(precision=2)"
   ],
   "metadata": {
    "collapsed": false,
    "pycharm": {
     "name": "#%%\n"
    }
   }
  },
  {
   "cell_type": "code",
   "execution_count": 4,
   "outputs": [
    {
     "name": "stdout",
     "output_type": "stream",
     "text": [
      "[[78.15 39.77 68.5  98.82 55.42]\n",
      " [61.29 32.34 61.8  78.41 66.97]]\n",
      "[[-41.11 -92.65 -97.4  -42.01 -80.53]\n",
      " [-30.25 -42.12 -14.93 -71.11 -68.26]]\n"
     ]
    }
   ],
   "source": [
    "# np.random.rand(filas,columnas)\n",
    "# Genera numeros aletarios entre 0 y 1\n",
    "x1 = np.random.rand(2, 5) * 100\n",
    "print(x1)\n",
    "x2 = np.random.rand(2, 5) * -100\n",
    "print(x2)\n",
    "\n"
   ],
   "metadata": {
    "collapsed": false,
    "pycharm": {
     "name": "#%%\n"
    }
   }
  },
  {
   "cell_type": "code",
   "execution_count": 5,
   "outputs": [
    {
     "name": "stdout",
     "output_type": "stream",
     "text": [
      "[[ 78.15  39.77  68.5   98.82  55.42]\n",
      " [ 61.29  32.34  61.8   78.41  66.97]\n",
      " [-41.11 -92.65 -97.4  -42.01 -80.53]\n",
      " [-30.25 -42.12 -14.93 -71.11 -68.26]]\n",
      "a   78.15\n",
      "b   39.77\n",
      "c   68.50\n",
      "d   98.82\n",
      "e   55.42\n",
      "dtype: float64\n",
      "c   -41.11\n",
      "d   -92.65\n",
      "e   -97.40\n",
      "f   -42.01\n",
      "g   -80.53\n",
      "dtype: float64\n"
     ]
    }
   ],
   "source": [
    "# np.concatenate([matriz1, matriz2], axis=0)\n",
    "# permite concatenar multiples matrices\n",
    "# axis = 0 filas | 1 columnas\n",
    "x_concatenate = np.concatenate([x1, x2], axis=0)\n",
    "print(x_concatenate)\n",
    "\n",
    "serie1 = pd.Series(x1[0], index=['a', 'b', 'c', 'd', 'e'])\n",
    "print(serie1)\n",
    "\n",
    "serie2 = pd.Series(x2[0], index=['c', 'd', 'e', 'f', 'g'])\n",
    "print(serie2)"
   ],
   "metadata": {
    "collapsed": false,
    "pycharm": {
     "name": "#%%\n"
    }
   }
  },
  {
   "cell_type": "code",
   "execution_count": 6,
   "outputs": [
    {
     "name": "stdout",
     "output_type": "stream",
     "text": [
      "a    78.15\n",
      "b    39.77\n",
      "c    68.50\n",
      "d    98.82\n",
      "e    55.42\n",
      "c   -41.11\n",
      "d   -92.65\n",
      "e   -97.40\n",
      "f   -42.01\n",
      "g   -80.53\n",
      "dtype: float64\n",
      "     a    b\n",
      "0 5.76 8.63\n",
      "1 6.49 9.19\n",
      "2 7.29 1.26\n",
      "      a     b\n",
      "2 -3.87 -7.07\n",
      "3 -9.65 -2.35\n",
      "4 -1.91 -4.51\n"
     ]
    }
   ],
   "source": [
    "# pd.concat([serie1, serie2], axis=0)\n",
    "# permite concatenar series\n",
    "# axis=0 filas | 1 columnas\n",
    "series_concat = pd.concat([serie1, serie2])\n",
    "print(series_concat)\n",
    "\n",
    "dataframe_1 = pd.DataFrame(np.random.rand(3, 2) * 10, columns=['a', 'b'])\n",
    "print(dataframe_1)\n",
    "\n",
    "dataframe_2 = pd.DataFrame(np.random.rand(3, 2) * -10, columns=['a', 'b'], index=[2, 3, 4])\n",
    "print(dataframe_2)"
   ],
   "metadata": {
    "collapsed": false,
    "pycharm": {
     "name": "#%%\n"
    }
   }
  },
  {
   "cell_type": "code",
   "execution_count": 7,
   "outputs": [
    {
     "name": "stdout",
     "output_type": "stream",
     "text": [
      "      a     b\n",
      "0  5.76  8.63\n",
      "1  6.49  9.19\n",
      "2  7.29  1.26\n",
      "2 -3.87 -7.07\n",
      "3 -9.65 -2.35\n",
      "4 -1.91 -4.51\n",
      "      a     b\n",
      "0  5.76  8.63\n",
      "1  6.49  9.19\n",
      "2  7.29  1.26\n",
      "2 -3.87 -7.07\n",
      "3 -9.65 -2.35\n",
      "4 -1.91 -4.51\n",
      "     0    1    2     2     3     4\n",
      "a 5.76 6.49 7.29 -3.87 -9.65 -1.91\n",
      "b 8.63 9.19 1.26 -7.07 -2.35 -4.51\n"
     ]
    }
   ],
   "source": [
    "# pd.concat([dataframe_1, dataframe_2], axis=0)\n",
    "# concatena\n",
    "# axis=0 filas | 1 colomunas\n",
    "dataframes_concat = pd.concat([dataframe_1, dataframe_2], axis=0)\n",
    "print(dataframes_concat)\n",
    "\n",
    "# Otra forma de concatenar dataframe\n",
    "other_way_concat = dataframe_1.append(dataframe_2)\n",
    "print(other_way_concat)\n",
    "\n",
    "# Trasnponiendo un DF\n",
    "print(other_way_concat.T)\n"
   ],
   "metadata": {
    "collapsed": false,
    "pycharm": {
     "name": "#%%\n"
    }
   }
  },
  {
   "cell_type": "code",
   "execution_count": 9,
   "outputs": [
    {
     "name": "stdout",
     "output_type": "stream",
     "text": [
      "    X   W   Y   Z   A\n",
      "0  x2  w2  y2  z2  a2\n",
      "1  x3  w3  y3  z3  a3\n",
      "    X   W   Y   Z   A\n",
      "0  x2  w2  y2  z2  a2\n",
      "1  x3  w3  y3  z3  a3\n"
     ]
    }
   ],
   "source": [
    "# Merge\n",
    "\n",
    "df_left = pd.DataFrame(\n",
    "    {'X': ['x0', 'x1', 'x2', 'x3'],\n",
    "     'W': ['w0', 'w1', 'w2', 'w3'],\n",
    "     'Y': ['y0', 'y1', 'y2', 'y3']},\n",
    "    index=[0, 1, 2, 3])\n",
    "\n",
    "df_right = pd.DataFrame(\n",
    "    {'Z': ['z2', 'z3', 'z4', 'z5'],\n",
    "     'A': ['a2', 'a3', 'a4', 'a5'],\n",
    "     'Y': ['y2', 'y3', 'y4', 'y5']},\n",
    "    index=[2, 3, 4, 5])\n",
    "\n",
    "# .merge(pd1, pd2)\n",
    "# hace el match por el indice que tengan en comun\n",
    "print(pd.merge(df_left, df_right))\n",
    "\n",
    "# Especificando que tipo de union se requiere y por que llave indice se debe hacer el cruce\n",
    "print(pd.merge(df_left, df_right, how='inner', on='Y'))"
   ],
   "metadata": {
    "collapsed": false,
    "pycharm": {
     "name": "#%%\n"
    }
   }
  }
 ],
 "metadata": {
  "kernelspec": {
   "display_name": "Python 3",
   "language": "python",
   "name": "python3"
  },
  "language_info": {
   "codemirror_mode": {
    "name": "ipython",
    "version": 2
   },
   "file_extension": ".py",
   "mimetype": "text/x-python",
   "name": "python",
   "nbconvert_exporter": "python",
   "pygments_lexer": "ipython2",
   "version": "2.7.6"
  }
 },
 "nbformat": 4,
 "nbformat_minor": 0
}