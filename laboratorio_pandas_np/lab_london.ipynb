{
 "cells": [
  {
   "cell_type": "code",
   "execution_count": 12,
   "metadata": {
    "collapsed": true
   },
   "outputs": [
    {
     "name": "stdout",
     "output_type": "stream",
     "text": [
      "version pandas >> 1.2.4\n",
      "version numpy >> 1.20.2\n"
     ]
    }
   ],
   "source": [
    "import pandas as pd\n",
    "import numpy as np\n",
    "\n",
    "print(\"version pandas >>\", pd.__version__)\n",
    "print(\"version numpy >>\", np.__version__)"
   ]
  },
  {
   "cell_type": "code",
   "execution_count": 6,
   "outputs": [
    {
     "name": "stdout",
     "output_type": "stream",
     "text": [
      ".shape >> (17414, 10)\n"
     ]
    },
    {
     "data": {
      "text/plain": "             timestamp  cnt   t1   t2    hum  wind_speed  weather_code  \\\n0  2015-01-04 00:00:00  182  3.0  2.0   93.0         6.0           3.0   \n1  2015-01-04 01:00:00  138  3.0  2.5   93.0         5.0           1.0   \n2  2015-01-04 02:00:00  134  2.5  2.5   96.5         0.0           1.0   \n3  2015-01-04 03:00:00   72  2.0  2.0  100.0         0.0           1.0   \n4  2015-01-04 04:00:00   47  2.0  0.0   93.0         6.5           1.0   \n\n   is_holiday  is_weekend  season  \n0         0.0         1.0     3.0  \n1         0.0         1.0     3.0  \n2         0.0         1.0     3.0  \n3         0.0         1.0     3.0  \n4         0.0         1.0     3.0  ",
      "text/html": "<div>\n<style scoped>\n    .dataframe tbody tr th:only-of-type {\n        vertical-align: middle;\n    }\n\n    .dataframe tbody tr th {\n        vertical-align: top;\n    }\n\n    .dataframe thead th {\n        text-align: right;\n    }\n</style>\n<table border=\"1\" class=\"dataframe\">\n  <thead>\n    <tr style=\"text-align: right;\">\n      <th></th>\n      <th>timestamp</th>\n      <th>cnt</th>\n      <th>t1</th>\n      <th>t2</th>\n      <th>hum</th>\n      <th>wind_speed</th>\n      <th>weather_code</th>\n      <th>is_holiday</th>\n      <th>is_weekend</th>\n      <th>season</th>\n    </tr>\n  </thead>\n  <tbody>\n    <tr>\n      <th>0</th>\n      <td>2015-01-04 00:00:00</td>\n      <td>182</td>\n      <td>3.0</td>\n      <td>2.0</td>\n      <td>93.0</td>\n      <td>6.0</td>\n      <td>3.0</td>\n      <td>0.0</td>\n      <td>1.0</td>\n      <td>3.0</td>\n    </tr>\n    <tr>\n      <th>1</th>\n      <td>2015-01-04 01:00:00</td>\n      <td>138</td>\n      <td>3.0</td>\n      <td>2.5</td>\n      <td>93.0</td>\n      <td>5.0</td>\n      <td>1.0</td>\n      <td>0.0</td>\n      <td>1.0</td>\n      <td>3.0</td>\n    </tr>\n    <tr>\n      <th>2</th>\n      <td>2015-01-04 02:00:00</td>\n      <td>134</td>\n      <td>2.5</td>\n      <td>2.5</td>\n      <td>96.5</td>\n      <td>0.0</td>\n      <td>1.0</td>\n      <td>0.0</td>\n      <td>1.0</td>\n      <td>3.0</td>\n    </tr>\n    <tr>\n      <th>3</th>\n      <td>2015-01-04 03:00:00</td>\n      <td>72</td>\n      <td>2.0</td>\n      <td>2.0</td>\n      <td>100.0</td>\n      <td>0.0</td>\n      <td>1.0</td>\n      <td>0.0</td>\n      <td>1.0</td>\n      <td>3.0</td>\n    </tr>\n    <tr>\n      <th>4</th>\n      <td>2015-01-04 04:00:00</td>\n      <td>47</td>\n      <td>2.0</td>\n      <td>0.0</td>\n      <td>93.0</td>\n      <td>6.5</td>\n      <td>1.0</td>\n      <td>0.0</td>\n      <td>1.0</td>\n      <td>3.0</td>\n    </tr>\n  </tbody>\n</table>\n</div>"
     },
     "execution_count": 6,
     "metadata": {},
     "output_type": "execute_result"
    }
   ],
   "source": [
    "# load dataset\n",
    "db_london = pd.read_csv('./../db/london_merged.csv')\n",
    "print(\".shape >>\", db_london.shape)\n",
    "db_london.head(5)\n"
   ],
   "metadata": {
    "collapsed": false,
    "pycharm": {
     "name": "#%%\n"
    }
   }
  },
  {
   "cell_type": "code",
   "execution_count": 13,
   "outputs": [
    {
     "name": "stdout",
     "output_type": "stream",
     "text": [
      ".dtypes >> timestamp       datetime64[ns]\n",
      "cnt                      int64\n",
      "t1                     float64\n",
      "t2                     float64\n",
      "hum                    float64\n",
      "wind_speed             float64\n",
      "weather_code           float64\n",
      "is_holiday             float64\n",
      "is_weekend             float64\n",
      "season                 float64\n",
      "hour                     int64\n",
      "dtype: object\n"
     ]
    }
   ],
   "source": [
    "# .dtypes\n",
    "# devuelve los tipos de las columnas\n",
    "print(\".dtypes >>\", db_london.dtypes)"
   ],
   "metadata": {
    "collapsed": false,
    "pycharm": {
     "name": "#%%\n"
    }
   }
  },
  {
   "cell_type": "code",
   "execution_count": 15,
   "outputs": [
    {
     "name": "stdout",
     "output_type": "stream",
     "text": [
      "<bound method NDFrame.describe of                 timestamp   cnt   t1   t2    hum  wind_speed  weather_code  \\\n",
      "0     2015-01-04 00:00:00   182  3.0  2.0   93.0         6.0           3.0   \n",
      "1     2015-01-04 01:00:00   138  3.0  2.5   93.0         5.0           1.0   \n",
      "2     2015-01-04 02:00:00   134  2.5  2.5   96.5         0.0           1.0   \n",
      "3     2015-01-04 03:00:00    72  2.0  2.0  100.0         0.0           1.0   \n",
      "4     2015-01-04 04:00:00    47  2.0  0.0   93.0         6.5           1.0   \n",
      "...                   ...   ...  ...  ...    ...         ...           ...   \n",
      "17409 2017-01-03 19:00:00  1042  5.0  1.0   81.0        19.0           3.0   \n",
      "17410 2017-01-03 20:00:00   541  5.0  1.0   81.0        21.0           4.0   \n",
      "17411 2017-01-03 21:00:00   337  5.5  1.5   78.5        24.0           4.0   \n",
      "17412 2017-01-03 22:00:00   224  5.5  1.5   76.0        23.0           4.0   \n",
      "17413 2017-01-03 23:00:00   139  5.0  1.0   76.0        22.0           2.0   \n",
      "\n",
      "       is_holiday  is_weekend  season  hour  \n",
      "0             0.0         1.0     3.0     0  \n",
      "1             0.0         1.0     3.0     1  \n",
      "2             0.0         1.0     3.0     2  \n",
      "3             0.0         1.0     3.0     3  \n",
      "4             0.0         1.0     3.0     4  \n",
      "...           ...         ...     ...   ...  \n",
      "17409         0.0         0.0     3.0    19  \n",
      "17410         0.0         0.0     3.0    20  \n",
      "17411         0.0         0.0     3.0    21  \n",
      "17412         0.0         0.0     3.0    22  \n",
      "17413         0.0         0.0     3.0    23  \n",
      "\n",
      "[17414 rows x 11 columns]>\n"
     ]
    }
   ],
   "source": [
    "# Formateando el formato a fecha\n",
    "# si la columna contiene valores correctos de fechas, pandas pueden formatear sin errores\n",
    "db_london['timestamp'] = pd.to_datetime(db_london['timestamp'])\n",
    "\n",
    "# Añadiendo una columna apartir de otra\n",
    "db_london['hour'] = db_london['timestamp'].dt.hour\n",
    "print(db_london.describe)\n"
   ],
   "metadata": {
    "collapsed": false,
    "pycharm": {
     "name": "#%%\n"
    }
   }
  },
  {
   "cell_type": "code",
   "execution_count": 16,
   "outputs": [
    {
     "data": {
      "text/plain": "<bound method NDFrame.describe of         cnt   t1   t2    hum  wind_speed  weather_code  is_holiday  \\\n0       182  3.0  2.0   93.0         6.0           3.0         0.0   \n1       138  3.0  2.5   93.0         5.0           1.0         0.0   \n2       134  2.5  2.5   96.5         0.0           1.0         0.0   \n3        72  2.0  2.0  100.0         0.0           1.0         0.0   \n4        47  2.0  0.0   93.0         6.5           1.0         0.0   \n...     ...  ...  ...    ...         ...           ...         ...   \n17409  1042  5.0  1.0   81.0        19.0           3.0         0.0   \n17410   541  5.0  1.0   81.0        21.0           4.0         0.0   \n17411   337  5.5  1.5   78.5        24.0           4.0         0.0   \n17412   224  5.5  1.5   76.0        23.0           4.0         0.0   \n17413   139  5.0  1.0   76.0        22.0           2.0         0.0   \n\n       is_weekend  season  hour  \n0             1.0     3.0     0  \n1             1.0     3.0     1  \n2             1.0     3.0     2  \n3             1.0     3.0     3  \n4             1.0     3.0     4  \n...           ...     ...   ...  \n17409         0.0     3.0    19  \n17410         0.0     3.0    20  \n17411         0.0     3.0    21  \n17412         0.0     3.0    22  \n17413         0.0     3.0    23  \n\n[17414 rows x 10 columns]>"
     },
     "execution_count": 16,
     "metadata": {},
     "output_type": "execute_result"
    }
   ],
   "source": [
    "# Reasignando a partir de un filtro de filas y columnas\n",
    "# db_london.iloc[:, 1:]\n",
    "# : // todas las filas\n",
    "# 1: todas las columnas a partir de la posicion 1, es decir que omite la posicion 0\n",
    "db_london = db_london.iloc[:, 1:]\n",
    "db_london.describe"
   ],
   "metadata": {
    "collapsed": false,
    "pycharm": {
     "name": "#%%\n"
    }
   }
  },
  {
   "cell_type": "code",
   "execution_count": 19,
   "outputs": [
    {
     "name": "stdout",
     "output_type": "stream",
     "text": [
      "<bound method NDFrame.describe of         cnt   t1   t2    hum  wind_speed  weather_code  is_holiday  \\\n",
      "0       182  3.0  2.0   93.0   10.850160           3.0         0.0   \n",
      "1       138  3.0  2.5   93.0    9.847769           1.0         0.0   \n",
      "2       134  2.5  2.5   96.5   10.828875           1.0         0.0   \n",
      "3        72  2.0  2.0  100.0   10.828875           1.0         0.0   \n",
      "4        47  2.0  0.0   93.0    9.578316           1.0         0.0   \n",
      "...     ...  ...  ...    ...         ...           ...         ...   \n",
      "17409  1042  5.0  1.0   81.0   10.788663           3.0         0.0   \n",
      "17410   541  5.0  1.0   81.0    9.007504           4.0         0.0   \n",
      "17411   337  5.5  1.5   78.5   10.945426           4.0         0.0   \n",
      "17412   224  5.5  1.5   76.0    9.243790           4.0         0.0   \n",
      "17413   139  5.0  1.0   76.0   10.913016           2.0         0.0   \n",
      "\n",
      "       is_weekend  season  hour  \n",
      "0             1.0     3.0     0  \n",
      "1             1.0     3.0     1  \n",
      "2             1.0     3.0     2  \n",
      "3             1.0     3.0     3  \n",
      "4             1.0     3.0     4  \n",
      "...           ...     ...   ...  \n",
      "17409         0.0     3.0    19  \n",
      "17410         0.0     3.0    20  \n",
      "17411         0.0     3.0    21  \n",
      "17412         0.0     3.0    22  \n",
      "17413         0.0     3.0    23  \n",
      "\n",
      "[17414 rows x 10 columns]>\n"
     ]
    }
   ],
   "source": [
    "# Aplicando funciones matematicas a una columnas de DF\n",
    "db_london['wind_speed'] = np.sin(db_london['wind_speed'] ** 2) + 10\n",
    "print(db_london.describe)"
   ],
   "metadata": {
    "collapsed": false,
    "pycharm": {
     "name": "#%%\n"
    }
   }
  },
  {
   "cell_type": "code",
   "execution_count": 20,
   "outputs": [
    {
     "name": "stdout",
     "output_type": "stream",
     "text": [
      "<bound method NDFrame.describe of         cnt   t1   t2    hum  wind_speed  weather_code  is_holiday  \\\n",
      "0       182  3.0  2.0   93.0   10.850160           3.0         0.0   \n",
      "1       138  3.0  2.5   93.0    9.847769           1.0         0.0   \n",
      "2       134  2.5  2.5   96.5   10.828875           1.0         0.0   \n",
      "3        72  2.0  2.0  100.0   10.828875           1.0         0.0   \n",
      "4        47  2.0  0.0   93.0    9.578316           1.0         0.0   \n",
      "...     ...  ...  ...    ...         ...           ...         ...   \n",
      "17409  1042  5.0  1.0   81.0   10.788663           3.0         0.0   \n",
      "17410   541  5.0  1.0   81.0    9.007504           4.0         0.0   \n",
      "17411   337  5.5  1.5   78.5   10.945426           4.0         0.0   \n",
      "17412   224  5.5  1.5   76.0    9.243790           4.0         0.0   \n",
      "17413   139  5.0  1.0   76.0   10.913016           2.0         0.0   \n",
      "\n",
      "       is_weekend  season  hour  dif_t1_t2  \n",
      "0             1.0     3.0     0        1.0  \n",
      "1             1.0     3.0     1        0.5  \n",
      "2             1.0     3.0     2        0.0  \n",
      "3             1.0     3.0     3        0.0  \n",
      "4             1.0     3.0     4        2.0  \n",
      "...           ...     ...   ...        ...  \n",
      "17409         0.0     3.0    19        4.0  \n",
      "17410         0.0     3.0    20        4.0  \n",
      "17411         0.0     3.0    21        4.0  \n",
      "17412         0.0     3.0    22        4.0  \n",
      "17413         0.0     3.0    23        4.0  \n",
      "\n",
      "[17414 rows x 11 columns]>\n"
     ]
    }
   ],
   "source": [
    "# Operaciones entre columnas\n",
    "db_london['dif_t1_t2'] = db_london['t1'] - db_london['t2']\n",
    "print(db_london.describe)\n"
   ],
   "metadata": {
    "collapsed": false,
    "pycharm": {
     "name": "#%%\n"
    }
   }
  },
  {
   "cell_type": "code",
   "execution_count": 21,
   "outputs": [
    {
     "name": "stdout",
     "output_type": "stream",
     "text": [
      "<bound method NDFrame.describe of         cnt   t1   t2    hum  wind_speed  weather_code  is_holiday  \\\n",
      "0       182  3.0  2.0   93.0   10.850160           3.0         0.0   \n",
      "1       138  3.0  2.5   93.0    9.847769           1.0         0.0   \n",
      "2       134  2.5  2.5   96.5   10.828875           1.0         0.0   \n",
      "3        72  2.0  2.0  100.0   10.828875           1.0         0.0   \n",
      "4        47  2.0  0.0   93.0    9.578316           1.0         0.0   \n",
      "...     ...  ...  ...    ...         ...           ...         ...   \n",
      "17409  1042  5.0  1.0   81.0   10.788663           3.0         0.0   \n",
      "17410   541  5.0  1.0   81.0    9.007504           4.0         0.0   \n",
      "17411   337  5.5  1.5   78.5   10.945426           4.0         0.0   \n",
      "17412   224  5.5  1.5   76.0    9.243790           4.0         0.0   \n",
      "17413   139  5.0  1.0   76.0   10.913016           2.0         0.0   \n",
      "\n",
      "       is_weekend  season  hour  dif_t1_t2  dif_t1_t2_pares  \n",
      "0             1.0     3.0     0        1.0              1.0  \n",
      "1             1.0     3.0     1        0.5              7.5  \n",
      "2             1.0     3.0     2        0.0              0.0  \n",
      "3             1.0     3.0     3        0.0              8.0  \n",
      "4             1.0     3.0     4        2.0              2.0  \n",
      "...           ...     ...   ...        ...              ...  \n",
      "17409         0.0     3.0    19        4.0              9.0  \n",
      "17410         0.0     3.0    20        4.0              4.0  \n",
      "17411         0.0     3.0    21        4.0              8.5  \n",
      "17412         0.0     3.0    22        4.0              4.0  \n",
      "17413         0.0     3.0    23        4.0              9.0  \n",
      "\n",
      "[17414 rows x 12 columns]>\n"
     ]
    }
   ],
   "source": [
    "# Operacion entre columnas y relleno por default\n",
    "# db_london['t1'].iloc[::2].sub(db_london['t2'], fill_value = 10)\n",
    "# db_london['t1'] // seleccion de la columna t1\n",
    "# .iloc[::2] // seleccion de las filas de 2 en 2\n",
    "# .sub(value) // resta el valor por parametro\n",
    "# db_london['t2'], fill_value = 10 // Columna y relleno por defecto de no encontrarse\n",
    "\"\"\"\n",
    "add()\n",
    "sub() | subtract()\n",
    "mul() | multiply()\n",
    "div() | divide()\n",
    "mod()\n",
    "pow()\n",
    ".dot() // producto punto\n",
    "\"\"\"\n",
    "db_london['dif_t1_t2_pares'] = db_london['t1'].iloc[::2].sub(db_london['t2'], fill_value=10)\n",
    "print(db_london.describe)"
   ],
   "metadata": {
    "collapsed": false,
    "pycharm": {
     "name": "#%%\n"
    }
   }
  },
  {
   "cell_type": "code",
   "execution_count": 22,
   "outputs": [
    {
     "name": "stdout",
     "output_type": "stream",
     "text": [
      "<bound method NDFrame.describe of         cnt   t1   t2    hum  wind_speed  weather_code  is_holiday  \\\n",
      "0       182  3.0  2.0   93.0   10.850160           3.0         0.0   \n",
      "1       138  3.0  2.5   93.0    9.847769           1.0         0.0   \n",
      "2       134  2.5  2.5   96.5   10.828875           1.0         0.0   \n",
      "3        72  2.0  2.0  100.0   10.828875           1.0         0.0   \n",
      "4        47  2.0  0.0   93.0    9.578316           1.0         0.0   \n",
      "...     ...  ...  ...    ...         ...           ...         ...   \n",
      "17409  1042  5.0  1.0   81.0   10.788663           3.0         0.0   \n",
      "17410   541  5.0  1.0   81.0    9.007504           4.0         0.0   \n",
      "17411   337  5.5  1.5   78.5   10.945426           4.0         0.0   \n",
      "17412   224  5.5  1.5   76.0    9.243790           4.0         0.0   \n",
      "17413   139  5.0  1.0   76.0   10.913016           2.0         0.0   \n",
      "\n",
      "       is_weekend  season  hour  dif_t1_t2  dif_t1_t2_pares  \n",
      "0             1.0     3.0     1        1.0              1.0  \n",
      "1             1.0     3.0     2        0.5              7.5  \n",
      "2             1.0     3.0     5        0.0              0.0  \n",
      "3             1.0     3.0    10        0.0              8.0  \n",
      "4             1.0     3.0    17        2.0              2.0  \n",
      "...           ...     ...   ...        ...              ...  \n",
      "17409         0.0     3.0   362        4.0              9.0  \n",
      "17410         0.0     3.0   401        4.0              4.0  \n",
      "17411         0.0     3.0   442        4.0              8.5  \n",
      "17412         0.0     3.0   485        4.0              4.0  \n",
      "17413         0.0     3.0   530        4.0              9.0  \n",
      "\n",
      "[17414 rows x 12 columns]>\n"
     ]
    }
   ],
   "source": [
    "# Aplicando funciones al DF\n",
    "def func_1(x):\n",
    "    y = x ** 2 + 1\n",
    "    return y\n",
    "\n",
    "\n",
    "# .apply(function or lamda)\n",
    "# permite aplicar una funcion para la columna seleccionada\n",
    "db_london['hour'] = db_london['hour'].apply(func_1)\n",
    "print(db_london.describe)"
   ],
   "metadata": {
    "collapsed": false,
    "pycharm": {
     "name": "#%%\n"
    }
   }
  },
  {
   "cell_type": "code",
   "execution_count": 23,
   "outputs": [
    {
     "name": "stdout",
     "output_type": "stream",
     "text": [
      "<bound method NDFrame.describe of         cnt   t1   t2    hum  wind_speed  weather_code  is_holiday  \\\n",
      "0       182  3.0  2.0   93.0   10.850160           3.0         0.0   \n",
      "1       138  3.0  2.5   93.0    9.847769           1.0         0.0   \n",
      "2       134  2.5  2.5   96.5   10.828875           1.0         0.0   \n",
      "3        72  2.0  2.0  100.0   10.828875           1.0         0.0   \n",
      "4        47  2.0  0.0   93.0    9.578316           1.0         0.0   \n",
      "...     ...  ...  ...    ...         ...           ...         ...   \n",
      "17409  1042  5.0  1.0   81.0   10.788663           3.0         0.0   \n",
      "17410   541  5.0  1.0   81.0    9.007504           4.0         0.0   \n",
      "17411   337  5.5  1.5   78.5   10.945426           4.0         0.0   \n",
      "17412   224  5.5  1.5   76.0    9.243790           4.0         0.0   \n",
      "17413   139  5.0  1.0   76.0   10.913016           2.0         0.0   \n",
      "\n",
      "       is_weekend  season    hour  dif_t1_t2  dif_t1_t2_pares  \n",
      "0             1.0     3.0    -419        1.0              1.0  \n",
      "1             1.0     3.0    -316        0.5              7.5  \n",
      "2             1.0     3.0       5        0.0              0.0  \n",
      "3             1.0     3.0     580        0.0              8.0  \n",
      "4             1.0     3.0    1469        2.0              2.0  \n",
      "...           ...     ...     ...        ...              ...  \n",
      "17409         0.0     3.0  166724        4.0              9.0  \n",
      "17410         0.0     3.0  200381        4.0              4.0  \n",
      "17411         0.0     3.0  239044        4.0              8.5  \n",
      "17412         0.0     3.0  283205        4.0              4.0  \n",
      "17413         0.0     3.0  333380        4.0              9.0  \n",
      "\n",
      "[17414 rows x 12 columns]>\n",
      "<bound method NDFrame.describe of         cnt     t1   t2    hum  wind_speed  weather_code  is_holiday  \\\n",
      "0       182  276.0  2.0   93.0   10.850160           3.0         0.0   \n",
      "1       138  276.0  2.5   93.0    9.847769           1.0         0.0   \n",
      "2       134  275.5  2.5   96.5   10.828875           1.0         0.0   \n",
      "3        72  275.0  2.0  100.0   10.828875           1.0         0.0   \n",
      "4        47  275.0  0.0   93.0    9.578316           1.0         0.0   \n",
      "...     ...    ...  ...    ...         ...           ...         ...   \n",
      "17409  1042  278.0  1.0   81.0   10.788663           3.0         0.0   \n",
      "17410   541  278.0  1.0   81.0    9.007504           4.0         0.0   \n",
      "17411   337  278.5  1.5   78.5   10.945426           4.0         0.0   \n",
      "17412   224  278.5  1.5   76.0    9.243790           4.0         0.0   \n",
      "17413   139  278.0  1.0   76.0   10.913016           2.0         0.0   \n",
      "\n",
      "       is_weekend  season    hour  dif_t1_t2  dif_t1_t2_pares  \n",
      "0             1.0     3.0    -419        1.0              1.0  \n",
      "1             1.0     3.0    -316        0.5              7.5  \n",
      "2             1.0     3.0       5        0.0              0.0  \n",
      "3             1.0     3.0     580        0.0              8.0  \n",
      "4             1.0     3.0    1469        2.0              2.0  \n",
      "...           ...     ...     ...        ...              ...  \n",
      "17409         0.0     3.0  166724        4.0              9.0  \n",
      "17410         0.0     3.0  200381        4.0              4.0  \n",
      "17411         0.0     3.0  239044        4.0              8.5  \n",
      "17412         0.0     3.0  283205        4.0              4.0  \n",
      "17413         0.0     3.0  333380        4.0              9.0  \n",
      "\n",
      "[17414 rows x 12 columns]>\n"
     ]
    }
   ],
   "source": [
    "def func_2(x, a=20, b=-100):\n",
    "    y = x ** 2 + a * x + b\n",
    "    return y\n",
    "\n",
    "# args=(values) // se esepficia en tupla los valores a pasar a la funcion posicionalmebte\n",
    "# a=100, b=-520 // se especifican los valores de la funcion por nombre de variable\n",
    "db_london['hour'] = db_london['hour'].apply(func_2, a=100, b=-520)\n",
    "print(db_london.describe)\n",
    "\n",
    "# lamda x : x + 273\n",
    "# Para cada valor de la columna representado en x se le pasara 273\n",
    "db_london['t1'] = db_london['t1'].apply(lambda x : x + 273)\n",
    "print(db_london.describe)\n"
   ],
   "metadata": {
    "collapsed": false,
    "pycharm": {
     "name": "#%%\n"
    }
   }
  },
  {
   "cell_type": "code",
   "execution_count": 24,
   "outputs": [
    {
     "name": "stdout",
     "output_type": "stream",
     "text": [
      "cnt                 1143.101642\n",
      "t1                   285.468091\n",
      "t2                    11.520836\n",
      "hum                   72.324954\n",
      "wind_speed            10.103976\n",
      "weather_code           2.722752\n",
      "is_holiday             0.022051\n",
      "is_weekend             0.285403\n",
      "season                 1.492075\n",
      "hour               77644.907546\n",
      "dif_t1_t2              0.947255\n",
      "dif_t1_t2_pares       -0.286685\n",
      "dtype: float64\n",
      "0        The wind speed is 10.850160061727184\n",
      "1         The wind speed is 9.847769155500272\n",
      "2        The wind speed is 10.828874942492957\n",
      "3        The wind speed is 10.828874942492957\n",
      "4         The wind speed is 9.578316027253702\n",
      "                         ...                 \n",
      "17409    The wind speed is 10.788662995563888\n",
      "17410     The wind speed is 9.007503994953439\n",
      "17411    The wind speed is 10.945425937510368\n",
      "17412     The wind speed is 9.243790273721546\n",
      "17413    The wind speed is 10.913016325100717\n",
      "Name: wind_speed, Length: 17414, dtype: object\n"
     ]
    }
   ],
   "source": [
    "# Calculos por filas y columnas\n",
    "# .mean() // media\n",
    "# axis=0 // 0 filas || 1 columnas\n",
    "\n",
    "print(db_london.apply(lambda x : x.mean(), axis=0))\n",
    "\n",
    "\"\"\"\n",
    "Además de apply, también se pueden usar las funciones applymap y map, dependiendo de la necesidad.\n",
    "\n",
    "apply() se utiliza para aplicar una función a lo largo de un eje (columna o fila).\n",
    "applymap() se usa para aplicar una función a todos los elementos del DataFrame\n",
    "map() se usa para sustituir cada valor de una fila por otro valor.\n",
    "Un ejemplo del uso de map() sería:\n",
    "\"\"\"\n",
    "print(db_london['wind_speed'].map('The wind speed is {}'.format))"
   ],
   "metadata": {
    "collapsed": false,
    "pycharm": {
     "name": "#%%\n"
    }
   }
  }
 ],
 "metadata": {
  "kernelspec": {
   "display_name": "Python 3",
   "language": "python",
   "name": "python3"
  },
  "language_info": {
   "codemirror_mode": {
    "name": "ipython",
    "version": 2
   },
   "file_extension": ".py",
   "mimetype": "text/x-python",
   "name": "python",
   "nbconvert_exporter": "python",
   "pygments_lexer": "ipython2",
   "version": "2.7.6"
  }
 },
 "nbformat": 4,
 "nbformat_minor": 0
}