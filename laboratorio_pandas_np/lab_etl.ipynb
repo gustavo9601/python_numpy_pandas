{
 "cells": [
  {
   "cell_type": "markdown",
   "source": [],
   "metadata": {
    "collapsed": false,
    "pycharm": {
     "name": "#%% md\n"
    }
   }
  },
  {
   "cell_type": "code",
   "execution_count": 2,
   "outputs": [],
   "source": [
    "import pandas as pd\n",
    "import numpy as np"
   ],
   "metadata": {
    "collapsed": false,
    "pycharm": {
     "name": "#%%\n"
    }
   }
  },
  {
   "cell_type": "markdown",
   "source": [],
   "metadata": {
    "collapsed": false,
    "pycharm": {
     "name": "#%% md\n"
    }
   }
  },
  {
   "cell_type": "code",
   "execution_count": 31,
   "outputs": [
    {
     "name": "stdout",
     "output_type": "stream",
     "text": [
      "(11121, 17)\n",
      "(40238, 6)\n"
     ]
    }
   ],
   "source": [
    "df_products =  pd.read_csv('./../db/products.csv', sep=';')\n",
    "df_sales = pd.read_csv('./../db/sales.csv', sep=';')\n",
    "\n",
    "print(df_products.shape)\n",
    "print(df_sales.shape)"
   ],
   "metadata": {
    "collapsed": false,
    "pycharm": {
     "name": "#%%\n"
    }
   }
  },
  {
   "cell_type": "code",
   "execution_count": 12,
   "outputs": [
    {
     "data": {
      "text/plain": "              id               name  reference  reference_group  gender  temp  \\\n0  8445035092569   LEGGINGS PUNTA-N   53040854         53040854   Mujer     5   \n1  8445156208559    CHAQUETA BERRY7   77003253         77003253  Hombre     7   \n2  8445156311907      JERSEY WILLYT   77005129         77005129  Hombre     7   \n3  8445156389623  PANTALON BRASILIA   77020512         77020512  Hombre     7   \n4  8445156449334       JEANS NEWMOM   77000518         77000518   Mujer     7   \n\n   initial_price    cost code_color description_color  size description_size  \\\n0          99900   99900         99             NEGRO    23               XL   \n1         429900  429900         56              NAVY    21                M   \n2         259900  259900         78           BURDEOS    22                L   \n3         329900  329900         52              AZUL    42               42   \n4         199900  199900         TO     TEJANO OSCURO    38               38   \n\n      target                 family fashion_grade  status  \\\n0     Casual       LEGGING CIRCULAR       ICONICO       1   \n1      Smart  CHAQUETA PLANA HOMBRE           NaN       1   \n2      Smart   JERSEY TRICOT HOMBRE       ICONICO       1   \n3  Tayloring  PANTALON PLANA HOMBRE           NaN       1   \n4     Casual           TEJANO PLANA       ICONICO       1   \n\n                                          url_images  \n0  https://st.mngbcn.com/rcs/pics/static/T5/fotos...  \n1                                                NaN  \n2  https://st.mngbcn.com/rcs/pics/static/T7/fotos...  \n3                                                NaN  \n4  https://st.mngbcn.com/rcs/pics/static/T7/fotos...  ",
      "text/html": "<div>\n<style scoped>\n    .dataframe tbody tr th:only-of-type {\n        vertical-align: middle;\n    }\n\n    .dataframe tbody tr th {\n        vertical-align: top;\n    }\n\n    .dataframe thead th {\n        text-align: right;\n    }\n</style>\n<table border=\"1\" class=\"dataframe\">\n  <thead>\n    <tr style=\"text-align: right;\">\n      <th></th>\n      <th>id</th>\n      <th>name</th>\n      <th>reference</th>\n      <th>reference_group</th>\n      <th>gender</th>\n      <th>temp</th>\n      <th>initial_price</th>\n      <th>cost</th>\n      <th>code_color</th>\n      <th>description_color</th>\n      <th>size</th>\n      <th>description_size</th>\n      <th>target</th>\n      <th>family</th>\n      <th>fashion_grade</th>\n      <th>status</th>\n      <th>url_images</th>\n    </tr>\n  </thead>\n  <tbody>\n    <tr>\n      <th>0</th>\n      <td>8445035092569</td>\n      <td>LEGGINGS PUNTA-N</td>\n      <td>53040854</td>\n      <td>53040854</td>\n      <td>Mujer</td>\n      <td>5</td>\n      <td>99900</td>\n      <td>99900</td>\n      <td>99</td>\n      <td>NEGRO</td>\n      <td>23</td>\n      <td>XL</td>\n      <td>Casual</td>\n      <td>LEGGING CIRCULAR</td>\n      <td>ICONICO</td>\n      <td>1</td>\n      <td>https://st.mngbcn.com/rcs/pics/static/T5/fotos...</td>\n    </tr>\n    <tr>\n      <th>1</th>\n      <td>8445156208559</td>\n      <td>CHAQUETA BERRY7</td>\n      <td>77003253</td>\n      <td>77003253</td>\n      <td>Hombre</td>\n      <td>7</td>\n      <td>429900</td>\n      <td>429900</td>\n      <td>56</td>\n      <td>NAVY</td>\n      <td>21</td>\n      <td>M</td>\n      <td>Smart</td>\n      <td>CHAQUETA PLANA HOMBRE</td>\n      <td>NaN</td>\n      <td>1</td>\n      <td>NaN</td>\n    </tr>\n    <tr>\n      <th>2</th>\n      <td>8445156311907</td>\n      <td>JERSEY WILLYT</td>\n      <td>77005129</td>\n      <td>77005129</td>\n      <td>Hombre</td>\n      <td>7</td>\n      <td>259900</td>\n      <td>259900</td>\n      <td>78</td>\n      <td>BURDEOS</td>\n      <td>22</td>\n      <td>L</td>\n      <td>Smart</td>\n      <td>JERSEY TRICOT HOMBRE</td>\n      <td>ICONICO</td>\n      <td>1</td>\n      <td>https://st.mngbcn.com/rcs/pics/static/T7/fotos...</td>\n    </tr>\n    <tr>\n      <th>3</th>\n      <td>8445156389623</td>\n      <td>PANTALON BRASILIA</td>\n      <td>77020512</td>\n      <td>77020512</td>\n      <td>Hombre</td>\n      <td>7</td>\n      <td>329900</td>\n      <td>329900</td>\n      <td>52</td>\n      <td>AZUL</td>\n      <td>42</td>\n      <td>42</td>\n      <td>Tayloring</td>\n      <td>PANTALON PLANA HOMBRE</td>\n      <td>NaN</td>\n      <td>1</td>\n      <td>NaN</td>\n    </tr>\n    <tr>\n      <th>4</th>\n      <td>8445156449334</td>\n      <td>JEANS NEWMOM</td>\n      <td>77000518</td>\n      <td>77000518</td>\n      <td>Mujer</td>\n      <td>7</td>\n      <td>199900</td>\n      <td>199900</td>\n      <td>TO</td>\n      <td>TEJANO OSCURO</td>\n      <td>38</td>\n      <td>38</td>\n      <td>Casual</td>\n      <td>TEJANO PLANA</td>\n      <td>ICONICO</td>\n      <td>1</td>\n      <td>https://st.mngbcn.com/rcs/pics/static/T7/fotos...</td>\n    </tr>\n  </tbody>\n</table>\n</div>"
     },
     "execution_count": 12,
     "metadata": {},
     "output_type": "execute_result"
    }
   ],
   "source": [
    "df_products.head(5)"
   ],
   "metadata": {
    "collapsed": false,
    "pycharm": {
     "name": "#%%\n"
    }
   }
  },
  {
   "cell_type": "code",
   "execution_count": 13,
   "outputs": [
    {
     "name": "stdout",
     "output_type": "stream",
     "text": [
      "<class 'pandas.core.frame.DataFrame'>\n",
      "RangeIndex: 11121 entries, 0 to 11120\n",
      "Data columns (total 17 columns):\n",
      " #   Column             Non-Null Count  Dtype \n",
      "---  ------             --------------  ----- \n",
      " 0   id                 11121 non-null  int64 \n",
      " 1   name               11121 non-null  object\n",
      " 2   reference          11121 non-null  int64 \n",
      " 3   reference_group    11121 non-null  int64 \n",
      " 4   gender             11121 non-null  object\n",
      " 5   temp               11121 non-null  int64 \n",
      " 6   initial_price      11121 non-null  int64 \n",
      " 7   cost               11121 non-null  int64 \n",
      " 8   code_color         11121 non-null  object\n",
      " 9   description_color  11121 non-null  object\n",
      " 10  size               11121 non-null  int64 \n",
      " 11  description_size   11121 non-null  object\n",
      " 12  target             11121 non-null  object\n",
      " 13  family             11121 non-null  object\n",
      " 14  fashion_grade      9880 non-null   object\n",
      " 15  status             11121 non-null  int64 \n",
      " 16  url_images         10602 non-null  object\n",
      "dtypes: int64(8), object(9)\n",
      "memory usage: 1.4+ MB\n"
     ]
    }
   ],
   "source": [
    "df_products.info()"
   ],
   "metadata": {
    "collapsed": false,
    "pycharm": {
     "name": "#%%\n"
    }
   }
  },
  {
   "cell_type": "markdown",
   "source": [
    "### Change type columns"
   ],
   "metadata": {
    "collapsed": false,
    "pycharm": {
     "name": "#%% md\n"
    }
   }
  },
  {
   "cell_type": "code",
   "execution_count": 45,
   "outputs": [
    {
     "name": "stdout",
     "output_type": "stream",
     "text": [
      "<class 'pandas.core.frame.DataFrame'>\n",
      "RangeIndex: 11121 entries, 0 to 11120\n",
      "Data columns (total 17 columns):\n",
      " #   Column             Non-Null Count  Dtype \n",
      "---  ------             --------------  ----- \n",
      " 0   id                 11121 non-null  string\n",
      " 1   name               11121 non-null  string\n",
      " 2   reference          11121 non-null  string\n",
      " 3   reference_group    11121 non-null  string\n",
      " 4   gender             11121 non-null  string\n",
      " 5   temp               11121 non-null  int64 \n",
      " 6   initial_price      11121 non-null  int64 \n",
      " 7   cost               11121 non-null  int64 \n",
      " 8   code_color         11121 non-null  object\n",
      " 9   description_color  11121 non-null  object\n",
      " 10  size               11121 non-null  int64 \n",
      " 11  description_size   11121 non-null  object\n",
      " 12  target             11121 non-null  object\n",
      " 13  family             11121 non-null  string\n",
      " 14  fashion_grade      9880 non-null   object\n",
      " 15  status             11121 non-null  int64 \n",
      " 16  url_images         10602 non-null  string\n",
      "dtypes: int64(5), object(5), string(7)\n",
      "memory usage: 1.4+ MB\n"
     ]
    }
   ],
   "source": [
    "df_products['name'] = df_products['name'].astype('string')\n",
    "df_products['reference'] = df_products['reference'].astype('string')\n",
    "df_products['id'] = df_products['id'].astype('string')\n",
    "df_products['reference_group'] = df_products['reference_group'].astype('string')\n",
    "df_products['gender'] = df_products['gender'].astype('string')\n",
    "df_products['family'] = df_products['family'].astype('string')\n",
    "df_products['url_images'] = df_products['url_images'].astype('string')\n",
    "\n",
    "df_sales['store_id']  = df_sales['store_id'].astype('string')\n",
    "df_sales['product_id']  = df_sales['product_id'].astype('string')\n",
    "df_sales['date']  = pd.to_datetime(df_sales['date'])\n",
    "\n",
    "df_products.info()"
   ],
   "metadata": {
    "collapsed": false,
    "pycharm": {
     "name": "#%%\n"
    }
   }
  },
  {
   "cell_type": "markdown",
   "source": [
    "### Transform | replace values columns"
   ],
   "metadata": {
    "collapsed": false,
    "pycharm": {
     "name": "#%% md\n"
    }
   }
  },
  {
   "cell_type": "code",
   "execution_count": 53,
   "outputs": [
    {
     "data": {
      "text/plain": "                            family  \\\n0                 legging circular   \n1            chaqueta plana hombre   \n2             jersey tricot hombre   \n3            pantalon plana hombre   \n4                     tejano plana   \n...                            ...   \n11116  pichi y vestido largo plana   \n11117                 anorak plana   \n11118                 anorak plana   \n11119                 anorak plana   \n11120                 anorak plana   \n\n                                              url_images  \n0      https://st.mngbcn.com/rcs/pics/static/T5/fotos...  \n1                                                         \n2      https://st.mngbcn.com/rcs/pics/static/T7/fotos...  \n3                                                         \n4      https://st.mngbcn.com/rcs/pics/static/T7/fotos...  \n...                                                  ...  \n11116                                                     \n11117  https://st.mngbcn.com/rcs/pics/static/T2/fotos...  \n11118  https://st.mngbcn.com/rcs/pics/static/T2/fotos...  \n11119  https://st.mngbcn.com/rcs/pics/static/T2/fotos...  \n11120  https://st.mngbcn.com/rcs/pics/static/T2/fotos...  \n\n[11121 rows x 2 columns]",
      "text/html": "<div>\n<style scoped>\n    .dataframe tbody tr th:only-of-type {\n        vertical-align: middle;\n    }\n\n    .dataframe tbody tr th {\n        vertical-align: top;\n    }\n\n    .dataframe thead th {\n        text-align: right;\n    }\n</style>\n<table border=\"1\" class=\"dataframe\">\n  <thead>\n    <tr style=\"text-align: right;\">\n      <th></th>\n      <th>family</th>\n      <th>url_images</th>\n    </tr>\n  </thead>\n  <tbody>\n    <tr>\n      <th>0</th>\n      <td>legging circular</td>\n      <td>https://st.mngbcn.com/rcs/pics/static/T5/fotos...</td>\n    </tr>\n    <tr>\n      <th>1</th>\n      <td>chaqueta plana hombre</td>\n      <td></td>\n    </tr>\n    <tr>\n      <th>2</th>\n      <td>jersey tricot hombre</td>\n      <td>https://st.mngbcn.com/rcs/pics/static/T7/fotos...</td>\n    </tr>\n    <tr>\n      <th>3</th>\n      <td>pantalon plana hombre</td>\n      <td></td>\n    </tr>\n    <tr>\n      <th>4</th>\n      <td>tejano plana</td>\n      <td>https://st.mngbcn.com/rcs/pics/static/T7/fotos...</td>\n    </tr>\n    <tr>\n      <th>...</th>\n      <td>...</td>\n      <td>...</td>\n    </tr>\n    <tr>\n      <th>11116</th>\n      <td>pichi y vestido largo plana</td>\n      <td></td>\n    </tr>\n    <tr>\n      <th>11117</th>\n      <td>anorak plana</td>\n      <td>https://st.mngbcn.com/rcs/pics/static/T2/fotos...</td>\n    </tr>\n    <tr>\n      <th>11118</th>\n      <td>anorak plana</td>\n      <td>https://st.mngbcn.com/rcs/pics/static/T2/fotos...</td>\n    </tr>\n    <tr>\n      <th>11119</th>\n      <td>anorak plana</td>\n      <td>https://st.mngbcn.com/rcs/pics/static/T2/fotos...</td>\n    </tr>\n    <tr>\n      <th>11120</th>\n      <td>anorak plana</td>\n      <td>https://st.mngbcn.com/rcs/pics/static/T2/fotos...</td>\n    </tr>\n  </tbody>\n</table>\n<p>11121 rows × 2 columns</p>\n</div>"
     },
     "execution_count": 53,
     "metadata": {},
     "output_type": "execute_result"
    }
   ],
   "source": [
    "df_products['family'] = df_products['family'].apply(lambda row: row.lower())\n",
    "df_products['url_images'] = df_products['url_images'].fillna('')\n",
    "df_products['url_images'] = df_products['url_images'].apply(lambda row: row.replace('|', ',') if row is not None else row)\n",
    "\n",
    "df_products[['family', 'url_images']]"
   ],
   "metadata": {
    "collapsed": false,
    "pycharm": {
     "name": "#%%\n"
    }
   }
  },
  {
   "cell_type": "markdown",
   "source": [
    "### Add columns"
   ],
   "metadata": {
    "collapsed": false,
    "pycharm": {
     "name": "#%% md\n"
    }
   }
  },
  {
   "cell_type": "code",
   "execution_count": 16,
   "outputs": [
    {
     "data": {
      "text/plain": "              id               name reference reference_group  gender  temp  \\\n0  8445035092569   LEGGINGS PUNTA-N  53040854        53040854   Mujer     5   \n1  8445156208559    CHAQUETA BERRY7  77003253        77003253  Hombre     7   \n2  8445156311907      JERSEY WILLYT  77005129        77005129  Hombre     7   \n3  8445156389623  PANTALON BRASILIA  77020512        77020512  Hombre     7   \n4  8445156449334       JEANS NEWMOM  77000518        77000518   Mujer     7   \n5  8445156477931          JEANS ISA  77065902        77065902   Mujer     7   \n6  8445156528862    PANTALON BOREAL  77030108        77030108   Mujer     7   \n7  8445156528954    PANTALON BOREAL  77030108        77030108   Mujer     7   \n8  8445156530728      CARDIGAN ALMA  77080546        77080546   Mujer     7   \n9  8445156547757      CHAQUETA RYAN  77032888        77032888  Hombre     7   \n\n   initial_price    cost code_color description_color  size description_size  \\\n0          99900   99900         99             NEGRO    23               XL   \n1         429900  429900         56              NAVY    21                M   \n2         259900  259900         78           BURDEOS    22                L   \n3         329900  329900         52              AZUL    42               42   \n4         199900  199900         TO     TEJANO OSCURO    38               38   \n5         199900  199900         37             KHAKI    38               38   \n6         169900  169900         69            MARINO    36               36   \n7         169900  169900         99             NEGRO    38               38   \n8          99900   99900         09             CAMEL    22                L   \n9         259900  259900         TN      TEJANO NEGRO    20                S   \n\n      target                 family fashion_grade  status  \\\n0     Casual       LEGGING CIRCULAR       ICONICO       1   \n1      Smart  CHAQUETA PLANA HOMBRE           NaN       1   \n2      Smart   JERSEY TRICOT HOMBRE       ICONICO       1   \n3  Tayloring  PANTALON PLANA HOMBRE           NaN       1   \n4     Casual           TEJANO PLANA       ICONICO       1   \n5     Casual           TEJANO PLANA       ICONICO       1   \n6     Vestir         PANTALON PLANA      TIMELESS       1   \n7     Vestir         PANTALON PLANA      TIMELESS       1   \n8     Casual        CARDIGAN TRICOT       ICONICO       1   \n9     Casual  CHAQUETA PLANA HOMBRE       ICONICO       1   \n\n                                          url_images modelo_color  \n0  https://st.mngbcn.com/rcs/pics/static/T5/fotos...  53040854_99  \n1                                                NaN  77003253_56  \n2  https://st.mngbcn.com/rcs/pics/static/T7/fotos...  77005129_78  \n3                                                NaN  77020512_52  \n4  https://st.mngbcn.com/rcs/pics/static/T7/fotos...  77000518_TO  \n5  https://st.mngbcn.com/rcs/pics/static/T7/fotos...  77065902_37  \n6  https://st.mngbcn.com/rcs/pics/static/T7/fotos...  77030108_69  \n7  https://st.mngbcn.com/rcs/pics/static/T7/fotos...  77030108_99  \n8  https://st.mngbcn.com/rcs/pics/static/T7/fotos...  77080546_09  \n9  https://st.mngbcn.com/rcs/pics/static/T7/fotos...  77032888_TN  ",
      "text/html": "<div>\n<style scoped>\n    .dataframe tbody tr th:only-of-type {\n        vertical-align: middle;\n    }\n\n    .dataframe tbody tr th {\n        vertical-align: top;\n    }\n\n    .dataframe thead th {\n        text-align: right;\n    }\n</style>\n<table border=\"1\" class=\"dataframe\">\n  <thead>\n    <tr style=\"text-align: right;\">\n      <th></th>\n      <th>id</th>\n      <th>name</th>\n      <th>reference</th>\n      <th>reference_group</th>\n      <th>gender</th>\n      <th>temp</th>\n      <th>initial_price</th>\n      <th>cost</th>\n      <th>code_color</th>\n      <th>description_color</th>\n      <th>size</th>\n      <th>description_size</th>\n      <th>target</th>\n      <th>family</th>\n      <th>fashion_grade</th>\n      <th>status</th>\n      <th>url_images</th>\n      <th>modelo_color</th>\n    </tr>\n  </thead>\n  <tbody>\n    <tr>\n      <th>0</th>\n      <td>8445035092569</td>\n      <td>LEGGINGS PUNTA-N</td>\n      <td>53040854</td>\n      <td>53040854</td>\n      <td>Mujer</td>\n      <td>5</td>\n      <td>99900</td>\n      <td>99900</td>\n      <td>99</td>\n      <td>NEGRO</td>\n      <td>23</td>\n      <td>XL</td>\n      <td>Casual</td>\n      <td>LEGGING CIRCULAR</td>\n      <td>ICONICO</td>\n      <td>1</td>\n      <td>https://st.mngbcn.com/rcs/pics/static/T5/fotos...</td>\n      <td>53040854_99</td>\n    </tr>\n    <tr>\n      <th>1</th>\n      <td>8445156208559</td>\n      <td>CHAQUETA BERRY7</td>\n      <td>77003253</td>\n      <td>77003253</td>\n      <td>Hombre</td>\n      <td>7</td>\n      <td>429900</td>\n      <td>429900</td>\n      <td>56</td>\n      <td>NAVY</td>\n      <td>21</td>\n      <td>M</td>\n      <td>Smart</td>\n      <td>CHAQUETA PLANA HOMBRE</td>\n      <td>NaN</td>\n      <td>1</td>\n      <td>NaN</td>\n      <td>77003253_56</td>\n    </tr>\n    <tr>\n      <th>2</th>\n      <td>8445156311907</td>\n      <td>JERSEY WILLYT</td>\n      <td>77005129</td>\n      <td>77005129</td>\n      <td>Hombre</td>\n      <td>7</td>\n      <td>259900</td>\n      <td>259900</td>\n      <td>78</td>\n      <td>BURDEOS</td>\n      <td>22</td>\n      <td>L</td>\n      <td>Smart</td>\n      <td>JERSEY TRICOT HOMBRE</td>\n      <td>ICONICO</td>\n      <td>1</td>\n      <td>https://st.mngbcn.com/rcs/pics/static/T7/fotos...</td>\n      <td>77005129_78</td>\n    </tr>\n    <tr>\n      <th>3</th>\n      <td>8445156389623</td>\n      <td>PANTALON BRASILIA</td>\n      <td>77020512</td>\n      <td>77020512</td>\n      <td>Hombre</td>\n      <td>7</td>\n      <td>329900</td>\n      <td>329900</td>\n      <td>52</td>\n      <td>AZUL</td>\n      <td>42</td>\n      <td>42</td>\n      <td>Tayloring</td>\n      <td>PANTALON PLANA HOMBRE</td>\n      <td>NaN</td>\n      <td>1</td>\n      <td>NaN</td>\n      <td>77020512_52</td>\n    </tr>\n    <tr>\n      <th>4</th>\n      <td>8445156449334</td>\n      <td>JEANS NEWMOM</td>\n      <td>77000518</td>\n      <td>77000518</td>\n      <td>Mujer</td>\n      <td>7</td>\n      <td>199900</td>\n      <td>199900</td>\n      <td>TO</td>\n      <td>TEJANO OSCURO</td>\n      <td>38</td>\n      <td>38</td>\n      <td>Casual</td>\n      <td>TEJANO PLANA</td>\n      <td>ICONICO</td>\n      <td>1</td>\n      <td>https://st.mngbcn.com/rcs/pics/static/T7/fotos...</td>\n      <td>77000518_TO</td>\n    </tr>\n    <tr>\n      <th>5</th>\n      <td>8445156477931</td>\n      <td>JEANS ISA</td>\n      <td>77065902</td>\n      <td>77065902</td>\n      <td>Mujer</td>\n      <td>7</td>\n      <td>199900</td>\n      <td>199900</td>\n      <td>37</td>\n      <td>KHAKI</td>\n      <td>38</td>\n      <td>38</td>\n      <td>Casual</td>\n      <td>TEJANO PLANA</td>\n      <td>ICONICO</td>\n      <td>1</td>\n      <td>https://st.mngbcn.com/rcs/pics/static/T7/fotos...</td>\n      <td>77065902_37</td>\n    </tr>\n    <tr>\n      <th>6</th>\n      <td>8445156528862</td>\n      <td>PANTALON BOREAL</td>\n      <td>77030108</td>\n      <td>77030108</td>\n      <td>Mujer</td>\n      <td>7</td>\n      <td>169900</td>\n      <td>169900</td>\n      <td>69</td>\n      <td>MARINO</td>\n      <td>36</td>\n      <td>36</td>\n      <td>Vestir</td>\n      <td>PANTALON PLANA</td>\n      <td>TIMELESS</td>\n      <td>1</td>\n      <td>https://st.mngbcn.com/rcs/pics/static/T7/fotos...</td>\n      <td>77030108_69</td>\n    </tr>\n    <tr>\n      <th>7</th>\n      <td>8445156528954</td>\n      <td>PANTALON BOREAL</td>\n      <td>77030108</td>\n      <td>77030108</td>\n      <td>Mujer</td>\n      <td>7</td>\n      <td>169900</td>\n      <td>169900</td>\n      <td>99</td>\n      <td>NEGRO</td>\n      <td>38</td>\n      <td>38</td>\n      <td>Vestir</td>\n      <td>PANTALON PLANA</td>\n      <td>TIMELESS</td>\n      <td>1</td>\n      <td>https://st.mngbcn.com/rcs/pics/static/T7/fotos...</td>\n      <td>77030108_99</td>\n    </tr>\n    <tr>\n      <th>8</th>\n      <td>8445156530728</td>\n      <td>CARDIGAN ALMA</td>\n      <td>77080546</td>\n      <td>77080546</td>\n      <td>Mujer</td>\n      <td>7</td>\n      <td>99900</td>\n      <td>99900</td>\n      <td>09</td>\n      <td>CAMEL</td>\n      <td>22</td>\n      <td>L</td>\n      <td>Casual</td>\n      <td>CARDIGAN TRICOT</td>\n      <td>ICONICO</td>\n      <td>1</td>\n      <td>https://st.mngbcn.com/rcs/pics/static/T7/fotos...</td>\n      <td>77080546_09</td>\n    </tr>\n    <tr>\n      <th>9</th>\n      <td>8445156547757</td>\n      <td>CHAQUETA RYAN</td>\n      <td>77032888</td>\n      <td>77032888</td>\n      <td>Hombre</td>\n      <td>7</td>\n      <td>259900</td>\n      <td>259900</td>\n      <td>TN</td>\n      <td>TEJANO NEGRO</td>\n      <td>20</td>\n      <td>S</td>\n      <td>Casual</td>\n      <td>CHAQUETA PLANA HOMBRE</td>\n      <td>ICONICO</td>\n      <td>1</td>\n      <td>https://st.mngbcn.com/rcs/pics/static/T7/fotos...</td>\n      <td>77032888_TN</td>\n    </tr>\n  </tbody>\n</table>\n</div>"
     },
     "execution_count": 16,
     "metadata": {},
     "output_type": "execute_result"
    }
   ],
   "source": [
    "df_products['modelo_color'] = df_products.apply(lambda columns: columns['reference_group'] + '_' + columns['code_color'], axis=1)\n",
    "df_products.head(10)"
   ],
   "metadata": {
    "collapsed": false,
    "pycharm": {
     "name": "#%%\n"
    }
   }
  },
  {
   "cell_type": "markdown",
   "source": [
    "### Remove columns"
   ],
   "metadata": {
    "collapsed": false,
    "pycharm": {
     "name": "#%% md\n"
    }
   }
  },
  {
   "cell_type": "code",
   "execution_count": 17,
   "outputs": [
    {
     "data": {
      "text/plain": "              id               name reference reference_group  gender  temp  \\\n0  8445035092569   LEGGINGS PUNTA-N  53040854        53040854   Mujer     5   \n1  8445156208559    CHAQUETA BERRY7  77003253        77003253  Hombre     7   \n2  8445156311907      JERSEY WILLYT  77005129        77005129  Hombre     7   \n3  8445156389623  PANTALON BRASILIA  77020512        77020512  Hombre     7   \n4  8445156449334       JEANS NEWMOM  77000518        77000518   Mujer     7   \n\n   initial_price    cost code_color description_color  size description_size  \\\n0          99900   99900         99             NEGRO    23               XL   \n1         429900  429900         56              NAVY    21                M   \n2         259900  259900         78           BURDEOS    22                L   \n3         329900  329900         52              AZUL    42               42   \n4         199900  199900         TO     TEJANO OSCURO    38               38   \n\n      target                 family fashion_grade  \\\n0     Casual       LEGGING CIRCULAR       ICONICO   \n1      Smart  CHAQUETA PLANA HOMBRE           NaN   \n2      Smart   JERSEY TRICOT HOMBRE       ICONICO   \n3  Tayloring  PANTALON PLANA HOMBRE           NaN   \n4     Casual           TEJANO PLANA       ICONICO   \n\n                                          url_images modelo_color  \n0  https://st.mngbcn.com/rcs/pics/static/T5/fotos...  53040854_99  \n1                                                NaN  77003253_56  \n2  https://st.mngbcn.com/rcs/pics/static/T7/fotos...  77005129_78  \n3                                                NaN  77020512_52  \n4  https://st.mngbcn.com/rcs/pics/static/T7/fotos...  77000518_TO  ",
      "text/html": "<div>\n<style scoped>\n    .dataframe tbody tr th:only-of-type {\n        vertical-align: middle;\n    }\n\n    .dataframe tbody tr th {\n        vertical-align: top;\n    }\n\n    .dataframe thead th {\n        text-align: right;\n    }\n</style>\n<table border=\"1\" class=\"dataframe\">\n  <thead>\n    <tr style=\"text-align: right;\">\n      <th></th>\n      <th>id</th>\n      <th>name</th>\n      <th>reference</th>\n      <th>reference_group</th>\n      <th>gender</th>\n      <th>temp</th>\n      <th>initial_price</th>\n      <th>cost</th>\n      <th>code_color</th>\n      <th>description_color</th>\n      <th>size</th>\n      <th>description_size</th>\n      <th>target</th>\n      <th>family</th>\n      <th>fashion_grade</th>\n      <th>url_images</th>\n      <th>modelo_color</th>\n    </tr>\n  </thead>\n  <tbody>\n    <tr>\n      <th>0</th>\n      <td>8445035092569</td>\n      <td>LEGGINGS PUNTA-N</td>\n      <td>53040854</td>\n      <td>53040854</td>\n      <td>Mujer</td>\n      <td>5</td>\n      <td>99900</td>\n      <td>99900</td>\n      <td>99</td>\n      <td>NEGRO</td>\n      <td>23</td>\n      <td>XL</td>\n      <td>Casual</td>\n      <td>LEGGING CIRCULAR</td>\n      <td>ICONICO</td>\n      <td>https://st.mngbcn.com/rcs/pics/static/T5/fotos...</td>\n      <td>53040854_99</td>\n    </tr>\n    <tr>\n      <th>1</th>\n      <td>8445156208559</td>\n      <td>CHAQUETA BERRY7</td>\n      <td>77003253</td>\n      <td>77003253</td>\n      <td>Hombre</td>\n      <td>7</td>\n      <td>429900</td>\n      <td>429900</td>\n      <td>56</td>\n      <td>NAVY</td>\n      <td>21</td>\n      <td>M</td>\n      <td>Smart</td>\n      <td>CHAQUETA PLANA HOMBRE</td>\n      <td>NaN</td>\n      <td>NaN</td>\n      <td>77003253_56</td>\n    </tr>\n    <tr>\n      <th>2</th>\n      <td>8445156311907</td>\n      <td>JERSEY WILLYT</td>\n      <td>77005129</td>\n      <td>77005129</td>\n      <td>Hombre</td>\n      <td>7</td>\n      <td>259900</td>\n      <td>259900</td>\n      <td>78</td>\n      <td>BURDEOS</td>\n      <td>22</td>\n      <td>L</td>\n      <td>Smart</td>\n      <td>JERSEY TRICOT HOMBRE</td>\n      <td>ICONICO</td>\n      <td>https://st.mngbcn.com/rcs/pics/static/T7/fotos...</td>\n      <td>77005129_78</td>\n    </tr>\n    <tr>\n      <th>3</th>\n      <td>8445156389623</td>\n      <td>PANTALON BRASILIA</td>\n      <td>77020512</td>\n      <td>77020512</td>\n      <td>Hombre</td>\n      <td>7</td>\n      <td>329900</td>\n      <td>329900</td>\n      <td>52</td>\n      <td>AZUL</td>\n      <td>42</td>\n      <td>42</td>\n      <td>Tayloring</td>\n      <td>PANTALON PLANA HOMBRE</td>\n      <td>NaN</td>\n      <td>NaN</td>\n      <td>77020512_52</td>\n    </tr>\n    <tr>\n      <th>4</th>\n      <td>8445156449334</td>\n      <td>JEANS NEWMOM</td>\n      <td>77000518</td>\n      <td>77000518</td>\n      <td>Mujer</td>\n      <td>7</td>\n      <td>199900</td>\n      <td>199900</td>\n      <td>TO</td>\n      <td>TEJANO OSCURO</td>\n      <td>38</td>\n      <td>38</td>\n      <td>Casual</td>\n      <td>TEJANO PLANA</td>\n      <td>ICONICO</td>\n      <td>https://st.mngbcn.com/rcs/pics/static/T7/fotos...</td>\n      <td>77000518_TO</td>\n    </tr>\n  </tbody>\n</table>\n</div>"
     },
     "execution_count": 17,
     "metadata": {},
     "output_type": "execute_result"
    }
   ],
   "source": [
    "df_products = df_products.drop('status', axis=1)\n",
    "df_products.head()"
   ],
   "metadata": {
    "collapsed": false,
    "pycharm": {
     "name": "#%%\n"
    }
   }
  },
  {
   "cell_type": "markdown",
   "source": [
    "### Concat rows"
   ],
   "metadata": {
    "collapsed": false,
    "pycharm": {
     "name": "#%% md\n"
    }
   }
  },
  {
   "cell_type": "code",
   "execution_count": 78,
   "outputs": [
    {
     "name": "stdout",
     "output_type": "stream",
     "text": [
      "shape =>  (20801, 17)\n"
     ]
    },
    {
     "data": {
      "text/plain": "              id               name reference reference_group  gender  temp  \\\n0  8445035092569   LEGGINGS PUNTA-N  53040854        53040854   Mujer     5   \n1  8445156208559    CHAQUETA BERRY7  77003253        77003253  Hombre     7   \n2  8445156311907      JERSEY WILLYT  77005129        77005129  Hombre     7   \n3  8445156389623  PANTALON BRASILIA  77020512        77020512  Hombre     7   \n4  8445156449334       JEANS NEWMOM  77000518        77000518   Mujer     7   \n\n   initial_price    cost code_color description_color  size description_size  \\\n0          99900   99900         99             NEGRO    23               XL   \n1         429900  429900         56              NAVY    21                M   \n2         259900  259900         78           BURDEOS    22                L   \n3         329900  329900         52              AZUL    42               42   \n4         199900  199900         TO     TEJANO OSCURO    38               38   \n\n      target                 family fashion_grade  status  \\\n0     Casual       legging circular       ICONICO       1   \n1      Smart  chaqueta plana hombre           NaN       1   \n2      Smart   jersey tricot hombre       ICONICO       1   \n3  Tayloring  pantalon plana hombre           NaN       1   \n4     Casual           tejano plana       ICONICO       1   \n\n                                          url_images  \n0  https://st.mngbcn.com/rcs/pics/static/T5/fotos...  \n1                                                     \n2  https://st.mngbcn.com/rcs/pics/static/T7/fotos...  \n3                                                     \n4  https://st.mngbcn.com/rcs/pics/static/T7/fotos...  ",
      "text/html": "<div>\n<style scoped>\n    .dataframe tbody tr th:only-of-type {\n        vertical-align: middle;\n    }\n\n    .dataframe tbody tr th {\n        vertical-align: top;\n    }\n\n    .dataframe thead th {\n        text-align: right;\n    }\n</style>\n<table border=\"1\" class=\"dataframe\">\n  <thead>\n    <tr style=\"text-align: right;\">\n      <th></th>\n      <th>id</th>\n      <th>name</th>\n      <th>reference</th>\n      <th>reference_group</th>\n      <th>gender</th>\n      <th>temp</th>\n      <th>initial_price</th>\n      <th>cost</th>\n      <th>code_color</th>\n      <th>description_color</th>\n      <th>size</th>\n      <th>description_size</th>\n      <th>target</th>\n      <th>family</th>\n      <th>fashion_grade</th>\n      <th>status</th>\n      <th>url_images</th>\n    </tr>\n  </thead>\n  <tbody>\n    <tr>\n      <th>0</th>\n      <td>8445035092569</td>\n      <td>LEGGINGS PUNTA-N</td>\n      <td>53040854</td>\n      <td>53040854</td>\n      <td>Mujer</td>\n      <td>5</td>\n      <td>99900</td>\n      <td>99900</td>\n      <td>99</td>\n      <td>NEGRO</td>\n      <td>23</td>\n      <td>XL</td>\n      <td>Casual</td>\n      <td>legging circular</td>\n      <td>ICONICO</td>\n      <td>1</td>\n      <td>https://st.mngbcn.com/rcs/pics/static/T5/fotos...</td>\n    </tr>\n    <tr>\n      <th>1</th>\n      <td>8445156208559</td>\n      <td>CHAQUETA BERRY7</td>\n      <td>77003253</td>\n      <td>77003253</td>\n      <td>Hombre</td>\n      <td>7</td>\n      <td>429900</td>\n      <td>429900</td>\n      <td>56</td>\n      <td>NAVY</td>\n      <td>21</td>\n      <td>M</td>\n      <td>Smart</td>\n      <td>chaqueta plana hombre</td>\n      <td>NaN</td>\n      <td>1</td>\n      <td></td>\n    </tr>\n    <tr>\n      <th>2</th>\n      <td>8445156311907</td>\n      <td>JERSEY WILLYT</td>\n      <td>77005129</td>\n      <td>77005129</td>\n      <td>Hombre</td>\n      <td>7</td>\n      <td>259900</td>\n      <td>259900</td>\n      <td>78</td>\n      <td>BURDEOS</td>\n      <td>22</td>\n      <td>L</td>\n      <td>Smart</td>\n      <td>jersey tricot hombre</td>\n      <td>ICONICO</td>\n      <td>1</td>\n      <td>https://st.mngbcn.com/rcs/pics/static/T7/fotos...</td>\n    </tr>\n    <tr>\n      <th>3</th>\n      <td>8445156389623</td>\n      <td>PANTALON BRASILIA</td>\n      <td>77020512</td>\n      <td>77020512</td>\n      <td>Hombre</td>\n      <td>7</td>\n      <td>329900</td>\n      <td>329900</td>\n      <td>52</td>\n      <td>AZUL</td>\n      <td>42</td>\n      <td>42</td>\n      <td>Tayloring</td>\n      <td>pantalon plana hombre</td>\n      <td>NaN</td>\n      <td>1</td>\n      <td></td>\n    </tr>\n    <tr>\n      <th>4</th>\n      <td>8445156449334</td>\n      <td>JEANS NEWMOM</td>\n      <td>77000518</td>\n      <td>77000518</td>\n      <td>Mujer</td>\n      <td>7</td>\n      <td>199900</td>\n      <td>199900</td>\n      <td>TO</td>\n      <td>TEJANO OSCURO</td>\n      <td>38</td>\n      <td>38</td>\n      <td>Casual</td>\n      <td>tejano plana</td>\n      <td>ICONICO</td>\n      <td>1</td>\n      <td>https://st.mngbcn.com/rcs/pics/static/T7/fotos...</td>\n    </tr>\n  </tbody>\n</table>\n</div>"
     },
     "execution_count": 78,
     "metadata": {},
     "output_type": "execute_result"
    }
   ],
   "source": [
    "# concating the same DF but filtered fot after droping the duplicates\n",
    "df_products_concat = pd.concat([df_products, df_products[df_products['initial_price'] > 100000]], ignore_index=True, axis=0)\n",
    "print(\"shape => \", df_products_concat.shape)\n",
    "df_products_concat.head()\n",
    "\n"
   ],
   "metadata": {
    "collapsed": false,
    "pycharm": {
     "name": "#%%\n"
    }
   }
  },
  {
   "cell_type": "markdown",
   "source": [
    "### Duplicates (identify them and drop them)"
   ],
   "metadata": {
    "collapsed": false,
    "pycharm": {
     "name": "#%% md\n"
    }
   }
  },
  {
   "cell_type": "code",
   "execution_count": 80,
   "outputs": [
    {
     "data": {
      "text/plain": "8445438491181    2\n8445306904966    2\n8445306904751    2\n8445306904768    2\n8445306904775    2\n                ..\n8445438722155    1\n8445438194686    1\n8445438194693    1\n8445438194709    1\n8445035092569    1\nName: id, Length: 11121, dtype: Int64"
     },
     "execution_count": 80,
     "metadata": {},
     "output_type": "execute_result"
    }
   ],
   "source": [
    "# Group and count items\n",
    "df_products_concat['id'].value_counts()"
   ],
   "metadata": {
    "collapsed": false,
    "pycharm": {
     "name": "#%%\n"
    }
   }
  },
  {
   "cell_type": "code",
   "execution_count": 84,
   "outputs": [
    {
     "data": {
      "text/plain": "(11121, 17)"
     },
     "execution_count": 84,
     "metadata": {},
     "output_type": "execute_result"
    }
   ],
   "source": [
    "# Drop duplicates\n",
    "df_products_concat = df_products_concat.drop_duplicates(keep='first')\n",
    "df_products_concat.shape"
   ],
   "metadata": {
    "collapsed": false,
    "pycharm": {
     "name": "#%%\n"
    }
   }
  },
  {
   "cell_type": "markdown",
   "source": [
    "### Merge | Join"
   ],
   "metadata": {
    "collapsed": false,
    "pycharm": {
     "name": "#%% md\n"
    }
   }
  },
  {
   "cell_type": "code",
   "execution_count": 54,
   "outputs": [
    {
     "data": {
      "text/plain": "  store_id       date     product_id  sales_with_taxes  sales_without_taxes  \\\n0     2586 2021-12-01  8445306012586            167983               167983   \n1     2586 2021-12-23  8445306012586            167983               167983   \n2     2586 2021-12-29  8445306012586            167983               167983   \n3     2672 2022-01-04  8445306012586            167983               167983   \n4     2586 2021-12-01  8445306126511            100756               100756   \n\n   quantity             id              name reference reference_group  ...  \\\n0         1  8445306012586         JEANS ISA  87001012        87001012  ...   \n1         1  8445306012586         JEANS ISA  87001012        87001012  ...   \n2         1  8445306012586         JEANS ISA  87001012        87001012  ...   \n3         1  8445306012586         JEANS ISA  87001012        87001012  ...   \n4         1  8445306126511  FULAR I MALLORCA  87041012        87041012  ...   \n\n     cost  code_color  description_color  size description_size        target  \\\n0  199900          TO      TEJANO OSCURO    40               40        Casual   \n1  199900          TO      TEJANO OSCURO    40               40        Casual   \n2  199900          TO      TEJANO OSCURO    40               40        Casual   \n3  199900          TO      TEJANO OSCURO    40               40        Casual   \n4  119900          52               AZUL    99               99  Complementos   \n\n         family fashion_grade status  \\\n0  tejano plana       ICONICO      1   \n1  tejano plana       ICONICO      1   \n2  tejano plana       ICONICO      1   \n3  tejano plana       ICONICO      1   \n4     cuello he           NaN      1   \n\n                                          url_images  \n0  https://st.mngbcn.com/rcs/pics/static/T8/fotos...  \n1  https://st.mngbcn.com/rcs/pics/static/T8/fotos...  \n2  https://st.mngbcn.com/rcs/pics/static/T8/fotos...  \n3  https://st.mngbcn.com/rcs/pics/static/T8/fotos...  \n4  https://st.mngbcn.com/rcs/pics/static/T8/fotos...  \n\n[5 rows x 23 columns]",
      "text/html": "<div>\n<style scoped>\n    .dataframe tbody tr th:only-of-type {\n        vertical-align: middle;\n    }\n\n    .dataframe tbody tr th {\n        vertical-align: top;\n    }\n\n    .dataframe thead th {\n        text-align: right;\n    }\n</style>\n<table border=\"1\" class=\"dataframe\">\n  <thead>\n    <tr style=\"text-align: right;\">\n      <th></th>\n      <th>store_id</th>\n      <th>date</th>\n      <th>product_id</th>\n      <th>sales_with_taxes</th>\n      <th>sales_without_taxes</th>\n      <th>quantity</th>\n      <th>id</th>\n      <th>name</th>\n      <th>reference</th>\n      <th>reference_group</th>\n      <th>...</th>\n      <th>cost</th>\n      <th>code_color</th>\n      <th>description_color</th>\n      <th>size</th>\n      <th>description_size</th>\n      <th>target</th>\n      <th>family</th>\n      <th>fashion_grade</th>\n      <th>status</th>\n      <th>url_images</th>\n    </tr>\n  </thead>\n  <tbody>\n    <tr>\n      <th>0</th>\n      <td>2586</td>\n      <td>2021-12-01</td>\n      <td>8445306012586</td>\n      <td>167983</td>\n      <td>167983</td>\n      <td>1</td>\n      <td>8445306012586</td>\n      <td>JEANS ISA</td>\n      <td>87001012</td>\n      <td>87001012</td>\n      <td>...</td>\n      <td>199900</td>\n      <td>TO</td>\n      <td>TEJANO OSCURO</td>\n      <td>40</td>\n      <td>40</td>\n      <td>Casual</td>\n      <td>tejano plana</td>\n      <td>ICONICO</td>\n      <td>1</td>\n      <td>https://st.mngbcn.com/rcs/pics/static/T8/fotos...</td>\n    </tr>\n    <tr>\n      <th>1</th>\n      <td>2586</td>\n      <td>2021-12-23</td>\n      <td>8445306012586</td>\n      <td>167983</td>\n      <td>167983</td>\n      <td>1</td>\n      <td>8445306012586</td>\n      <td>JEANS ISA</td>\n      <td>87001012</td>\n      <td>87001012</td>\n      <td>...</td>\n      <td>199900</td>\n      <td>TO</td>\n      <td>TEJANO OSCURO</td>\n      <td>40</td>\n      <td>40</td>\n      <td>Casual</td>\n      <td>tejano plana</td>\n      <td>ICONICO</td>\n      <td>1</td>\n      <td>https://st.mngbcn.com/rcs/pics/static/T8/fotos...</td>\n    </tr>\n    <tr>\n      <th>2</th>\n      <td>2586</td>\n      <td>2021-12-29</td>\n      <td>8445306012586</td>\n      <td>167983</td>\n      <td>167983</td>\n      <td>1</td>\n      <td>8445306012586</td>\n      <td>JEANS ISA</td>\n      <td>87001012</td>\n      <td>87001012</td>\n      <td>...</td>\n      <td>199900</td>\n      <td>TO</td>\n      <td>TEJANO OSCURO</td>\n      <td>40</td>\n      <td>40</td>\n      <td>Casual</td>\n      <td>tejano plana</td>\n      <td>ICONICO</td>\n      <td>1</td>\n      <td>https://st.mngbcn.com/rcs/pics/static/T8/fotos...</td>\n    </tr>\n    <tr>\n      <th>3</th>\n      <td>2672</td>\n      <td>2022-01-04</td>\n      <td>8445306012586</td>\n      <td>167983</td>\n      <td>167983</td>\n      <td>1</td>\n      <td>8445306012586</td>\n      <td>JEANS ISA</td>\n      <td>87001012</td>\n      <td>87001012</td>\n      <td>...</td>\n      <td>199900</td>\n      <td>TO</td>\n      <td>TEJANO OSCURO</td>\n      <td>40</td>\n      <td>40</td>\n      <td>Casual</td>\n      <td>tejano plana</td>\n      <td>ICONICO</td>\n      <td>1</td>\n      <td>https://st.mngbcn.com/rcs/pics/static/T8/fotos...</td>\n    </tr>\n    <tr>\n      <th>4</th>\n      <td>2586</td>\n      <td>2021-12-01</td>\n      <td>8445306126511</td>\n      <td>100756</td>\n      <td>100756</td>\n      <td>1</td>\n      <td>8445306126511</td>\n      <td>FULAR I MALLORCA</td>\n      <td>87041012</td>\n      <td>87041012</td>\n      <td>...</td>\n      <td>119900</td>\n      <td>52</td>\n      <td>AZUL</td>\n      <td>99</td>\n      <td>99</td>\n      <td>Complementos</td>\n      <td>cuello he</td>\n      <td>NaN</td>\n      <td>1</td>\n      <td>https://st.mngbcn.com/rcs/pics/static/T8/fotos...</td>\n    </tr>\n  </tbody>\n</table>\n<p>5 rows × 23 columns</p>\n</div>"
     },
     "execution_count": 54,
     "metadata": {},
     "output_type": "execute_result"
    }
   ],
   "source": [
    "df_sales_products = df_sales.merge(df_products, left_on='product_id', right_on='id', how='inner')\n",
    "df_sales_products.head()"
   ],
   "metadata": {
    "collapsed": false,
    "pycharm": {
     "name": "#%%\n"
    }
   }
  },
  {
   "cell_type": "markdown",
   "source": [
    "### Filter"
   ],
   "metadata": {
    "collapsed": false,
    "pycharm": {
     "name": "#%% md\n"
    }
   }
  },
  {
   "cell_type": "code",
   "execution_count": 61,
   "outputs": [
    {
     "data": {
      "text/plain": "(984, 23)"
     },
     "execution_count": 61,
     "metadata": {},
     "output_type": "execute_result"
    }
   ],
   "source": [
    "df_sales_products_filterd = df_sales_products.query(('date > \"2021-12-01\" & date < \"2022-12-31\"'))\n",
    "df_sales_products_filterd = df_sales_products_filterd[df_sales_products_filterd['temp'] == 8]\n",
    "df_sales_products_filterd.shape"
   ],
   "metadata": {
    "collapsed": false,
    "pycharm": {
     "name": "#%%\n"
    }
   }
  },
  {
   "cell_type": "markdown",
   "source": [
    "### Order"
   ],
   "metadata": {
    "collapsed": false,
    "pycharm": {
     "name": "#%% md\n"
    }
   }
  },
  {
   "cell_type": "code",
   "execution_count": 87,
   "outputs": [
    {
     "data": {
      "text/plain": "      store_id       date     product_id  sales_with_taxes  \\\n40237     2672 2022-02-23  8445661461883            252017   \n24612     2672 2022-02-23  8445438802130            109160   \n39310     2586 2022-02-23  8445661128281            167983   \n14989     2586 2022-02-23  8445661175100            167983   \n36286     2672 2022-02-23  8445438773010            285546   \n...        ...        ...            ...               ...   \n1407      2672 2021-12-01  8445438530903            218403   \n1301      2672 2021-12-01  8445438481557            142773   \n1409      2672 2021-12-01  8445438532655            -70529   \n1440      2672 2021-12-01  8445438539265            218403   \n0         2586 2021-12-01  8445306012586            167983   \n\n       sales_without_taxes  quantity             id             name  \\\n40237               252017         1  8445661461883    VESTIDO CHAIN   \n24612               109160         1  8445438802130     CAMISA BASIC   \n39310               167983         1  8445661128281   JERSEY PAQUITA   \n14989               167983         1  8445661175100      JEANS FLARE   \n36286               285546         2  8445438773010       JEANS ANNE   \n...                    ...       ...            ...              ...   \n1407                218403         1  8445438530903    JERSEY ODESSA   \n1301                142773         1  8445438481557      JERSEY FUJI   \n1409                -70529        -1  8445438532655  LEGGINGS ALEXEI   \n1440                218403         1  8445438539265      BLUSA BRUNA   \n0                   167983         1  8445306012586        JEANS ISA   \n\n      reference reference_group  ...    cost  code_color  description_color  \\\n40237  27024035        27024035  ...  299900          70               ROJO   \n24612  27091117        27091117  ...  129900          81        ROSA PASTEL   \n39310  27004025        27004025  ...  199900          56               NAVY   \n14989  27140896        27040896  ...  199900          TM       TEJANO MEDIO   \n36286  27000820        27000820  ...  169900          TO      TEJANO OSCURO   \n...         ...             ...  ...     ...         ...                ...   \n1407   17057109        17057109  ...  259900          81        ROSA PASTEL   \n1301   17037711        17037711  ...  169900          43              VERDE   \n1409   17965922        17065922  ...  119900          92               GRIS   \n1440   17025953        17025953  ...  259900          02           OFFWHITE   \n0      87001012        87001012  ...  199900          TO      TEJANO OSCURO   \n\n       size description_size  target                       family  \\\n40237    22                L  Casual  pichi y vestido largo plana   \n24612    22                L  Casual          camisa/bluson plana   \n39310    22                L  Casual                jersey tricot   \n14989    40               40  Casual                 tejano plana   \n36286    40               40  Casual                 tejano plana   \n...     ...              ...     ...                          ...   \n1407     20                S  Casual                jersey tricot   \n1301     21                M  Casual                jersey tricot   \n1409     21                M  Casual             legging circular   \n1440     22                L  Vestir          camisa/bluson plana   \n0        40               40  Casual                 tejano plana   \n\n          fashion_grade status  \\\n40237           NOVEDAD      1   \n24612           ICONICO      1   \n39310  FONDO DE ARMARIO      1   \n14989           ICONICO      1   \n36286           ICONICO      1   \n...                 ...    ...   \n1407            NOVEDAD      1   \n1301   FONDO DE ARMARIO      1   \n1409            NOVEDAD      1   \n1440            ICONICO      1   \n0               ICONICO      1   \n\n                                              url_images  \n40237                                                     \n24612  https://st.mngbcn.com/rcs/pics/static/T2/fotos...  \n39310  https://st.mngbcn.com/rcs/pics/static/T2/fotos...  \n14989  https://st.mngbcn.com/rcs/pics/static/T2/fotos...  \n36286  https://st.mngbcn.com/rcs/pics/static/T2/fotos...  \n...                                                  ...  \n1407   https://st.mngbcn.com/rcs/pics/static/T1/fotos...  \n1301   https://st.mngbcn.com/rcs/pics/static/T1/fotos...  \n1409   https://st.mngbcn.com/rcs/pics/static/T1/fotos...  \n1440   https://st.mngbcn.com/rcs/pics/static/T1/fotos...  \n0      https://st.mngbcn.com/rcs/pics/static/T8/fotos...  \n\n[40238 rows x 23 columns]",
      "text/html": "<div>\n<style scoped>\n    .dataframe tbody tr th:only-of-type {\n        vertical-align: middle;\n    }\n\n    .dataframe tbody tr th {\n        vertical-align: top;\n    }\n\n    .dataframe thead th {\n        text-align: right;\n    }\n</style>\n<table border=\"1\" class=\"dataframe\">\n  <thead>\n    <tr style=\"text-align: right;\">\n      <th></th>\n      <th>store_id</th>\n      <th>date</th>\n      <th>product_id</th>\n      <th>sales_with_taxes</th>\n      <th>sales_without_taxes</th>\n      <th>quantity</th>\n      <th>id</th>\n      <th>name</th>\n      <th>reference</th>\n      <th>reference_group</th>\n      <th>...</th>\n      <th>cost</th>\n      <th>code_color</th>\n      <th>description_color</th>\n      <th>size</th>\n      <th>description_size</th>\n      <th>target</th>\n      <th>family</th>\n      <th>fashion_grade</th>\n      <th>status</th>\n      <th>url_images</th>\n    </tr>\n  </thead>\n  <tbody>\n    <tr>\n      <th>40237</th>\n      <td>2672</td>\n      <td>2022-02-23</td>\n      <td>8445661461883</td>\n      <td>252017</td>\n      <td>252017</td>\n      <td>1</td>\n      <td>8445661461883</td>\n      <td>VESTIDO CHAIN</td>\n      <td>27024035</td>\n      <td>27024035</td>\n      <td>...</td>\n      <td>299900</td>\n      <td>70</td>\n      <td>ROJO</td>\n      <td>22</td>\n      <td>L</td>\n      <td>Casual</td>\n      <td>pichi y vestido largo plana</td>\n      <td>NOVEDAD</td>\n      <td>1</td>\n      <td></td>\n    </tr>\n    <tr>\n      <th>24612</th>\n      <td>2672</td>\n      <td>2022-02-23</td>\n      <td>8445438802130</td>\n      <td>109160</td>\n      <td>109160</td>\n      <td>1</td>\n      <td>8445438802130</td>\n      <td>CAMISA BASIC</td>\n      <td>27091117</td>\n      <td>27091117</td>\n      <td>...</td>\n      <td>129900</td>\n      <td>81</td>\n      <td>ROSA PASTEL</td>\n      <td>22</td>\n      <td>L</td>\n      <td>Casual</td>\n      <td>camisa/bluson plana</td>\n      <td>ICONICO</td>\n      <td>1</td>\n      <td>https://st.mngbcn.com/rcs/pics/static/T2/fotos...</td>\n    </tr>\n    <tr>\n      <th>39310</th>\n      <td>2586</td>\n      <td>2022-02-23</td>\n      <td>8445661128281</td>\n      <td>167983</td>\n      <td>167983</td>\n      <td>1</td>\n      <td>8445661128281</td>\n      <td>JERSEY PAQUITA</td>\n      <td>27004025</td>\n      <td>27004025</td>\n      <td>...</td>\n      <td>199900</td>\n      <td>56</td>\n      <td>NAVY</td>\n      <td>22</td>\n      <td>L</td>\n      <td>Casual</td>\n      <td>jersey tricot</td>\n      <td>FONDO DE ARMARIO</td>\n      <td>1</td>\n      <td>https://st.mngbcn.com/rcs/pics/static/T2/fotos...</td>\n    </tr>\n    <tr>\n      <th>14989</th>\n      <td>2586</td>\n      <td>2022-02-23</td>\n      <td>8445661175100</td>\n      <td>167983</td>\n      <td>167983</td>\n      <td>1</td>\n      <td>8445661175100</td>\n      <td>JEANS FLARE</td>\n      <td>27140896</td>\n      <td>27040896</td>\n      <td>...</td>\n      <td>199900</td>\n      <td>TM</td>\n      <td>TEJANO MEDIO</td>\n      <td>40</td>\n      <td>40</td>\n      <td>Casual</td>\n      <td>tejano plana</td>\n      <td>ICONICO</td>\n      <td>1</td>\n      <td>https://st.mngbcn.com/rcs/pics/static/T2/fotos...</td>\n    </tr>\n    <tr>\n      <th>36286</th>\n      <td>2672</td>\n      <td>2022-02-23</td>\n      <td>8445438773010</td>\n      <td>285546</td>\n      <td>285546</td>\n      <td>2</td>\n      <td>8445438773010</td>\n      <td>JEANS ANNE</td>\n      <td>27000820</td>\n      <td>27000820</td>\n      <td>...</td>\n      <td>169900</td>\n      <td>TO</td>\n      <td>TEJANO OSCURO</td>\n      <td>40</td>\n      <td>40</td>\n      <td>Casual</td>\n      <td>tejano plana</td>\n      <td>ICONICO</td>\n      <td>1</td>\n      <td>https://st.mngbcn.com/rcs/pics/static/T2/fotos...</td>\n    </tr>\n    <tr>\n      <th>...</th>\n      <td>...</td>\n      <td>...</td>\n      <td>...</td>\n      <td>...</td>\n      <td>...</td>\n      <td>...</td>\n      <td>...</td>\n      <td>...</td>\n      <td>...</td>\n      <td>...</td>\n      <td>...</td>\n      <td>...</td>\n      <td>...</td>\n      <td>...</td>\n      <td>...</td>\n      <td>...</td>\n      <td>...</td>\n      <td>...</td>\n      <td>...</td>\n      <td>...</td>\n      <td>...</td>\n    </tr>\n    <tr>\n      <th>1407</th>\n      <td>2672</td>\n      <td>2021-12-01</td>\n      <td>8445438530903</td>\n      <td>218403</td>\n      <td>218403</td>\n      <td>1</td>\n      <td>8445438530903</td>\n      <td>JERSEY ODESSA</td>\n      <td>17057109</td>\n      <td>17057109</td>\n      <td>...</td>\n      <td>259900</td>\n      <td>81</td>\n      <td>ROSA PASTEL</td>\n      <td>20</td>\n      <td>S</td>\n      <td>Casual</td>\n      <td>jersey tricot</td>\n      <td>NOVEDAD</td>\n      <td>1</td>\n      <td>https://st.mngbcn.com/rcs/pics/static/T1/fotos...</td>\n    </tr>\n    <tr>\n      <th>1301</th>\n      <td>2672</td>\n      <td>2021-12-01</td>\n      <td>8445438481557</td>\n      <td>142773</td>\n      <td>142773</td>\n      <td>1</td>\n      <td>8445438481557</td>\n      <td>JERSEY FUJI</td>\n      <td>17037711</td>\n      <td>17037711</td>\n      <td>...</td>\n      <td>169900</td>\n      <td>43</td>\n      <td>VERDE</td>\n      <td>21</td>\n      <td>M</td>\n      <td>Casual</td>\n      <td>jersey tricot</td>\n      <td>FONDO DE ARMARIO</td>\n      <td>1</td>\n      <td>https://st.mngbcn.com/rcs/pics/static/T1/fotos...</td>\n    </tr>\n    <tr>\n      <th>1409</th>\n      <td>2672</td>\n      <td>2021-12-01</td>\n      <td>8445438532655</td>\n      <td>-70529</td>\n      <td>-70529</td>\n      <td>-1</td>\n      <td>8445438532655</td>\n      <td>LEGGINGS ALEXEI</td>\n      <td>17965922</td>\n      <td>17065922</td>\n      <td>...</td>\n      <td>119900</td>\n      <td>92</td>\n      <td>GRIS</td>\n      <td>21</td>\n      <td>M</td>\n      <td>Casual</td>\n      <td>legging circular</td>\n      <td>NOVEDAD</td>\n      <td>1</td>\n      <td>https://st.mngbcn.com/rcs/pics/static/T1/fotos...</td>\n    </tr>\n    <tr>\n      <th>1440</th>\n      <td>2672</td>\n      <td>2021-12-01</td>\n      <td>8445438539265</td>\n      <td>218403</td>\n      <td>218403</td>\n      <td>1</td>\n      <td>8445438539265</td>\n      <td>BLUSA BRUNA</td>\n      <td>17025953</td>\n      <td>17025953</td>\n      <td>...</td>\n      <td>259900</td>\n      <td>02</td>\n      <td>OFFWHITE</td>\n      <td>22</td>\n      <td>L</td>\n      <td>Vestir</td>\n      <td>camisa/bluson plana</td>\n      <td>ICONICO</td>\n      <td>1</td>\n      <td>https://st.mngbcn.com/rcs/pics/static/T1/fotos...</td>\n    </tr>\n    <tr>\n      <th>0</th>\n      <td>2586</td>\n      <td>2021-12-01</td>\n      <td>8445306012586</td>\n      <td>167983</td>\n      <td>167983</td>\n      <td>1</td>\n      <td>8445306012586</td>\n      <td>JEANS ISA</td>\n      <td>87001012</td>\n      <td>87001012</td>\n      <td>...</td>\n      <td>199900</td>\n      <td>TO</td>\n      <td>TEJANO OSCURO</td>\n      <td>40</td>\n      <td>40</td>\n      <td>Casual</td>\n      <td>tejano plana</td>\n      <td>ICONICO</td>\n      <td>1</td>\n      <td>https://st.mngbcn.com/rcs/pics/static/T8/fotos...</td>\n    </tr>\n  </tbody>\n</table>\n<p>40238 rows × 23 columns</p>\n</div>"
     },
     "execution_count": 87,
     "metadata": {},
     "output_type": "execute_result"
    }
   ],
   "source": [
    "df_sales_products = df_sales_products.sort_values('date', ascending=False)\n",
    "df_sales_products"
   ],
   "metadata": {
    "collapsed": false,
    "pycharm": {
     "name": "#%%\n"
    }
   }
  },
  {
   "cell_type": "markdown",
   "source": [
    "### Group By"
   ],
   "metadata": {
    "collapsed": false,
    "pycharm": {
     "name": "#%% md\n"
    }
   }
  },
  {
   "cell_type": "code",
   "execution_count": 89,
   "outputs": [
    {
     "name": "stderr",
     "output_type": "stream",
     "text": [
      "C:\\Users\\ingegus\\AppData\\Local\\Temp\\ipykernel_18964\\4268744288.py:3: FutureWarning: ['store_id', 'date', 'product_id', 'id', 'name', 'reference', 'reference_group', 'code_color', 'description_color', 'description_size', 'target', 'family', 'fashion_grade', 'url_images'] did not aggregate successfully. If any error is raised this will raise in a future version of pandas. Drop these columns/ops to avoid this warning.\n",
      "  df_sales_products.groupby(['gender', 'temp']).agg(['count', 'min', 'max', 'sum', 'mean'])\n"
     ]
    },
    {
     "data": {
      "text/plain": "            sales_with_taxes                                              \\\n                       count     min      max         sum           mean   \ngender temp                                                                \nHombre 1                1558 -672185   873613   200750378  128851.333761   \n       2                1333 -672185   672185   260195391  195195.342086   \n       7                   5 -131008   235210     -157814  -31562.800000   \n       8                 305 -672185   672185    48917575  160385.491803   \nMujer  1               26496 -722605  1209933  2978722800  112421.603261   \n       2                9761 -722605  1445210  1329586240  136214.141994   \n       5                   1   83950    83950       83950   83950.000000   \n       7                  65 -420084        0    -9094944 -139922.215385   \n       8                 694 -252017   335966    56889403   81973.203170   \nNiñas  1                  13 -252017    67143    -1020192  -78476.307692   \n       2                   4 -142773   142773     -226722  -56680.500000   \n       8                   1  -55378   -55378      -55378  -55378.000000   \nNiños  1                   2  -50773    45328       -5445   -2722.500000   \n\n            sales_without_taxes                                              \\\n                          count     min      max         sum           mean   \ngender temp                                                                   \nHombre 1                   1558 -672185   873613   200750378  128851.333761   \n       2                   1333 -672185   672185   260195391  195195.342086   \n       7                      5 -131008   235210     -157814  -31562.800000   \n       8                    305 -672185   672185    48917575  160385.491803   \nMujer  1                  26496 -722605  1209933  2978722800  112421.603261   \n       2                   9761 -722605  1445210  1329586240  136214.141994   \n       5                      1   83950    83950       83950   83950.000000   \n       7                     65 -420084        0    -9094944 -139922.215385   \n       8                    694 -252017   335966    56889403   81973.203170   \nNiñas  1                     13 -252017    67143    -1020192  -78476.307692   \n       2                      4 -142773   142773     -226722  -56680.500000   \n       8                      1  -55378   -55378      -55378  -55378.000000   \nNiños  1                      2  -50773    45328       -5445   -2722.500000   \n\n             ...   size                            status                      \n             ...  count min max     sum       mean  count min max    sum mean  \ngender temp  ...                                                               \nHombre 1     ...   1558  19  99   56446  36.229782   1558   1   1   1558  1.0  \n       2     ...   1333  19  99   40352  30.271568   1333   1   1   1333  1.0  \n       7     ...      5  20  42     127  25.400000      5   1   1      5  1.0  \n       8     ...    305  19  99   15204  49.849180    305   1   1    305  1.0  \nMujer  1     ...  26496  18  99  728293  27.486904  26496   1   1  26496  1.0  \n       2     ...   9761  18  99  345256  35.370966   9761   1   1   9761  1.0  \n       5     ...      1  23  23      23  23.000000      1   1   1      1  1.0  \n       7     ...     65  19  99    1702  26.184615     65   1   1     65  1.0  \n       8     ...    694  19  99   31830  45.864553    694   1   1    694  1.0  \nNiñas  1     ...     13   6  99     469  36.076923     13   1   1     13  1.0  \n       2     ...      4  20  20      80  20.000000      4   1   1      4  1.0  \n       8     ...      1  14  14      14  14.000000      1   1   1      1  1.0  \nNiños  1     ...      2  12  12      24  12.000000      2   1   1      2  1.0  \n\n[13 rows x 35 columns]",
      "text/html": "<div>\n<style scoped>\n    .dataframe tbody tr th:only-of-type {\n        vertical-align: middle;\n    }\n\n    .dataframe tbody tr th {\n        vertical-align: top;\n    }\n\n    .dataframe thead tr th {\n        text-align: left;\n    }\n\n    .dataframe thead tr:last-of-type th {\n        text-align: right;\n    }\n</style>\n<table border=\"1\" class=\"dataframe\">\n  <thead>\n    <tr>\n      <th></th>\n      <th></th>\n      <th colspan=\"5\" halign=\"left\">sales_with_taxes</th>\n      <th colspan=\"5\" halign=\"left\">sales_without_taxes</th>\n      <th>...</th>\n      <th colspan=\"5\" halign=\"left\">size</th>\n      <th colspan=\"5\" halign=\"left\">status</th>\n    </tr>\n    <tr>\n      <th></th>\n      <th></th>\n      <th>count</th>\n      <th>min</th>\n      <th>max</th>\n      <th>sum</th>\n      <th>mean</th>\n      <th>count</th>\n      <th>min</th>\n      <th>max</th>\n      <th>sum</th>\n      <th>mean</th>\n      <th>...</th>\n      <th>count</th>\n      <th>min</th>\n      <th>max</th>\n      <th>sum</th>\n      <th>mean</th>\n      <th>count</th>\n      <th>min</th>\n      <th>max</th>\n      <th>sum</th>\n      <th>mean</th>\n    </tr>\n    <tr>\n      <th>gender</th>\n      <th>temp</th>\n      <th></th>\n      <th></th>\n      <th></th>\n      <th></th>\n      <th></th>\n      <th></th>\n      <th></th>\n      <th></th>\n      <th></th>\n      <th></th>\n      <th></th>\n      <th></th>\n      <th></th>\n      <th></th>\n      <th></th>\n      <th></th>\n      <th></th>\n      <th></th>\n      <th></th>\n      <th></th>\n      <th></th>\n    </tr>\n  </thead>\n  <tbody>\n    <tr>\n      <th rowspan=\"4\" valign=\"top\">Hombre</th>\n      <th>1</th>\n      <td>1558</td>\n      <td>-672185</td>\n      <td>873613</td>\n      <td>200750378</td>\n      <td>128851.333761</td>\n      <td>1558</td>\n      <td>-672185</td>\n      <td>873613</td>\n      <td>200750378</td>\n      <td>128851.333761</td>\n      <td>...</td>\n      <td>1558</td>\n      <td>19</td>\n      <td>99</td>\n      <td>56446</td>\n      <td>36.229782</td>\n      <td>1558</td>\n      <td>1</td>\n      <td>1</td>\n      <td>1558</td>\n      <td>1.0</td>\n    </tr>\n    <tr>\n      <th>2</th>\n      <td>1333</td>\n      <td>-672185</td>\n      <td>672185</td>\n      <td>260195391</td>\n      <td>195195.342086</td>\n      <td>1333</td>\n      <td>-672185</td>\n      <td>672185</td>\n      <td>260195391</td>\n      <td>195195.342086</td>\n      <td>...</td>\n      <td>1333</td>\n      <td>19</td>\n      <td>99</td>\n      <td>40352</td>\n      <td>30.271568</td>\n      <td>1333</td>\n      <td>1</td>\n      <td>1</td>\n      <td>1333</td>\n      <td>1.0</td>\n    </tr>\n    <tr>\n      <th>7</th>\n      <td>5</td>\n      <td>-131008</td>\n      <td>235210</td>\n      <td>-157814</td>\n      <td>-31562.800000</td>\n      <td>5</td>\n      <td>-131008</td>\n      <td>235210</td>\n      <td>-157814</td>\n      <td>-31562.800000</td>\n      <td>...</td>\n      <td>5</td>\n      <td>20</td>\n      <td>42</td>\n      <td>127</td>\n      <td>25.400000</td>\n      <td>5</td>\n      <td>1</td>\n      <td>1</td>\n      <td>5</td>\n      <td>1.0</td>\n    </tr>\n    <tr>\n      <th>8</th>\n      <td>305</td>\n      <td>-672185</td>\n      <td>672185</td>\n      <td>48917575</td>\n      <td>160385.491803</td>\n      <td>305</td>\n      <td>-672185</td>\n      <td>672185</td>\n      <td>48917575</td>\n      <td>160385.491803</td>\n      <td>...</td>\n      <td>305</td>\n      <td>19</td>\n      <td>99</td>\n      <td>15204</td>\n      <td>49.849180</td>\n      <td>305</td>\n      <td>1</td>\n      <td>1</td>\n      <td>305</td>\n      <td>1.0</td>\n    </tr>\n    <tr>\n      <th rowspan=\"5\" valign=\"top\">Mujer</th>\n      <th>1</th>\n      <td>26496</td>\n      <td>-722605</td>\n      <td>1209933</td>\n      <td>2978722800</td>\n      <td>112421.603261</td>\n      <td>26496</td>\n      <td>-722605</td>\n      <td>1209933</td>\n      <td>2978722800</td>\n      <td>112421.603261</td>\n      <td>...</td>\n      <td>26496</td>\n      <td>18</td>\n      <td>99</td>\n      <td>728293</td>\n      <td>27.486904</td>\n      <td>26496</td>\n      <td>1</td>\n      <td>1</td>\n      <td>26496</td>\n      <td>1.0</td>\n    </tr>\n    <tr>\n      <th>2</th>\n      <td>9761</td>\n      <td>-722605</td>\n      <td>1445210</td>\n      <td>1329586240</td>\n      <td>136214.141994</td>\n      <td>9761</td>\n      <td>-722605</td>\n      <td>1445210</td>\n      <td>1329586240</td>\n      <td>136214.141994</td>\n      <td>...</td>\n      <td>9761</td>\n      <td>18</td>\n      <td>99</td>\n      <td>345256</td>\n      <td>35.370966</td>\n      <td>9761</td>\n      <td>1</td>\n      <td>1</td>\n      <td>9761</td>\n      <td>1.0</td>\n    </tr>\n    <tr>\n      <th>5</th>\n      <td>1</td>\n      <td>83950</td>\n      <td>83950</td>\n      <td>83950</td>\n      <td>83950.000000</td>\n      <td>1</td>\n      <td>83950</td>\n      <td>83950</td>\n      <td>83950</td>\n      <td>83950.000000</td>\n      <td>...</td>\n      <td>1</td>\n      <td>23</td>\n      <td>23</td>\n      <td>23</td>\n      <td>23.000000</td>\n      <td>1</td>\n      <td>1</td>\n      <td>1</td>\n      <td>1</td>\n      <td>1.0</td>\n    </tr>\n    <tr>\n      <th>7</th>\n      <td>65</td>\n      <td>-420084</td>\n      <td>0</td>\n      <td>-9094944</td>\n      <td>-139922.215385</td>\n      <td>65</td>\n      <td>-420084</td>\n      <td>0</td>\n      <td>-9094944</td>\n      <td>-139922.215385</td>\n      <td>...</td>\n      <td>65</td>\n      <td>19</td>\n      <td>99</td>\n      <td>1702</td>\n      <td>26.184615</td>\n      <td>65</td>\n      <td>1</td>\n      <td>1</td>\n      <td>65</td>\n      <td>1.0</td>\n    </tr>\n    <tr>\n      <th>8</th>\n      <td>694</td>\n      <td>-252017</td>\n      <td>335966</td>\n      <td>56889403</td>\n      <td>81973.203170</td>\n      <td>694</td>\n      <td>-252017</td>\n      <td>335966</td>\n      <td>56889403</td>\n      <td>81973.203170</td>\n      <td>...</td>\n      <td>694</td>\n      <td>19</td>\n      <td>99</td>\n      <td>31830</td>\n      <td>45.864553</td>\n      <td>694</td>\n      <td>1</td>\n      <td>1</td>\n      <td>694</td>\n      <td>1.0</td>\n    </tr>\n    <tr>\n      <th rowspan=\"3\" valign=\"top\">Niñas</th>\n      <th>1</th>\n      <td>13</td>\n      <td>-252017</td>\n      <td>67143</td>\n      <td>-1020192</td>\n      <td>-78476.307692</td>\n      <td>13</td>\n      <td>-252017</td>\n      <td>67143</td>\n      <td>-1020192</td>\n      <td>-78476.307692</td>\n      <td>...</td>\n      <td>13</td>\n      <td>6</td>\n      <td>99</td>\n      <td>469</td>\n      <td>36.076923</td>\n      <td>13</td>\n      <td>1</td>\n      <td>1</td>\n      <td>13</td>\n      <td>1.0</td>\n    </tr>\n    <tr>\n      <th>2</th>\n      <td>4</td>\n      <td>-142773</td>\n      <td>142773</td>\n      <td>-226722</td>\n      <td>-56680.500000</td>\n      <td>4</td>\n      <td>-142773</td>\n      <td>142773</td>\n      <td>-226722</td>\n      <td>-56680.500000</td>\n      <td>...</td>\n      <td>4</td>\n      <td>20</td>\n      <td>20</td>\n      <td>80</td>\n      <td>20.000000</td>\n      <td>4</td>\n      <td>1</td>\n      <td>1</td>\n      <td>4</td>\n      <td>1.0</td>\n    </tr>\n    <tr>\n      <th>8</th>\n      <td>1</td>\n      <td>-55378</td>\n      <td>-55378</td>\n      <td>-55378</td>\n      <td>-55378.000000</td>\n      <td>1</td>\n      <td>-55378</td>\n      <td>-55378</td>\n      <td>-55378</td>\n      <td>-55378.000000</td>\n      <td>...</td>\n      <td>1</td>\n      <td>14</td>\n      <td>14</td>\n      <td>14</td>\n      <td>14.000000</td>\n      <td>1</td>\n      <td>1</td>\n      <td>1</td>\n      <td>1</td>\n      <td>1.0</td>\n    </tr>\n    <tr>\n      <th>Niños</th>\n      <th>1</th>\n      <td>2</td>\n      <td>-50773</td>\n      <td>45328</td>\n      <td>-5445</td>\n      <td>-2722.500000</td>\n      <td>2</td>\n      <td>-50773</td>\n      <td>45328</td>\n      <td>-5445</td>\n      <td>-2722.500000</td>\n      <td>...</td>\n      <td>2</td>\n      <td>12</td>\n      <td>12</td>\n      <td>24</td>\n      <td>12.000000</td>\n      <td>2</td>\n      <td>1</td>\n      <td>1</td>\n      <td>2</td>\n      <td>1.0</td>\n    </tr>\n  </tbody>\n</table>\n<p>13 rows × 35 columns</p>\n</div>"
     },
     "execution_count": 89,
     "metadata": {},
     "output_type": "execute_result"
    }
   ],
   "source": [
    "df_sales_products.head()\n",
    "\n",
    "df_sales_products.groupby(['gender', 'temp']).agg(['count', 'min', 'max', 'sum', 'mean'])"
   ],
   "metadata": {
    "collapsed": false,
    "pycharm": {
     "name": "#%%\n"
    }
   }
  },
  {
   "cell_type": "code",
   "execution_count": 95,
   "outputs": [
    {
     "data": {
      "text/plain": "              sales_without_taxes                quantity          \n                              sum           mean      sum      mean\nstore_id temp                                                      \n2586     1             1296883591  109487.850654     9923  0.837737\n         2              743508763  141890.985305     4967  0.947901\n         7               -4742120 -115661.463415      -37 -0.902439\n         8               78351880  122616.400626      530  0.829421\n2672     1             1881563950  115974.109344    14446  0.890409\n         2              846046146  144425.767497     5789  0.988221\n         5                  83950   83950.000000        1  1.000000\n         7               -4510638 -155539.241379      -29 -1.000000\n         8               27399720   75899.501385      281  0.778393",
      "text/html": "<div>\n<style scoped>\n    .dataframe tbody tr th:only-of-type {\n        vertical-align: middle;\n    }\n\n    .dataframe tbody tr th {\n        vertical-align: top;\n    }\n\n    .dataframe thead tr th {\n        text-align: left;\n    }\n\n    .dataframe thead tr:last-of-type th {\n        text-align: right;\n    }\n</style>\n<table border=\"1\" class=\"dataframe\">\n  <thead>\n    <tr>\n      <th></th>\n      <th></th>\n      <th colspan=\"2\" halign=\"left\">sales_without_taxes</th>\n      <th colspan=\"2\" halign=\"left\">quantity</th>\n    </tr>\n    <tr>\n      <th></th>\n      <th></th>\n      <th>sum</th>\n      <th>mean</th>\n      <th>sum</th>\n      <th>mean</th>\n    </tr>\n    <tr>\n      <th>store_id</th>\n      <th>temp</th>\n      <th></th>\n      <th></th>\n      <th></th>\n      <th></th>\n    </tr>\n  </thead>\n  <tbody>\n    <tr>\n      <th rowspan=\"4\" valign=\"top\">2586</th>\n      <th>1</th>\n      <td>1296883591</td>\n      <td>109487.850654</td>\n      <td>9923</td>\n      <td>0.837737</td>\n    </tr>\n    <tr>\n      <th>2</th>\n      <td>743508763</td>\n      <td>141890.985305</td>\n      <td>4967</td>\n      <td>0.947901</td>\n    </tr>\n    <tr>\n      <th>7</th>\n      <td>-4742120</td>\n      <td>-115661.463415</td>\n      <td>-37</td>\n      <td>-0.902439</td>\n    </tr>\n    <tr>\n      <th>8</th>\n      <td>78351880</td>\n      <td>122616.400626</td>\n      <td>530</td>\n      <td>0.829421</td>\n    </tr>\n    <tr>\n      <th rowspan=\"5\" valign=\"top\">2672</th>\n      <th>1</th>\n      <td>1881563950</td>\n      <td>115974.109344</td>\n      <td>14446</td>\n      <td>0.890409</td>\n    </tr>\n    <tr>\n      <th>2</th>\n      <td>846046146</td>\n      <td>144425.767497</td>\n      <td>5789</td>\n      <td>0.988221</td>\n    </tr>\n    <tr>\n      <th>5</th>\n      <td>83950</td>\n      <td>83950.000000</td>\n      <td>1</td>\n      <td>1.000000</td>\n    </tr>\n    <tr>\n      <th>7</th>\n      <td>-4510638</td>\n      <td>-155539.241379</td>\n      <td>-29</td>\n      <td>-1.000000</td>\n    </tr>\n    <tr>\n      <th>8</th>\n      <td>27399720</td>\n      <td>75899.501385</td>\n      <td>281</td>\n      <td>0.778393</td>\n    </tr>\n  </tbody>\n</table>\n</div>"
     },
     "execution_count": 95,
     "metadata": {},
     "output_type": "execute_result"
    }
   ],
   "source": [
    "df_sales_products.groupby(['store_id', 'temp'])\\\n",
    "    .agg({'sales_without_taxes': ['sum', 'mean'], 'quantity': ['sum', 'mean']})"
   ],
   "metadata": {
    "collapsed": false,
    "pycharm": {
     "name": "#%%\n"
    }
   }
  },
  {
   "cell_type": "markdown",
   "source": [
    "### Pivot table"
   ],
   "metadata": {
    "collapsed": false,
    "pycharm": {
     "name": "#%% md\n"
    }
   }
  },
  {
   "cell_type": "code",
   "execution_count": 100,
   "outputs": [
    {
     "data": {
      "text/plain": "description_color  AGUA  AMARILLO  AMARILLO PASTEL  ANTRACITA  ARENA   AZUL  \\\ngender temp                                                                   \nHombre 1            4.0       0.0              0.0       22.0   10.0   29.0   \n       2            0.0       0.0              0.0       10.0    9.0   12.0   \n       7            0.0       0.0              0.0        0.0    0.0    0.0   \n       8            0.0       1.0              0.0        0.0    3.0   32.0   \nMujer  1           67.0      74.0            162.0       63.0  107.0  443.0   \n       2           25.0      34.0             14.0        0.0   21.0  168.0   \n       5            0.0       0.0              0.0        0.0    0.0    0.0   \n       7            0.0       0.0              0.0        0.0   -2.0    0.0   \n       8            0.0       0.0              2.0        0.0    0.0    5.0   \nNiñas  1            0.0       0.0              0.0        0.0    0.0    0.0   \n       2            0.0       0.0              0.0        0.0    0.0    0.0   \n       8            0.0       0.0              0.0        0.0    0.0    0.0   \nNiños  1            0.0       0.0              0.0        0.0    0.0    0.0   \n\ndescription_color  AZUL NOCHE  BEIGE  BILLAR  BLANCO  ...  TERRACOTA  \\\ngender temp                                           ...              \nHombre 1                  1.0   71.0     0.0    61.0  ...        7.0   \n       2                  0.0   92.0     0.0    64.0  ...        0.0   \n       7                  0.0    0.0     0.0     0.0  ...        0.0   \n       8                  0.0    8.0     0.0     4.0  ...       -1.0   \nMujer  1                181.0  678.0    27.0   393.0  ...       30.0   \n       2                  2.0  181.0     0.0   231.0  ...       10.0   \n       5                  0.0    0.0     0.0     0.0  ...        0.0   \n       7                  0.0   -2.0     0.0     0.0  ...       -1.0   \n       8                  0.0    1.0     0.0    27.0  ...        0.0   \nNiñas  1                  0.0    0.0     0.0     0.0  ...        0.0   \n       2                  0.0    0.0     0.0    -1.0  ...        0.0   \n       8                  0.0    0.0     0.0     0.0  ...        0.0   \nNiños  1                  0.0    0.0     0.0     0.0  ...        0.0   \n\ndescription_color  TESTA DI MORO  TINTA   TOPO  TURQUESA  VAINILLA   VERDE  \\\ngender temp                                                                  \nHombre 1                     6.0    0.0    2.0       0.0       0.0    17.0   \n       2                     0.0   14.0    0.0       0.0       0.0     8.0   \n       7                     0.0    0.0    0.0       0.0       0.0     0.0   \n       8                     0.0    3.0    3.0       0.0       0.0     0.0   \nMujer  1                     0.0   35.0  144.0      13.0      78.0  1166.0   \n       2                     0.0    0.0  101.0       2.0     141.0   598.0   \n       5                     0.0    0.0    0.0       0.0       0.0     0.0   \n       7                     0.0    0.0    0.0       0.0       0.0    -2.0   \n       8                     0.0    0.0    0.0       0.0       0.0     4.0   \nNiñas  1                     0.0    0.0    0.0       0.0       0.0     0.0   \n       2                     0.0    0.0    0.0       0.0       0.0     0.0   \n       8                     0.0    0.0    0.0       0.0       0.0     0.0   \nNiños  1                     0.0    0.0    0.0       0.0       0.0     0.0   \n\ndescription_color  VERDE PASTEL  VINO  VISON  \ngender temp                                   \nHombre 1                    1.0   0.0    0.0  \n       2                    4.0   4.0    0.0  \n       7                    0.0   0.0    0.0  \n       8                    0.0   0.0    0.0  \nMujer  1                  119.0  56.0    0.0  \n       2                   37.0   0.0    0.0  \n       5                    0.0   0.0    0.0  \n       7                    0.0   0.0    0.0  \n       8                    0.0   5.0   -1.0  \nNiñas  1                    0.0   0.0    0.0  \n       2                    0.0   0.0    0.0  \n       8                    0.0   0.0    0.0  \nNiños  1                    0.0   0.0    0.0  \n\n[13 rows x 104 columns]",
      "text/html": "<div>\n<style scoped>\n    .dataframe tbody tr th:only-of-type {\n        vertical-align: middle;\n    }\n\n    .dataframe tbody tr th {\n        vertical-align: top;\n    }\n\n    .dataframe thead th {\n        text-align: right;\n    }\n</style>\n<table border=\"1\" class=\"dataframe\">\n  <thead>\n    <tr style=\"text-align: right;\">\n      <th></th>\n      <th>description_color</th>\n      <th>AGUA</th>\n      <th>AMARILLO</th>\n      <th>AMARILLO PASTEL</th>\n      <th>ANTRACITA</th>\n      <th>ARENA</th>\n      <th>AZUL</th>\n      <th>AZUL NOCHE</th>\n      <th>BEIGE</th>\n      <th>BILLAR</th>\n      <th>BLANCO</th>\n      <th>...</th>\n      <th>TERRACOTA</th>\n      <th>TESTA DI MORO</th>\n      <th>TINTA</th>\n      <th>TOPO</th>\n      <th>TURQUESA</th>\n      <th>VAINILLA</th>\n      <th>VERDE</th>\n      <th>VERDE PASTEL</th>\n      <th>VINO</th>\n      <th>VISON</th>\n    </tr>\n    <tr>\n      <th>gender</th>\n      <th>temp</th>\n      <th></th>\n      <th></th>\n      <th></th>\n      <th></th>\n      <th></th>\n      <th></th>\n      <th></th>\n      <th></th>\n      <th></th>\n      <th></th>\n      <th></th>\n      <th></th>\n      <th></th>\n      <th></th>\n      <th></th>\n      <th></th>\n      <th></th>\n      <th></th>\n      <th></th>\n      <th></th>\n      <th></th>\n    </tr>\n  </thead>\n  <tbody>\n    <tr>\n      <th rowspan=\"4\" valign=\"top\">Hombre</th>\n      <th>1</th>\n      <td>4.0</td>\n      <td>0.0</td>\n      <td>0.0</td>\n      <td>22.0</td>\n      <td>10.0</td>\n      <td>29.0</td>\n      <td>1.0</td>\n      <td>71.0</td>\n      <td>0.0</td>\n      <td>61.0</td>\n      <td>...</td>\n      <td>7.0</td>\n      <td>6.0</td>\n      <td>0.0</td>\n      <td>2.0</td>\n      <td>0.0</td>\n      <td>0.0</td>\n      <td>17.0</td>\n      <td>1.0</td>\n      <td>0.0</td>\n      <td>0.0</td>\n    </tr>\n    <tr>\n      <th>2</th>\n      <td>0.0</td>\n      <td>0.0</td>\n      <td>0.0</td>\n      <td>10.0</td>\n      <td>9.0</td>\n      <td>12.0</td>\n      <td>0.0</td>\n      <td>92.0</td>\n      <td>0.0</td>\n      <td>64.0</td>\n      <td>...</td>\n      <td>0.0</td>\n      <td>0.0</td>\n      <td>14.0</td>\n      <td>0.0</td>\n      <td>0.0</td>\n      <td>0.0</td>\n      <td>8.0</td>\n      <td>4.0</td>\n      <td>4.0</td>\n      <td>0.0</td>\n    </tr>\n    <tr>\n      <th>7</th>\n      <td>0.0</td>\n      <td>0.0</td>\n      <td>0.0</td>\n      <td>0.0</td>\n      <td>0.0</td>\n      <td>0.0</td>\n      <td>0.0</td>\n      <td>0.0</td>\n      <td>0.0</td>\n      <td>0.0</td>\n      <td>...</td>\n      <td>0.0</td>\n      <td>0.0</td>\n      <td>0.0</td>\n      <td>0.0</td>\n      <td>0.0</td>\n      <td>0.0</td>\n      <td>0.0</td>\n      <td>0.0</td>\n      <td>0.0</td>\n      <td>0.0</td>\n    </tr>\n    <tr>\n      <th>8</th>\n      <td>0.0</td>\n      <td>1.0</td>\n      <td>0.0</td>\n      <td>0.0</td>\n      <td>3.0</td>\n      <td>32.0</td>\n      <td>0.0</td>\n      <td>8.0</td>\n      <td>0.0</td>\n      <td>4.0</td>\n      <td>...</td>\n      <td>-1.0</td>\n      <td>0.0</td>\n      <td>3.0</td>\n      <td>3.0</td>\n      <td>0.0</td>\n      <td>0.0</td>\n      <td>0.0</td>\n      <td>0.0</td>\n      <td>0.0</td>\n      <td>0.0</td>\n    </tr>\n    <tr>\n      <th rowspan=\"5\" valign=\"top\">Mujer</th>\n      <th>1</th>\n      <td>67.0</td>\n      <td>74.0</td>\n      <td>162.0</td>\n      <td>63.0</td>\n      <td>107.0</td>\n      <td>443.0</td>\n      <td>181.0</td>\n      <td>678.0</td>\n      <td>27.0</td>\n      <td>393.0</td>\n      <td>...</td>\n      <td>30.0</td>\n      <td>0.0</td>\n      <td>35.0</td>\n      <td>144.0</td>\n      <td>13.0</td>\n      <td>78.0</td>\n      <td>1166.0</td>\n      <td>119.0</td>\n      <td>56.0</td>\n      <td>0.0</td>\n    </tr>\n    <tr>\n      <th>2</th>\n      <td>25.0</td>\n      <td>34.0</td>\n      <td>14.0</td>\n      <td>0.0</td>\n      <td>21.0</td>\n      <td>168.0</td>\n      <td>2.0</td>\n      <td>181.0</td>\n      <td>0.0</td>\n      <td>231.0</td>\n      <td>...</td>\n      <td>10.0</td>\n      <td>0.0</td>\n      <td>0.0</td>\n      <td>101.0</td>\n      <td>2.0</td>\n      <td>141.0</td>\n      <td>598.0</td>\n      <td>37.0</td>\n      <td>0.0</td>\n      <td>0.0</td>\n    </tr>\n    <tr>\n      <th>5</th>\n      <td>0.0</td>\n      <td>0.0</td>\n      <td>0.0</td>\n      <td>0.0</td>\n      <td>0.0</td>\n      <td>0.0</td>\n      <td>0.0</td>\n      <td>0.0</td>\n      <td>0.0</td>\n      <td>0.0</td>\n      <td>...</td>\n      <td>0.0</td>\n      <td>0.0</td>\n      <td>0.0</td>\n      <td>0.0</td>\n      <td>0.0</td>\n      <td>0.0</td>\n      <td>0.0</td>\n      <td>0.0</td>\n      <td>0.0</td>\n      <td>0.0</td>\n    </tr>\n    <tr>\n      <th>7</th>\n      <td>0.0</td>\n      <td>0.0</td>\n      <td>0.0</td>\n      <td>0.0</td>\n      <td>-2.0</td>\n      <td>0.0</td>\n      <td>0.0</td>\n      <td>-2.0</td>\n      <td>0.0</td>\n      <td>0.0</td>\n      <td>...</td>\n      <td>-1.0</td>\n      <td>0.0</td>\n      <td>0.0</td>\n      <td>0.0</td>\n      <td>0.0</td>\n      <td>0.0</td>\n      <td>-2.0</td>\n      <td>0.0</td>\n      <td>0.0</td>\n      <td>0.0</td>\n    </tr>\n    <tr>\n      <th>8</th>\n      <td>0.0</td>\n      <td>0.0</td>\n      <td>2.0</td>\n      <td>0.0</td>\n      <td>0.0</td>\n      <td>5.0</td>\n      <td>0.0</td>\n      <td>1.0</td>\n      <td>0.0</td>\n      <td>27.0</td>\n      <td>...</td>\n      <td>0.0</td>\n      <td>0.0</td>\n      <td>0.0</td>\n      <td>0.0</td>\n      <td>0.0</td>\n      <td>0.0</td>\n      <td>4.0</td>\n      <td>0.0</td>\n      <td>5.0</td>\n      <td>-1.0</td>\n    </tr>\n    <tr>\n      <th rowspan=\"3\" valign=\"top\">Niñas</th>\n      <th>1</th>\n      <td>0.0</td>\n      <td>0.0</td>\n      <td>0.0</td>\n      <td>0.0</td>\n      <td>0.0</td>\n      <td>0.0</td>\n      <td>0.0</td>\n      <td>0.0</td>\n      <td>0.0</td>\n      <td>0.0</td>\n      <td>...</td>\n      <td>0.0</td>\n      <td>0.0</td>\n      <td>0.0</td>\n      <td>0.0</td>\n      <td>0.0</td>\n      <td>0.0</td>\n      <td>0.0</td>\n      <td>0.0</td>\n      <td>0.0</td>\n      <td>0.0</td>\n    </tr>\n    <tr>\n      <th>2</th>\n      <td>0.0</td>\n      <td>0.0</td>\n      <td>0.0</td>\n      <td>0.0</td>\n      <td>0.0</td>\n      <td>0.0</td>\n      <td>0.0</td>\n      <td>0.0</td>\n      <td>0.0</td>\n      <td>-1.0</td>\n      <td>...</td>\n      <td>0.0</td>\n      <td>0.0</td>\n      <td>0.0</td>\n      <td>0.0</td>\n      <td>0.0</td>\n      <td>0.0</td>\n      <td>0.0</td>\n      <td>0.0</td>\n      <td>0.0</td>\n      <td>0.0</td>\n    </tr>\n    <tr>\n      <th>8</th>\n      <td>0.0</td>\n      <td>0.0</td>\n      <td>0.0</td>\n      <td>0.0</td>\n      <td>0.0</td>\n      <td>0.0</td>\n      <td>0.0</td>\n      <td>0.0</td>\n      <td>0.0</td>\n      <td>0.0</td>\n      <td>...</td>\n      <td>0.0</td>\n      <td>0.0</td>\n      <td>0.0</td>\n      <td>0.0</td>\n      <td>0.0</td>\n      <td>0.0</td>\n      <td>0.0</td>\n      <td>0.0</td>\n      <td>0.0</td>\n      <td>0.0</td>\n    </tr>\n    <tr>\n      <th>Niños</th>\n      <th>1</th>\n      <td>0.0</td>\n      <td>0.0</td>\n      <td>0.0</td>\n      <td>0.0</td>\n      <td>0.0</td>\n      <td>0.0</td>\n      <td>0.0</td>\n      <td>0.0</td>\n      <td>0.0</td>\n      <td>0.0</td>\n      <td>...</td>\n      <td>0.0</td>\n      <td>0.0</td>\n      <td>0.0</td>\n      <td>0.0</td>\n      <td>0.0</td>\n      <td>0.0</td>\n      <td>0.0</td>\n      <td>0.0</td>\n      <td>0.0</td>\n      <td>0.0</td>\n    </tr>\n  </tbody>\n</table>\n<p>13 rows × 104 columns</p>\n</div>"
     },
     "execution_count": 100,
     "metadata": {},
     "output_type": "execute_result"
    }
   ],
   "source": [
    "df_sales_products.pivot_table(index=['gender', 'temp'], columns=['description_color'], values='quantity', aggfunc='sum').fillna(0)"
   ],
   "metadata": {
    "collapsed": false,
    "pycharm": {
     "name": "#%%\n"
    }
   }
  },
  {
   "cell_type": "code",
   "execution_count": null,
   "outputs": [],
   "source": [],
   "metadata": {
    "collapsed": false,
    "pycharm": {
     "name": "#%%\n"
    }
   }
  }
 ],
 "metadata": {
  "kernelspec": {
   "display_name": "Python 3",
   "language": "python",
   "name": "python3"
  },
  "language_info": {
   "codemirror_mode": {
    "name": "ipython",
    "version": 2
   },
   "file_extension": ".py",
   "mimetype": "text/x-python",
   "name": "python",
   "nbconvert_exporter": "python",
   "pygments_lexer": "ipython2",
   "version": "2.7.6"
  }
 },
 "nbformat": 4,
 "nbformat_minor": 0
}