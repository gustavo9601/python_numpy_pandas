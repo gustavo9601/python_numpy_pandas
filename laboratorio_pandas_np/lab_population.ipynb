{
 "cells": [
  {
   "cell_type": "code",
   "execution_count": 5,
   "metadata": {
    "collapsed": true
   },
   "outputs": [],
   "source": [
    "import pandas as pd\n",
    "import numpy as np\n",
    "\n",
    "# Set format display values in PD\n",
    "pd.options.display.float_format = '{:,.1f}'.format"
   ]
  },
  {
   "cell_type": "code",
   "execution_count": 18,
   "outputs": [
    {
     "data": {
      "text/plain": "         Country  year         pop\n319  El Salvador  2016 6,356,143.0",
      "text/html": "<div>\n<style scoped>\n    .dataframe tbody tr th:only-of-type {\n        vertical-align: middle;\n    }\n\n    .dataframe tbody tr th {\n        vertical-align: top;\n    }\n\n    .dataframe thead th {\n        text-align: right;\n    }\n</style>\n<table border=\"1\" class=\"dataframe\">\n  <thead>\n    <tr style=\"text-align: right;\">\n      <th></th>\n      <th>Country</th>\n      <th>year</th>\n      <th>pop</th>\n    </tr>\n  </thead>\n  <tbody>\n    <tr>\n      <th>319</th>\n      <td>El Salvador</td>\n      <td>2016</td>\n      <td>6,356,143.0</td>\n    </tr>\n  </tbody>\n</table>\n</div>"
     },
     "execution_count": 18,
     "metadata": {},
     "output_type": "execute_result"
    }
   ],
   "source": [
    "df_population = pd.read_csv('./../db/poblacion.csv')\n",
    "#print(df_population.shape)\n",
    "df_population.sample()"
   ],
   "metadata": {
    "collapsed": false,
    "pycharm": {
     "name": "#%%\n"
    }
   }
  },
  {
   "cell_type": "code",
   "execution_count": null,
   "outputs": [],
   "source": [
    "# Seteando la columna como categorical\n",
    "df_population['year'] = pd.Categorical(df_population['year'])\n",
    "print(df_population.dtypes)"
   ],
   "metadata": {
    "collapsed": false,
    "pycharm": {
     "name": "#%%\n"
    }
   }
  },
  {
   "cell_type": "code",
   "execution_count": 21,
   "outputs": [
    {
     "data": {
      "text/plain": "         year          pop\ncount     8.0          8.0\nmean  2,016.5 24,332,779.2\nstd       1.2 25,907,456.2\nmin   2,015.0    104,341.0\n25%   2,015.8    105,242.5\n50%   2,016.5 23,813,256.0\n75%   2,017.2 48,353,810.5\nmax   2,018.0 49,648,685.0",
      "text/html": "<div>\n<style scoped>\n    .dataframe tbody tr th:only-of-type {\n        vertical-align: middle;\n    }\n\n    .dataframe tbody tr th {\n        vertical-align: top;\n    }\n\n    .dataframe thead th {\n        text-align: right;\n    }\n</style>\n<table border=\"1\" class=\"dataframe\">\n  <thead>\n    <tr style=\"text-align: right;\">\n      <th></th>\n      <th>year</th>\n      <th>pop</th>\n    </tr>\n  </thead>\n  <tbody>\n    <tr>\n      <th>count</th>\n      <td>8.0</td>\n      <td>8.0</td>\n    </tr>\n    <tr>\n      <th>mean</th>\n      <td>2,016.5</td>\n      <td>24,332,779.2</td>\n    </tr>\n    <tr>\n      <th>std</th>\n      <td>1.2</td>\n      <td>25,907,456.2</td>\n    </tr>\n    <tr>\n      <th>min</th>\n      <td>2,015.0</td>\n      <td>104,341.0</td>\n    </tr>\n    <tr>\n      <th>25%</th>\n      <td>2,015.8</td>\n      <td>105,242.5</td>\n    </tr>\n    <tr>\n      <th>50%</th>\n      <td>2,016.5</td>\n      <td>23,813,256.0</td>\n    </tr>\n    <tr>\n      <th>75%</th>\n      <td>2,017.2</td>\n      <td>48,353,810.5</td>\n    </tr>\n    <tr>\n      <th>max</th>\n      <td>2,018.0</td>\n      <td>49,648,685.0</td>\n    </tr>\n  </tbody>\n</table>\n</div>"
     },
     "execution_count": 21,
     "metadata": {},
     "output_type": "execute_result"
    }
   ],
   "source": [
    "# Creando una Serie o indice como filtro\n",
    "idx_filtro = df_population['Country'].isin(['Aruba', 'Colombia'])\n",
    "\n",
    "df_population_filtered = df_population[idx_filtro]\n",
    "df_population_filtered.describe()"
   ],
   "metadata": {
    "collapsed": false,
    "pycharm": {
     "name": "#%%\n"
    }
   }
  },
  {
   "cell_type": "code",
   "execution_count": 22,
   "outputs": [
    {
     "data": {
      "text/plain": "               pop\ncount          8.0\nmean  24,332,779.2\nstd   25,907,456.2\nmin      104,341.0\n25%      105,242.5\n50%   23,813,256.0\n75%   48,353,810.5\nmax   49,648,685.0",
      "text/html": "<div>\n<style scoped>\n    .dataframe tbody tr th:only-of-type {\n        vertical-align: middle;\n    }\n\n    .dataframe tbody tr th {\n        vertical-align: top;\n    }\n\n    .dataframe thead th {\n        text-align: right;\n    }\n</style>\n<table border=\"1\" class=\"dataframe\">\n  <thead>\n    <tr style=\"text-align: right;\">\n      <th></th>\n      <th>pop</th>\n    </tr>\n  </thead>\n  <tbody>\n    <tr>\n      <th>count</th>\n      <td>8.0</td>\n    </tr>\n    <tr>\n      <th>mean</th>\n      <td>24,332,779.2</td>\n    </tr>\n    <tr>\n      <th>std</th>\n      <td>25,907,456.2</td>\n    </tr>\n    <tr>\n      <th>min</th>\n      <td>104,341.0</td>\n    </tr>\n    <tr>\n      <th>25%</th>\n      <td>105,242.5</td>\n    </tr>\n    <tr>\n      <th>50%</th>\n      <td>23,813,256.0</td>\n    </tr>\n    <tr>\n      <th>75%</th>\n      <td>48,353,810.5</td>\n    </tr>\n    <tr>\n      <th>max</th>\n      <td>49,648,685.0</td>\n    </tr>\n  </tbody>\n</table>\n</div>"
     },
     "execution_count": 22,
     "metadata": {},
     "output_type": "execute_result"
    }
   ],
   "source": [
    "# Seteando los indices del DF\n",
    "# .sort_index(ascending = [True, False, True]) // Indica el orden de ascendencia para cada columna seteanda como index\n",
    "df_population_filtered = df_population_filtered.set_index(['Country', 'year']).sort_index()\n",
    "df_population_filtered.describe()"
   ],
   "metadata": {
    "collapsed": false,
    "pycharm": {
     "name": "#%%\n"
    }
   }
  },
  {
   "cell_type": "code",
   "execution_count": 23,
   "outputs": [
    {
     "data": {
      "text/plain": "              pop\nyear             \n2015 47,520,667.0\n2016 48,171,392.0\n2017 48,901,066.0\n2018 49,648,685.0",
      "text/html": "<div>\n<style scoped>\n    .dataframe tbody tr th:only-of-type {\n        vertical-align: middle;\n    }\n\n    .dataframe tbody tr th {\n        vertical-align: top;\n    }\n\n    .dataframe thead th {\n        text-align: right;\n    }\n</style>\n<table border=\"1\" class=\"dataframe\">\n  <thead>\n    <tr style=\"text-align: right;\">\n      <th></th>\n      <th>pop</th>\n    </tr>\n    <tr>\n      <th>year</th>\n      <th></th>\n    </tr>\n  </thead>\n  <tbody>\n    <tr>\n      <th>2015</th>\n      <td>47,520,667.0</td>\n    </tr>\n    <tr>\n      <th>2016</th>\n      <td>48,171,392.0</td>\n    </tr>\n    <tr>\n      <th>2017</th>\n      <td>48,901,066.0</td>\n    </tr>\n    <tr>\n      <th>2018</th>\n      <td>49,648,685.0</td>\n    </tr>\n  </tbody>\n</table>\n</div>"
     },
     "execution_count": 23,
     "metadata": {},
     "output_type": "execute_result"
    }
   ],
   "source": [
    "# Sleccionado por un indice\n",
    "df_population_filtered.loc['Colombia', :]"
   ],
   "metadata": {
    "collapsed": false,
    "pycharm": {
     "name": "#%%\n"
    }
   }
  },
  {
   "cell_type": "code",
   "execution_count": 29,
   "outputs": [
    {
     "data": {
      "text/plain": "                      pop\nCountry year             \nBelgium 2018 11,422,068.0",
      "text/html": "<div>\n<style scoped>\n    .dataframe tbody tr th:only-of-type {\n        vertical-align: middle;\n    }\n\n    .dataframe tbody tr th {\n        vertical-align: top;\n    }\n\n    .dataframe thead th {\n        text-align: right;\n    }\n</style>\n<table border=\"1\" class=\"dataframe\">\n  <thead>\n    <tr style=\"text-align: right;\">\n      <th></th>\n      <th></th>\n      <th>pop</th>\n    </tr>\n    <tr>\n      <th>Country</th>\n      <th>year</th>\n      <th></th>\n    </tr>\n  </thead>\n  <tbody>\n    <tr>\n      <th>Belgium</th>\n      <th>2018</th>\n      <td>11,422,068.0</td>\n    </tr>\n  </tbody>\n</table>\n</div>"
     },
     "execution_count": 29,
     "metadata": {},
     "output_type": "execute_result"
    }
   ],
   "source": [
    "# Seteando el index\n",
    "df_population = df_population.set_index(['Country', 'year']).sort_index(ascending = [True, False])\n",
    "df_population.sample()\n"
   ],
   "metadata": {
    "collapsed": false,
    "pycharm": {
     "name": "#%%\n"
    }
   }
  },
  {
   "cell_type": "code",
   "execution_count": 30,
   "outputs": [
    {
     "data": {
      "text/plain": "year\n2018   49,648,685.0\n2017   48,901,066.0\n2016   48,171,392.0\n2015   47,520,667.0\nName: pop, dtype: float64"
     },
     "execution_count": 30,
     "metadata": {},
     "output_type": "execute_result"
    }
   ],
   "source": [
    "# Accediendo a traves de ubduces a un valor\n",
    "df_population['pop']['Colombia']"
   ],
   "metadata": {
    "collapsed": false,
    "pycharm": {
     "name": "#%%\n"
    }
   }
  },
  {
   "cell_type": "code",
   "execution_count": 32,
   "outputs": [
    {
     "data": {
      "text/plain": "                  pop\nyear                 \n2018 68,087,886,692.0\n2017 67,294,176,701.0\n2016 66,487,930,677.0\n2015 65,679,147,019.0",
      "text/html": "<div>\n<style scoped>\n    .dataframe tbody tr th:only-of-type {\n        vertical-align: middle;\n    }\n\n    .dataframe tbody tr th {\n        vertical-align: top;\n    }\n\n    .dataframe thead th {\n        text-align: right;\n    }\n</style>\n<table border=\"1\" class=\"dataframe\">\n  <thead>\n    <tr style=\"text-align: right;\">\n      <th></th>\n      <th>pop</th>\n    </tr>\n    <tr>\n      <th>year</th>\n      <th></th>\n    </tr>\n  </thead>\n  <tbody>\n    <tr>\n      <th>2018</th>\n      <td>68,087,886,692.0</td>\n    </tr>\n    <tr>\n      <th>2017</th>\n      <td>67,294,176,701.0</td>\n    </tr>\n    <tr>\n      <th>2016</th>\n      <td>66,487,930,677.0</td>\n    </tr>\n    <tr>\n      <th>2015</th>\n      <td>65,679,147,019.0</td>\n    </tr>\n  </tbody>\n</table>\n</div>"
     },
     "execution_count": 32,
     "metadata": {},
     "output_type": "execute_result"
    }
   ],
   "source": [
    "# Operaciones sobre indices\n",
    "# level='indice', se especifica a que nivel se requiere la aplicacion de la operacion o funcion\n",
    "df_population.sum(level='year')"
   ],
   "metadata": {
    "collapsed": false,
    "pycharm": {
     "name": "#%%\n"
    }
   }
  },
  {
   "cell_type": "code",
   "execution_count": 33,
   "outputs": [
    {
     "data": {
      "text/plain": "                  pop                                       \nyear             2015         2016         2017         2018\nCountry                                                     \nAruba       104,341.0    104,872.0    105,366.0    105,845.0\nColombia 47,520,667.0 48,171,392.0 48,901,066.0 49,648,685.0",
      "text/html": "<div>\n<style scoped>\n    .dataframe tbody tr th:only-of-type {\n        vertical-align: middle;\n    }\n\n    .dataframe tbody tr th {\n        vertical-align: top;\n    }\n\n    .dataframe thead tr th {\n        text-align: left;\n    }\n\n    .dataframe thead tr:last-of-type th {\n        text-align: right;\n    }\n</style>\n<table border=\"1\" class=\"dataframe\">\n  <thead>\n    <tr>\n      <th></th>\n      <th colspan=\"4\" halign=\"left\">pop</th>\n    </tr>\n    <tr>\n      <th>year</th>\n      <th>2015</th>\n      <th>2016</th>\n      <th>2017</th>\n      <th>2018</th>\n    </tr>\n    <tr>\n      <th>Country</th>\n      <th></th>\n      <th></th>\n      <th></th>\n      <th></th>\n    </tr>\n  </thead>\n  <tbody>\n    <tr>\n      <th>Aruba</th>\n      <td>104,341.0</td>\n      <td>104,872.0</td>\n      <td>105,366.0</td>\n      <td>105,845.0</td>\n    </tr>\n    <tr>\n      <th>Colombia</th>\n      <td>47,520,667.0</td>\n      <td>48,171,392.0</td>\n      <td>48,901,066.0</td>\n      <td>49,648,685.0</td>\n    </tr>\n  </tbody>\n</table>\n</div>"
     },
     "execution_count": 33,
     "metadata": {},
     "output_type": "execute_result"
    }
   ],
   "source": [
    "# Pivoteando un indice de filas a columnas\n",
    "# unstack('year') | ['col1', 'col2'] // pivotea las filas a columnas\n",
    "df_population_filtered.unstack(['year'])"
   ],
   "metadata": {
    "collapsed": false,
    "pycharm": {
     "name": "#%%\n"
    }
   }
  },
  {
   "cell_type": "code",
   "execution_count": 36,
   "outputs": [
    {
     "data": {
      "text/plain": "                       Country  year             pop\n1035  Pre-demographic dividend  2018   919,485,393.0\n1036              Small states  2018    40,575,321.0\n1037                South Asia  2018 1,814,388,744.0\n1038   South Asia (IDA & IBRD)  2018 1,814,388,744.0\n1039        Sub-Saharan Africa  2018 1,078,306,520.0",
      "text/html": "<div>\n<style scoped>\n    .dataframe tbody tr th:only-of-type {\n        vertical-align: middle;\n    }\n\n    .dataframe tbody tr th {\n        vertical-align: top;\n    }\n\n    .dataframe thead th {\n        text-align: right;\n    }\n</style>\n<table border=\"1\" class=\"dataframe\">\n  <thead>\n    <tr style=\"text-align: right;\">\n      <th></th>\n      <th>Country</th>\n      <th>year</th>\n      <th>pop</th>\n    </tr>\n  </thead>\n  <tbody>\n    <tr>\n      <th>1035</th>\n      <td>Pre-demographic dividend</td>\n      <td>2018</td>\n      <td>919,485,393.0</td>\n    </tr>\n    <tr>\n      <th>1036</th>\n      <td>Small states</td>\n      <td>2018</td>\n      <td>40,575,321.0</td>\n    </tr>\n    <tr>\n      <th>1037</th>\n      <td>South Asia</td>\n      <td>2018</td>\n      <td>1,814,388,744.0</td>\n    </tr>\n    <tr>\n      <th>1038</th>\n      <td>South Asia (IDA &amp; IBRD)</td>\n      <td>2018</td>\n      <td>1,814,388,744.0</td>\n    </tr>\n    <tr>\n      <th>1039</th>\n      <td>Sub-Saharan Africa</td>\n      <td>2018</td>\n      <td>1,078,306,520.0</td>\n    </tr>\n  </tbody>\n</table>\n</div>"
     },
     "execution_count": 36,
     "metadata": {},
     "output_type": "execute_result"
    }
   ],
   "source": [
    "df_population_2 = pd.read_csv('./../db/poblacion.csv')\n",
    "df_population_2.tail()"
   ],
   "metadata": {
    "collapsed": false,
    "pycharm": {
     "name": "#%%\n"
    }
   }
  },
  {
   "cell_type": "code",
   "execution_count": 37,
   "outputs": [
    {
     "data": {
      "text/plain": "                       Country  year             pop\n1035  pre-demographic dividend  2018   919,485,393.0\n1036              small states  2018    40,575,321.0\n1037                south asia  2018 1,814,388,744.0\n1038   south asia (ida & ibrd)  2018 1,814,388,744.0\n1039        sub-saharan africa  2018 1,078,306,520.0",
      "text/html": "<div>\n<style scoped>\n    .dataframe tbody tr th:only-of-type {\n        vertical-align: middle;\n    }\n\n    .dataframe tbody tr th {\n        vertical-align: top;\n    }\n\n    .dataframe thead th {\n        text-align: right;\n    }\n</style>\n<table border=\"1\" class=\"dataframe\">\n  <thead>\n    <tr style=\"text-align: right;\">\n      <th></th>\n      <th>Country</th>\n      <th>year</th>\n      <th>pop</th>\n    </tr>\n  </thead>\n  <tbody>\n    <tr>\n      <th>1035</th>\n      <td>pre-demographic dividend</td>\n      <td>2018</td>\n      <td>919,485,393.0</td>\n    </tr>\n    <tr>\n      <th>1036</th>\n      <td>small states</td>\n      <td>2018</td>\n      <td>40,575,321.0</td>\n    </tr>\n    <tr>\n      <th>1037</th>\n      <td>south asia</td>\n      <td>2018</td>\n      <td>1,814,388,744.0</td>\n    </tr>\n    <tr>\n      <th>1038</th>\n      <td>south asia (ida &amp; ibrd)</td>\n      <td>2018</td>\n      <td>1,814,388,744.0</td>\n    </tr>\n    <tr>\n      <th>1039</th>\n      <td>sub-saharan africa</td>\n      <td>2018</td>\n      <td>1,078,306,520.0</td>\n    </tr>\n  </tbody>\n</table>\n</div>"
     },
     "execution_count": 37,
     "metadata": {},
     "output_type": "execute_result"
    }
   ],
   "source": [
    "# Formateando los strings\n",
    "df_population_2['Country'] = df_population_2['Country'].str.lower()\n",
    "df_population_2.tail()"
   ],
   "metadata": {
    "collapsed": false,
    "pycharm": {
     "name": "#%%\n"
    }
   }
  },
  {
   "cell_type": "code",
   "execution_count": 38,
   "outputs": [
    {
     "data": {
      "text/plain": "0       False\n1       False\n2       False\n3       False\n4       False\n        ...  \n1035    False\n1036    False\n1037    False\n1038    False\n1039    False\nName: Country, Length: 1040, dtype: bool"
     },
     "execution_count": 38,
     "metadata": {},
     "output_type": "execute_result"
    }
   ],
   "source": [
    "# Consultando por conincidencias\n",
    "# .str.contains('col') // devuelve serie con true o false que puede ser usada como filtro\n",
    "df_population_2['Country'].str.contains('col')"
   ],
   "metadata": {
    "collapsed": false,
    "pycharm": {
     "name": "#%%\n"
    }
   }
  },
  {
   "cell_type": "code",
   "execution_count": 40,
   "outputs": [
    {
     "data": {
      "text/plain": "      Country  year\n42   colombia  2015\n302  colombia  2016\n562  colombia  2017\n822  colombia  2018",
      "text/html": "<div>\n<style scoped>\n    .dataframe tbody tr th:only-of-type {\n        vertical-align: middle;\n    }\n\n    .dataframe tbody tr th {\n        vertical-align: top;\n    }\n\n    .dataframe thead th {\n        text-align: right;\n    }\n</style>\n<table border=\"1\" class=\"dataframe\">\n  <thead>\n    <tr style=\"text-align: right;\">\n      <th></th>\n      <th>Country</th>\n      <th>year</th>\n    </tr>\n  </thead>\n  <tbody>\n    <tr>\n      <th>42</th>\n      <td>colombia</td>\n      <td>2015</td>\n    </tr>\n    <tr>\n      <th>302</th>\n      <td>colombia</td>\n      <td>2016</td>\n    </tr>\n    <tr>\n      <th>562</th>\n      <td>colombia</td>\n      <td>2017</td>\n    </tr>\n    <tr>\n      <th>822</th>\n      <td>colombia</td>\n      <td>2018</td>\n    </tr>\n  </tbody>\n</table>\n</div>"
     },
     "execution_count": 40,
     "metadata": {},
     "output_type": "execute_result"
    }
   ],
   "source": [
    "# Seleccionando colunas, y filtrando por una columna encontrando coincidencias por el parametro pasado\n",
    "df_population_2[['Country', 'year']][df_population_2['Country'].str.contains( 'col' )]"
   ],
   "metadata": {
    "collapsed": false,
    "pycharm": {
     "name": "#%%\n"
    }
   }
  }
 ],
 "metadata": {
  "kernelspec": {
   "display_name": "Python 3",
   "language": "python",
   "name": "python3"
  },
  "language_info": {
   "codemirror_mode": {
    "name": "ipython",
    "version": 2
   },
   "file_extension": ".py",
   "mimetype": "text/x-python",
   "name": "python",
   "nbconvert_exporter": "python",
   "pygments_lexer": "ipython2",
   "version": "2.7.6"
  }
 },
 "nbformat": 4,
 "nbformat_minor": 0
}