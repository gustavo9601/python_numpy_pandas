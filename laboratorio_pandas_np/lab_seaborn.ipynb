{
 "cells": [
  {
   "cell_type": "code",
   "execution_count": 1,
   "metadata": {
    "collapsed": true,
    "pycharm": {
     "name": "#%%\n"
    }
   },
   "outputs": [
    {
     "name": "stdout",
     "output_type": "stream",
     "text": [
      "version pandas >> 1.2.4\n",
      "version numpy >> 1.20.2\n"
     ]
    }
   ],
   "source": [
    "import pandas as pd\n",
    "import numpy as np\n",
    "import seaborn as sns\n",
    "\n",
    "print(\"version pandas >>\", pd.__version__)\n",
    "print(\"version numpy >>\", np.__version__)"
   ]
  },
  {
   "cell_type": "code",
   "execution_count": 2,
   "outputs": [
    {
     "name": "stdout",
     "output_type": "stream",
     "text": [
      "(53940, 10)\n"
     ]
    },
    {
     "data": {
      "text/plain": "       carat    cut color clarity  depth  table  price     x     y     z\n49313   0.34  Ideal     G     SI1   61.8   54.0    540  4.48  4.51  2.78",
      "text/html": "<div>\n<style scoped>\n    .dataframe tbody tr th:only-of-type {\n        vertical-align: middle;\n    }\n\n    .dataframe tbody tr th {\n        vertical-align: top;\n    }\n\n    .dataframe thead th {\n        text-align: right;\n    }\n</style>\n<table border=\"1\" class=\"dataframe\">\n  <thead>\n    <tr style=\"text-align: right;\">\n      <th></th>\n      <th>carat</th>\n      <th>cut</th>\n      <th>color</th>\n      <th>clarity</th>\n      <th>depth</th>\n      <th>table</th>\n      <th>price</th>\n      <th>x</th>\n      <th>y</th>\n      <th>z</th>\n    </tr>\n  </thead>\n  <tbody>\n    <tr>\n      <th>49313</th>\n      <td>0.34</td>\n      <td>Ideal</td>\n      <td>G</td>\n      <td>SI1</td>\n      <td>61.8</td>\n      <td>54.0</td>\n      <td>540</td>\n      <td>4.48</td>\n      <td>4.51</td>\n      <td>2.78</td>\n    </tr>\n  </tbody>\n</table>\n</div>"
     },
     "execution_count": 2,
     "metadata": {},
     "output_type": "execute_result"
    }
   ],
   "source": [
    "df_diamonds = sns.load_dataset('diamonds')\n",
    "print(df_diamonds.shape)\n",
    "df_diamonds.sample()"
   ],
   "metadata": {
    "collapsed": false,
    "pycharm": {
     "name": "#%%\n"
    }
   }
  },
  {
   "cell_type": "code",
   "execution_count": 3,
   "outputs": [
    {
     "data": {
      "text/plain": "cut\nIdeal        21551\nPremium      13791\nVery Good    12082\nGood          4906\nFair          1610\nName: carat, dtype: int64"
     },
     "execution_count": 3,
     "metadata": {},
     "output_type": "execute_result"
    }
   ],
   "source": [
    "# Agrupando por columna y aplicando el conteo de valores en la columna\n",
    "df_diamonds.groupby(['cut'])['carat'].count()\n"
   ],
   "metadata": {
    "collapsed": false,
    "pycharm": {
     "name": "#%%\n"
    }
   }
  },
  {
   "cell_type": "code",
   "execution_count": 6,
   "outputs": [
    {
     "data": {
      "text/plain": "                 price\ncut                   \nIdeal      3457.541970\nPremium    4584.257704\nVery Good  3981.759891\nGood       3928.864452\nFair       4358.757764",
      "text/html": "<div>\n<style scoped>\n    .dataframe tbody tr th:only-of-type {\n        vertical-align: middle;\n    }\n\n    .dataframe tbody tr th {\n        vertical-align: top;\n    }\n\n    .dataframe thead th {\n        text-align: right;\n    }\n</style>\n<table border=\"1\" class=\"dataframe\">\n  <thead>\n    <tr style=\"text-align: right;\">\n      <th></th>\n      <th>price</th>\n    </tr>\n    <tr>\n      <th>cut</th>\n      <th></th>\n    </tr>\n  </thead>\n  <tbody>\n    <tr>\n      <th>Ideal</th>\n      <td>3457.541970</td>\n    </tr>\n    <tr>\n      <th>Premium</th>\n      <td>4584.257704</td>\n    </tr>\n    <tr>\n      <th>Very Good</th>\n      <td>3981.759891</td>\n    </tr>\n    <tr>\n      <th>Good</th>\n      <td>3928.864452</td>\n    </tr>\n    <tr>\n      <th>Fair</th>\n      <td>4358.757764</td>\n    </tr>\n  </tbody>\n</table>\n</div>"
     },
     "execution_count": 6,
     "metadata": {},
     "output_type": "execute_result"
    }
   ],
   "source": [
    "# Agrupando por columna y aplicando la media de valores en la columna y volviendolo un datagrame\n",
    "df_diamonds.groupby(['cut'])['price'].mean().to_frame()"
   ],
   "metadata": {
    "collapsed": false,
    "pycharm": {
     "name": "#%%\n"
    }
   }
  },
  {
   "cell_type": "code",
   "execution_count": 7,
   "outputs": [
    {
     "data": {
      "text/plain": "               min         mean    max  mean_kilo\ncut     color                                    \nIdeal   D      367  2629.094566  18693   2.629095\n        E      326  2597.550090  18729   2.597550\n        F      408  3374.939362  18780   3.374939\n        G      361  3720.706388  18806   3.720706\n        H      357  3889.334831  18760   3.889335\n        I      348  4451.970377  18779   4.451970\n        J      340  4918.186384  18508   4.918186\nPremium D      367  3631.292576  18575   3.631293\n        E      326  3538.914420  18477   3.538914\n        F      342  4324.890176  18791   4.324890",
      "text/html": "<div>\n<style scoped>\n    .dataframe tbody tr th:only-of-type {\n        vertical-align: middle;\n    }\n\n    .dataframe tbody tr th {\n        vertical-align: top;\n    }\n\n    .dataframe thead th {\n        text-align: right;\n    }\n</style>\n<table border=\"1\" class=\"dataframe\">\n  <thead>\n    <tr style=\"text-align: right;\">\n      <th></th>\n      <th></th>\n      <th>min</th>\n      <th>mean</th>\n      <th>max</th>\n      <th>mean_kilo</th>\n    </tr>\n    <tr>\n      <th>cut</th>\n      <th>color</th>\n      <th></th>\n      <th></th>\n      <th></th>\n      <th></th>\n    </tr>\n  </thead>\n  <tbody>\n    <tr>\n      <th rowspan=\"7\" valign=\"top\">Ideal</th>\n      <th>D</th>\n      <td>367</td>\n      <td>2629.094566</td>\n      <td>18693</td>\n      <td>2.629095</td>\n    </tr>\n    <tr>\n      <th>E</th>\n      <td>326</td>\n      <td>2597.550090</td>\n      <td>18729</td>\n      <td>2.597550</td>\n    </tr>\n    <tr>\n      <th>F</th>\n      <td>408</td>\n      <td>3374.939362</td>\n      <td>18780</td>\n      <td>3.374939</td>\n    </tr>\n    <tr>\n      <th>G</th>\n      <td>361</td>\n      <td>3720.706388</td>\n      <td>18806</td>\n      <td>3.720706</td>\n    </tr>\n    <tr>\n      <th>H</th>\n      <td>357</td>\n      <td>3889.334831</td>\n      <td>18760</td>\n      <td>3.889335</td>\n    </tr>\n    <tr>\n      <th>I</th>\n      <td>348</td>\n      <td>4451.970377</td>\n      <td>18779</td>\n      <td>4.451970</td>\n    </tr>\n    <tr>\n      <th>J</th>\n      <td>340</td>\n      <td>4918.186384</td>\n      <td>18508</td>\n      <td>4.918186</td>\n    </tr>\n    <tr>\n      <th rowspan=\"3\" valign=\"top\">Premium</th>\n      <th>D</th>\n      <td>367</td>\n      <td>3631.292576</td>\n      <td>18575</td>\n      <td>3.631293</td>\n    </tr>\n    <tr>\n      <th>E</th>\n      <td>326</td>\n      <td>3538.914420</td>\n      <td>18477</td>\n      <td>3.538914</td>\n    </tr>\n    <tr>\n      <th>F</th>\n      <td>342</td>\n      <td>4324.890176</td>\n      <td>18791</td>\n      <td>4.324890</td>\n    </tr>\n  </tbody>\n</table>\n</div>"
     },
     "execution_count": 7,
     "metadata": {},
     "output_type": "execute_result"
    }
   ],
   "source": [
    "# Aplicando funciones personalizadas sobre la agrupaciones\n",
    "def mean_kilo(x):\n",
    "    return np.mean(x) / 1000\n",
    "\n",
    "# .aggregate([])\n",
    "# recibe todas las funciones a ejecutar sobre la agurpacion, y estas definiaran la cantidad de columnas calculadas\n",
    "\n",
    "df_diamonds.groupby(['cut', 'color'])['price'].aggregate(['min', np.mean, 'max', mean_kilo]).head(10)\n",
    "\n"
   ],
   "metadata": {
    "collapsed": false,
    "pycharm": {
     "name": "#%%\n"
    }
   }
  },
  {
   "cell_type": "code",
   "execution_count": 10,
   "outputs": [
    {
     "data": {
      "text/plain": "              carat              price          \n                min   max         mean mean_kilo\ncut     color                                   \nIdeal   D      0.20  2.75  2629.094566  2.629095\n        E      0.20  2.28  2597.550090  2.597550\n        F      0.23  2.45  3374.939362  3.374939\n        G      0.23  2.54  3720.706388  3.720706\n        H      0.23  3.50  3889.334831  3.889335\n        I      0.23  3.22  4451.970377  4.451970\n        J      0.23  3.01  4918.186384  4.918186\nPremium D      0.20  2.57  3631.292576  3.631293\n        E      0.20  3.05  3538.914420  3.538914\n        F      0.20  3.01  4324.890176  4.324890",
      "text/html": "<div>\n<style scoped>\n    .dataframe tbody tr th:only-of-type {\n        vertical-align: middle;\n    }\n\n    .dataframe tbody tr th {\n        vertical-align: top;\n    }\n\n    .dataframe thead tr th {\n        text-align: left;\n    }\n\n    .dataframe thead tr:last-of-type th {\n        text-align: right;\n    }\n</style>\n<table border=\"1\" class=\"dataframe\">\n  <thead>\n    <tr>\n      <th></th>\n      <th></th>\n      <th colspan=\"2\" halign=\"left\">carat</th>\n      <th colspan=\"2\" halign=\"left\">price</th>\n    </tr>\n    <tr>\n      <th></th>\n      <th></th>\n      <th>min</th>\n      <th>max</th>\n      <th>mean</th>\n      <th>mean_kilo</th>\n    </tr>\n    <tr>\n      <th>cut</th>\n      <th>color</th>\n      <th></th>\n      <th></th>\n      <th></th>\n      <th></th>\n    </tr>\n  </thead>\n  <tbody>\n    <tr>\n      <th rowspan=\"7\" valign=\"top\">Ideal</th>\n      <th>D</th>\n      <td>0.20</td>\n      <td>2.75</td>\n      <td>2629.094566</td>\n      <td>2.629095</td>\n    </tr>\n    <tr>\n      <th>E</th>\n      <td>0.20</td>\n      <td>2.28</td>\n      <td>2597.550090</td>\n      <td>2.597550</td>\n    </tr>\n    <tr>\n      <th>F</th>\n      <td>0.23</td>\n      <td>2.45</td>\n      <td>3374.939362</td>\n      <td>3.374939</td>\n    </tr>\n    <tr>\n      <th>G</th>\n      <td>0.23</td>\n      <td>2.54</td>\n      <td>3720.706388</td>\n      <td>3.720706</td>\n    </tr>\n    <tr>\n      <th>H</th>\n      <td>0.23</td>\n      <td>3.50</td>\n      <td>3889.334831</td>\n      <td>3.889335</td>\n    </tr>\n    <tr>\n      <th>I</th>\n      <td>0.23</td>\n      <td>3.22</td>\n      <td>4451.970377</td>\n      <td>4.451970</td>\n    </tr>\n    <tr>\n      <th>J</th>\n      <td>0.23</td>\n      <td>3.01</td>\n      <td>4918.186384</td>\n      <td>4.918186</td>\n    </tr>\n    <tr>\n      <th rowspan=\"3\" valign=\"top\">Premium</th>\n      <th>D</th>\n      <td>0.20</td>\n      <td>2.57</td>\n      <td>3631.292576</td>\n      <td>3.631293</td>\n    </tr>\n    <tr>\n      <th>E</th>\n      <td>0.20</td>\n      <td>3.05</td>\n      <td>3538.914420</td>\n      <td>3.538914</td>\n    </tr>\n    <tr>\n      <th>F</th>\n      <td>0.20</td>\n      <td>3.01</td>\n      <td>4324.890176</td>\n      <td>4.324890</td>\n    </tr>\n  </tbody>\n</table>\n</div>"
     },
     "execution_count": 10,
     "metadata": {},
     "output_type": "execute_result"
    }
   ],
   "source": [
    "# Creando un diccionario con las operaciones que se requieren aplicar a la agrupaciones\n",
    "# caract => name columna\n",
    "# esto creara columnas calculadas\n",
    "dict_aggregate = {\n",
    "    'carat' : [min, max],\n",
    "    'price' : [np.mean, mean_kilo]\n",
    "}\n",
    "\n",
    "df_diamonds.groupby(['cut', 'color']).aggregate(dict_aggregate).head(10)"
   ],
   "metadata": {
    "collapsed": false,
    "pycharm": {
     "name": "#%%\n"
    }
   }
  },
  {
   "cell_type": "code",
   "execution_count": 11,
   "outputs": [
    {
     "data": {
      "text/plain": "    carat        cut color clarity  depth  table  price     x     y     z\n3    0.29    Premium     I     VS2   62.4   58.0    334  4.20  4.23  2.63\n4    0.31       Good     J     SI2   63.3   58.0    335  4.34  4.35  2.75\n5    0.24  Very Good     J    VVS2   62.8   57.0    336  3.94  3.96  2.48\n6    0.24  Very Good     I    VVS1   62.3   57.0    336  3.95  3.98  2.47\n7    0.26  Very Good     H     SI1   61.9   55.0    337  4.07  4.11  2.53\n9    0.23  Very Good     H     VS1   59.4   61.0    338  4.00  4.05  2.39\n10   0.30       Good     J     SI1   64.0   55.0    339  4.25  4.28  2.73\n11   0.23      Ideal     J     VS1   62.8   56.0    340  3.93  3.90  2.46\n12   0.22    Premium     F     SI1   60.4   61.0    342  3.88  3.84  2.33\n13   0.31      Ideal     J     SI2   62.2   54.0    344  4.35  4.37  2.71",
      "text/html": "<div>\n<style scoped>\n    .dataframe tbody tr th:only-of-type {\n        vertical-align: middle;\n    }\n\n    .dataframe tbody tr th {\n        vertical-align: top;\n    }\n\n    .dataframe thead th {\n        text-align: right;\n    }\n</style>\n<table border=\"1\" class=\"dataframe\">\n  <thead>\n    <tr style=\"text-align: right;\">\n      <th></th>\n      <th>carat</th>\n      <th>cut</th>\n      <th>color</th>\n      <th>clarity</th>\n      <th>depth</th>\n      <th>table</th>\n      <th>price</th>\n      <th>x</th>\n      <th>y</th>\n      <th>z</th>\n    </tr>\n  </thead>\n  <tbody>\n    <tr>\n      <th>3</th>\n      <td>0.29</td>\n      <td>Premium</td>\n      <td>I</td>\n      <td>VS2</td>\n      <td>62.4</td>\n      <td>58.0</td>\n      <td>334</td>\n      <td>4.20</td>\n      <td>4.23</td>\n      <td>2.63</td>\n    </tr>\n    <tr>\n      <th>4</th>\n      <td>0.31</td>\n      <td>Good</td>\n      <td>J</td>\n      <td>SI2</td>\n      <td>63.3</td>\n      <td>58.0</td>\n      <td>335</td>\n      <td>4.34</td>\n      <td>4.35</td>\n      <td>2.75</td>\n    </tr>\n    <tr>\n      <th>5</th>\n      <td>0.24</td>\n      <td>Very Good</td>\n      <td>J</td>\n      <td>VVS2</td>\n      <td>62.8</td>\n      <td>57.0</td>\n      <td>336</td>\n      <td>3.94</td>\n      <td>3.96</td>\n      <td>2.48</td>\n    </tr>\n    <tr>\n      <th>6</th>\n      <td>0.24</td>\n      <td>Very Good</td>\n      <td>I</td>\n      <td>VVS1</td>\n      <td>62.3</td>\n      <td>57.0</td>\n      <td>336</td>\n      <td>3.95</td>\n      <td>3.98</td>\n      <td>2.47</td>\n    </tr>\n    <tr>\n      <th>7</th>\n      <td>0.26</td>\n      <td>Very Good</td>\n      <td>H</td>\n      <td>SI1</td>\n      <td>61.9</td>\n      <td>55.0</td>\n      <td>337</td>\n      <td>4.07</td>\n      <td>4.11</td>\n      <td>2.53</td>\n    </tr>\n    <tr>\n      <th>9</th>\n      <td>0.23</td>\n      <td>Very Good</td>\n      <td>H</td>\n      <td>VS1</td>\n      <td>59.4</td>\n      <td>61.0</td>\n      <td>338</td>\n      <td>4.00</td>\n      <td>4.05</td>\n      <td>2.39</td>\n    </tr>\n    <tr>\n      <th>10</th>\n      <td>0.30</td>\n      <td>Good</td>\n      <td>J</td>\n      <td>SI1</td>\n      <td>64.0</td>\n      <td>55.0</td>\n      <td>339</td>\n      <td>4.25</td>\n      <td>4.28</td>\n      <td>2.73</td>\n    </tr>\n    <tr>\n      <th>11</th>\n      <td>0.23</td>\n      <td>Ideal</td>\n      <td>J</td>\n      <td>VS1</td>\n      <td>62.8</td>\n      <td>56.0</td>\n      <td>340</td>\n      <td>3.93</td>\n      <td>3.90</td>\n      <td>2.46</td>\n    </tr>\n    <tr>\n      <th>12</th>\n      <td>0.22</td>\n      <td>Premium</td>\n      <td>F</td>\n      <td>SI1</td>\n      <td>60.4</td>\n      <td>61.0</td>\n      <td>342</td>\n      <td>3.88</td>\n      <td>3.84</td>\n      <td>2.33</td>\n    </tr>\n    <tr>\n      <th>13</th>\n      <td>0.31</td>\n      <td>Ideal</td>\n      <td>J</td>\n      <td>SI2</td>\n      <td>62.2</td>\n      <td>54.0</td>\n      <td>344</td>\n      <td>4.35</td>\n      <td>4.37</td>\n      <td>2.71</td>\n    </tr>\n  </tbody>\n</table>\n</div>"
     },
     "execution_count": 11,
     "metadata": {},
     "output_type": "execute_result"
    }
   ],
   "source": [
    "# Filtrando los datos de agrupacion\n",
    "def f_filter(x):\n",
    "    return mean_kilo(x['price']) > 4\n",
    "\n",
    "df_diamonds.groupby(['cut', 'color']).filter(f_filter).head(10)"
   ],
   "metadata": {
    "collapsed": false,
    "pycharm": {
     "name": "#%%\n"
    }
   }
  },
  {
   "cell_type": "code",
   "execution_count": 19,
   "outputs": [
    {
     "data": {
      "text/plain": "               carat    cut  color clarity         depth         table  \\\ncount   53940.000000  53940  53940   53940  53940.000000  53940.000000   \nunique           NaN      5      7       8           NaN           NaN   \ntop              NaN  Ideal      G     SI1           NaN           NaN   \nfreq             NaN  21551  11292   13065           NaN           NaN   \nmean        0.797940    NaN    NaN     NaN     61.749405     57.457184   \nstd         0.474011    NaN    NaN     NaN      1.432621      2.234491   \nmin         0.200000    NaN    NaN     NaN     43.000000     43.000000   \n25%         0.400000    NaN    NaN     NaN     61.000000     56.000000   \n50%         0.700000    NaN    NaN     NaN     61.800000     57.000000   \n75%         1.040000    NaN    NaN     NaN     62.500000     59.000000   \nmax         5.010000    NaN    NaN     NaN     79.000000     95.000000   \n\n               price             x             y             z  \ncount   53940.000000  53940.000000  53940.000000  53940.000000  \nunique           NaN           NaN           NaN           NaN  \ntop              NaN           NaN           NaN           NaN  \nfreq             NaN           NaN           NaN           NaN  \nmean     3932.799722      5.731157      5.734526      3.538734  \nstd      3989.439738      1.121761      1.142135      0.705699  \nmin       326.000000      0.000000      0.000000      0.000000  \n25%       950.000000      4.710000      4.720000      2.910000  \n50%      2401.000000      5.700000      5.710000      3.530000  \n75%      5324.250000      6.540000      6.540000      4.040000  \nmax     18823.000000     10.740000     58.900000     31.800000  ",
      "text/html": "<div>\n<style scoped>\n    .dataframe tbody tr th:only-of-type {\n        vertical-align: middle;\n    }\n\n    .dataframe tbody tr th {\n        vertical-align: top;\n    }\n\n    .dataframe thead th {\n        text-align: right;\n    }\n</style>\n<table border=\"1\" class=\"dataframe\">\n  <thead>\n    <tr style=\"text-align: right;\">\n      <th></th>\n      <th>carat</th>\n      <th>cut</th>\n      <th>color</th>\n      <th>clarity</th>\n      <th>depth</th>\n      <th>table</th>\n      <th>price</th>\n      <th>x</th>\n      <th>y</th>\n      <th>z</th>\n    </tr>\n  </thead>\n  <tbody>\n    <tr>\n      <th>count</th>\n      <td>53940.000000</td>\n      <td>53940</td>\n      <td>53940</td>\n      <td>53940</td>\n      <td>53940.000000</td>\n      <td>53940.000000</td>\n      <td>53940.000000</td>\n      <td>53940.000000</td>\n      <td>53940.000000</td>\n      <td>53940.000000</td>\n    </tr>\n    <tr>\n      <th>unique</th>\n      <td>NaN</td>\n      <td>5</td>\n      <td>7</td>\n      <td>8</td>\n      <td>NaN</td>\n      <td>NaN</td>\n      <td>NaN</td>\n      <td>NaN</td>\n      <td>NaN</td>\n      <td>NaN</td>\n    </tr>\n    <tr>\n      <th>top</th>\n      <td>NaN</td>\n      <td>Ideal</td>\n      <td>G</td>\n      <td>SI1</td>\n      <td>NaN</td>\n      <td>NaN</td>\n      <td>NaN</td>\n      <td>NaN</td>\n      <td>NaN</td>\n      <td>NaN</td>\n    </tr>\n    <tr>\n      <th>freq</th>\n      <td>NaN</td>\n      <td>21551</td>\n      <td>11292</td>\n      <td>13065</td>\n      <td>NaN</td>\n      <td>NaN</td>\n      <td>NaN</td>\n      <td>NaN</td>\n      <td>NaN</td>\n      <td>NaN</td>\n    </tr>\n    <tr>\n      <th>mean</th>\n      <td>0.797940</td>\n      <td>NaN</td>\n      <td>NaN</td>\n      <td>NaN</td>\n      <td>61.749405</td>\n      <td>57.457184</td>\n      <td>3932.799722</td>\n      <td>5.731157</td>\n      <td>5.734526</td>\n      <td>3.538734</td>\n    </tr>\n    <tr>\n      <th>std</th>\n      <td>0.474011</td>\n      <td>NaN</td>\n      <td>NaN</td>\n      <td>NaN</td>\n      <td>1.432621</td>\n      <td>2.234491</td>\n      <td>3989.439738</td>\n      <td>1.121761</td>\n      <td>1.142135</td>\n      <td>0.705699</td>\n    </tr>\n    <tr>\n      <th>min</th>\n      <td>0.200000</td>\n      <td>NaN</td>\n      <td>NaN</td>\n      <td>NaN</td>\n      <td>43.000000</td>\n      <td>43.000000</td>\n      <td>326.000000</td>\n      <td>0.000000</td>\n      <td>0.000000</td>\n      <td>0.000000</td>\n    </tr>\n    <tr>\n      <th>25%</th>\n      <td>0.400000</td>\n      <td>NaN</td>\n      <td>NaN</td>\n      <td>NaN</td>\n      <td>61.000000</td>\n      <td>56.000000</td>\n      <td>950.000000</td>\n      <td>4.710000</td>\n      <td>4.720000</td>\n      <td>2.910000</td>\n    </tr>\n    <tr>\n      <th>50%</th>\n      <td>0.700000</td>\n      <td>NaN</td>\n      <td>NaN</td>\n      <td>NaN</td>\n      <td>61.800000</td>\n      <td>57.000000</td>\n      <td>2401.000000</td>\n      <td>5.700000</td>\n      <td>5.710000</td>\n      <td>3.530000</td>\n    </tr>\n    <tr>\n      <th>75%</th>\n      <td>1.040000</td>\n      <td>NaN</td>\n      <td>NaN</td>\n      <td>NaN</td>\n      <td>62.500000</td>\n      <td>59.000000</td>\n      <td>5324.250000</td>\n      <td>6.540000</td>\n      <td>6.540000</td>\n      <td>4.040000</td>\n    </tr>\n    <tr>\n      <th>max</th>\n      <td>5.010000</td>\n      <td>NaN</td>\n      <td>NaN</td>\n      <td>NaN</td>\n      <td>79.000000</td>\n      <td>95.000000</td>\n      <td>18823.000000</td>\n      <td>10.740000</td>\n      <td>58.900000</td>\n      <td>31.800000</td>\n    </tr>\n  </tbody>\n</table>\n</div>"
     },
     "execution_count": 19,
     "metadata": {},
     "output_type": "execute_result"
    }
   ],
   "source": [
    "# Datos estadisticos para todas las columnas\n",
    "df_diamonds.describe(include='all')"
   ],
   "metadata": {
    "collapsed": false,
    "pycharm": {
     "name": "#%%\n"
    }
   }
  },
  {
   "cell_type": "code",
   "execution_count": 16,
   "outputs": [
    {
     "data": {
      "text/plain": "           price                                                             \\\n           count         mean          std    min      25%     50%      75%   \nclarity                                                                       \nIF        1790.0  2864.839106  3920.248499  369.0   895.00  1080.0  2388.50   \nVVS1      3655.0  2523.114637  3334.838888  336.0   816.00  1093.0  2379.00   \nVVS2      5066.0  3283.737071  3821.647537  336.0   794.25  1311.0  3638.25   \nVS1       8171.0  3839.455391  4011.747958  327.0   876.00  2005.0  6023.00   \nVS2      12258.0  3924.989395  4042.302816  334.0   900.00  2054.0  6023.75   \nSI1      13065.0  3996.001148  3799.483853  326.0  1089.00  2822.0  5250.00   \nSI2       9194.0  5063.028606  4260.458578  326.0  2264.00  4072.0  5777.25   \nI1         741.0  3924.168691  2806.778270  345.0  2080.00  3344.0  5161.00   \n\n                  \n             max  \nclarity           \nIF       18806.0  \nVVS1     18777.0  \nVVS2     18768.0  \nVS1      18795.0  \nVS2      18823.0  \nSI1      18818.0  \nSI2      18804.0  \nI1       18531.0  ",
      "text/html": "<div>\n<style scoped>\n    .dataframe tbody tr th:only-of-type {\n        vertical-align: middle;\n    }\n\n    .dataframe tbody tr th {\n        vertical-align: top;\n    }\n\n    .dataframe thead tr th {\n        text-align: left;\n    }\n\n    .dataframe thead tr:last-of-type th {\n        text-align: right;\n    }\n</style>\n<table border=\"1\" class=\"dataframe\">\n  <thead>\n    <tr>\n      <th></th>\n      <th colspan=\"8\" halign=\"left\">price</th>\n    </tr>\n    <tr>\n      <th></th>\n      <th>count</th>\n      <th>mean</th>\n      <th>std</th>\n      <th>min</th>\n      <th>25%</th>\n      <th>50%</th>\n      <th>75%</th>\n      <th>max</th>\n    </tr>\n    <tr>\n      <th>clarity</th>\n      <th></th>\n      <th></th>\n      <th></th>\n      <th></th>\n      <th></th>\n      <th></th>\n      <th></th>\n      <th></th>\n    </tr>\n  </thead>\n  <tbody>\n    <tr>\n      <th>IF</th>\n      <td>1790.0</td>\n      <td>2864.839106</td>\n      <td>3920.248499</td>\n      <td>369.0</td>\n      <td>895.00</td>\n      <td>1080.0</td>\n      <td>2388.50</td>\n      <td>18806.0</td>\n    </tr>\n    <tr>\n      <th>VVS1</th>\n      <td>3655.0</td>\n      <td>2523.114637</td>\n      <td>3334.838888</td>\n      <td>336.0</td>\n      <td>816.00</td>\n      <td>1093.0</td>\n      <td>2379.00</td>\n      <td>18777.0</td>\n    </tr>\n    <tr>\n      <th>VVS2</th>\n      <td>5066.0</td>\n      <td>3283.737071</td>\n      <td>3821.647537</td>\n      <td>336.0</td>\n      <td>794.25</td>\n      <td>1311.0</td>\n      <td>3638.25</td>\n      <td>18768.0</td>\n    </tr>\n    <tr>\n      <th>VS1</th>\n      <td>8171.0</td>\n      <td>3839.455391</td>\n      <td>4011.747958</td>\n      <td>327.0</td>\n      <td>876.00</td>\n      <td>2005.0</td>\n      <td>6023.00</td>\n      <td>18795.0</td>\n    </tr>\n    <tr>\n      <th>VS2</th>\n      <td>12258.0</td>\n      <td>3924.989395</td>\n      <td>4042.302816</td>\n      <td>334.0</td>\n      <td>900.00</td>\n      <td>2054.0</td>\n      <td>6023.75</td>\n      <td>18823.0</td>\n    </tr>\n    <tr>\n      <th>SI1</th>\n      <td>13065.0</td>\n      <td>3996.001148</td>\n      <td>3799.483853</td>\n      <td>326.0</td>\n      <td>1089.00</td>\n      <td>2822.0</td>\n      <td>5250.00</td>\n      <td>18818.0</td>\n    </tr>\n    <tr>\n      <th>SI2</th>\n      <td>9194.0</td>\n      <td>5063.028606</td>\n      <td>4260.458578</td>\n      <td>326.0</td>\n      <td>2264.00</td>\n      <td>4072.0</td>\n      <td>5777.25</td>\n      <td>18804.0</td>\n    </tr>\n    <tr>\n      <th>I1</th>\n      <td>741.0</td>\n      <td>3924.168691</td>\n      <td>2806.778270</td>\n      <td>345.0</td>\n      <td>2080.00</td>\n      <td>3344.0</td>\n      <td>5161.00</td>\n      <td>18531.0</td>\n    </tr>\n  </tbody>\n</table>\n</div>"
     },
     "execution_count": 16,
     "metadata": {},
     "output_type": "execute_result"
    }
   ],
   "source": [
    "# Datos estadisticos para a columnas especificas agrupadas\n",
    "df_diamonds.groupby(['clarity'])[['price']].describe()"
   ],
   "metadata": {
    "collapsed": false,
    "pycharm": {
     "name": "#%%\n"
    }
   }
  },
  {
   "cell_type": "code",
   "execution_count": 14,
   "outputs": [
    {
     "data": {
      "text/plain": "Ideal        21551\nPremium      13791\nVery Good    12082\nGood          4906\nFair          1610\nName: cut, dtype: int64"
     },
     "execution_count": 14,
     "metadata": {},
     "output_type": "execute_result"
    }
   ],
   "source": [
    "# Cantidad de valores en una columna\n",
    "df_diamonds['cut'].value_counts()\n"
   ],
   "metadata": {
    "collapsed": false,
    "pycharm": {
     "name": "#%%\n"
    }
   }
  },
  {
   "cell_type": "code",
   "execution_count": 15,
   "outputs": [
    {
     "data": {
      "text/plain": "Ideal        39.953652\nPremium      25.567297\nVery Good    22.398962\nGood          9.095291\nFair          2.984798\nName: cut, dtype: float64"
     },
     "execution_count": 15,
     "metadata": {},
     "output_type": "execute_result"
    }
   ],
   "source": [
    "# Cantidad de valores por columna en porcentajes\n",
    "df_diamonds['cut'].value_counts() / df_diamonds['cut'].value_counts().sum() * 100\n"
   ],
   "metadata": {
    "collapsed": false,
    "pycharm": {
     "name": "#%%\n"
    }
   }
  },
  {
   "cell_type": "code",
   "execution_count": 20,
   "outputs": [
    {
     "name": "stdout",
     "output_type": "stream",
     "text": [
      "              price         x\n",
      "clarity                      \n",
      "IF        5128062.0   8893.44\n",
      "VVS1      9221984.0  18130.13\n",
      "VVS2     16635412.0  26436.69\n",
      "VS1      31372190.0  45530.27\n",
      "VS2      48112520.0  69352.20\n",
      "SI1      52207755.0  76931.72\n",
      "SI2      46549485.0  58854.20\n",
      "I1        2907809.0   5009.97\n",
      "               price         x\n",
      "clarity                       \n",
      "IF       3208.619799  5.564611\n",
      "VVS1     2825.888394  5.555608\n",
      "VVS2     3677.785519  5.844669\n",
      "VS1      4300.190038  6.240840\n",
      "VS2      4395.988122  6.336634\n",
      "SI1      4475.521286  6.594989\n",
      "SI2      5670.592038  7.169535\n",
      "I1       4395.068934  7.572424\n"
     ]
    }
   ],
   "source": [
    "# *Aplicando solo una funcion se usa APPLY si se requiere aplicar multiples funciones se usa AGGREGATE*\n",
    "print(df_diamonds.groupby(['clarity'])[['price', 'x']].apply(np.sum))\n",
    "print(df_diamonds.groupby(['clarity'])[['price', 'x']].apply(lambda x : np.mean(x) * 1.12))"
   ],
   "metadata": {
    "collapsed": false,
    "pycharm": {
     "name": "#%%\n"
    }
   }
  }
 ],
 "metadata": {
  "kernelspec": {
   "display_name": "Python 3",
   "language": "python",
   "name": "python3"
  },
  "language_info": {
   "codemirror_mode": {
    "name": "ipython",
    "version": 2
   },
   "file_extension": ".py",
   "mimetype": "text/x-python",
   "name": "python",
   "nbconvert_exporter": "python",
   "pygments_lexer": "ipython2",
   "version": "2.7.6"
  }
 },
 "nbformat": 4,
 "nbformat_minor": 0
}